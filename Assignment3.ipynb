{
  "nbformat": 4,
  "nbformat_minor": 0,
  "metadata": {
    "colab": {
      "provenance": []
    },
    "kernelspec": {
      "name": "python3",
      "display_name": "Python 3"
    },
    "language_info": {
      "name": "python"
    }
  },
  "cells": [
    {
      "cell_type": "code",
      "execution_count": 170,
      "metadata": {
        "id": "djLpV6wcKQ4j",
        "colab": {
          "base_uri": "https://localhost:8080/"
        },
        "outputId": "c4d63bf9-e4e9-4c5e-aa10-4e3237921208"
      },
      "outputs": [
        {
          "output_type": "stream",
          "name": "stdout",
          "text": [
            "Drive already mounted at /content/drive; to attempt to forcibly remount, call drive.mount(\"/content/drive\", force_remount=True).\n"
          ]
        }
      ],
      "source": [
        "import pandas as pd\n",
        "from google.colab import drive\n",
        "drive.mount('/content/drive')"
      ]
    },
    {
      "cell_type": "code",
      "source": [
        "cc_data=pd.read_csv('/content/drive/MyDrive/CustomerChurn_dataset.csv')"
      ],
      "metadata": {
        "id": "CMSh4s20Kg_1"
      },
      "execution_count": 171,
      "outputs": []
    },
    {
      "cell_type": "code",
      "source": [
        "cc_data.info()"
      ],
      "metadata": {
        "colab": {
          "base_uri": "https://localhost:8080/"
        },
        "id": "GyJlWTjOKhBm",
        "outputId": "433674cb-8754-4590-c193-252f0feaab86"
      },
      "execution_count": 172,
      "outputs": [
        {
          "output_type": "stream",
          "name": "stdout",
          "text": [
            "<class 'pandas.core.frame.DataFrame'>\n",
            "RangeIndex: 7043 entries, 0 to 7042\n",
            "Data columns (total 21 columns):\n",
            " #   Column            Non-Null Count  Dtype  \n",
            "---  ------            --------------  -----  \n",
            " 0   customerID        7043 non-null   object \n",
            " 1   gender            7043 non-null   object \n",
            " 2   SeniorCitizen     7043 non-null   int64  \n",
            " 3   Partner           7043 non-null   object \n",
            " 4   Dependents        7043 non-null   object \n",
            " 5   tenure            7043 non-null   int64  \n",
            " 6   PhoneService      7043 non-null   object \n",
            " 7   MultipleLines     7043 non-null   object \n",
            " 8   InternetService   7043 non-null   object \n",
            " 9   OnlineSecurity    7043 non-null   object \n",
            " 10  OnlineBackup      7043 non-null   object \n",
            " 11  DeviceProtection  7043 non-null   object \n",
            " 12  TechSupport       7043 non-null   object \n",
            " 13  StreamingTV       7043 non-null   object \n",
            " 14  StreamingMovies   7043 non-null   object \n",
            " 15  Contract          7043 non-null   object \n",
            " 16  PaperlessBilling  7043 non-null   object \n",
            " 17  PaymentMethod     7043 non-null   object \n",
            " 18  MonthlyCharges    7043 non-null   float64\n",
            " 19  TotalCharges      7043 non-null   object \n",
            " 20  Churn             7043 non-null   object \n",
            "dtypes: float64(1), int64(2), object(18)\n",
            "memory usage: 1.1+ MB\n"
          ]
        }
      ]
    },
    {
      "cell_type": "code",
      "source": [
        "cc_data.dtypes"
      ],
      "metadata": {
        "id": "khAnKYh6xe5c",
        "colab": {
          "base_uri": "https://localhost:8080/"
        },
        "outputId": "9f701ae0-7ce3-47c4-83a9-7eb91c2d4292"
      },
      "execution_count": 173,
      "outputs": [
        {
          "output_type": "execute_result",
          "data": {
            "text/plain": [
              "customerID           object\n",
              "gender               object\n",
              "SeniorCitizen         int64\n",
              "Partner              object\n",
              "Dependents           object\n",
              "tenure                int64\n",
              "PhoneService         object\n",
              "MultipleLines        object\n",
              "InternetService      object\n",
              "OnlineSecurity       object\n",
              "OnlineBackup         object\n",
              "DeviceProtection     object\n",
              "TechSupport          object\n",
              "StreamingTV          object\n",
              "StreamingMovies      object\n",
              "Contract             object\n",
              "PaperlessBilling     object\n",
              "PaymentMethod        object\n",
              "MonthlyCharges      float64\n",
              "TotalCharges         object\n",
              "Churn                object\n",
              "dtype: object"
            ]
          },
          "metadata": {},
          "execution_count": 173
        }
      ]
    },
    {
      "cell_type": "code",
      "source": [
        "cc_data.shape"
      ],
      "metadata": {
        "colab": {
          "base_uri": "https://localhost:8080/"
        },
        "id": "ZW1I_DMfyc1f",
        "outputId": "d1a5ebaa-09f1-41dc-841b-010440dc1545"
      },
      "execution_count": 174,
      "outputs": [
        {
          "output_type": "execute_result",
          "data": {
            "text/plain": [
              "(7043, 21)"
            ]
          },
          "metadata": {},
          "execution_count": 174
        }
      ]
    },
    {
      "cell_type": "code",
      "source": [
        "cc_data.head()\n"
      ],
      "metadata": {
        "colab": {
          "base_uri": "https://localhost:8080/",
          "height": 342
        },
        "id": "3aP_WX2kKhE1",
        "outputId": "dc29ef4b-2bce-4d0d-dd4b-8194dceca2ec"
      },
      "execution_count": 175,
      "outputs": [
        {
          "output_type": "execute_result",
          "data": {
            "text/plain": [
              "   customerID  gender  SeniorCitizen Partner Dependents  tenure PhoneService  \\\n",
              "0  7590-VHVEG  Female              0     Yes         No       1           No   \n",
              "1  5575-GNVDE    Male              0      No         No      34          Yes   \n",
              "2  3668-QPYBK    Male              0      No         No       2          Yes   \n",
              "3  7795-CFOCW    Male              0      No         No      45           No   \n",
              "4  9237-HQITU  Female              0      No         No       2          Yes   \n",
              "\n",
              "      MultipleLines InternetService OnlineSecurity  ... DeviceProtection  \\\n",
              "0  No phone service             DSL             No  ...               No   \n",
              "1                No             DSL            Yes  ...              Yes   \n",
              "2                No             DSL            Yes  ...               No   \n",
              "3  No phone service             DSL            Yes  ...              Yes   \n",
              "4                No     Fiber optic             No  ...               No   \n",
              "\n",
              "  TechSupport StreamingTV StreamingMovies        Contract PaperlessBilling  \\\n",
              "0          No          No              No  Month-to-month              Yes   \n",
              "1          No          No              No        One year               No   \n",
              "2          No          No              No  Month-to-month              Yes   \n",
              "3         Yes          No              No        One year               No   \n",
              "4          No          No              No  Month-to-month              Yes   \n",
              "\n",
              "               PaymentMethod MonthlyCharges  TotalCharges Churn  \n",
              "0           Electronic check          29.85         29.85    No  \n",
              "1               Mailed check          56.95        1889.5    No  \n",
              "2               Mailed check          53.85        108.15   Yes  \n",
              "3  Bank transfer (automatic)          42.30       1840.75    No  \n",
              "4           Electronic check          70.70        151.65   Yes  \n",
              "\n",
              "[5 rows x 21 columns]"
            ],
            "text/html": [
              "\n",
              "  <div id=\"df-abd6573b-ce32-4c72-9414-3f922c13a873\" class=\"colab-df-container\">\n",
              "    <div>\n",
              "<style scoped>\n",
              "    .dataframe tbody tr th:only-of-type {\n",
              "        vertical-align: middle;\n",
              "    }\n",
              "\n",
              "    .dataframe tbody tr th {\n",
              "        vertical-align: top;\n",
              "    }\n",
              "\n",
              "    .dataframe thead th {\n",
              "        text-align: right;\n",
              "    }\n",
              "</style>\n",
              "<table border=\"1\" class=\"dataframe\">\n",
              "  <thead>\n",
              "    <tr style=\"text-align: right;\">\n",
              "      <th></th>\n",
              "      <th>customerID</th>\n",
              "      <th>gender</th>\n",
              "      <th>SeniorCitizen</th>\n",
              "      <th>Partner</th>\n",
              "      <th>Dependents</th>\n",
              "      <th>tenure</th>\n",
              "      <th>PhoneService</th>\n",
              "      <th>MultipleLines</th>\n",
              "      <th>InternetService</th>\n",
              "      <th>OnlineSecurity</th>\n",
              "      <th>...</th>\n",
              "      <th>DeviceProtection</th>\n",
              "      <th>TechSupport</th>\n",
              "      <th>StreamingTV</th>\n",
              "      <th>StreamingMovies</th>\n",
              "      <th>Contract</th>\n",
              "      <th>PaperlessBilling</th>\n",
              "      <th>PaymentMethod</th>\n",
              "      <th>MonthlyCharges</th>\n",
              "      <th>TotalCharges</th>\n",
              "      <th>Churn</th>\n",
              "    </tr>\n",
              "  </thead>\n",
              "  <tbody>\n",
              "    <tr>\n",
              "      <th>0</th>\n",
              "      <td>7590-VHVEG</td>\n",
              "      <td>Female</td>\n",
              "      <td>0</td>\n",
              "      <td>Yes</td>\n",
              "      <td>No</td>\n",
              "      <td>1</td>\n",
              "      <td>No</td>\n",
              "      <td>No phone service</td>\n",
              "      <td>DSL</td>\n",
              "      <td>No</td>\n",
              "      <td>...</td>\n",
              "      <td>No</td>\n",
              "      <td>No</td>\n",
              "      <td>No</td>\n",
              "      <td>No</td>\n",
              "      <td>Month-to-month</td>\n",
              "      <td>Yes</td>\n",
              "      <td>Electronic check</td>\n",
              "      <td>29.85</td>\n",
              "      <td>29.85</td>\n",
              "      <td>No</td>\n",
              "    </tr>\n",
              "    <tr>\n",
              "      <th>1</th>\n",
              "      <td>5575-GNVDE</td>\n",
              "      <td>Male</td>\n",
              "      <td>0</td>\n",
              "      <td>No</td>\n",
              "      <td>No</td>\n",
              "      <td>34</td>\n",
              "      <td>Yes</td>\n",
              "      <td>No</td>\n",
              "      <td>DSL</td>\n",
              "      <td>Yes</td>\n",
              "      <td>...</td>\n",
              "      <td>Yes</td>\n",
              "      <td>No</td>\n",
              "      <td>No</td>\n",
              "      <td>No</td>\n",
              "      <td>One year</td>\n",
              "      <td>No</td>\n",
              "      <td>Mailed check</td>\n",
              "      <td>56.95</td>\n",
              "      <td>1889.5</td>\n",
              "      <td>No</td>\n",
              "    </tr>\n",
              "    <tr>\n",
              "      <th>2</th>\n",
              "      <td>3668-QPYBK</td>\n",
              "      <td>Male</td>\n",
              "      <td>0</td>\n",
              "      <td>No</td>\n",
              "      <td>No</td>\n",
              "      <td>2</td>\n",
              "      <td>Yes</td>\n",
              "      <td>No</td>\n",
              "      <td>DSL</td>\n",
              "      <td>Yes</td>\n",
              "      <td>...</td>\n",
              "      <td>No</td>\n",
              "      <td>No</td>\n",
              "      <td>No</td>\n",
              "      <td>No</td>\n",
              "      <td>Month-to-month</td>\n",
              "      <td>Yes</td>\n",
              "      <td>Mailed check</td>\n",
              "      <td>53.85</td>\n",
              "      <td>108.15</td>\n",
              "      <td>Yes</td>\n",
              "    </tr>\n",
              "    <tr>\n",
              "      <th>3</th>\n",
              "      <td>7795-CFOCW</td>\n",
              "      <td>Male</td>\n",
              "      <td>0</td>\n",
              "      <td>No</td>\n",
              "      <td>No</td>\n",
              "      <td>45</td>\n",
              "      <td>No</td>\n",
              "      <td>No phone service</td>\n",
              "      <td>DSL</td>\n",
              "      <td>Yes</td>\n",
              "      <td>...</td>\n",
              "      <td>Yes</td>\n",
              "      <td>Yes</td>\n",
              "      <td>No</td>\n",
              "      <td>No</td>\n",
              "      <td>One year</td>\n",
              "      <td>No</td>\n",
              "      <td>Bank transfer (automatic)</td>\n",
              "      <td>42.30</td>\n",
              "      <td>1840.75</td>\n",
              "      <td>No</td>\n",
              "    </tr>\n",
              "    <tr>\n",
              "      <th>4</th>\n",
              "      <td>9237-HQITU</td>\n",
              "      <td>Female</td>\n",
              "      <td>0</td>\n",
              "      <td>No</td>\n",
              "      <td>No</td>\n",
              "      <td>2</td>\n",
              "      <td>Yes</td>\n",
              "      <td>No</td>\n",
              "      <td>Fiber optic</td>\n",
              "      <td>No</td>\n",
              "      <td>...</td>\n",
              "      <td>No</td>\n",
              "      <td>No</td>\n",
              "      <td>No</td>\n",
              "      <td>No</td>\n",
              "      <td>Month-to-month</td>\n",
              "      <td>Yes</td>\n",
              "      <td>Electronic check</td>\n",
              "      <td>70.70</td>\n",
              "      <td>151.65</td>\n",
              "      <td>Yes</td>\n",
              "    </tr>\n",
              "  </tbody>\n",
              "</table>\n",
              "<p>5 rows × 21 columns</p>\n",
              "</div>\n",
              "    <div class=\"colab-df-buttons\">\n",
              "\n",
              "  <div class=\"colab-df-container\">\n",
              "    <button class=\"colab-df-convert\" onclick=\"convertToInteractive('df-abd6573b-ce32-4c72-9414-3f922c13a873')\"\n",
              "            title=\"Convert this dataframe to an interactive table.\"\n",
              "            style=\"display:none;\">\n",
              "\n",
              "  <svg xmlns=\"http://www.w3.org/2000/svg\" height=\"24px\" viewBox=\"0 -960 960 960\">\n",
              "    <path d=\"M120-120v-720h720v720H120Zm60-500h600v-160H180v160Zm220 220h160v-160H400v160Zm0 220h160v-160H400v160ZM180-400h160v-160H180v160Zm440 0h160v-160H620v160ZM180-180h160v-160H180v160Zm440 0h160v-160H620v160Z\"/>\n",
              "  </svg>\n",
              "    </button>\n",
              "\n",
              "  <style>\n",
              "    .colab-df-container {\n",
              "      display:flex;\n",
              "      gap: 12px;\n",
              "    }\n",
              "\n",
              "    .colab-df-convert {\n",
              "      background-color: #E8F0FE;\n",
              "      border: none;\n",
              "      border-radius: 50%;\n",
              "      cursor: pointer;\n",
              "      display: none;\n",
              "      fill: #1967D2;\n",
              "      height: 32px;\n",
              "      padding: 0 0 0 0;\n",
              "      width: 32px;\n",
              "    }\n",
              "\n",
              "    .colab-df-convert:hover {\n",
              "      background-color: #E2EBFA;\n",
              "      box-shadow: 0px 1px 2px rgba(60, 64, 67, 0.3), 0px 1px 3px 1px rgba(60, 64, 67, 0.15);\n",
              "      fill: #174EA6;\n",
              "    }\n",
              "\n",
              "    .colab-df-buttons div {\n",
              "      margin-bottom: 4px;\n",
              "    }\n",
              "\n",
              "    [theme=dark] .colab-df-convert {\n",
              "      background-color: #3B4455;\n",
              "      fill: #D2E3FC;\n",
              "    }\n",
              "\n",
              "    [theme=dark] .colab-df-convert:hover {\n",
              "      background-color: #434B5C;\n",
              "      box-shadow: 0px 1px 3px 1px rgba(0, 0, 0, 0.15);\n",
              "      filter: drop-shadow(0px 1px 2px rgba(0, 0, 0, 0.3));\n",
              "      fill: #FFFFFF;\n",
              "    }\n",
              "  </style>\n",
              "\n",
              "    <script>\n",
              "      const buttonEl =\n",
              "        document.querySelector('#df-abd6573b-ce32-4c72-9414-3f922c13a873 button.colab-df-convert');\n",
              "      buttonEl.style.display =\n",
              "        google.colab.kernel.accessAllowed ? 'block' : 'none';\n",
              "\n",
              "      async function convertToInteractive(key) {\n",
              "        const element = document.querySelector('#df-abd6573b-ce32-4c72-9414-3f922c13a873');\n",
              "        const dataTable =\n",
              "          await google.colab.kernel.invokeFunction('convertToInteractive',\n",
              "                                                    [key], {});\n",
              "        if (!dataTable) return;\n",
              "\n",
              "        const docLinkHtml = 'Like what you see? Visit the ' +\n",
              "          '<a target=\"_blank\" href=https://colab.research.google.com/notebooks/data_table.ipynb>data table notebook</a>'\n",
              "          + ' to learn more about interactive tables.';\n",
              "        element.innerHTML = '';\n",
              "        dataTable['output_type'] = 'display_data';\n",
              "        await google.colab.output.renderOutput(dataTable, element);\n",
              "        const docLink = document.createElement('div');\n",
              "        docLink.innerHTML = docLinkHtml;\n",
              "        element.appendChild(docLink);\n",
              "      }\n",
              "    </script>\n",
              "  </div>\n",
              "\n",
              "\n",
              "<div id=\"df-a74b2404-8df4-4406-87bf-c74251a76e59\">\n",
              "  <button class=\"colab-df-quickchart\" onclick=\"quickchart('df-a74b2404-8df4-4406-87bf-c74251a76e59')\"\n",
              "            title=\"Suggest charts\"\n",
              "            style=\"display:none;\">\n",
              "\n",
              "<svg xmlns=\"http://www.w3.org/2000/svg\" height=\"24px\"viewBox=\"0 0 24 24\"\n",
              "     width=\"24px\">\n",
              "    <g>\n",
              "        <path d=\"M19 3H5c-1.1 0-2 .9-2 2v14c0 1.1.9 2 2 2h14c1.1 0 2-.9 2-2V5c0-1.1-.9-2-2-2zM9 17H7v-7h2v7zm4 0h-2V7h2v10zm4 0h-2v-4h2v4z\"/>\n",
              "    </g>\n",
              "</svg>\n",
              "  </button>\n",
              "\n",
              "<style>\n",
              "  .colab-df-quickchart {\n",
              "      --bg-color: #E8F0FE;\n",
              "      --fill-color: #1967D2;\n",
              "      --hover-bg-color: #E2EBFA;\n",
              "      --hover-fill-color: #174EA6;\n",
              "      --disabled-fill-color: #AAA;\n",
              "      --disabled-bg-color: #DDD;\n",
              "  }\n",
              "\n",
              "  [theme=dark] .colab-df-quickchart {\n",
              "      --bg-color: #3B4455;\n",
              "      --fill-color: #D2E3FC;\n",
              "      --hover-bg-color: #434B5C;\n",
              "      --hover-fill-color: #FFFFFF;\n",
              "      --disabled-bg-color: #3B4455;\n",
              "      --disabled-fill-color: #666;\n",
              "  }\n",
              "\n",
              "  .colab-df-quickchart {\n",
              "    background-color: var(--bg-color);\n",
              "    border: none;\n",
              "    border-radius: 50%;\n",
              "    cursor: pointer;\n",
              "    display: none;\n",
              "    fill: var(--fill-color);\n",
              "    height: 32px;\n",
              "    padding: 0;\n",
              "    width: 32px;\n",
              "  }\n",
              "\n",
              "  .colab-df-quickchart:hover {\n",
              "    background-color: var(--hover-bg-color);\n",
              "    box-shadow: 0 1px 2px rgba(60, 64, 67, 0.3), 0 1px 3px 1px rgba(60, 64, 67, 0.15);\n",
              "    fill: var(--button-hover-fill-color);\n",
              "  }\n",
              "\n",
              "  .colab-df-quickchart-complete:disabled,\n",
              "  .colab-df-quickchart-complete:disabled:hover {\n",
              "    background-color: var(--disabled-bg-color);\n",
              "    fill: var(--disabled-fill-color);\n",
              "    box-shadow: none;\n",
              "  }\n",
              "\n",
              "  .colab-df-spinner {\n",
              "    border: 2px solid var(--fill-color);\n",
              "    border-color: transparent;\n",
              "    border-bottom-color: var(--fill-color);\n",
              "    animation:\n",
              "      spin 1s steps(1) infinite;\n",
              "  }\n",
              "\n",
              "  @keyframes spin {\n",
              "    0% {\n",
              "      border-color: transparent;\n",
              "      border-bottom-color: var(--fill-color);\n",
              "      border-left-color: var(--fill-color);\n",
              "    }\n",
              "    20% {\n",
              "      border-color: transparent;\n",
              "      border-left-color: var(--fill-color);\n",
              "      border-top-color: var(--fill-color);\n",
              "    }\n",
              "    30% {\n",
              "      border-color: transparent;\n",
              "      border-left-color: var(--fill-color);\n",
              "      border-top-color: var(--fill-color);\n",
              "      border-right-color: var(--fill-color);\n",
              "    }\n",
              "    40% {\n",
              "      border-color: transparent;\n",
              "      border-right-color: var(--fill-color);\n",
              "      border-top-color: var(--fill-color);\n",
              "    }\n",
              "    60% {\n",
              "      border-color: transparent;\n",
              "      border-right-color: var(--fill-color);\n",
              "    }\n",
              "    80% {\n",
              "      border-color: transparent;\n",
              "      border-right-color: var(--fill-color);\n",
              "      border-bottom-color: var(--fill-color);\n",
              "    }\n",
              "    90% {\n",
              "      border-color: transparent;\n",
              "      border-bottom-color: var(--fill-color);\n",
              "    }\n",
              "  }\n",
              "</style>\n",
              "\n",
              "  <script>\n",
              "    async function quickchart(key) {\n",
              "      const quickchartButtonEl =\n",
              "        document.querySelector('#' + key + ' button');\n",
              "      quickchartButtonEl.disabled = true;  // To prevent multiple clicks.\n",
              "      quickchartButtonEl.classList.add('colab-df-spinner');\n",
              "      try {\n",
              "        const charts = await google.colab.kernel.invokeFunction(\n",
              "            'suggestCharts', [key], {});\n",
              "      } catch (error) {\n",
              "        console.error('Error during call to suggestCharts:', error);\n",
              "      }\n",
              "      quickchartButtonEl.classList.remove('colab-df-spinner');\n",
              "      quickchartButtonEl.classList.add('colab-df-quickchart-complete');\n",
              "    }\n",
              "    (() => {\n",
              "      let quickchartButtonEl =\n",
              "        document.querySelector('#df-a74b2404-8df4-4406-87bf-c74251a76e59 button');\n",
              "      quickchartButtonEl.style.display =\n",
              "        google.colab.kernel.accessAllowed ? 'block' : 'none';\n",
              "    })();\n",
              "  </script>\n",
              "</div>\n",
              "    </div>\n",
              "  </div>\n"
            ]
          },
          "metadata": {},
          "execution_count": 175
        }
      ]
    },
    {
      "cell_type": "code",
      "source": [
        "cc_data.drop(columns=['customerID'],inplace=True)"
      ],
      "metadata": {
        "id": "cpsrv8cCYraq"
      },
      "execution_count": 176,
      "outputs": []
    },
    {
      "cell_type": "code",
      "source": [
        "import numpy as np\n",
        "cc_data['TotalCharges'].replace(' ', np.nan,inplace=True)"
      ],
      "metadata": {
        "id": "Iy-SQTWuKyOL"
      },
      "execution_count": 177,
      "outputs": []
    },
    {
      "cell_type": "code",
      "source": [
        "cc_data.info()"
      ],
      "metadata": {
        "colab": {
          "base_uri": "https://localhost:8080/"
        },
        "id": "ziBJ4FA1LVkR",
        "outputId": "e26362db-2da6-4b6b-be56-3b02f41cfbce"
      },
      "execution_count": 178,
      "outputs": [
        {
          "output_type": "stream",
          "name": "stdout",
          "text": [
            "<class 'pandas.core.frame.DataFrame'>\n",
            "RangeIndex: 7043 entries, 0 to 7042\n",
            "Data columns (total 20 columns):\n",
            " #   Column            Non-Null Count  Dtype  \n",
            "---  ------            --------------  -----  \n",
            " 0   gender            7043 non-null   object \n",
            " 1   SeniorCitizen     7043 non-null   int64  \n",
            " 2   Partner           7043 non-null   object \n",
            " 3   Dependents        7043 non-null   object \n",
            " 4   tenure            7043 non-null   int64  \n",
            " 5   PhoneService      7043 non-null   object \n",
            " 6   MultipleLines     7043 non-null   object \n",
            " 7   InternetService   7043 non-null   object \n",
            " 8   OnlineSecurity    7043 non-null   object \n",
            " 9   OnlineBackup      7043 non-null   object \n",
            " 10  DeviceProtection  7043 non-null   object \n",
            " 11  TechSupport       7043 non-null   object \n",
            " 12  StreamingTV       7043 non-null   object \n",
            " 13  StreamingMovies   7043 non-null   object \n",
            " 14  Contract          7043 non-null   object \n",
            " 15  PaperlessBilling  7043 non-null   object \n",
            " 16  PaymentMethod     7043 non-null   object \n",
            " 17  MonthlyCharges    7043 non-null   float64\n",
            " 18  TotalCharges      7032 non-null   object \n",
            " 19  Churn             7043 non-null   object \n",
            "dtypes: float64(1), int64(2), object(17)\n",
            "memory usage: 1.1+ MB\n"
          ]
        }
      ]
    },
    {
      "cell_type": "code",
      "source": [
        "#changing the datatype of totalcharges in order to impute\n",
        "cc_data['TotalCharges'] = cc_data['TotalCharges'].astype(float)\n",
        "cc_data['TotalCharges'].fillna(value=cc_data['TotalCharges'].median(), inplace=True)  # Impute NaNs with median"
      ],
      "metadata": {
        "id": "-E7cYsxlMMwa"
      },
      "execution_count": 179,
      "outputs": []
    },
    {
      "cell_type": "code",
      "source": [
        "cc_data.info()"
      ],
      "metadata": {
        "colab": {
          "base_uri": "https://localhost:8080/"
        },
        "id": "DHHqmaHWNWsn",
        "outputId": "f1b5375a-3a97-4fa5-d69e-3ef52c550203"
      },
      "execution_count": 180,
      "outputs": [
        {
          "output_type": "stream",
          "name": "stdout",
          "text": [
            "<class 'pandas.core.frame.DataFrame'>\n",
            "RangeIndex: 7043 entries, 0 to 7042\n",
            "Data columns (total 20 columns):\n",
            " #   Column            Non-Null Count  Dtype  \n",
            "---  ------            --------------  -----  \n",
            " 0   gender            7043 non-null   object \n",
            " 1   SeniorCitizen     7043 non-null   int64  \n",
            " 2   Partner           7043 non-null   object \n",
            " 3   Dependents        7043 non-null   object \n",
            " 4   tenure            7043 non-null   int64  \n",
            " 5   PhoneService      7043 non-null   object \n",
            " 6   MultipleLines     7043 non-null   object \n",
            " 7   InternetService   7043 non-null   object \n",
            " 8   OnlineSecurity    7043 non-null   object \n",
            " 9   OnlineBackup      7043 non-null   object \n",
            " 10  DeviceProtection  7043 non-null   object \n",
            " 11  TechSupport       7043 non-null   object \n",
            " 12  StreamingTV       7043 non-null   object \n",
            " 13  StreamingMovies   7043 non-null   object \n",
            " 14  Contract          7043 non-null   object \n",
            " 15  PaperlessBilling  7043 non-null   object \n",
            " 16  PaymentMethod     7043 non-null   object \n",
            " 17  MonthlyCharges    7043 non-null   float64\n",
            " 18  TotalCharges      7043 non-null   float64\n",
            " 19  Churn             7043 non-null   object \n",
            "dtypes: float64(2), int64(2), object(16)\n",
            "memory usage: 1.1+ MB\n"
          ]
        }
      ]
    },
    {
      "cell_type": "markdown",
      "source": [
        "# **Exploratory Data Analysis**"
      ],
      "metadata": {
        "id": "joxR3sXHEA6T"
      }
    },
    {
      "cell_type": "code",
      "source": [
        "import seaborn as sns\n",
        "import matplotlib.pyplot as plt\n",
        "#"
      ],
      "metadata": {
        "id": "aBU446z-EAoD"
      },
      "execution_count": 181,
      "outputs": []
    },
    {
      "cell_type": "code",
      "source": [
        "#code for boxplot\n",
        "fig, ax  = plt.subplots(1, 3, figsize=(20, 6))\n",
        "sns.boxplot(x='Churn', y='tenure', data=cc_data, ax = ax[0])\n",
        "sns.boxplot(x='Churn', y='MonthlyCharges', data=cc_data,ax = ax[1])\n",
        "sns.boxplot(x='Churn', y='TotalCharges', data=cc_data,ax = ax[2])\n",
        "\n",
        "plt.title('Box Plot for our Numerical Features')\n",
        "plt.show()"
      ],
      "metadata": {
        "colab": {
          "base_uri": "https://localhost:8080/",
          "height": 336
        },
        "id": "3sWmv60CENrX",
        "outputId": "a286c3db-c1af-4f44-9a27-0d740530b776"
      },
      "execution_count": 182,
      "outputs": [
        {
          "output_type": "display_data",
          "data": {
            "text/plain": [
              "<Figure size 2000x600 with 3 Axes>"
            ],
            "image/png": "[encoded data removed]"
          },
          "metadata": {}
        }
      ]
    },
    {
      "cell_type": "markdown",
      "source": [
        "interpretation"
      ],
      "metadata": {
        "id": "WKgyA5jUGLYX"
      }
    },
    {
      "cell_type": "code",
      "source": [
        "#creating a barchart to analyse our categorical values\n",
        "sns.countplot(x='Contract', hue='Churn', data=cc_data)\n",
        "plt.title('Churn by Contract Type')\n",
        "plt.xlabel('Contract Type')\n",
        "plt.ylabel('Count')\n",
        "plt.legend(title='Churn', loc='upper right')\n",
        "plt.show()\n",
        "\n",
        "#creating a barchart to analyse our categorical values\n",
        "sns.countplot(x='gender', hue='Churn', data=cc_data)\n",
        "plt.title('Churn by gender')\n",
        "plt.xlabel('gender')\n",
        "plt.ylabel('Count')\n",
        "plt.legend(title='Churn', loc='upper right')\n",
        "plt.show()\n",
        "\n",
        "#creating a barchart to analyse our categorical values\n",
        "sns.countplot(x='InternetService', hue='Churn', data=cc_data)\n",
        "plt.title('Churn by InternetService')\n",
        "plt.xlabel('InternetService')\n",
        "plt.ylabel('Count')\n",
        "plt.legend(title='Churn', loc='upper right')\n",
        "plt.show()\n",
        "\n",
        "#creating a barchart to analyse our categorical values\n",
        "plot=sns.countplot(x='PaymentMethod', hue='Churn', data=cc_data)\n",
        "plt.title('Churn by PaymentMethod')\n",
        "plt.xlabel('PaymentMethod')\n",
        "plt.ylabel('Count')\n",
        "plt.legend(title='Churn', loc='upper right')\n",
        "plot.set_xticklabels(plot.get_xticklabels(), rotation=45, horizontalalignment='right')\n",
        "plt.show()\n",
        "\n",
        "#creating a barchart to analyse our categorical values\n",
        "sns.countplot(x='StreamingMovies', hue='Churn', data=cc_data)\n",
        "plt.title('Churn by StreamingMovies')\n",
        "plt.xlabel('StreamingMovies')\n",
        "plt.ylabel('Count')\n",
        "plt.legend(title='Churn', loc='upper right')\n",
        "plt.show()"
      ],
      "metadata": {
        "colab": {
          "base_uri": "https://localhost:8080/",
          "height": 1000
        },
        "id": "lSmSPRzgENoB",
        "outputId": "b27d568a-78d0-4cd9-d2c4-cc07d3bf711e"
      },
      "execution_count": 183,
      "outputs": [
        {
          "output_type": "display_data",
          "data": {
            "text/plain": [
              "<Figure size 640x480 with 1 Axes>"
            ],
            "image/png": "[encoded data removed]"
          },
          "metadata": {}
        },
        {
          "output_type": "display_data",
          "data": {
            "text/plain": [
              "<Figure size 640x480 with 1 Axes>"
            ],
            "image/png": "[encoded data removed]"
          },
          "metadata": {}
        },
        {
          "output_type": "display_data",
          "data": {
            "text/plain": [
              "<Figure size 640x480 with 1 Axes>"
            ],
            "image/png": "[encoded data removed]"
          },
          "metadata": {}
        },
        {
          "output_type": "display_data",
          "data": {
            "text/plain": [
              "<Figure size 640x480 with 1 Axes>"
            ],
            "image/png": "[encoded data removed]"
          },
          "metadata": {}
        },
        {
          "output_type": "display_data",
          "data": {
            "text/plain": [
              "<Figure size 640x480 with 1 Axes>"
            ],
            "image/png": "[encoded data removed]"
          },
          "metadata": {}
        }
      ]
    },
    {
      "cell_type": "code",
      "source": [
        "# CountPlot for the target variable\n",
        "plt.figure(figsize=(8, 6))\n",
        "sns.countplot(x='Churn', data=cc_data)\n",
        "plt.xlabel('Churn')\n",
        "plt.ylabel('Count')\n",
        "plt.title('Count of Churn')\n",
        "plt.show()"
      ],
      "metadata": {
        "colab": {
          "base_uri": "https://localhost:8080/",
          "height": 564
        },
        "id": "lxAdg_CeENlz",
        "outputId": "922905fa-b069-4ba1-e811-cba928d6dec1"
      },
      "execution_count": 184,
      "outputs": [
        {
          "output_type": "display_data",
          "data": {
            "text/plain": [
              "<Figure size 800x600 with 1 Axes>"
            ],
            "image/png": "[encoded data removed]"
          },
          "metadata": {}
        }
      ]
    },
    {
      "cell_type": "code",
      "source": [
        "#Churn Comparison Across Payment Methods\n",
        "plt.figure(figsize=(10, 6))\n",
        "sns.countplot(x='PaymentMethod', hue='Churn', data=cc_data)\n",
        "plt.xlabel('Payment Method')\n",
        "plt.ylabel('Count')\n",
        "plt.title('Churn Comparison Across Payment Methods')\n",
        "plt.legend(title='Churn', loc='upper right')\n",
        "plt.show()"
      ],
      "metadata": {
        "colab": {
          "base_uri": "https://localhost:8080/",
          "height": 564
        },
        "id": "-cQ33bckRGTJ",
        "outputId": "4f888839-9611-4b6b-dbc9-3f646f31a3bd"
      },
      "execution_count": 185,
      "outputs": [
        {
          "output_type": "display_data",
          "data": {
            "text/plain": [
              "<Figure size 1000x600 with 1 Axes>"
            ],
            "image/png": "[encoded data removed]"
          },
          "metadata": {}
        }
      ]
    },
    {
      "cell_type": "markdown",
      "source": [
        "It can be seen that , in electronic check have customers that are likely to churn compared to the other payment methods."
      ],
      "metadata": {
        "id": "IY0NCf5fSsNm"
      }
    },
    {
      "cell_type": "code",
      "source": [
        "#Churn Comparison Across InternetService\n",
        "plt.figure(figsize=(10, 6))\n",
        "sns.countplot(x='InternetService', hue='Churn', data=cc_data)\n",
        "plt.xlabel('InternetService')\n",
        "plt.ylabel('Count')\n",
        "plt.title('Churn Comparison Across InternetService')\n",
        "plt.legend(title='Churn', loc='upper right')\n",
        "plt.show()"
      ],
      "metadata": {
        "colab": {
          "base_uri": "https://localhost:8080/",
          "height": 564
        },
        "id": "7Gz9dPPUENjd",
        "outputId": "4eac5927-a05a-4c74-cc92-e54a4b1e8016"
      },
      "execution_count": 186,
      "outputs": [
        {
          "output_type": "display_data",
          "data": {
            "text/plain": [
              "<Figure size 1000x600 with 1 Axes>"
            ],
            "image/png": "[encoded data removed]"
          },
          "metadata": {}
        }
      ]
    },
    {
      "cell_type": "markdown",
      "source": [
        "Customers that use fiber optic as their internet service are likely to churn compared to those that do not have and those that use dsl."
      ],
      "metadata": {
        "id": "gWulBzLFS8tm"
      }
    },
    {
      "cell_type": "code",
      "source": [
        "from sklearn.preprocessing import LabelEncoder\n",
        "from sklearn.model_selection import train_test_split"
      ],
      "metadata": {
        "id": "M923dhm51gVt"
      },
      "execution_count": 187,
      "outputs": []
    },
    {
      "cell_type": "code",
      "source": [
        "#Encoding to convert categorical data into numerical data\n",
        "encoded_copy=cc_data.copy()\n",
        "for col in cc_data.columns:\n",
        "    if cc_data[col].dtype == 'object':  # Check if column has non-numeric data type (assuming categorical)\n",
        "        encoder = LabelEncoder()\n",
        "        cc_data[col] = encoder.fit_transform(cc_data[col])\n",
        "\n",
        "encoded_copy"
      ],
      "metadata": {
        "id": "3kzsrf4HVF-6",
        "colab": {
          "base_uri": "https://localhost:8080/",
          "height": 444
        },
        "outputId": "c049d881-98e9-43ae-8df5-658efbe9f8ff"
      },
      "execution_count": 302,
      "outputs": [
        {
          "output_type": "execute_result",
          "data": {
            "text/plain": [
              "      gender  SeniorCitizen  Partner  Dependents  tenure  PhoneService  \\\n",
              "0          0              0        1           0       1             0   \n",
              "1          1              0        0           0      34             1   \n",
              "2          1              0        0           0       2             1   \n",
              "3          1              0        0           0      45             0   \n",
              "4          0              0        0           0       2             1   \n",
              "...      ...            ...      ...         ...     ...           ...   \n",
              "7038       1              0        1           1      24             1   \n",
              "7039       0              0        1           1      72             1   \n",
              "7040       0              0        1           1      11             0   \n",
              "7041       1              1        1           0       4             1   \n",
              "7042       1              0        0           0      66             1   \n",
              "\n",
              "      MultipleLines  InternetService  OnlineSecurity  OnlineBackup  \\\n",
              "0                 1                0               0             2   \n",
              "1                 0                0               2             0   \n",
              "2                 0                0               2             2   \n",
              "3                 1                0               2             0   \n",
              "4                 0                1               0             0   \n",
              "...             ...              ...             ...           ...   \n",
              "7038              2                0               2             0   \n",
              "7039              2                1               0             2   \n",
              "7040              1                0               2             0   \n",
              "7041              2                1               0             0   \n",
              "7042              0                1               2             0   \n",
              "\n",
              "      DeviceProtection  TechSupport  StreamingTV  StreamingMovies  Contract  \\\n",
              "0                    0            0            0                0         0   \n",
              "1                    2            0            0                0         1   \n",
              "2                    0            0            0                0         0   \n",
              "3                    2            2            0                0         1   \n",
              "4                    0            0            0                0         0   \n",
              "...                ...          ...          ...              ...       ...   \n",
              "7038                 2            2            2                2         1   \n",
              "7039                 2            0            2                2         1   \n",
              "7040                 0            0            0                0         0   \n",
              "7041                 0            0            0                0         0   \n",
              "7042                 2            2            2                2         2   \n",
              "\n",
              "      PaperlessBilling  PaymentMethod  MonthlyCharges  TotalCharges  Churn  \n",
              "0                    1              2           29.85         29.85      0  \n",
              "1                    0              3           56.95       1889.50      0  \n",
              "2                    1              3           53.85        108.15      1  \n",
              "3                    0              0           42.30       1840.75      0  \n",
              "4                    1              2           70.70        151.65      1  \n",
              "...                ...            ...             ...           ...    ...  \n",
              "7038                 1              3           84.80       1990.50      0  \n",
              "7039                 1              1          103.20       7362.90      0  \n",
              "7040                 1              2           29.60        346.45      0  \n",
              "7041                 1              3           74.40        306.60      1  \n",
              "7042                 1              0          105.65       6844.50      0  \n",
              "\n",
              "[7043 rows x 20 columns]"
            ],
            "text/html": [
              "\n",
              "  <div id=\"df-e058b854-8eae-4dcd-bee2-df91402eb5bd\" class=\"colab-df-container\">\n",
              "    <div>\n",
              "<style scoped>\n",
              "    .dataframe tbody tr th:only-of-type {\n",
              "        vertical-align: middle;\n",
              "    }\n",
              "\n",
              "    .dataframe tbody tr th {\n",
              "        vertical-align: top;\n",
              "    }\n",
              "\n",
              "    .dataframe thead th {\n",
              "        text-align: right;\n",
              "    }\n",
              "</style>\n",
              "<table border=\"1\" class=\"dataframe\">\n",
              "  <thead>\n",
              "    <tr style=\"text-align: right;\">\n",
              "      <th></th>\n",
              "      <th>gender</th>\n",
              "      <th>SeniorCitizen</th>\n",
              "      <th>Partner</th>\n",
              "      <th>Dependents</th>\n",
              "      <th>tenure</th>\n",
              "      <th>PhoneService</th>\n",
              "      <th>MultipleLines</th>\n",
              "      <th>InternetService</th>\n",
              "      <th>OnlineSecurity</th>\n",
              "      <th>OnlineBackup</th>\n",
              "      <th>DeviceProtection</th>\n",
              "      <th>TechSupport</th>\n",
              "      <th>StreamingTV</th>\n",
              "      <th>StreamingMovies</th>\n",
              "      <th>Contract</th>\n",
              "      <th>PaperlessBilling</th>\n",
              "      <th>PaymentMethod</th>\n",
              "      <th>MonthlyCharges</th>\n",
              "      <th>TotalCharges</th>\n",
              "      <th>Churn</th>\n",
              "    </tr>\n",
              "  </thead>\n",
              "  <tbody>\n",
              "    <tr>\n",
              "      <th>0</th>\n",
              "      <td>0</td>\n",
              "      <td>0</td>\n",
              "      <td>1</td>\n",
              "      <td>0</td>\n",
              "      <td>1</td>\n",
              "      <td>0</td>\n",
              "      <td>1</td>\n",
              "      <td>0</td>\n",
              "      <td>0</td>\n",
              "      <td>2</td>\n",
              "      <td>0</td>\n",
              "      <td>0</td>\n",
              "      <td>0</td>\n",
              "      <td>0</td>\n",
              "      <td>0</td>\n",
              "      <td>1</td>\n",
              "      <td>2</td>\n",
              "      <td>29.85</td>\n",
              "      <td>29.85</td>\n",
              "      <td>0</td>\n",
              "    </tr>\n",
              "    <tr>\n",
              "      <th>1</th>\n",
              "      <td>1</td>\n",
              "      <td>0</td>\n",
              "      <td>0</td>\n",
              "      <td>0</td>\n",
              "      <td>34</td>\n",
              "      <td>1</td>\n",
              "      <td>0</td>\n",
              "      <td>0</td>\n",
              "      <td>2</td>\n",
              "      <td>0</td>\n",
              "      <td>2</td>\n",
              "      <td>0</td>\n",
              "      <td>0</td>\n",
              "      <td>0</td>\n",
              "      <td>1</td>\n",
              "      <td>0</td>\n",
              "      <td>3</td>\n",
              "      <td>56.95</td>\n",
              "      <td>1889.50</td>\n",
              "      <td>0</td>\n",
              "    </tr>\n",
              "    <tr>\n",
              "      <th>2</th>\n",
              "      <td>1</td>\n",
              "      <td>0</td>\n",
              "      <td>0</td>\n",
              "      <td>0</td>\n",
              "      <td>2</td>\n",
              "      <td>1</td>\n",
              "      <td>0</td>\n",
              "      <td>0</td>\n",
              "      <td>2</td>\n",
              "      <td>2</td>\n",
              "      <td>0</td>\n",
              "      <td>0</td>\n",
              "      <td>0</td>\n",
              "      <td>0</td>\n",
              "      <td>0</td>\n",
              "      <td>1</td>\n",
              "      <td>3</td>\n",
              "      <td>53.85</td>\n",
              "      <td>108.15</td>\n",
              "      <td>1</td>\n",
              "    </tr>\n",
              "    <tr>\n",
              "      <th>3</th>\n",
              "      <td>1</td>\n",
              "      <td>0</td>\n",
              "      <td>0</td>\n",
              "      <td>0</td>\n",
              "      <td>45</td>\n",
              "      <td>0</td>\n",
              "      <td>1</td>\n",
              "      <td>0</td>\n",
              "      <td>2</td>\n",
              "      <td>0</td>\n",
              "      <td>2</td>\n",
              "      <td>2</td>\n",
              "      <td>0</td>\n",
              "      <td>0</td>\n",
              "      <td>1</td>\n",
              "      <td>0</td>\n",
              "      <td>0</td>\n",
              "      <td>42.30</td>\n",
              "      <td>1840.75</td>\n",
              "      <td>0</td>\n",
              "    </tr>\n",
              "    <tr>\n",
              "      <th>4</th>\n",
              "      <td>0</td>\n",
              "      <td>0</td>\n",
              "      <td>0</td>\n",
              "      <td>0</td>\n",
              "      <td>2</td>\n",
              "      <td>1</td>\n",
              "      <td>0</td>\n",
              "      <td>1</td>\n",
              "      <td>0</td>\n",
              "      <td>0</td>\n",
              "      <td>0</td>\n",
              "      <td>0</td>\n",
              "      <td>0</td>\n",
              "      <td>0</td>\n",
              "      <td>0</td>\n",
              "      <td>1</td>\n",
              "      <td>2</td>\n",
              "      <td>70.70</td>\n",
              "      <td>151.65</td>\n",
              "      <td>1</td>\n",
              "    </tr>\n",
              "    <tr>\n",
              "      <th>...</th>\n",
              "      <td>...</td>\n",
              "      <td>...</td>\n",
              "      <td>...</td>\n",
              "      <td>...</td>\n",
              "      <td>...</td>\n",
              "      <td>...</td>\n",
              "      <td>...</td>\n",
              "      <td>...</td>\n",
              "      <td>...</td>\n",
              "      <td>...</td>\n",
              "      <td>...</td>\n",
              "      <td>...</td>\n",
              "      <td>...</td>\n",
              "      <td>...</td>\n",
              "      <td>...</td>\n",
              "      <td>...</td>\n",
              "      <td>...</td>\n",
              "      <td>...</td>\n",
              "      <td>...</td>\n",
              "      <td>...</td>\n",
              "    </tr>\n",
              "    <tr>\n",
              "      <th>7038</th>\n",
              "      <td>1</td>\n",
              "      <td>0</td>\n",
              "      <td>1</td>\n",
              "      <td>1</td>\n",
              "      <td>24</td>\n",
              "      <td>1</td>\n",
              "      <td>2</td>\n",
              "      <td>0</td>\n",
              "      <td>2</td>\n",
              "      <td>0</td>\n",
              "      <td>2</td>\n",
              "      <td>2</td>\n",
              "      <td>2</td>\n",
              "      <td>2</td>\n",
              "      <td>1</td>\n",
              "      <td>1</td>\n",
              "      <td>3</td>\n",
              "      <td>84.80</td>\n",
              "      <td>1990.50</td>\n",
              "      <td>0</td>\n",
              "    </tr>\n",
              "    <tr>\n",
              "      <th>7039</th>\n",
              "      <td>0</td>\n",
              "      <td>0</td>\n",
              "      <td>1</td>\n",
              "      <td>1</td>\n",
              "      <td>72</td>\n",
              "      <td>1</td>\n",
              "      <td>2</td>\n",
              "      <td>1</td>\n",
              "      <td>0</td>\n",
              "      <td>2</td>\n",
              "      <td>2</td>\n",
              "      <td>0</td>\n",
              "      <td>2</td>\n",
              "      <td>2</td>\n",
              "      <td>1</td>\n",
              "      <td>1</td>\n",
              "      <td>1</td>\n",
              "      <td>103.20</td>\n",
              "      <td>7362.90</td>\n",
              "      <td>0</td>\n",
              "    </tr>\n",
              "    <tr>\n",
              "      <th>7040</th>\n",
              "      <td>0</td>\n",
              "      <td>0</td>\n",
              "      <td>1</td>\n",
              "      <td>1</td>\n",
              "      <td>11</td>\n",
              "      <td>0</td>\n",
              "      <td>1</td>\n",
              "      <td>0</td>\n",
              "      <td>2</td>\n",
              "      <td>0</td>\n",
              "      <td>0</td>\n",
              "      <td>0</td>\n",
              "      <td>0</td>\n",
              "      <td>0</td>\n",
              "      <td>0</td>\n",
              "      <td>1</td>\n",
              "      <td>2</td>\n",
              "      <td>29.60</td>\n",
              "      <td>346.45</td>\n",
              "      <td>0</td>\n",
              "    </tr>\n",
              "    <tr>\n",
              "      <th>7041</th>\n",
              "      <td>1</td>\n",
              "      <td>1</td>\n",
              "      <td>1</td>\n",
              "      <td>0</td>\n",
              "      <td>4</td>\n",
              "      <td>1</td>\n",
              "      <td>2</td>\n",
              "      <td>1</td>\n",
              "      <td>0</td>\n",
              "      <td>0</td>\n",
              "      <td>0</td>\n",
              "      <td>0</td>\n",
              "      <td>0</td>\n",
              "      <td>0</td>\n",
              "      <td>0</td>\n",
              "      <td>1</td>\n",
              "      <td>3</td>\n",
              "      <td>74.40</td>\n",
              "      <td>306.60</td>\n",
              "      <td>1</td>\n",
              "    </tr>\n",
              "    <tr>\n",
              "      <th>7042</th>\n",
              "      <td>1</td>\n",
              "      <td>0</td>\n",
              "      <td>0</td>\n",
              "      <td>0</td>\n",
              "      <td>66</td>\n",
              "      <td>1</td>\n",
              "      <td>0</td>\n",
              "      <td>1</td>\n",
              "      <td>2</td>\n",
              "      <td>0</td>\n",
              "      <td>2</td>\n",
              "      <td>2</td>\n",
              "      <td>2</td>\n",
              "      <td>2</td>\n",
              "      <td>2</td>\n",
              "      <td>1</td>\n",
              "      <td>0</td>\n",
              "      <td>105.65</td>\n",
              "      <td>6844.50</td>\n",
              "      <td>0</td>\n",
              "    </tr>\n",
              "  </tbody>\n",
              "</table>\n",
              "<p>7043 rows × 20 columns</p>\n",
              "</div>\n",
              "    <div class=\"colab-df-buttons\">\n",
              "\n",
              "  <div class=\"colab-df-container\">\n",
              "    <button class=\"colab-df-convert\" onclick=\"convertToInteractive('df-e058b854-8eae-4dcd-bee2-df91402eb5bd')\"\n",
              "            title=\"Convert this dataframe to an interactive table.\"\n",
              "            style=\"display:none;\">\n",
              "\n",
              "  <svg xmlns=\"http://www.w3.org/2000/svg\" height=\"24px\" viewBox=\"0 -960 960 960\">\n",
              "    <path d=\"M120-120v-720h720v720H120Zm60-500h600v-160H180v160Zm220 220h160v-160H400v160Zm0 220h160v-160H400v160ZM180-400h160v-160H180v160Zm440 0h160v-160H620v160ZM180-180h160v-160H180v160Zm440 0h160v-160H620v160Z\"/>\n",
              "  </svg>\n",
              "    </button>\n",
              "\n",
              "  <style>\n",
              "    .colab-df-container {\n",
              "      display:flex;\n",
              "      gap: 12px;\n",
              "    }\n",
              "\n",
              "    .colab-df-convert {\n",
              "      background-color: #E8F0FE;\n",
              "      border: none;\n",
              "      border-radius: 50%;\n",
              "      cursor: pointer;\n",
              "      display: none;\n",
              "      fill: #1967D2;\n",
              "      height: 32px;\n",
              "      padding: 0 0 0 0;\n",
              "      width: 32px;\n",
              "    }\n",
              "\n",
              "    .colab-df-convert:hover {\n",
              "      background-color: #E2EBFA;\n",
              "      box-shadow: 0px 1px 2px rgba(60, 64, 67, 0.3), 0px 1px 3px 1px rgba(60, 64, 67, 0.15);\n",
              "      fill: #174EA6;\n",
              "    }\n",
              "\n",
              "    .colab-df-buttons div {\n",
              "      margin-bottom: 4px;\n",
              "    }\n",
              "\n",
              "    [theme=dark] .colab-df-convert {\n",
              "      background-color: #3B4455;\n",
              "      fill: #D2E3FC;\n",
              "    }\n",
              "\n",
              "    [theme=dark] .colab-df-convert:hover {\n",
              "      background-color: #434B5C;\n",
              "      box-shadow: 0px 1px 3px 1px rgba(0, 0, 0, 0.15);\n",
              "      filter: drop-shadow(0px 1px 2px rgba(0, 0, 0, 0.3));\n",
              "      fill: #FFFFFF;\n",
              "    }\n",
              "  </style>\n",
              "\n",
              "    <script>\n",
              "      const buttonEl =\n",
              "        document.querySelector('#df-e058b854-8eae-4dcd-bee2-df91402eb5bd button.colab-df-convert');\n",
              "      buttonEl.style.display =\n",
              "        google.colab.kernel.accessAllowed ? 'block' : 'none';\n",
              "\n",
              "      async function convertToInteractive(key) {\n",
              "        const element = document.querySelector('#df-e058b854-8eae-4dcd-bee2-df91402eb5bd');\n",
              "        const dataTable =\n",
              "          await google.colab.kernel.invokeFunction('convertToInteractive',\n",
              "                                                    [key], {});\n",
              "        if (!dataTable) return;\n",
              "\n",
              "        const docLinkHtml = 'Like what you see? Visit the ' +\n",
              "          '<a target=\"_blank\" href=https://colab.research.google.com/notebooks/data_table.ipynb>data table notebook</a>'\n",
              "          + ' to learn more about interactive tables.';\n",
              "        element.innerHTML = '';\n",
              "        dataTable['output_type'] = 'display_data';\n",
              "        await google.colab.output.renderOutput(dataTable, element);\n",
              "        const docLink = document.createElement('div');\n",
              "        docLink.innerHTML = docLinkHtml;\n",
              "        element.appendChild(docLink);\n",
              "      }\n",
              "    </script>\n",
              "  </div>\n",
              "\n",
              "\n",
              "<div id=\"df-41890f65-f3eb-4f72-abf3-bccb9b7f8d80\">\n",
              "  <button class=\"colab-df-quickchart\" onclick=\"quickchart('df-41890f65-f3eb-4f72-abf3-bccb9b7f8d80')\"\n",
              "            title=\"Suggest charts\"\n",
              "            style=\"display:none;\">\n",
              "\n",
              "<svg xmlns=\"http://www.w3.org/2000/svg\" height=\"24px\"viewBox=\"0 0 24 24\"\n",
              "     width=\"24px\">\n",
              "    <g>\n",
              "        <path d=\"M19 3H5c-1.1 0-2 .9-2 2v14c0 1.1.9 2 2 2h14c1.1 0 2-.9 2-2V5c0-1.1-.9-2-2-2zM9 17H7v-7h2v7zm4 0h-2V7h2v10zm4 0h-2v-4h2v4z\"/>\n",
              "    </g>\n",
              "</svg>\n",
              "  </button>\n",
              "\n",
              "<style>\n",
              "  .colab-df-quickchart {\n",
              "      --bg-color: #E8F0FE;\n",
              "      --fill-color: #1967D2;\n",
              "      --hover-bg-color: #E2EBFA;\n",
              "      --hover-fill-color: #174EA6;\n",
              "      --disabled-fill-color: #AAA;\n",
              "      --disabled-bg-color: #DDD;\n",
              "  }\n",
              "\n",
              "  [theme=dark] .colab-df-quickchart {\n",
              "      --bg-color: #3B4455;\n",
              "      --fill-color: #D2E3FC;\n",
              "      --hover-bg-color: #434B5C;\n",
              "      --hover-fill-color: #FFFFFF;\n",
              "      --disabled-bg-color: #3B4455;\n",
              "      --disabled-fill-color: #666;\n",
              "  }\n",
              "\n",
              "  .colab-df-quickchart {\n",
              "    background-color: var(--bg-color);\n",
              "    border: none;\n",
              "    border-radius: 50%;\n",
              "    cursor: pointer;\n",
              "    display: none;\n",
              "    fill: var(--fill-color);\n",
              "    height: 32px;\n",
              "    padding: 0;\n",
              "    width: 32px;\n",
              "  }\n",
              "\n",
              "  .colab-df-quickchart:hover {\n",
              "    background-color: var(--hover-bg-color);\n",
              "    box-shadow: 0 1px 2px rgba(60, 64, 67, 0.3), 0 1px 3px 1px rgba(60, 64, 67, 0.15);\n",
              "    fill: var(--button-hover-fill-color);\n",
              "  }\n",
              "\n",
              "  .colab-df-quickchart-complete:disabled,\n",
              "  .colab-df-quickchart-complete:disabled:hover {\n",
              "    background-color: var(--disabled-bg-color);\n",
              "    fill: var(--disabled-fill-color);\n",
              "    box-shadow: none;\n",
              "  }\n",
              "\n",
              "  .colab-df-spinner {\n",
              "    border: 2px solid var(--fill-color);\n",
              "    border-color: transparent;\n",
              "    border-bottom-color: var(--fill-color);\n",
              "    animation:\n",
              "      spin 1s steps(1) infinite;\n",
              "  }\n",
              "\n",
              "  @keyframes spin {\n",
              "    0% {\n",
              "      border-color: transparent;\n",
              "      border-bottom-color: var(--fill-color);\n",
              "      border-left-color: var(--fill-color);\n",
              "    }\n",
              "    20% {\n",
              "      border-color: transparent;\n",
              "      border-left-color: var(--fill-color);\n",
              "      border-top-color: var(--fill-color);\n",
              "    }\n",
              "    30% {\n",
              "      border-color: transparent;\n",
              "      border-left-color: var(--fill-color);\n",
              "      border-top-color: var(--fill-color);\n",
              "      border-right-color: var(--fill-color);\n",
              "    }\n",
              "    40% {\n",
              "      border-color: transparent;\n",
              "      border-right-color: var(--fill-color);\n",
              "      border-top-color: var(--fill-color);\n",
              "    }\n",
              "    60% {\n",
              "      border-color: transparent;\n",
              "      border-right-color: var(--fill-color);\n",
              "    }\n",
              "    80% {\n",
              "      border-color: transparent;\n",
              "      border-right-color: var(--fill-color);\n",
              "      border-bottom-color: var(--fill-color);\n",
              "    }\n",
              "    90% {\n",
              "      border-color: transparent;\n",
              "      border-bottom-color: var(--fill-color);\n",
              "    }\n",
              "  }\n",
              "</style>\n",
              "\n",
              "  <script>\n",
              "    async function quickchart(key) {\n",
              "      const quickchartButtonEl =\n",
              "        document.querySelector('#' + key + ' button');\n",
              "      quickchartButtonEl.disabled = true;  // To prevent multiple clicks.\n",
              "      quickchartButtonEl.classList.add('colab-df-spinner');\n",
              "      try {\n",
              "        const charts = await google.colab.kernel.invokeFunction(\n",
              "            'suggestCharts', [key], {});\n",
              "      } catch (error) {\n",
              "        console.error('Error during call to suggestCharts:', error);\n",
              "      }\n",
              "      quickchartButtonEl.classList.remove('colab-df-spinner');\n",
              "      quickchartButtonEl.classList.add('colab-df-quickchart-complete');\n",
              "    }\n",
              "    (() => {\n",
              "      let quickchartButtonEl =\n",
              "        document.querySelector('#df-41890f65-f3eb-4f72-abf3-bccb9b7f8d80 button');\n",
              "      quickchartButtonEl.style.display =\n",
              "        google.colab.kernel.accessAllowed ? 'block' : 'none';\n",
              "    })();\n",
              "  </script>\n",
              "</div>\n",
              "    </div>\n",
              "  </div>\n"
            ]
          },
          "metadata": {},
          "execution_count": 302
        }
      ]
    },
    {
      "cell_type": "code",
      "source": [
        "#Scaling the data\n",
        "import pandas as pd\n",
        "from sklearn.preprocessing import StandardScaler\n",
        "X=cc_data.drop('Churn',axis=1)\n",
        "y=cc_data['Churn']\n",
        "scaler = StandardScaler()\n",
        "X_scaled = scaler.fit_transform(X)\n",
        "\n",
        "# new DataFrame with the scaled features\n",
        "X_scaled_df = pd.DataFrame(X_scaled, columns=X.columns)\n",
        "\n",
        "data = pd.concat([X_scaled_df, y], axis=1)"
      ],
      "metadata": {
        "id": "eFYfqimo8Ywu"
      },
      "execution_count": 189,
      "outputs": []
    },
    {
      "cell_type": "code",
      "source": [
        "data"
      ],
      "metadata": {
        "colab": {
          "base_uri": "https://localhost:8080/",
          "height": 444
        },
        "id": "NtSsVbWE9QqG",
        "outputId": "344cd0f8-9c1c-40a0-f283-7a86aca731b2"
      },
      "execution_count": 190,
      "outputs": [
        {
          "output_type": "execute_result",
          "data": {
            "text/plain": [
              "        gender  SeniorCitizen   Partner  Dependents    tenure  PhoneService  \\\n",
              "0    -1.009559      -0.439916  1.034530   -0.654012 -1.277445     -3.054010   \n",
              "1     0.990532      -0.439916 -0.966622   -0.654012  0.066327      0.327438   \n",
              "2     0.990532      -0.439916 -0.966622   -0.654012 -1.236724      0.327438   \n",
              "3     0.990532      -0.439916 -0.966622   -0.654012  0.514251     -3.054010   \n",
              "4    -1.009559      -0.439916 -0.966622   -0.654012 -1.236724      0.327438   \n",
              "...        ...            ...       ...         ...       ...           ...   \n",
              "7038  0.990532      -0.439916  1.034530    1.529024 -0.340876      0.327438   \n",
              "7039 -1.009559      -0.439916  1.034530    1.529024  1.613701      0.327438   \n",
              "7040 -1.009559      -0.439916  1.034530    1.529024 -0.870241     -3.054010   \n",
              "7041  0.990532       2.273159  1.034530   -0.654012 -1.155283      0.327438   \n",
              "7042  0.990532      -0.439916 -0.966622   -0.654012  1.369379      0.327438   \n",
              "\n",
              "      MultipleLines  InternetService  OnlineSecurity  OnlineBackup  \\\n",
              "0          0.062723        -1.183234       -0.918838      1.242550   \n",
              "1         -0.991588        -1.183234        1.407321     -1.029919   \n",
              "2         -0.991588        -1.183234        1.407321      1.242550   \n",
              "3          0.062723        -1.183234        1.407321     -1.029919   \n",
              "4         -0.991588         0.172250       -0.918838     -1.029919   \n",
              "...             ...              ...             ...           ...   \n",
              "7038       1.117034        -1.183234        1.407321     -1.029919   \n",
              "7039       1.117034         0.172250       -0.918838      1.242550   \n",
              "7040       0.062723        -1.183234        1.407321     -1.029919   \n",
              "7041       1.117034         0.172250       -0.918838     -1.029919   \n",
              "7042      -0.991588         0.172250        1.407321     -1.029919   \n",
              "\n",
              "      DeviceProtection  TechSupport  StreamingTV  StreamingMovies  Contract  \\\n",
              "0            -1.027910    -0.925262    -1.113495        -1.121405 -0.828207   \n",
              "1             1.245111    -0.925262    -1.113495        -1.121405  0.371271   \n",
              "2            -1.027910    -0.925262    -1.113495        -1.121405 -0.828207   \n",
              "3             1.245111     1.396299    -1.113495        -1.121405  0.371271   \n",
              "4            -1.027910    -0.925262    -1.113495        -1.121405 -0.828207   \n",
              "...                ...          ...          ...              ...       ...   \n",
              "7038          1.245111     1.396299     1.146547         1.138411  0.371271   \n",
              "7039          1.245111    -0.925262     1.146547         1.138411  0.371271   \n",
              "7040         -1.027910    -0.925262    -1.113495        -1.121405 -0.828207   \n",
              "7041         -1.027910    -0.925262    -1.113495        -1.121405 -0.828207   \n",
              "7042          1.245111     1.396299     1.146547         1.138411  1.570749   \n",
              "\n",
              "      PaperlessBilling  PaymentMethod  MonthlyCharges  TotalCharges  Churn  \n",
              "0             0.829798       0.398558       -1.160323     -0.994242      0  \n",
              "1            -1.205113       1.334863       -0.259629     -0.173244      0  \n",
              "2             0.829798       1.334863       -0.362660     -0.959674      1  \n",
              "3            -1.205113      -1.474052       -0.746535     -0.194766      0  \n",
              "4             0.829798       0.398558        0.197365     -0.940470      1  \n",
              "...                ...            ...             ...           ...    ...  \n",
              "7038          0.829798       1.334863        0.665992     -0.128655      0  \n",
              "7039          0.829798      -0.537747        1.277533      2.243151      0  \n",
              "7040          0.829798       0.398558       -1.168632     -0.854469      0  \n",
              "7041          0.829798       1.334863        0.320338     -0.872062      1  \n",
              "7042          0.829798      -1.474052        1.358961      2.014288      0  \n",
              "\n",
              "[7043 rows x 20 columns]"
            ],
            "text/html": [
              "\n",
              "  <div id=\"df-c69881d7-495b-42f8-bf3f-c3d771915b6d\" class=\"colab-df-container\">\n",
              "    <div>\n",
              "<style scoped>\n",
              "    .dataframe tbody tr th:only-of-type {\n",
              "        vertical-align: middle;\n",
              "    }\n",
              "\n",
              "    .dataframe tbody tr th {\n",
              "        vertical-align: top;\n",
              "    }\n",
              "\n",
              "    .dataframe thead th {\n",
              "        text-align: right;\n",
              "    }\n",
              "</style>\n",
              "<table border=\"1\" class=\"dataframe\">\n",
              "  <thead>\n",
              "    <tr style=\"text-align: right;\">\n",
              "      <th></th>\n",
              "      <th>gender</th>\n",
              "      <th>SeniorCitizen</th>\n",
              "      <th>Partner</th>\n",
              "      <th>Dependents</th>\n",
              "      <th>tenure</th>\n",
              "      <th>PhoneService</th>\n",
              "      <th>MultipleLines</th>\n",
              "      <th>InternetService</th>\n",
              "      <th>OnlineSecurity</th>\n",
              "      <th>OnlineBackup</th>\n",
              "      <th>DeviceProtection</th>\n",
              "      <th>TechSupport</th>\n",
              "      <th>StreamingTV</th>\n",
              "      <th>StreamingMovies</th>\n",
              "      <th>Contract</th>\n",
              "      <th>PaperlessBilling</th>\n",
              "      <th>PaymentMethod</th>\n",
              "      <th>MonthlyCharges</th>\n",
              "      <th>TotalCharges</th>\n",
              "      <th>Churn</th>\n",
              "    </tr>\n",
              "  </thead>\n",
              "  <tbody>\n",
              "    <tr>\n",
              "      <th>0</th>\n",
              "      <td>-1.009559</td>\n",
              "      <td>-0.439916</td>\n",
              "      <td>1.034530</td>\n",
              "      <td>-0.654012</td>\n",
              "      <td>-1.277445</td>\n",
              "      <td>-3.054010</td>\n",
              "      <td>0.062723</td>\n",
              "      <td>-1.183234</td>\n",
              "      <td>-0.918838</td>\n",
              "      <td>1.242550</td>\n",
              "      <td>-1.027910</td>\n",
              "      <td>-0.925262</td>\n",
              "      <td>-1.113495</td>\n",
              "      <td>-1.121405</td>\n",
              "      <td>-0.828207</td>\n",
              "      <td>0.829798</td>\n",
              "      <td>0.398558</td>\n",
              "      <td>-1.160323</td>\n",
              "      <td>-0.994242</td>\n",
              "      <td>0</td>\n",
              "    </tr>\n",
              "    <tr>\n",
              "      <th>1</th>\n",
              "      <td>0.990532</td>\n",
              "      <td>-0.439916</td>\n",
              "      <td>-0.966622</td>\n",
              "      <td>-0.654012</td>\n",
              "      <td>0.066327</td>\n",
              "      <td>0.327438</td>\n",
              "      <td>-0.991588</td>\n",
              "      <td>-1.183234</td>\n",
              "      <td>1.407321</td>\n",
              "      <td>-1.029919</td>\n",
              "      <td>1.245111</td>\n",
              "      <td>-0.925262</td>\n",
              "      <td>-1.113495</td>\n",
              "      <td>-1.121405</td>\n",
              "      <td>0.371271</td>\n",
              "      <td>-1.205113</td>\n",
              "      <td>1.334863</td>\n",
              "      <td>-0.259629</td>\n",
              "      <td>-0.173244</td>\n",
              "      <td>0</td>\n",
              "    </tr>\n",
              "    <tr>\n",
              "      <th>2</th>\n",
              "      <td>0.990532</td>\n",
              "      <td>-0.439916</td>\n",
              "      <td>-0.966622</td>\n",
              "      <td>-0.654012</td>\n",
              "      <td>-1.236724</td>\n",
              "      <td>0.327438</td>\n",
              "      <td>-0.991588</td>\n",
              "      <td>-1.183234</td>\n",
              "      <td>1.407321</td>\n",
              "      <td>1.242550</td>\n",
              "      <td>-1.027910</td>\n",
              "      <td>-0.925262</td>\n",
              "      <td>-1.113495</td>\n",
              "      <td>-1.121405</td>\n",
              "      <td>-0.828207</td>\n",
              "      <td>0.829798</td>\n",
              "      <td>1.334863</td>\n",
              "      <td>-0.362660</td>\n",
              "      <td>-0.959674</td>\n",
              "      <td>1</td>\n",
              "    </tr>\n",
              "    <tr>\n",
              "      <th>3</th>\n",
              "      <td>0.990532</td>\n",
              "      <td>-0.439916</td>\n",
              "      <td>-0.966622</td>\n",
              "      <td>-0.654012</td>\n",
              "      <td>0.514251</td>\n",
              "      <td>-3.054010</td>\n",
              "      <td>0.062723</td>\n",
              "      <td>-1.183234</td>\n",
              "      <td>1.407321</td>\n",
              "      <td>-1.029919</td>\n",
              "      <td>1.245111</td>\n",
              "      <td>1.396299</td>\n",
              "      <td>-1.113495</td>\n",
              "      <td>-1.121405</td>\n",
              "      <td>0.371271</td>\n",
              "      <td>-1.205113</td>\n",
              "      <td>-1.474052</td>\n",
              "      <td>-0.746535</td>\n",
              "      <td>-0.194766</td>\n",
              "      <td>0</td>\n",
              "    </tr>\n",
              "    <tr>\n",
              "      <th>4</th>\n",
              "      <td>-1.009559</td>\n",
              "      <td>-0.439916</td>\n",
              "      <td>-0.966622</td>\n",
              "      <td>-0.654012</td>\n",
              "      <td>-1.236724</td>\n",
              "      <td>0.327438</td>\n",
              "      <td>-0.991588</td>\n",
              "      <td>0.172250</td>\n",
              "      <td>-0.918838</td>\n",
              "      <td>-1.029919</td>\n",
              "      <td>-1.027910</td>\n",
              "      <td>-0.925262</td>\n",
              "      <td>-1.113495</td>\n",
              "      <td>-1.121405</td>\n",
              "      <td>-0.828207</td>\n",
              "      <td>0.829798</td>\n",
              "      <td>0.398558</td>\n",
              "      <td>0.197365</td>\n",
              "      <td>-0.940470</td>\n",
              "      <td>1</td>\n",
              "    </tr>\n",
              "    <tr>\n",
              "      <th>...</th>\n",
              "      <td>...</td>\n",
              "      <td>...</td>\n",
              "      <td>...</td>\n",
              "      <td>...</td>\n",
              "      <td>...</td>\n",
              "      <td>...</td>\n",
              "      <td>...</td>\n",
              "      <td>...</td>\n",
              "      <td>...</td>\n",
              "      <td>...</td>\n",
              "      <td>...</td>\n",
              "      <td>...</td>\n",
              "      <td>...</td>\n",
              "      <td>...</td>\n",
              "      <td>...</td>\n",
              "      <td>...</td>\n",
              "      <td>...</td>\n",
              "      <td>...</td>\n",
              "      <td>...</td>\n",
              "      <td>...</td>\n",
              "    </tr>\n",
              "    <tr>\n",
              "      <th>7038</th>\n",
              "      <td>0.990532</td>\n",
              "      <td>-0.439916</td>\n",
              "      <td>1.034530</td>\n",
              "      <td>1.529024</td>\n",
              "      <td>-0.340876</td>\n",
              "      <td>0.327438</td>\n",
              "      <td>1.117034</td>\n",
              "      <td>-1.183234</td>\n",
              "      <td>1.407321</td>\n",
              "      <td>-1.029919</td>\n",
              "      <td>1.245111</td>\n",
              "      <td>1.396299</td>\n",
              "      <td>1.146547</td>\n",
              "      <td>1.138411</td>\n",
              "      <td>0.371271</td>\n",
              "      <td>0.829798</td>\n",
              "      <td>1.334863</td>\n",
              "      <td>0.665992</td>\n",
              "      <td>-0.128655</td>\n",
              "      <td>0</td>\n",
              "    </tr>\n",
              "    <tr>\n",
              "      <th>7039</th>\n",
              "      <td>-1.009559</td>\n",
              "      <td>-0.439916</td>\n",
              "      <td>1.034530</td>\n",
              "      <td>1.529024</td>\n",
              "      <td>1.613701</td>\n",
              "      <td>0.327438</td>\n",
              "      <td>1.117034</td>\n",
              "      <td>0.172250</td>\n",
              "      <td>-0.918838</td>\n",
              "      <td>1.242550</td>\n",
              "      <td>1.245111</td>\n",
              "      <td>-0.925262</td>\n",
              "      <td>1.146547</td>\n",
              "      <td>1.138411</td>\n",
              "      <td>0.371271</td>\n",
              "      <td>0.829798</td>\n",
              "      <td>-0.537747</td>\n",
              "      <td>1.277533</td>\n",
              "      <td>2.243151</td>\n",
              "      <td>0</td>\n",
              "    </tr>\n",
              "    <tr>\n",
              "      <th>7040</th>\n",
              "      <td>-1.009559</td>\n",
              "      <td>-0.439916</td>\n",
              "      <td>1.034530</td>\n",
              "      <td>1.529024</td>\n",
              "      <td>-0.870241</td>\n",
              "      <td>-3.054010</td>\n",
              "      <td>0.062723</td>\n",
              "      <td>-1.183234</td>\n",
              "      <td>1.407321</td>\n",
              "      <td>-1.029919</td>\n",
              "      <td>-1.027910</td>\n",
              "      <td>-0.925262</td>\n",
              "      <td>-1.113495</td>\n",
              "      <td>-1.121405</td>\n",
              "      <td>-0.828207</td>\n",
              "      <td>0.829798</td>\n",
              "      <td>0.398558</td>\n",
              "      <td>-1.168632</td>\n",
              "      <td>-0.854469</td>\n",
              "      <td>0</td>\n",
              "    </tr>\n",
              "    <tr>\n",
              "      <th>7041</th>\n",
              "      <td>0.990532</td>\n",
              "      <td>2.273159</td>\n",
              "      <td>1.034530</td>\n",
              "      <td>-0.654012</td>\n",
              "      <td>-1.155283</td>\n",
              "      <td>0.327438</td>\n",
              "      <td>1.117034</td>\n",
              "      <td>0.172250</td>\n",
              "      <td>-0.918838</td>\n",
              "      <td>-1.029919</td>\n",
              "      <td>-1.027910</td>\n",
              "      <td>-0.925262</td>\n",
              "      <td>-1.113495</td>\n",
              "      <td>-1.121405</td>\n",
              "      <td>-0.828207</td>\n",
              "      <td>0.829798</td>\n",
              "      <td>1.334863</td>\n",
              "      <td>0.320338</td>\n",
              "      <td>-0.872062</td>\n",
              "      <td>1</td>\n",
              "    </tr>\n",
              "    <tr>\n",
              "      <th>7042</th>\n",
              "      <td>0.990532</td>\n",
              "      <td>-0.439916</td>\n",
              "      <td>-0.966622</td>\n",
              "      <td>-0.654012</td>\n",
              "      <td>1.369379</td>\n",
              "      <td>0.327438</td>\n",
              "      <td>-0.991588</td>\n",
              "      <td>0.172250</td>\n",
              "      <td>1.407321</td>\n",
              "      <td>-1.029919</td>\n",
              "      <td>1.245111</td>\n",
              "      <td>1.396299</td>\n",
              "      <td>1.146547</td>\n",
              "      <td>1.138411</td>\n",
              "      <td>1.570749</td>\n",
              "      <td>0.829798</td>\n",
              "      <td>-1.474052</td>\n",
              "      <td>1.358961</td>\n",
              "      <td>2.014288</td>\n",
              "      <td>0</td>\n",
              "    </tr>\n",
              "  </tbody>\n",
              "</table>\n",
              "<p>7043 rows × 20 columns</p>\n",
              "</div>\n",
              "    <div class=\"colab-df-buttons\">\n",
              "\n",
              "  <div class=\"colab-df-container\">\n",
              "    <button class=\"colab-df-convert\" onclick=\"convertToInteractive('df-c69881d7-495b-42f8-bf3f-c3d771915b6d')\"\n",
              "            title=\"Convert this dataframe to an interactive table.\"\n",
              "            style=\"display:none;\">\n",
              "\n",
              "  <svg xmlns=\"http://www.w3.org/2000/svg\" height=\"24px\" viewBox=\"0 -960 960 960\">\n",
              "    <path d=\"M120-120v-720h720v720H120Zm60-500h600v-160H180v160Zm220 220h160v-160H400v160Zm0 220h160v-160H400v160ZM180-400h160v-160H180v160Zm440 0h160v-160H620v160ZM180-180h160v-160H180v160Zm440 0h160v-160H620v160Z\"/>\n",
              "  </svg>\n",
              "    </button>\n",
              "\n",
              "  <style>\n",
              "    .colab-df-container {\n",
              "      display:flex;\n",
              "      gap: 12px;\n",
              "    }\n",
              "\n",
              "    .colab-df-convert {\n",
              "      background-color: #E8F0FE;\n",
              "      border: none;\n",
              "      border-radius: 50%;\n",
              "      cursor: pointer;\n",
              "      display: none;\n",
              "      fill: #1967D2;\n",
              "      height: 32px;\n",
              "      padding: 0 0 0 0;\n",
              "      width: 32px;\n",
              "    }\n",
              "\n",
              "    .colab-df-convert:hover {\n",
              "      background-color: #E2EBFA;\n",
              "      box-shadow: 0px 1px 2px rgba(60, 64, 67, 0.3), 0px 1px 3px 1px rgba(60, 64, 67, 0.15);\n",
              "      fill: #174EA6;\n",
              "    }\n",
              "\n",
              "    .colab-df-buttons div {\n",
              "      margin-bottom: 4px;\n",
              "    }\n",
              "\n",
              "    [theme=dark] .colab-df-convert {\n",
              "      background-color: #3B4455;\n",
              "      fill: #D2E3FC;\n",
              "    }\n",
              "\n",
              "    [theme=dark] .colab-df-convert:hover {\n",
              "      background-color: #434B5C;\n",
              "      box-shadow: 0px 1px 3px 1px rgba(0, 0, 0, 0.15);\n",
              "      filter: drop-shadow(0px 1px 2px rgba(0, 0, 0, 0.3));\n",
              "      fill: #FFFFFF;\n",
              "    }\n",
              "  </style>\n",
              "\n",
              "    <script>\n",
              "      const buttonEl =\n",
              "        document.querySelector('#df-c69881d7-495b-42f8-bf3f-c3d771915b6d button.colab-df-convert');\n",
              "      buttonEl.style.display =\n",
              "        google.colab.kernel.accessAllowed ? 'block' : 'none';\n",
              "\n",
              "      async function convertToInteractive(key) {\n",
              "        const element = document.querySelector('#df-c69881d7-495b-42f8-bf3f-c3d771915b6d');\n",
              "        const dataTable =\n",
              "          await google.colab.kernel.invokeFunction('convertToInteractive',\n",
              "                                                    [key], {});\n",
              "        if (!dataTable) return;\n",
              "\n",
              "        const docLinkHtml = 'Like what you see? Visit the ' +\n",
              "          '<a target=\"_blank\" href=https://colab.research.google.com/notebooks/data_table.ipynb>data table notebook</a>'\n",
              "          + ' to learn more about interactive tables.';\n",
              "        element.innerHTML = '';\n",
              "        dataTable['output_type'] = 'display_data';\n",
              "        await google.colab.output.renderOutput(dataTable, element);\n",
              "        const docLink = document.createElement('div');\n",
              "        docLink.innerHTML = docLinkHtml;\n",
              "        element.appendChild(docLink);\n",
              "      }\n",
              "    </script>\n",
              "  </div>\n",
              "\n",
              "\n",
              "<div id=\"df-4588eb58-7dbc-4cd4-a93b-af729c1d93f6\">\n",
              "  <button class=\"colab-df-quickchart\" onclick=\"quickchart('df-4588eb58-7dbc-4cd4-a93b-af729c1d93f6')\"\n",
              "            title=\"Suggest charts\"\n",
              "            style=\"display:none;\">\n",
              "\n",
              "<svg xmlns=\"http://www.w3.org/2000/svg\" height=\"24px\"viewBox=\"0 0 24 24\"\n",
              "     width=\"24px\">\n",
              "    <g>\n",
              "        <path d=\"M19 3H5c-1.1 0-2 .9-2 2v14c0 1.1.9 2 2 2h14c1.1 0 2-.9 2-2V5c0-1.1-.9-2-2-2zM9 17H7v-7h2v7zm4 0h-2V7h2v10zm4 0h-2v-4h2v4z\"/>\n",
              "    </g>\n",
              "</svg>\n",
              "  </button>\n",
              "\n",
              "<style>\n",
              "  .colab-df-quickchart {\n",
              "      --bg-color: #E8F0FE;\n",
              "      --fill-color: #1967D2;\n",
              "      --hover-bg-color: #E2EBFA;\n",
              "      --hover-fill-color: #174EA6;\n",
              "      --disabled-fill-color: #AAA;\n",
              "      --disabled-bg-color: #DDD;\n",
              "  }\n",
              "\n",
              "  [theme=dark] .colab-df-quickchart {\n",
              "      --bg-color: #3B4455;\n",
              "      --fill-color: #D2E3FC;\n",
              "      --hover-bg-color: #434B5C;\n",
              "      --hover-fill-color: #FFFFFF;\n",
              "      --disabled-bg-color: #3B4455;\n",
              "      --disabled-fill-color: #666;\n",
              "  }\n",
              "\n",
              "  .colab-df-quickchart {\n",
              "    background-color: var(--bg-color);\n",
              "    border: none;\n",
              "    border-radius: 50%;\n",
              "    cursor: pointer;\n",
              "    display: none;\n",
              "    fill: var(--fill-color);\n",
              "    height: 32px;\n",
              "    padding: 0;\n",
              "    width: 32px;\n",
              "  }\n",
              "\n",
              "  .colab-df-quickchart:hover {\n",
              "    background-color: var(--hover-bg-color);\n",
              "    box-shadow: 0 1px 2px rgba(60, 64, 67, 0.3), 0 1px 3px 1px rgba(60, 64, 67, 0.15);\n",
              "    fill: var(--button-hover-fill-color);\n",
              "  }\n",
              "\n",
              "  .colab-df-quickchart-complete:disabled,\n",
              "  .colab-df-quickchart-complete:disabled:hover {\n",
              "    background-color: var(--disabled-bg-color);\n",
              "    fill: var(--disabled-fill-color);\n",
              "    box-shadow: none;\n",
              "  }\n",
              "\n",
              "  .colab-df-spinner {\n",
              "    border: 2px solid var(--fill-color);\n",
              "    border-color: transparent;\n",
              "    border-bottom-color: var(--fill-color);\n",
              "    animation:\n",
              "      spin 1s steps(1) infinite;\n",
              "  }\n",
              "\n",
              "  @keyframes spin {\n",
              "    0% {\n",
              "      border-color: transparent;\n",
              "      border-bottom-color: var(--fill-color);\n",
              "      border-left-color: var(--fill-color);\n",
              "    }\n",
              "    20% {\n",
              "      border-color: transparent;\n",
              "      border-left-color: var(--fill-color);\n",
              "      border-top-color: var(--fill-color);\n",
              "    }\n",
              "    30% {\n",
              "      border-color: transparent;\n",
              "      border-left-color: var(--fill-color);\n",
              "      border-top-color: var(--fill-color);\n",
              "      border-right-color: var(--fill-color);\n",
              "    }\n",
              "    40% {\n",
              "      border-color: transparent;\n",
              "      border-right-color: var(--fill-color);\n",
              "      border-top-color: var(--fill-color);\n",
              "    }\n",
              "    60% {\n",
              "      border-color: transparent;\n",
              "      border-right-color: var(--fill-color);\n",
              "    }\n",
              "    80% {\n",
              "      border-color: transparent;\n",
              "      border-right-color: var(--fill-color);\n",
              "      border-bottom-color: var(--fill-color);\n",
              "    }\n",
              "    90% {\n",
              "      border-color: transparent;\n",
              "      border-bottom-color: var(--fill-color);\n",
              "    }\n",
              "  }\n",
              "</style>\n",
              "\n",
              "  <script>\n",
              "    async function quickchart(key) {\n",
              "      const quickchartButtonEl =\n",
              "        document.querySelector('#' + key + ' button');\n",
              "      quickchartButtonEl.disabled = true;  // To prevent multiple clicks.\n",
              "      quickchartButtonEl.classList.add('colab-df-spinner');\n",
              "      try {\n",
              "        const charts = await google.colab.kernel.invokeFunction(\n",
              "            'suggestCharts', [key], {});\n",
              "      } catch (error) {\n",
              "        console.error('Error during call to suggestCharts:', error);\n",
              "      }\n",
              "      quickchartButtonEl.classList.remove('colab-df-spinner');\n",
              "      quickchartButtonEl.classList.add('colab-df-quickchart-complete');\n",
              "    }\n",
              "    (() => {\n",
              "      let quickchartButtonEl =\n",
              "        document.querySelector('#df-4588eb58-7dbc-4cd4-a93b-af729c1d93f6 button');\n",
              "      quickchartButtonEl.style.display =\n",
              "        google.colab.kernel.accessAllowed ? 'block' : 'none';\n",
              "    })();\n",
              "  </script>\n",
              "</div>\n",
              "    </div>\n",
              "  </div>\n"
            ]
          },
          "metadata": {},
          "execution_count": 190
        }
      ]
    },
    {
      "cell_type": "code",
      "source": [
        "#Feature Extraction to select relevant features\n",
        "import matplotlib.pyplot as plt\n",
        "from sklearn.ensemble import RandomForestClassifier\n"
      ],
      "metadata": {
        "id": "RhewvhNiVMWR"
      },
      "execution_count": 191,
      "outputs": []
    },
    {
      "cell_type": "code",
      "source": [
        "X=data.drop('Churn',axis=1)\n",
        "y=data['Churn']\n",
        "\n",
        "X_train, X_test, y_train, y_test = train_test_split(X, y, test_size=0.2, random_state=42)\n",
        "val_x,x_test,val_y,Y_test,=train_test_split(X_test, y_test, test_size=0.5, random_state=42)"
      ],
      "metadata": {
        "id": "vI--WziRTdQX"
      },
      "execution_count": 202,
      "outputs": []
    },
    {
      "cell_type": "code",
      "source": [
        "model = RandomForestClassifier()"
      ],
      "metadata": {
        "id": "0Mfy9jwhVMZq"
      },
      "execution_count": 203,
      "outputs": []
    },
    {
      "cell_type": "code",
      "source": [
        "model.fit(X, y)"
      ],
      "metadata": {
        "colab": {
          "base_uri": "https://localhost:8080/",
          "height": 75
        },
        "id": "nkjvt__FVI7J",
        "outputId": "4b21d81d-4786-48ef-be77-be790a2558be"
      },
      "execution_count": 204,
      "outputs": [
        {
          "output_type": "execute_result",
          "data": {
            "text/plain": [
              "RandomForestClassifier()"
            ],
            "text/html": [
              "<style>#sk-container-id-7 {color: black;background-color: white;}#sk-container-id-7 pre{padding: 0;}#sk-container-id-7 div.sk-toggleable {background-color: white;}#sk-container-id-7 label.sk-toggleable__label {cursor: pointer;display: block;width: 100%;margin-bottom: 0;padding: 0.3em;box-sizing: border-box;text-align: center;}#sk-container-id-7 label.sk-toggleable__label-arrow:before {content: \"▸\";float: left;margin-right: 0.25em;color: #696969;}#sk-container-id-7 label.sk-toggleable__label-arrow:hover:before {color: black;}#sk-container-id-7 div.sk-estimator:hover label.sk-toggleable__label-arrow:before {color: black;}#sk-container-id-7 div.sk-toggleable__content {max-height: 0;max-width: 0;overflow: hidden;text-align: left;background-color: #f0f8ff;}#sk-container-id-7 div.sk-toggleable__content pre {margin: 0.2em;color: black;border-radius: 0.25em;background-color: #f0f8ff;}#sk-container-id-7 input.sk-toggleable__control:checked~div.sk-toggleable__content {max-height: 200px;max-width: 100%;overflow: auto;}#sk-container-id-7 input.sk-toggleable__control:checked~label.sk-toggleable__label-arrow:before {content: \"▾\";}#sk-container-id-7 div.sk-estimator input.sk-toggleable__control:checked~label.sk-toggleable__label {background-color: #d4ebff;}#sk-container-id-7 div.sk-label input.sk-toggleable__control:checked~label.sk-toggleable__label {background-color: #d4ebff;}#sk-container-id-7 input.sk-hidden--visually {border: 0;clip: rect(1px 1px 1px 1px);clip: rect(1px, 1px, 1px, 1px);height: 1px;margin: -1px;overflow: hidden;padding: 0;position: absolute;width: 1px;}#sk-container-id-7 div.sk-estimator {font-family: monospace;background-color: #f0f8ff;border: 1px dotted black;border-radius: 0.25em;box-sizing: border-box;margin-bottom: 0.5em;}#sk-container-id-7 div.sk-estimator:hover {background-color: #d4ebff;}#sk-container-id-7 div.sk-parallel-item::after {content: \"\";width: 100%;border-bottom: 1px solid gray;flex-grow: 1;}#sk-container-id-7 div.sk-label:hover label.sk-toggleable__label {background-color: #d4ebff;}#sk-container-id-7 div.sk-serial::before {content: \"\";position: absolute;border-left: 1px solid gray;box-sizing: border-box;top: 0;bottom: 0;left: 50%;z-index: 0;}#sk-container-id-7 div.sk-serial {display: flex;flex-direction: column;align-items: center;background-color: white;padding-right: 0.2em;padding-left: 0.2em;position: relative;}#sk-container-id-7 div.sk-item {position: relative;z-index: 1;}#sk-container-id-7 div.sk-parallel {display: flex;align-items: stretch;justify-content: center;background-color: white;position: relative;}#sk-container-id-7 div.sk-item::before, #sk-container-id-7 div.sk-parallel-item::before {content: \"\";position: absolute;border-left: 1px solid gray;box-sizing: border-box;top: 0;bottom: 0;left: 50%;z-index: -1;}#sk-container-id-7 div.sk-parallel-item {display: flex;flex-direction: column;z-index: 1;position: relative;background-color: white;}#sk-container-id-7 div.sk-parallel-item:first-child::after {align-self: flex-end;width: 50%;}#sk-container-id-7 div.sk-parallel-item:last-child::after {align-self: flex-start;width: 50%;}#sk-container-id-7 div.sk-parallel-item:only-child::after {width: 0;}#sk-container-id-7 div.sk-dashed-wrapped {border: 1px dashed gray;margin: 0 0.4em 0.5em 0.4em;box-sizing: border-box;padding-bottom: 0.4em;background-color: white;}#sk-container-id-7 div.sk-label label {font-family: monospace;font-weight: bold;display: inline-block;line-height: 1.2em;}#sk-container-id-7 div.sk-label-container {text-align: center;}#sk-container-id-7 div.sk-container {/* jupyter's `normalize.less` sets `[hidden] { display: none; }` but bootstrap.min.css set `[hidden] { display: none !important; }` so we also need the `!important` here to be able to override the default hidden behavior on the sphinx rendered scikit-learn.org. See: https://github.com/scikit-learn/scikit-learn/issues/21755 */display: inline-block !important;position: relative;}#sk-container-id-7 div.sk-text-repr-fallback {display: none;}</style><div id=\"sk-container-id-7\" class=\"sk-top-container\"><div class=\"sk-text-repr-fallback\"><pre>RandomForestClassifier()</pre><b>In a Jupyter environment, please rerun this cell to show the HTML representation or trust the notebook. <br />On GitHub, the HTML representation is unable to render, please try loading this page with nbviewer.org.</b></div><div class=\"sk-container\" hidden><div class=\"sk-item\"><div class=\"sk-estimator sk-toggleable\"><input class=\"sk-toggleable__control sk-hidden--visually\" id=\"sk-estimator-id-7\" type=\"checkbox\" checked><label for=\"sk-estimator-id-7\" class=\"sk-toggleable__label sk-toggleable__label-arrow\">RandomForestClassifier</label><div class=\"sk-toggleable__content\"><pre>RandomForestClassifier()</pre></div></div></div></div></div>"
            ]
          },
          "metadata": {},
          "execution_count": 204
        }
      ]
    },
    {
      "cell_type": "code",
      "source": [
        "feature_importances = model.feature_importances_"
      ],
      "metadata": {
        "id": "Q0Lvj2L8VNfS"
      },
      "execution_count": 205,
      "outputs": []
    },
    {
      "cell_type": "code",
      "source": [
        "feature_importance_df = pd.DataFrame({'Feature': X.columns, 'Importance': feature_importances})\n",
        "feature_importance_df = feature_importance_df.sort_values(by='Importance', ascending=False)\n",
        "print(feature_importance_df)"
      ],
      "metadata": {
        "colab": {
          "base_uri": "https://localhost:8080/"
        },
        "id": "IzAe4vf_VUXP",
        "outputId": "2f2a4bed-2c75-4953-a4ab-833ccb0532ff"
      },
      "execution_count": 206,
      "outputs": [
        {
          "output_type": "stream",
          "name": "stdout",
          "text": [
            "             Feature  Importance\n",
            "18      TotalCharges    0.189340\n",
            "17    MonthlyCharges    0.178010\n",
            "4             tenure    0.158636\n",
            "14          Contract    0.083766\n",
            "16     PaymentMethod    0.050664\n",
            "8     OnlineSecurity    0.047264\n",
            "11       TechSupport    0.036130\n",
            "7    InternetService    0.031051\n",
            "0             gender    0.027676\n",
            "9       OnlineBackup    0.026346\n",
            "15  PaperlessBilling    0.024854\n",
            "2            Partner    0.022962\n",
            "10  DeviceProtection    0.022726\n",
            "6      MultipleLines    0.021951\n",
            "1      SeniorCitizen    0.020617\n",
            "3         Dependents    0.019236\n",
            "12       StreamingTV    0.017055\n",
            "13   StreamingMovies    0.016698\n",
            "5       PhoneService    0.005016\n"
          ]
        }
      ]
    },
    {
      "cell_type": "code",
      "source": [
        "selected_features = feature_importance_df['Feature'].values[:9]\n",
        "print(selected_features)"
      ],
      "metadata": {
        "id": "68Y6-B-z1glP",
        "colab": {
          "base_uri": "https://localhost:8080/"
        },
        "outputId": "e78e9803-e748-400f-d9c2-0f9313111c85"
      },
      "execution_count": 238,
      "outputs": [
        {
          "output_type": "stream",
          "name": "stdout",
          "text": [
            "['TotalCharges' 'MonthlyCharges' 'tenure' 'Contract' 'PaymentMethod'\n",
            " 'OnlineSecurity' 'TechSupport' 'InternetService' 'gender']\n"
          ]
        }
      ]
    },
    {
      "cell_type": "code",
      "source": [
        "from sklearn.preprocessing import StandardScaler\n",
        "sc = StandardScaler()\n",
        "train_scale = sc.fit_transform(encoded_copy[selected_features])\n",
        "train_scale\n",
        "\n",
        "import pickle\n",
        "with open('my_scalar.pkl','wb')as file:\n",
        "  pickle.dump(sc,file)\n"
      ],
      "metadata": {
        "id": "qbVWuCb93vQ3"
      },
      "execution_count": 304,
      "outputs": []
    },
    {
      "cell_type": "markdown",
      "source": [
        "**Building the ANN Mdel using Functional API**"
      ],
      "metadata": {
        "id": "AaWDDo48ONQm"
      }
    },
    {
      "cell_type": "code",
      "source": [
        "#importing necessary libraries\n",
        "import keras\n",
        "from keras.models import Model\n",
        "from keras.layers import Input, Dense\n",
        "from keras.optimizers import Adam\n",
        "from keras.utils import to_categorical\n",
        "from sklearn.metrics import accuracy_score, roc_auc_score"
      ],
      "metadata": {
        "id": "f2BgA2gPKhTQ"
      },
      "execution_count": 239,
      "outputs": []
    },
    {
      "cell_type": "code",
      "source": [
        "#using functional api\n",
        "input_layer = Input(shape=(X_train.shape[1],))\n",
        "\n",
        "#Hidden layer\n",
        "hidden_layer_1 = Dense(32, activation='relu')(input_layer)\n",
        "hidden_layer_2 = Dense(16, activation='relu')(hidden_layer_1)\n",
        "hidden_layer_3 = Dense(8, activation='relu')(hidden_layer_2)\n",
        "\n",
        "#)Outputvlayer\n",
        "output_layer = Dense(1, activation='sigmoid')(hidden_layer_3)\n",
        "\n",
        "model = Model(inputs=input_layer, outputs=output_layer)"
      ],
      "metadata": {
        "id": "vg-_X3IqKhVj"
      },
      "execution_count": 244,
      "outputs": []
    },
    {
      "cell_type": "code",
      "source": [
        "model.compile(optimizer=Adam(learning_rate=0.001), loss='binary_crossentropy', metrics=['accuracy'])\n",
        "\n",
        "hist=model.fit(X_train, y_train, epochs=100, batch_size=32, validation_data=(val_x, val_y))"
      ],
      "metadata": {
        "id": "AvZOn1vCKhYJ",
        "colab": {
          "base_uri": "https://localhost:8080/"
        },
        "outputId": "f71166a4-1d5e-41db-9f57-473ccef43ed5"
      },
      "execution_count": 259,
      "outputs": [
        {
          "output_type": "stream",
          "name": "stdout",
          "text": [
            "Epoch 1/100\n",
            "177/177 [==============================] - 1s 3ms/step - loss: 0.3050 - accuracy: 0.8623 - val_loss: 0.5655 - val_accuracy: 0.7713\n",
            "Epoch 2/100\n",
            "177/177 [==============================] - 0s 2ms/step - loss: 0.3020 - accuracy: 0.8679 - val_loss: 0.5603 - val_accuracy: 0.7685\n",
            "Epoch 3/100\n",
            "177/177 [==============================] - 0s 2ms/step - loss: 0.3011 - accuracy: 0.8656 - val_loss: 0.5639 - val_accuracy: 0.7713\n",
            "Epoch 4/100\n",
            "177/177 [==============================] - 0s 2ms/step - loss: 0.2999 - accuracy: 0.8667 - val_loss: 0.5676 - val_accuracy: 0.7585\n",
            "Epoch 5/100\n",
            "177/177 [==============================] - 0s 2ms/step - loss: 0.3022 - accuracy: 0.8598 - val_loss: 0.5600 - val_accuracy: 0.7670\n",
            "Epoch 6/100\n",
            "177/177 [==============================] - 0s 2ms/step - loss: 0.3021 - accuracy: 0.8653 - val_loss: 0.5716 - val_accuracy: 0.7670\n",
            "Epoch 7/100\n",
            "177/177 [==============================] - 0s 2ms/step - loss: 0.2982 - accuracy: 0.8635 - val_loss: 0.5568 - val_accuracy: 0.7656\n",
            "Epoch 8/100\n",
            "177/177 [==============================] - 0s 2ms/step - loss: 0.3006 - accuracy: 0.8669 - val_loss: 0.5616 - val_accuracy: 0.7670\n",
            "Epoch 9/100\n",
            "177/177 [==============================] - 0s 2ms/step - loss: 0.2996 - accuracy: 0.8656 - val_loss: 0.5690 - val_accuracy: 0.7642\n",
            "Epoch 10/100\n",
            "177/177 [==============================] - 0s 2ms/step - loss: 0.2978 - accuracy: 0.8655 - val_loss: 0.5703 - val_accuracy: 0.7741\n",
            "Epoch 11/100\n",
            "177/177 [==============================] - 0s 2ms/step - loss: 0.2975 - accuracy: 0.8676 - val_loss: 0.5954 - val_accuracy: 0.7557\n",
            "Epoch 12/100\n",
            "177/177 [==============================] - 0s 2ms/step - loss: 0.2946 - accuracy: 0.8699 - val_loss: 0.5685 - val_accuracy: 0.7699\n",
            "Epoch 13/100\n",
            "177/177 [==============================] - 0s 2ms/step - loss: 0.2947 - accuracy: 0.8711 - val_loss: 0.5734 - val_accuracy: 0.7571\n",
            "Epoch 14/100\n",
            "177/177 [==============================] - 1s 3ms/step - loss: 0.2960 - accuracy: 0.8708 - val_loss: 0.5854 - val_accuracy: 0.7628\n",
            "Epoch 15/100\n",
            "177/177 [==============================] - 1s 3ms/step - loss: 0.2931 - accuracy: 0.8697 - val_loss: 0.5881 - val_accuracy: 0.7599\n",
            "Epoch 16/100\n",
            "177/177 [==============================] - 1s 3ms/step - loss: 0.2995 - accuracy: 0.8679 - val_loss: 0.5823 - val_accuracy: 0.7699\n",
            "Epoch 17/100\n",
            "177/177 [==============================] - 1s 3ms/step - loss: 0.2922 - accuracy: 0.8706 - val_loss: 0.5849 - val_accuracy: 0.7642\n",
            "Epoch 18/100\n",
            "177/177 [==============================] - 1s 3ms/step - loss: 0.2921 - accuracy: 0.8694 - val_loss: 0.5826 - val_accuracy: 0.7770\n",
            "Epoch 19/100\n",
            "177/177 [==============================] - 1s 3ms/step - loss: 0.2965 - accuracy: 0.8647 - val_loss: 0.5676 - val_accuracy: 0.7784\n",
            "Epoch 20/100\n",
            "177/177 [==============================] - 1s 3ms/step - loss: 0.2918 - accuracy: 0.8697 - val_loss: 0.5759 - val_accuracy: 0.7670\n",
            "Epoch 21/100\n",
            "177/177 [==============================] - 1s 3ms/step - loss: 0.2915 - accuracy: 0.8695 - val_loss: 0.5817 - val_accuracy: 0.7784\n",
            "Epoch 22/100\n",
            "177/177 [==============================] - 1s 3ms/step - loss: 0.2910 - accuracy: 0.8697 - val_loss: 0.5940 - val_accuracy: 0.7713\n",
            "Epoch 23/100\n",
            "177/177 [==============================] - 1s 3ms/step - loss: 0.2876 - accuracy: 0.8708 - val_loss: 0.5912 - val_accuracy: 0.7727\n",
            "Epoch 24/100\n",
            "177/177 [==============================] - 1s 3ms/step - loss: 0.2893 - accuracy: 0.8708 - val_loss: 0.5953 - val_accuracy: 0.7670\n",
            "Epoch 25/100\n",
            "177/177 [==============================] - 1s 3ms/step - loss: 0.2892 - accuracy: 0.8734 - val_loss: 0.6064 - val_accuracy: 0.7685\n",
            "Epoch 26/100\n",
            "177/177 [==============================] - 0s 2ms/step - loss: 0.2886 - accuracy: 0.8717 - val_loss: 0.5939 - val_accuracy: 0.7628\n",
            "Epoch 27/100\n",
            "177/177 [==============================] - 0s 2ms/step - loss: 0.2895 - accuracy: 0.8717 - val_loss: 0.6041 - val_accuracy: 0.7656\n",
            "Epoch 28/100\n",
            "177/177 [==============================] - 1s 3ms/step - loss: 0.2870 - accuracy: 0.8754 - val_loss: 0.5914 - val_accuracy: 0.7685\n",
            "Epoch 29/100\n",
            "177/177 [==============================] - 1s 4ms/step - loss: 0.2937 - accuracy: 0.8678 - val_loss: 0.6018 - val_accuracy: 0.7713\n",
            "Epoch 30/100\n",
            "177/177 [==============================] - 1s 5ms/step - loss: 0.2886 - accuracy: 0.8733 - val_loss: 0.6270 - val_accuracy: 0.7585\n",
            "Epoch 31/100\n",
            "177/177 [==============================] - 1s 5ms/step - loss: 0.2865 - accuracy: 0.8713 - val_loss: 0.5987 - val_accuracy: 0.7699\n",
            "Epoch 32/100\n",
            "177/177 [==============================] - 1s 5ms/step - loss: 0.2884 - accuracy: 0.8720 - val_loss: 0.5987 - val_accuracy: 0.7685\n",
            "Epoch 33/100\n",
            "177/177 [==============================] - 1s 4ms/step - loss: 0.2846 - accuracy: 0.8747 - val_loss: 0.6131 - val_accuracy: 0.7642\n",
            "Epoch 34/100\n",
            "177/177 [==============================] - 1s 5ms/step - loss: 0.2878 - accuracy: 0.8727 - val_loss: 0.6057 - val_accuracy: 0.7741\n",
            "Epoch 35/100\n",
            "177/177 [==============================] - 1s 4ms/step - loss: 0.2854 - accuracy: 0.8736 - val_loss: 0.6319 - val_accuracy: 0.7628\n",
            "Epoch 36/100\n",
            "177/177 [==============================] - 1s 5ms/step - loss: 0.2857 - accuracy: 0.8745 - val_loss: 0.6228 - val_accuracy: 0.7670\n",
            "Epoch 37/100\n",
            "177/177 [==============================] - 0s 3ms/step - loss: 0.2844 - accuracy: 0.8749 - val_loss: 0.6256 - val_accuracy: 0.7798\n",
            "Epoch 38/100\n",
            "177/177 [==============================] - 0s 2ms/step - loss: 0.2829 - accuracy: 0.8758 - val_loss: 0.6100 - val_accuracy: 0.7685\n",
            "Epoch 39/100\n",
            "177/177 [==============================] - 0s 2ms/step - loss: 0.2826 - accuracy: 0.8736 - val_loss: 0.6243 - val_accuracy: 0.7656\n",
            "Epoch 40/100\n",
            "177/177 [==============================] - 0s 2ms/step - loss: 0.2839 - accuracy: 0.8766 - val_loss: 0.6191 - val_accuracy: 0.7756\n",
            "Epoch 41/100\n",
            "177/177 [==============================] - 0s 2ms/step - loss: 0.2836 - accuracy: 0.8736 - val_loss: 0.6270 - val_accuracy: 0.7670\n",
            "Epoch 42/100\n",
            "177/177 [==============================] - 0s 2ms/step - loss: 0.2815 - accuracy: 0.8759 - val_loss: 0.6477 - val_accuracy: 0.7599\n",
            "Epoch 43/100\n",
            "177/177 [==============================] - 1s 3ms/step - loss: 0.2832 - accuracy: 0.8742 - val_loss: 0.6309 - val_accuracy: 0.7599\n",
            "Epoch 44/100\n",
            "177/177 [==============================] - 1s 3ms/step - loss: 0.2802 - accuracy: 0.8774 - val_loss: 0.6266 - val_accuracy: 0.7656\n",
            "Epoch 45/100\n",
            "177/177 [==============================] - 1s 3ms/step - loss: 0.2814 - accuracy: 0.8777 - val_loss: 0.6415 - val_accuracy: 0.7628\n",
            "Epoch 46/100\n",
            "177/177 [==============================] - 1s 3ms/step - loss: 0.2798 - accuracy: 0.8811 - val_loss: 0.6533 - val_accuracy: 0.7585\n",
            "Epoch 47/100\n",
            "177/177 [==============================] - 1s 3ms/step - loss: 0.2823 - accuracy: 0.8782 - val_loss: 0.6265 - val_accuracy: 0.7741\n",
            "Epoch 48/100\n",
            "177/177 [==============================] - 1s 3ms/step - loss: 0.2794 - accuracy: 0.8788 - val_loss: 0.6348 - val_accuracy: 0.7656\n",
            "Epoch 49/100\n",
            "177/177 [==============================] - 1s 3ms/step - loss: 0.2790 - accuracy: 0.8791 - val_loss: 0.6307 - val_accuracy: 0.7656\n",
            "Epoch 50/100\n",
            "177/177 [==============================] - 1s 3ms/step - loss: 0.2854 - accuracy: 0.8763 - val_loss: 0.6343 - val_accuracy: 0.7571\n",
            "Epoch 51/100\n",
            "177/177 [==============================] - 1s 3ms/step - loss: 0.2798 - accuracy: 0.8789 - val_loss: 0.6367 - val_accuracy: 0.7656\n",
            "Epoch 52/100\n",
            "177/177 [==============================] - 1s 3ms/step - loss: 0.2792 - accuracy: 0.8789 - val_loss: 0.6475 - val_accuracy: 0.7599\n",
            "Epoch 53/100\n",
            "177/177 [==============================] - 1s 3ms/step - loss: 0.2772 - accuracy: 0.8795 - val_loss: 0.6583 - val_accuracy: 0.7642\n",
            "Epoch 54/100\n",
            "177/177 [==============================] - 1s 3ms/step - loss: 0.2782 - accuracy: 0.8807 - val_loss: 0.6367 - val_accuracy: 0.7756\n",
            "Epoch 55/100\n",
            "177/177 [==============================] - 0s 2ms/step - loss: 0.2791 - accuracy: 0.8791 - val_loss: 0.6381 - val_accuracy: 0.7685\n",
            "Epoch 56/100\n",
            "177/177 [==============================] - 0s 2ms/step - loss: 0.2767 - accuracy: 0.8797 - val_loss: 0.6429 - val_accuracy: 0.7656\n",
            "Epoch 57/100\n",
            "177/177 [==============================] - 0s 2ms/step - loss: 0.2775 - accuracy: 0.8766 - val_loss: 0.6539 - val_accuracy: 0.7557\n",
            "Epoch 58/100\n",
            "177/177 [==============================] - 0s 2ms/step - loss: 0.2754 - accuracy: 0.8811 - val_loss: 0.6628 - val_accuracy: 0.7628\n",
            "Epoch 59/100\n",
            "177/177 [==============================] - 0s 2ms/step - loss: 0.2774 - accuracy: 0.8791 - val_loss: 0.6479 - val_accuracy: 0.7699\n",
            "Epoch 60/100\n",
            "177/177 [==============================] - 0s 2ms/step - loss: 0.2756 - accuracy: 0.8804 - val_loss: 0.6485 - val_accuracy: 0.7699\n",
            "Epoch 61/100\n",
            "177/177 [==============================] - 0s 2ms/step - loss: 0.2780 - accuracy: 0.8766 - val_loss: 0.6698 - val_accuracy: 0.7571\n",
            "Epoch 62/100\n",
            "177/177 [==============================] - 0s 2ms/step - loss: 0.2746 - accuracy: 0.8841 - val_loss: 0.6412 - val_accuracy: 0.7642\n",
            "Epoch 63/100\n",
            "177/177 [==============================] - 0s 2ms/step - loss: 0.2749 - accuracy: 0.8795 - val_loss: 0.6466 - val_accuracy: 0.7656\n",
            "Epoch 64/100\n",
            "177/177 [==============================] - 0s 2ms/step - loss: 0.2746 - accuracy: 0.8788 - val_loss: 0.6612 - val_accuracy: 0.7656\n",
            "Epoch 65/100\n",
            "177/177 [==============================] - 0s 2ms/step - loss: 0.2733 - accuracy: 0.8821 - val_loss: 0.6297 - val_accuracy: 0.7713\n",
            "Epoch 66/100\n",
            "177/177 [==============================] - 0s 2ms/step - loss: 0.2743 - accuracy: 0.8782 - val_loss: 0.6489 - val_accuracy: 0.7614\n",
            "Epoch 67/100\n",
            "177/177 [==============================] - 0s 2ms/step - loss: 0.2755 - accuracy: 0.8802 - val_loss: 0.6553 - val_accuracy: 0.7614\n",
            "Epoch 68/100\n",
            "177/177 [==============================] - 0s 2ms/step - loss: 0.2703 - accuracy: 0.8829 - val_loss: 0.6964 - val_accuracy: 0.7472\n",
            "Epoch 69/100\n",
            "177/177 [==============================] - 0s 2ms/step - loss: 0.2754 - accuracy: 0.8793 - val_loss: 0.6790 - val_accuracy: 0.7557\n",
            "Epoch 70/100\n",
            "177/177 [==============================] - 0s 2ms/step - loss: 0.2773 - accuracy: 0.8798 - val_loss: 0.6455 - val_accuracy: 0.7727\n",
            "Epoch 71/100\n",
            "177/177 [==============================] - 0s 2ms/step - loss: 0.2736 - accuracy: 0.8789 - val_loss: 0.6571 - val_accuracy: 0.7614\n",
            "Epoch 72/100\n",
            "177/177 [==============================] - 0s 2ms/step - loss: 0.2712 - accuracy: 0.8818 - val_loss: 0.6713 - val_accuracy: 0.7571\n",
            "Epoch 73/100\n",
            "177/177 [==============================] - 0s 2ms/step - loss: 0.2775 - accuracy: 0.8777 - val_loss: 0.6615 - val_accuracy: 0.7543\n",
            "Epoch 74/100\n",
            "177/177 [==============================] - 0s 2ms/step - loss: 0.2723 - accuracy: 0.8837 - val_loss: 0.6645 - val_accuracy: 0.7571\n",
            "Epoch 75/100\n",
            "177/177 [==============================] - 0s 2ms/step - loss: 0.2714 - accuracy: 0.8781 - val_loss: 0.6584 - val_accuracy: 0.7685\n",
            "Epoch 76/100\n",
            "177/177 [==============================] - 0s 2ms/step - loss: 0.2725 - accuracy: 0.8804 - val_loss: 0.6853 - val_accuracy: 0.7585\n",
            "Epoch 77/100\n",
            "177/177 [==============================] - 0s 2ms/step - loss: 0.2741 - accuracy: 0.8789 - val_loss: 0.6719 - val_accuracy: 0.7628\n",
            "Epoch 78/100\n",
            "177/177 [==============================] - 0s 2ms/step - loss: 0.2700 - accuracy: 0.8823 - val_loss: 0.6775 - val_accuracy: 0.7656\n",
            "Epoch 79/100\n",
            "177/177 [==============================] - 0s 2ms/step - loss: 0.2686 - accuracy: 0.8829 - val_loss: 0.6829 - val_accuracy: 0.7628\n",
            "Epoch 80/100\n",
            "177/177 [==============================] - 1s 3ms/step - loss: 0.2689 - accuracy: 0.8836 - val_loss: 0.6800 - val_accuracy: 0.7557\n",
            "Epoch 81/100\n",
            "177/177 [==============================] - 1s 3ms/step - loss: 0.2688 - accuracy: 0.8825 - val_loss: 0.6687 - val_accuracy: 0.7599\n",
            "Epoch 82/100\n",
            "177/177 [==============================] - 1s 3ms/step - loss: 0.2689 - accuracy: 0.8830 - val_loss: 0.6850 - val_accuracy: 0.7713\n",
            "Epoch 83/100\n",
            "177/177 [==============================] - 1s 3ms/step - loss: 0.2681 - accuracy: 0.8848 - val_loss: 0.6739 - val_accuracy: 0.7642\n",
            "Epoch 84/100\n",
            "177/177 [==============================] - 1s 3ms/step - loss: 0.2672 - accuracy: 0.8789 - val_loss: 0.6991 - val_accuracy: 0.7599\n",
            "Epoch 85/100\n",
            "177/177 [==============================] - 1s 3ms/step - loss: 0.2689 - accuracy: 0.8821 - val_loss: 0.6884 - val_accuracy: 0.7571\n",
            "Epoch 86/100\n",
            "177/177 [==============================] - 1s 3ms/step - loss: 0.2683 - accuracy: 0.8813 - val_loss: 0.6917 - val_accuracy: 0.7628\n",
            "Epoch 87/100\n",
            "177/177 [==============================] - 1s 3ms/step - loss: 0.2668 - accuracy: 0.8845 - val_loss: 0.6833 - val_accuracy: 0.7557\n",
            "Epoch 88/100\n",
            "177/177 [==============================] - 1s 3ms/step - loss: 0.2681 - accuracy: 0.8821 - val_loss: 0.6787 - val_accuracy: 0.7599\n",
            "Epoch 89/100\n",
            "177/177 [==============================] - 1s 3ms/step - loss: 0.2693 - accuracy: 0.8797 - val_loss: 0.6588 - val_accuracy: 0.7628\n",
            "Epoch 90/100\n",
            "177/177 [==============================] - 1s 3ms/step - loss: 0.2646 - accuracy: 0.8845 - val_loss: 0.6868 - val_accuracy: 0.7727\n",
            "Epoch 91/100\n",
            "177/177 [==============================] - 1s 3ms/step - loss: 0.2647 - accuracy: 0.8848 - val_loss: 0.7107 - val_accuracy: 0.7614\n",
            "Epoch 92/100\n",
            "177/177 [==============================] - 0s 3ms/step - loss: 0.2659 - accuracy: 0.8827 - val_loss: 0.7061 - val_accuracy: 0.7500\n",
            "Epoch 93/100\n",
            "177/177 [==============================] - 0s 2ms/step - loss: 0.2672 - accuracy: 0.8852 - val_loss: 0.6967 - val_accuracy: 0.7628\n",
            "Epoch 94/100\n",
            "177/177 [==============================] - 0s 2ms/step - loss: 0.2640 - accuracy: 0.8834 - val_loss: 0.6888 - val_accuracy: 0.7599\n",
            "Epoch 95/100\n",
            "177/177 [==============================] - 0s 2ms/step - loss: 0.2647 - accuracy: 0.8820 - val_loss: 0.6897 - val_accuracy: 0.7528\n",
            "Epoch 96/100\n",
            "177/177 [==============================] - 0s 2ms/step - loss: 0.2645 - accuracy: 0.8834 - val_loss: 0.7233 - val_accuracy: 0.7443\n",
            "Epoch 97/100\n",
            "177/177 [==============================] - 0s 2ms/step - loss: 0.2654 - accuracy: 0.8818 - val_loss: 0.6922 - val_accuracy: 0.7557\n",
            "Epoch 98/100\n",
            "177/177 [==============================] - 0s 2ms/step - loss: 0.2627 - accuracy: 0.8855 - val_loss: 0.6996 - val_accuracy: 0.7514\n",
            "Epoch 99/100\n",
            "177/177 [==============================] - 0s 2ms/step - loss: 0.2631 - accuracy: 0.8869 - val_loss: 0.6871 - val_accuracy: 0.7656\n",
            "Epoch 100/100\n",
            "177/177 [==============================] - 0s 2ms/step - loss: 0.2642 - accuracy: 0.8829 - val_loss: 0.7034 - val_accuracy: 0.7457\n"
          ]
        }
      ]
    },
    {
      "cell_type": "code",
      "source": [
        "loss,accuracy = model.evaluate(X_test,y_test,verbose=0)\n",
        "print(f\"Loss: {loss:.4f}\")\n",
        "print(f\"Accuracy: {accuracy*100:4f}\")"
      ],
      "metadata": {
        "colab": {
          "base_uri": "https://localhost:8080/"
        },
        "id": "rUVDWE1ugXQ7",
        "outputId": "81b9547a-30ee-43a6-a90d-45859becf507"
      },
      "execution_count": 262,
      "outputs": [
        {
          "output_type": "stream",
          "name": "stdout",
          "text": [
            "Loss: 0.6556\n",
            "Accuracy: 75.088716\n"
          ]
        }
      ]
    },
    {
      "cell_type": "code",
      "source": [
        "!pip install tensorflow scikeras scikit-learn"
      ],
      "metadata": {
        "colab": {
          "base_uri": "https://localhost:8080/"
        },
        "id": "olqAtMgrbBW5",
        "outputId": "c6fbd072-f6d5-4121-f18a-7b1952075497"
      },
      "execution_count": 260,
      "outputs": [
        {
          "output_type": "stream",
          "name": "stdout",
          "text": [
            "Requirement already satisfied: tensorflow in /usr/local/lib/python3.10/dist-packages (2.14.0)\n",
            "Requirement already satisfied: scikeras in /usr/local/lib/python3.10/dist-packages (0.12.0)\n",
            "Requirement already satisfied: scikit-learn in /usr/local/lib/python3.10/dist-packages (1.2.2)\n",
            "Requirement already satisfied: absl-py>=1.0.0 in /usr/local/lib/python3.10/dist-packages (from tensorflow) (1.4.0)\n",
            "Requirement already satisfied: astunparse>=1.6.0 in /usr/local/lib/python3.10/dist-packages (from tensorflow) (1.6.3)\n",
            "Requirement already satisfied: flatbuffers>=23.5.26 in /usr/local/lib/python3.10/dist-packages (from tensorflow) (23.5.26)\n",
            "Requirement already satisfied: gast!=0.5.0,!=0.5.1,!=0.5.2,>=0.2.1 in /usr/local/lib/python3.10/dist-packages (from tensorflow) (0.5.4)\n",
            "Requirement already satisfied: google-pasta>=0.1.1 in /usr/local/lib/python3.10/dist-packages (from tensorflow) (0.2.0)\n",
            "Requirement already satisfied: h5py>=2.9.0 in /usr/local/lib/python3.10/dist-packages (from tensorflow) (3.9.0)\n",
            "Requirement already satisfied: libclang>=13.0.0 in /usr/local/lib/python3.10/dist-packages (from tensorflow) (16.0.6)\n",
            "Requirement already satisfied: ml-dtypes==0.2.0 in /usr/local/lib/python3.10/dist-packages (from tensorflow) (0.2.0)\n",
            "Requirement already satisfied: numpy>=1.23.5 in /usr/local/lib/python3.10/dist-packages (from tensorflow) (1.23.5)\n",
            "Requirement already satisfied: opt-einsum>=2.3.2 in /usr/local/lib/python3.10/dist-packages (from tensorflow) (3.3.0)\n",
            "Requirement already satisfied: packaging in /usr/local/lib/python3.10/dist-packages (from tensorflow) (23.2)\n",
            "Requirement already satisfied: protobuf!=4.21.0,!=4.21.1,!=4.21.2,!=4.21.3,!=4.21.4,!=4.21.5,<5.0.0dev,>=3.20.3 in /usr/local/lib/python3.10/dist-packages (from tensorflow) (3.20.3)\n",
            "Requirement already satisfied: setuptools in /usr/local/lib/python3.10/dist-packages (from tensorflow) (67.7.2)\n",
            "Requirement already satisfied: six>=1.12.0 in /usr/local/lib/python3.10/dist-packages (from tensorflow) (1.16.0)\n",
            "Requirement already satisfied: termcolor>=1.1.0 in /usr/local/lib/python3.10/dist-packages (from tensorflow) (2.3.0)\n",
            "Requirement already satisfied: typing-extensions>=3.6.6 in /usr/local/lib/python3.10/dist-packages (from tensorflow) (4.5.0)\n",
            "Requirement already satisfied: wrapt<1.15,>=1.11.0 in /usr/local/lib/python3.10/dist-packages (from tensorflow) (1.14.1)\n",
            "Requirement already satisfied: tensorflow-io-gcs-filesystem>=0.23.1 in /usr/local/lib/python3.10/dist-packages (from tensorflow) (0.34.0)\n",
            "Requirement already satisfied: grpcio<2.0,>=1.24.3 in /usr/local/lib/python3.10/dist-packages (from tensorflow) (1.59.2)\n",
            "Requirement already satisfied: tensorboard<2.15,>=2.14 in /usr/local/lib/python3.10/dist-packages (from tensorflow) (2.14.1)\n",
            "Requirement already satisfied: tensorflow-estimator<2.15,>=2.14.0 in /usr/local/lib/python3.10/dist-packages (from tensorflow) (2.14.0)\n",
            "Requirement already satisfied: keras<2.15,>=2.14.0 in /usr/local/lib/python3.10/dist-packages (from tensorflow) (2.14.0)\n",
            "Requirement already satisfied: scipy>=1.3.2 in /usr/local/lib/python3.10/dist-packages (from scikit-learn) (1.11.3)\n",
            "Requirement already satisfied: joblib>=1.1.1 in /usr/local/lib/python3.10/dist-packages (from scikit-learn) (1.3.2)\n",
            "Requirement already satisfied: threadpoolctl>=2.0.0 in /usr/local/lib/python3.10/dist-packages (from scikit-learn) (3.2.0)\n",
            "Requirement already satisfied: wheel<1.0,>=0.23.0 in /usr/local/lib/python3.10/dist-packages (from astunparse>=1.6.0->tensorflow) (0.41.3)\n",
            "Requirement already satisfied: google-auth<3,>=1.6.3 in /usr/local/lib/python3.10/dist-packages (from tensorboard<2.15,>=2.14->tensorflow) (2.17.3)\n",
            "Requirement already satisfied: google-auth-oauthlib<1.1,>=0.5 in /usr/local/lib/python3.10/dist-packages (from tensorboard<2.15,>=2.14->tensorflow) (1.0.0)\n",
            "Requirement already satisfied: markdown>=2.6.8 in /usr/local/lib/python3.10/dist-packages (from tensorboard<2.15,>=2.14->tensorflow) (3.5.1)\n",
            "Requirement already satisfied: requests<3,>=2.21.0 in /usr/local/lib/python3.10/dist-packages (from tensorboard<2.15,>=2.14->tensorflow) (2.31.0)\n",
            "Requirement already satisfied: tensorboard-data-server<0.8.0,>=0.7.0 in /usr/local/lib/python3.10/dist-packages (from tensorboard<2.15,>=2.14->tensorflow) (0.7.2)\n",
            "Requirement already satisfied: werkzeug>=1.0.1 in /usr/local/lib/python3.10/dist-packages (from tensorboard<2.15,>=2.14->tensorflow) (3.0.1)\n",
            "Requirement already satisfied: cachetools<6.0,>=2.0.0 in /usr/local/lib/python3.10/dist-packages (from google-auth<3,>=1.6.3->tensorboard<2.15,>=2.14->tensorflow) (5.3.2)\n",
            "Requirement already satisfied: pyasn1-modules>=0.2.1 in /usr/local/lib/python3.10/dist-packages (from google-auth<3,>=1.6.3->tensorboard<2.15,>=2.14->tensorflow) (0.3.0)\n",
            "Requirement already satisfied: rsa<5,>=3.1.4 in /usr/local/lib/python3.10/dist-packages (from google-auth<3,>=1.6.3->tensorboard<2.15,>=2.14->tensorflow) (4.9)\n",
            "Requirement already satisfied: requests-oauthlib>=0.7.0 in /usr/local/lib/python3.10/dist-packages (from google-auth-oauthlib<1.1,>=0.5->tensorboard<2.15,>=2.14->tensorflow) (1.3.1)\n",
            "Requirement already satisfied: charset-normalizer<4,>=2 in /usr/local/lib/python3.10/dist-packages (from requests<3,>=2.21.0->tensorboard<2.15,>=2.14->tensorflow) (3.3.2)\n",
            "Requirement already satisfied: idna<4,>=2.5 in /usr/local/lib/python3.10/dist-packages (from requests<3,>=2.21.0->tensorboard<2.15,>=2.14->tensorflow) (3.4)\n",
            "Requirement already satisfied: urllib3<3,>=1.21.1 in /usr/local/lib/python3.10/dist-packages (from requests<3,>=2.21.0->tensorboard<2.15,>=2.14->tensorflow) (2.0.7)\n",
            "Requirement already satisfied: certifi>=2017.4.17 in /usr/local/lib/python3.10/dist-packages (from requests<3,>=2.21.0->tensorboard<2.15,>=2.14->tensorflow) (2023.7.22)\n",
            "Requirement already satisfied: MarkupSafe>=2.1.1 in /usr/local/lib/python3.10/dist-packages (from werkzeug>=1.0.1->tensorboard<2.15,>=2.14->tensorflow) (2.1.3)\n",
            "Requirement already satisfied: pyasn1<0.6.0,>=0.4.6 in /usr/local/lib/python3.10/dist-packages (from pyasn1-modules>=0.2.1->google-auth<3,>=1.6.3->tensorboard<2.15,>=2.14->tensorflow) (0.5.0)\n",
            "Requirement already satisfied: oauthlib>=3.0.0 in /usr/local/lib/python3.10/dist-packages (from requests-oauthlib>=0.7.0->google-auth-oauthlib<1.1,>=0.5->tensorboard<2.15,>=2.14->tensorflow) (3.2.2)\n"
          ]
        }
      ]
    },
    {
      "cell_type": "markdown",
      "source": [
        "# Using GridSearchCv and Keras Classifier"
      ],
      "metadata": {
        "id": "xvXYEulseNFU"
      }
    },
    {
      "cell_type": "code",
      "source": [
        "from sklearn.model_selection import KFold,GridSearchCV\n",
        "from keras import Input,Model\n",
        "from sklearn.model_selection import train_test_split\n",
        "from scikeras.wrappers import KerasClassifier\n",
        "\n"
      ],
      "metadata": {
        "id": "8fEHtVcIieID"
      },
      "execution_count": 278,
      "outputs": []
    },
    {
      "cell_type": "code",
      "source": [
        "def keras_model(hidden_units=32):\n",
        "  input_layer = Input(shape=(X_train.shape[1],))\n",
        "  hidden_layer_1 = Dense(hidden_units, activation='relu')(input_layer)\n",
        "  hidden_layer_2 = Dense(16, activation='relu')(hidden_layer_1)\n",
        "  hidden_layer_3 = Dense(8, activation='relu')(hidden_layer_2)\n",
        "  output_layer = Dense(1, activation='sigmoid')(hidden_layer_3)\n",
        "\n",
        "  ker_model = Model(inputs=input_layer, outputs=output_layer)\n",
        "  ker_model.compile(optimizer='Adam', loss='binary_crossentropy',metrics=['accuracy'])\n",
        "\n",
        "  return ker_model\n",
        "\n",
        "\n",
        "model = KerasClassifier(build_fn=keras_model,epochs=10,batch_size=32,hidden_units=32,verbose=True)\n",
        "cv=KFold(n_splits=3,shuffle=True,random_state=42)\n",
        "\n",
        "parameter_grid = {\n",
        "    'hidden_units':[32,64,128],\n",
        "    'epochs': [10,20],\n",
        "    'batch_size': [16, 32,64],\n",
        "    'optimizer':['sgd','rmsprop','adam'],\n",
        "    }\n",
        "\n",
        "gr_cv = GridSearchCV(estimator=model, param_grid=parameter_grid, cv=cv, scoring='accuracy')\n",
        "grid_result = gr_cv.fit(X_train,y_train,epochs=10,validation_data=(val_x, val_y),verbose=True,callbacks=[hist])\n",
        "\n"
      ],
      "metadata": {
        "id": "dOCpEypZKhad",
        "colab": {
          "base_uri": "https://localhost:8080/"
        },
        "outputId": "8dfe93c0-75c0-42e7-85f3-c2e36e175f24"
      },
      "execution_count": 282,
      "outputs": [
        {
          "output_type": "stream",
          "name": "stdout",
          "text": [
            "Epoch 1/10\n"
          ]
        },
        {
          "output_type": "stream",
          "name": "stderr",
          "text": [
            "/usr/local/lib/python3.10/dist-packages/scikeras/wrappers.py:915: UserWarning: ``build_fn`` will be renamed to ``model`` in a future release, at which point use of ``build_fn`` will raise an Error instead.\n",
            "  X, y = self._initialize(X, y)\n"
          ]
        },
        {
          "output_type": "stream",
          "name": "stdout",
          "text": [
            "235/235 [==============================] - 2s 3ms/step - loss: 0.4905 - accuracy: 0.7654 - val_loss: 0.4397 - val_accuracy: 0.7827\n",
            "Epoch 2/10\n",
            "235/235 [==============================] - 1s 2ms/step - loss: 0.4300 - accuracy: 0.7982 - val_loss: 0.4291 - val_accuracy: 0.7955\n",
            "Epoch 3/10\n",
            "235/235 [==============================] - 1s 3ms/step - loss: 0.4175 - accuracy: 0.8048 - val_loss: 0.4278 - val_accuracy: 0.7969\n",
            "Epoch 4/10\n",
            "235/235 [==============================] - 1s 4ms/step - loss: 0.4125 - accuracy: 0.8043 - val_loss: 0.4295 - val_accuracy: 0.7898\n",
            "Epoch 5/10\n",
            "235/235 [==============================] - 1s 3ms/step - loss: 0.4074 - accuracy: 0.8064 - val_loss: 0.4334 - val_accuracy: 0.7969\n",
            "Epoch 6/10\n",
            "235/235 [==============================] - 1s 3ms/step - loss: 0.4049 - accuracy: 0.8080 - val_loss: 0.4256 - val_accuracy: 0.7955\n",
            "Epoch 7/10\n",
            "235/235 [==============================] - 1s 5ms/step - loss: 0.4018 - accuracy: 0.8104 - val_loss: 0.4306 - val_accuracy: 0.7997\n",
            "Epoch 8/10\n",
            "235/235 [==============================] - 1s 6ms/step - loss: 0.3987 - accuracy: 0.8115 - val_loss: 0.4254 - val_accuracy: 0.7969\n",
            "Epoch 9/10\n",
            "235/235 [==============================] - 2s 7ms/step - loss: 0.3966 - accuracy: 0.8136 - val_loss: 0.4262 - val_accuracy: 0.8068\n",
            "Epoch 10/10\n",
            "235/235 [==============================] - 1s 5ms/step - loss: 0.3936 - accuracy: 0.8123 - val_loss: 0.4274 - val_accuracy: 0.8026\n",
            "118/118 [==============================] - 0s 3ms/step\n",
            "Epoch 1/10\n"
          ]
        },
        {
          "output_type": "stream",
          "name": "stderr",
          "text": [
            "/usr/local/lib/python3.10/dist-packages/scikeras/wrappers.py:915: UserWarning: ``build_fn`` will be renamed to ``model`` in a future release, at which point use of ``build_fn`` will raise an Error instead.\n",
            "  X, y = self._initialize(X, y)\n"
          ]
        },
        {
          "output_type": "stream",
          "name": "stdout",
          "text": [
            "235/235 [==============================] - 3s 5ms/step - loss: 0.5288 - accuracy: 0.7330 - val_loss: 0.4430 - val_accuracy: 0.7912\n",
            "Epoch 2/10\n",
            "235/235 [==============================] - 1s 5ms/step - loss: 0.4369 - accuracy: 0.7918 - val_loss: 0.4282 - val_accuracy: 0.7997\n",
            "Epoch 3/10\n",
            "235/235 [==============================] - 1s 4ms/step - loss: 0.4250 - accuracy: 0.7921 - val_loss: 0.4284 - val_accuracy: 0.7969\n",
            "Epoch 4/10\n",
            "235/235 [==============================] - 1s 5ms/step - loss: 0.4181 - accuracy: 0.7995 - val_loss: 0.4243 - val_accuracy: 0.7955\n",
            "Epoch 5/10\n",
            "235/235 [==============================] - 1s 5ms/step - loss: 0.4115 - accuracy: 0.8067 - val_loss: 0.4207 - val_accuracy: 0.8068\n",
            "Epoch 6/10\n",
            "235/235 [==============================] - 1s 5ms/step - loss: 0.4074 - accuracy: 0.8056 - val_loss: 0.4223 - val_accuracy: 0.8068\n",
            "Epoch 7/10\n",
            "235/235 [==============================] - 1s 5ms/step - loss: 0.4048 - accuracy: 0.8091 - val_loss: 0.4236 - val_accuracy: 0.8011\n",
            "Epoch 8/10\n",
            "235/235 [==============================] - 2s 8ms/step - loss: 0.4026 - accuracy: 0.8110 - val_loss: 0.4232 - val_accuracy: 0.8011\n",
            "Epoch 9/10\n",
            "235/235 [==============================] - 2s 8ms/step - loss: 0.3996 - accuracy: 0.8099 - val_loss: 0.4250 - val_accuracy: 0.8026\n",
            "Epoch 10/10\n",
            "235/235 [==============================] - 2s 9ms/step - loss: 0.3959 - accuracy: 0.8136 - val_loss: 0.4227 - val_accuracy: 0.8011\n",
            "118/118 [==============================] - 1s 5ms/step\n"
          ]
        },
        {
          "output_type": "stream",
          "name": "stderr",
          "text": [
            "/usr/local/lib/python3.10/dist-packages/scikeras/wrappers.py:915: UserWarning: ``build_fn`` will be renamed to ``model`` in a future release, at which point use of ``build_fn`` will raise an Error instead.\n",
            "  X, y = self._initialize(X, y)\n"
          ]
        },
        {
          "output_type": "stream",
          "name": "stdout",
          "text": [
            "Epoch 1/10\n",
            "235/235 [==============================] - 5s 9ms/step - loss: 0.5200 - accuracy: 0.7335 - val_loss: 0.4528 - val_accuracy: 0.7898\n",
            "Epoch 2/10\n",
            "235/235 [==============================] - 1s 6ms/step - loss: 0.4469 - accuracy: 0.7804 - val_loss: 0.4330 - val_accuracy: 0.7898\n",
            "Epoch 3/10\n",
            "235/235 [==============================] - 1s 6ms/step - loss: 0.4307 - accuracy: 0.7937 - val_loss: 0.4244 - val_accuracy: 0.8011\n",
            "Epoch 4/10\n",
            "235/235 [==============================] - 2s 6ms/step - loss: 0.4210 - accuracy: 0.8009 - val_loss: 0.4222 - val_accuracy: 0.8011\n",
            "Epoch 5/10\n",
            "235/235 [==============================] - 3s 12ms/step - loss: 0.4140 - accuracy: 0.8054 - val_loss: 0.4287 - val_accuracy: 0.7855\n",
            "Epoch 6/10\n",
            "235/235 [==============================] - 3s 12ms/step - loss: 0.4117 - accuracy: 0.8078 - val_loss: 0.4186 - val_accuracy: 0.7983\n",
            "Epoch 7/10\n",
            "235/235 [==============================] - 2s 9ms/step - loss: 0.4062 - accuracy: 0.8086 - val_loss: 0.4177 - val_accuracy: 0.7983\n",
            "Epoch 8/10\n",
            "235/235 [==============================] - 2s 7ms/step - loss: 0.4029 - accuracy: 0.8104 - val_loss: 0.4175 - val_accuracy: 0.7983\n",
            "Epoch 9/10\n",
            "235/235 [==============================] - 1s 6ms/step - loss: 0.3985 - accuracy: 0.8126 - val_loss: 0.4207 - val_accuracy: 0.7955\n",
            "Epoch 10/10\n",
            "235/235 [==============================] - 2s 7ms/step - loss: 0.3958 - accuracy: 0.8174 - val_loss: 0.4188 - val_accuracy: 0.7969\n",
            "118/118 [==============================] - 0s 2ms/step\n"
          ]
        },
        {
          "output_type": "stream",
          "name": "stderr",
          "text": [
            "/usr/local/lib/python3.10/dist-packages/scikeras/wrappers.py:915: UserWarning: ``build_fn`` will be renamed to ``model`` in a future release, at which point use of ``build_fn`` will raise an Error instead.\n",
            "  X, y = self._initialize(X, y)\n"
          ]
        },
        {
          "output_type": "stream",
          "name": "stdout",
          "text": [
            "Epoch 1/10\n",
            "235/235 [==============================] - 4s 8ms/step - loss: 0.4958 - accuracy: 0.7423 - val_loss: 0.4472 - val_accuracy: 0.7713\n",
            "Epoch 2/10\n",
            "235/235 [==============================] - 2s 7ms/step - loss: 0.4469 - accuracy: 0.7806 - val_loss: 0.4333 - val_accuracy: 0.7969\n",
            "Epoch 3/10\n",
            "235/235 [==============================] - 2s 8ms/step - loss: 0.4315 - accuracy: 0.7937 - val_loss: 0.4275 - val_accuracy: 0.8011\n",
            "Epoch 4/10\n",
            "235/235 [==============================] - 2s 8ms/step - loss: 0.4231 - accuracy: 0.7979 - val_loss: 0.4264 - val_accuracy: 0.8011\n",
            "Epoch 5/10\n",
            "235/235 [==============================] - 2s 7ms/step - loss: 0.4170 - accuracy: 0.7995 - val_loss: 0.4228 - val_accuracy: 0.8068\n",
            "Epoch 6/10\n",
            "235/235 [==============================] - 2s 8ms/step - loss: 0.4123 - accuracy: 0.8046 - val_loss: 0.4249 - val_accuracy: 0.8040\n",
            "Epoch 7/10\n",
            "235/235 [==============================] - 1s 6ms/step - loss: 0.4077 - accuracy: 0.8048 - val_loss: 0.4260 - val_accuracy: 0.8054\n",
            "Epoch 8/10\n",
            "235/235 [==============================] - 1s 3ms/step - loss: 0.4046 - accuracy: 0.8067 - val_loss: 0.4236 - val_accuracy: 0.7955\n",
            "Epoch 9/10\n",
            "235/235 [==============================] - 1s 3ms/step - loss: 0.4016 - accuracy: 0.8083 - val_loss: 0.4247 - val_accuracy: 0.7955\n",
            "Epoch 10/10\n",
            "235/235 [==============================] - 1s 3ms/step - loss: 0.3985 - accuracy: 0.8123 - val_loss: 0.4235 - val_accuracy: 0.7969\n",
            "118/118 [==============================] - 0s 1ms/step\n",
            "Epoch 1/10\n"
          ]
        },
        {
          "output_type": "stream",
          "name": "stderr",
          "text": [
            "/usr/local/lib/python3.10/dist-packages/scikeras/wrappers.py:915: UserWarning: ``build_fn`` will be renamed to ``model`` in a future release, at which point use of ``build_fn`` will raise an Error instead.\n",
            "  X, y = self._initialize(X, y)\n"
          ]
        },
        {
          "output_type": "stream",
          "name": "stdout",
          "text": [
            "235/235 [==============================] - 1s 3ms/step - loss: 0.5766 - accuracy: 0.6869 - val_loss: 0.4512 - val_accuracy: 0.7997\n",
            "Epoch 2/10\n",
            "235/235 [==============================] - 1s 2ms/step - loss: 0.4453 - accuracy: 0.7902 - val_loss: 0.4289 - val_accuracy: 0.8111\n",
            "Epoch 3/10\n",
            "235/235 [==============================] - 1s 3ms/step - loss: 0.4300 - accuracy: 0.7958 - val_loss: 0.4236 - val_accuracy: 0.8026\n",
            "Epoch 4/10\n",
            "235/235 [==============================] - 1s 2ms/step - loss: 0.4205 - accuracy: 0.8001 - val_loss: 0.4221 - val_accuracy: 0.8026\n",
            "Epoch 5/10\n",
            "235/235 [==============================] - 1s 2ms/step - loss: 0.4148 - accuracy: 0.8019 - val_loss: 0.4214 - val_accuracy: 0.8068\n",
            "Epoch 6/10\n",
            "235/235 [==============================] - 1s 3ms/step - loss: 0.4096 - accuracy: 0.8027 - val_loss: 0.4162 - val_accuracy: 0.8097\n",
            "Epoch 7/10\n",
            "235/235 [==============================] - 1s 3ms/step - loss: 0.4064 - accuracy: 0.8078 - val_loss: 0.4178 - val_accuracy: 0.8068\n",
            "Epoch 8/10\n",
            "235/235 [==============================] - 1s 3ms/step - loss: 0.4019 - accuracy: 0.8091 - val_loss: 0.4166 - val_accuracy: 0.8153\n",
            "Epoch 9/10\n",
            "235/235 [==============================] - 1s 3ms/step - loss: 0.3996 - accuracy: 0.8112 - val_loss: 0.4176 - val_accuracy: 0.8082\n",
            "Epoch 10/10\n",
            "235/235 [==============================] - 1s 3ms/step - loss: 0.3949 - accuracy: 0.8206 - val_loss: 0.4196 - val_accuracy: 0.8040\n",
            "118/118 [==============================] - 0s 2ms/step\n",
            "Epoch 1/10\n"
          ]
        },
        {
          "output_type": "stream",
          "name": "stderr",
          "text": [
            "/usr/local/lib/python3.10/dist-packages/scikeras/wrappers.py:915: UserWarning: ``build_fn`` will be renamed to ``model`` in a future release, at which point use of ``build_fn`` will raise an Error instead.\n",
            "  X, y = self._initialize(X, y)\n"
          ]
        },
        {
          "output_type": "stream",
          "name": "stdout",
          "text": [
            "235/235 [==============================] - 2s 4ms/step - loss: 0.4989 - accuracy: 0.7535 - val_loss: 0.4400 - val_accuracy: 0.7884\n",
            "Epoch 2/10\n",
            "235/235 [==============================] - 1s 2ms/step - loss: 0.4423 - accuracy: 0.7905 - val_loss: 0.4301 - val_accuracy: 0.7983\n",
            "Epoch 3/10\n",
            "235/235 [==============================] - 1s 2ms/step - loss: 0.4296 - accuracy: 0.7982 - val_loss: 0.4278 - val_accuracy: 0.8011\n",
            "Epoch 4/10\n",
            "235/235 [==============================] - 0s 2ms/step - loss: 0.4229 - accuracy: 0.7998 - val_loss: 0.4289 - val_accuracy: 0.7926\n",
            "Epoch 5/10\n",
            "235/235 [==============================] - 1s 2ms/step - loss: 0.4174 - accuracy: 0.8038 - val_loss: 0.4264 - val_accuracy: 0.7912\n",
            "Epoch 6/10\n",
            "235/235 [==============================] - 1s 2ms/step - loss: 0.4121 - accuracy: 0.8067 - val_loss: 0.4324 - val_accuracy: 0.7940\n",
            "Epoch 7/10\n",
            "235/235 [==============================] - 1s 2ms/step - loss: 0.4080 - accuracy: 0.8104 - val_loss: 0.4304 - val_accuracy: 0.7926\n",
            "Epoch 8/10\n",
            "235/235 [==============================] - 0s 2ms/step - loss: 0.4048 - accuracy: 0.8083 - val_loss: 0.4321 - val_accuracy: 0.7997\n",
            "Epoch 9/10\n",
            "235/235 [==============================] - 1s 2ms/step - loss: 0.4012 - accuracy: 0.8131 - val_loss: 0.4335 - val_accuracy: 0.7955\n",
            "Epoch 10/10\n",
            "235/235 [==============================] - 0s 2ms/step - loss: 0.3973 - accuracy: 0.8144 - val_loss: 0.4353 - val_accuracy: 0.7955\n",
            "118/118 [==============================] - 0s 1ms/step\n",
            "Epoch 1/10\n"
          ]
        },
        {
          "output_type": "stream",
          "name": "stderr",
          "text": [
            "/usr/local/lib/python3.10/dist-packages/scikeras/wrappers.py:915: UserWarning: ``build_fn`` will be renamed to ``model`` in a future release, at which point use of ``build_fn`` will raise an Error instead.\n",
            "  X, y = self._initialize(X, y)\n"
          ]
        },
        {
          "output_type": "stream",
          "name": "stdout",
          "text": [
            "235/235 [==============================] - 1s 3ms/step - loss: 0.5081 - accuracy: 0.7324 - val_loss: 0.4530 - val_accuracy: 0.7784\n",
            "Epoch 2/10\n",
            "235/235 [==============================] - 1s 2ms/step - loss: 0.4421 - accuracy: 0.7830 - val_loss: 0.4377 - val_accuracy: 0.7855\n",
            "Epoch 3/10\n",
            "235/235 [==============================] - 0s 2ms/step - loss: 0.4267 - accuracy: 0.7939 - val_loss: 0.4362 - val_accuracy: 0.8026\n",
            "Epoch 4/10\n",
            "235/235 [==============================] - 1s 2ms/step - loss: 0.4188 - accuracy: 0.7950 - val_loss: 0.4362 - val_accuracy: 0.7955\n",
            "Epoch 5/10\n",
            "235/235 [==============================] - 1s 2ms/step - loss: 0.4130 - accuracy: 0.8046 - val_loss: 0.4317 - val_accuracy: 0.8068\n",
            "Epoch 6/10\n",
            "235/235 [==============================] - 1s 2ms/step - loss: 0.4074 - accuracy: 0.8078 - val_loss: 0.4347 - val_accuracy: 0.7898\n",
            "Epoch 7/10\n",
            "235/235 [==============================] - 1s 4ms/step - loss: 0.4046 - accuracy: 0.8078 - val_loss: 0.4308 - val_accuracy: 0.7955\n",
            "Epoch 8/10\n",
            "235/235 [==============================] - 1s 6ms/step - loss: 0.4000 - accuracy: 0.8136 - val_loss: 0.4294 - val_accuracy: 0.7997\n",
            "Epoch 9/10\n",
            "235/235 [==============================] - 2s 8ms/step - loss: 0.3977 - accuracy: 0.8139 - val_loss: 0.4277 - val_accuracy: 0.7997\n",
            "Epoch 10/10\n",
            "235/235 [==============================] - 2s 11ms/step - loss: 0.3941 - accuracy: 0.8168 - val_loss: 0.4308 - val_accuracy: 0.7940\n",
            "118/118 [==============================] - 1s 4ms/step\n"
          ]
        },
        {
          "output_type": "stream",
          "name": "stderr",
          "text": [
            "/usr/local/lib/python3.10/dist-packages/scikeras/wrappers.py:915: UserWarning: ``build_fn`` will be renamed to ``model`` in a future release, at which point use of ``build_fn`` will raise an Error instead.\n",
            "  X, y = self._initialize(X, y)\n"
          ]
        },
        {
          "output_type": "stream",
          "name": "stdout",
          "text": [
            "Epoch 1/10\n",
            "235/235 [==============================] - 2s 3ms/step - loss: 0.4975 - accuracy: 0.7431 - val_loss: 0.4419 - val_accuracy: 0.7713\n",
            "Epoch 2/10\n",
            "235/235 [==============================] - 0s 2ms/step - loss: 0.4377 - accuracy: 0.7939 - val_loss: 0.4284 - val_accuracy: 0.8011\n",
            "Epoch 3/10\n",
            "235/235 [==============================] - 0s 2ms/step - loss: 0.4249 - accuracy: 0.8027 - val_loss: 0.4252 - val_accuracy: 0.7997\n",
            "Epoch 4/10\n",
            "235/235 [==============================] - 0s 2ms/step - loss: 0.4181 - accuracy: 0.8064 - val_loss: 0.4201 - val_accuracy: 0.8139\n",
            "Epoch 5/10\n",
            "235/235 [==============================] - 1s 2ms/step - loss: 0.4138 - accuracy: 0.8088 - val_loss: 0.4201 - val_accuracy: 0.8111\n",
            "Epoch 6/10\n",
            "235/235 [==============================] - 0s 2ms/step - loss: 0.4095 - accuracy: 0.8070 - val_loss: 0.4208 - val_accuracy: 0.8111\n",
            "Epoch 7/10\n",
            "235/235 [==============================] - 1s 2ms/step - loss: 0.4063 - accuracy: 0.8115 - val_loss: 0.4177 - val_accuracy: 0.8111\n",
            "Epoch 8/10\n",
            "235/235 [==============================] - 0s 2ms/step - loss: 0.4034 - accuracy: 0.8094 - val_loss: 0.4185 - val_accuracy: 0.7983\n",
            "Epoch 9/10\n",
            "235/235 [==============================] - 0s 2ms/step - loss: 0.3990 - accuracy: 0.8134 - val_loss: 0.4209 - val_accuracy: 0.8082\n",
            "Epoch 10/10\n",
            "235/235 [==============================] - 0s 2ms/step - loss: 0.3974 - accuracy: 0.8155 - val_loss: 0.4222 - val_accuracy: 0.8054\n",
            "118/118 [==============================] - 0s 2ms/step\n",
            "Epoch 1/10\n"
          ]
        },
        {
          "output_type": "stream",
          "name": "stderr",
          "text": [
            "/usr/local/lib/python3.10/dist-packages/scikeras/wrappers.py:915: UserWarning: ``build_fn`` will be renamed to ``model`` in a future release, at which point use of ``build_fn`` will raise an Error instead.\n",
            "  X, y = self._initialize(X, y)\n"
          ]
        },
        {
          "output_type": "stream",
          "name": "stdout",
          "text": [
            "235/235 [==============================] - 2s 4ms/step - loss: 0.4897 - accuracy: 0.7423 - val_loss: 0.4514 - val_accuracy: 0.7685\n",
            "Epoch 2/10\n",
            "235/235 [==============================] - 1s 3ms/step - loss: 0.4450 - accuracy: 0.7790 - val_loss: 0.4430 - val_accuracy: 0.7841\n",
            "Epoch 3/10\n",
            "235/235 [==============================] - 1s 2ms/step - loss: 0.4311 - accuracy: 0.7945 - val_loss: 0.4320 - val_accuracy: 0.7926\n",
            "Epoch 4/10\n",
            "235/235 [==============================] - 1s 2ms/step - loss: 0.4207 - accuracy: 0.8001 - val_loss: 0.4354 - val_accuracy: 0.7926\n",
            "Epoch 5/10\n",
            "235/235 [==============================] - 1s 2ms/step - loss: 0.4136 - accuracy: 0.8072 - val_loss: 0.4321 - val_accuracy: 0.7912\n",
            "Epoch 6/10\n",
            "235/235 [==============================] - 1s 2ms/step - loss: 0.4075 - accuracy: 0.8110 - val_loss: 0.4312 - val_accuracy: 0.7997\n",
            "Epoch 7/10\n",
            "235/235 [==============================] - 1s 2ms/step - loss: 0.4012 - accuracy: 0.8099 - val_loss: 0.4299 - val_accuracy: 0.7969\n",
            "Epoch 8/10\n",
            "235/235 [==============================] - 1s 2ms/step - loss: 0.3975 - accuracy: 0.8115 - val_loss: 0.4389 - val_accuracy: 0.7869\n",
            "Epoch 9/10\n",
            "235/235 [==============================] - 1s 2ms/step - loss: 0.3939 - accuracy: 0.8174 - val_loss: 0.4348 - val_accuracy: 0.7997\n",
            "Epoch 10/10\n",
            "235/235 [==============================] - 0s 2ms/step - loss: 0.3910 - accuracy: 0.8126 - val_loss: 0.4402 - val_accuracy: 0.7884\n",
            "118/118 [==============================] - 0s 1ms/step\n",
            "Epoch 1/10\n"
          ]
        },
        {
          "output_type": "stream",
          "name": "stderr",
          "text": [
            "/usr/local/lib/python3.10/dist-packages/scikeras/wrappers.py:915: UserWarning: ``build_fn`` will be renamed to ``model`` in a future release, at which point use of ``build_fn`` will raise an Error instead.\n",
            "  X, y = self._initialize(X, y)\n"
          ]
        },
        {
          "output_type": "stream",
          "name": "stdout",
          "text": [
            "235/235 [==============================] - 2s 4ms/step - loss: 0.5047 - accuracy: 0.7543 - val_loss: 0.4340 - val_accuracy: 0.7997\n",
            "Epoch 2/10\n",
            "235/235 [==============================] - 1s 3ms/step - loss: 0.4307 - accuracy: 0.7939 - val_loss: 0.4262 - val_accuracy: 0.8011\n",
            "Epoch 3/10\n",
            "235/235 [==============================] - 1s 3ms/step - loss: 0.4178 - accuracy: 0.8019 - val_loss: 0.4247 - val_accuracy: 0.7955\n",
            "Epoch 4/10\n",
            "235/235 [==============================] - 1s 3ms/step - loss: 0.4129 - accuracy: 0.8014 - val_loss: 0.4253 - val_accuracy: 0.7983\n",
            "Epoch 5/10\n",
            "235/235 [==============================] - 1s 3ms/step - loss: 0.4066 - accuracy: 0.8043 - val_loss: 0.4206 - val_accuracy: 0.7955\n",
            "Epoch 6/10\n",
            "235/235 [==============================] - 1s 3ms/step - loss: 0.4038 - accuracy: 0.8118 - val_loss: 0.4224 - val_accuracy: 0.7969\n",
            "Epoch 7/10\n",
            "235/235 [==============================] - 1s 4ms/step - loss: 0.3974 - accuracy: 0.8118 - val_loss: 0.4262 - val_accuracy: 0.8011\n",
            "Epoch 8/10\n",
            "235/235 [==============================] - 1s 3ms/step - loss: 0.3947 - accuracy: 0.8102 - val_loss: 0.4313 - val_accuracy: 0.7869\n",
            "Epoch 9/10\n",
            "235/235 [==============================] - 1s 4ms/step - loss: 0.3923 - accuracy: 0.8166 - val_loss: 0.4289 - val_accuracy: 0.7969\n",
            "Epoch 10/10\n",
            "235/235 [==============================] - 0s 2ms/step - loss: 0.3873 - accuracy: 0.8144 - val_loss: 0.4256 - val_accuracy: 0.8011\n",
            "118/118 [==============================] - 0s 1ms/step\n",
            "Epoch 1/10\n"
          ]
        },
        {
          "output_type": "stream",
          "name": "stderr",
          "text": [
            "/usr/local/lib/python3.10/dist-packages/scikeras/wrappers.py:915: UserWarning: ``build_fn`` will be renamed to ``model`` in a future release, at which point use of ``build_fn`` will raise an Error instead.\n",
            "  X, y = self._initialize(X, y)\n"
          ]
        },
        {
          "output_type": "stream",
          "name": "stdout",
          "text": [
            "235/235 [==============================] - 4s 3ms/step - loss: 0.4843 - accuracy: 0.7537 - val_loss: 0.4421 - val_accuracy: 0.7997\n",
            "Epoch 2/10\n",
            "235/235 [==============================] - 1s 2ms/step - loss: 0.4333 - accuracy: 0.7926 - val_loss: 0.4293 - val_accuracy: 0.7955\n",
            "Epoch 3/10\n",
            "235/235 [==============================] - 1s 2ms/step - loss: 0.4211 - accuracy: 0.8019 - val_loss: 0.4249 - val_accuracy: 0.7926\n",
            "Epoch 4/10\n",
            "235/235 [==============================] - 1s 3ms/step - loss: 0.4140 - accuracy: 0.8038 - val_loss: 0.4201 - val_accuracy: 0.8054\n",
            "Epoch 5/10\n",
            "235/235 [==============================] - 1s 2ms/step - loss: 0.4055 - accuracy: 0.8083 - val_loss: 0.4269 - val_accuracy: 0.7955\n",
            "Epoch 6/10\n",
            "235/235 [==============================] - 1s 3ms/step - loss: 0.4003 - accuracy: 0.8144 - val_loss: 0.4298 - val_accuracy: 0.7983\n",
            "Epoch 7/10\n",
            "235/235 [==============================] - 1s 3ms/step - loss: 0.3979 - accuracy: 0.8150 - val_loss: 0.4279 - val_accuracy: 0.7940\n",
            "Epoch 8/10\n",
            "235/235 [==============================] - 1s 3ms/step - loss: 0.3920 - accuracy: 0.8182 - val_loss: 0.4296 - val_accuracy: 0.7940\n",
            "Epoch 9/10\n",
            "235/235 [==============================] - 1s 4ms/step - loss: 0.3900 - accuracy: 0.8243 - val_loss: 0.4286 - val_accuracy: 0.8011\n",
            "Epoch 10/10\n",
            "235/235 [==============================] - 1s 3ms/step - loss: 0.3873 - accuracy: 0.8227 - val_loss: 0.4331 - val_accuracy: 0.8011\n",
            "118/118 [==============================] - 0s 1ms/step\n",
            "Epoch 1/10\n"
          ]
        },
        {
          "output_type": "stream",
          "name": "stderr",
          "text": [
            "/usr/local/lib/python3.10/dist-packages/scikeras/wrappers.py:915: UserWarning: ``build_fn`` will be renamed to ``model`` in a future release, at which point use of ``build_fn`` will raise an Error instead.\n",
            "  X, y = self._initialize(X, y)\n"
          ]
        },
        {
          "output_type": "stream",
          "name": "stdout",
          "text": [
            "235/235 [==============================] - 2s 3ms/step - loss: 0.4869 - accuracy: 0.7612 - val_loss: 0.4302 - val_accuracy: 0.8040\n",
            "Epoch 2/10\n",
            "235/235 [==============================] - 1s 2ms/step - loss: 0.4321 - accuracy: 0.7958 - val_loss: 0.4218 - val_accuracy: 0.7926\n",
            "Epoch 3/10\n",
            "235/235 [==============================] - 1s 2ms/step - loss: 0.4222 - accuracy: 0.8014 - val_loss: 0.4226 - val_accuracy: 0.7926\n",
            "Epoch 4/10\n",
            "235/235 [==============================] - 1s 2ms/step - loss: 0.4140 - accuracy: 0.8038 - val_loss: 0.4233 - val_accuracy: 0.7997\n",
            "Epoch 5/10\n",
            "235/235 [==============================] - 1s 2ms/step - loss: 0.4087 - accuracy: 0.8046 - val_loss: 0.4301 - val_accuracy: 0.8011\n",
            "Epoch 6/10\n",
            "235/235 [==============================] - 1s 2ms/step - loss: 0.4044 - accuracy: 0.8056 - val_loss: 0.4194 - val_accuracy: 0.7969\n",
            "Epoch 7/10\n",
            "235/235 [==============================] - 1s 2ms/step - loss: 0.3983 - accuracy: 0.8072 - val_loss: 0.4250 - val_accuracy: 0.7926\n",
            "Epoch 8/10\n",
            "235/235 [==============================] - 1s 5ms/step - loss: 0.3958 - accuracy: 0.8142 - val_loss: 0.4269 - val_accuracy: 0.7969\n",
            "Epoch 9/10\n",
            "235/235 [==============================] - 1s 5ms/step - loss: 0.3891 - accuracy: 0.8190 - val_loss: 0.4312 - val_accuracy: 0.7955\n",
            "Epoch 10/10\n",
            "235/235 [==============================] - 1s 2ms/step - loss: 0.3868 - accuracy: 0.8118 - val_loss: 0.4349 - val_accuracy: 0.7827\n",
            "118/118 [==============================] - 0s 2ms/step\n",
            "Epoch 1/10\n"
          ]
        },
        {
          "output_type": "stream",
          "name": "stderr",
          "text": [
            "/usr/local/lib/python3.10/dist-packages/scikeras/wrappers.py:915: UserWarning: ``build_fn`` will be renamed to ``model`` in a future release, at which point use of ``build_fn`` will raise an Error instead.\n",
            "  X, y = self._initialize(X, y)\n"
          ]
        },
        {
          "output_type": "stream",
          "name": "stdout",
          "text": [
            "235/235 [==============================] - 2s 3ms/step - loss: 0.5065 - accuracy: 0.7449 - val_loss: 0.4355 - val_accuracy: 0.7926\n",
            "Epoch 2/10\n",
            "235/235 [==============================] - 1s 2ms/step - loss: 0.4286 - accuracy: 0.7931 - val_loss: 0.4277 - val_accuracy: 0.7926\n",
            "Epoch 3/10\n",
            "235/235 [==============================] - 1s 2ms/step - loss: 0.4178 - accuracy: 0.8038 - val_loss: 0.4252 - val_accuracy: 0.8097\n",
            "Epoch 4/10\n",
            "235/235 [==============================] - 1s 2ms/step - loss: 0.4111 - accuracy: 0.8070 - val_loss: 0.4310 - val_accuracy: 0.7926\n",
            "Epoch 5/10\n",
            "235/235 [==============================] - 1s 2ms/step - loss: 0.4042 - accuracy: 0.8160 - val_loss: 0.4344 - val_accuracy: 0.7869\n",
            "Epoch 6/10\n",
            "235/235 [==============================] - 1s 2ms/step - loss: 0.4003 - accuracy: 0.8136 - val_loss: 0.4323 - val_accuracy: 0.8011\n",
            "Epoch 7/10\n",
            "235/235 [==============================] - 1s 2ms/step - loss: 0.3963 - accuracy: 0.8171 - val_loss: 0.4313 - val_accuracy: 0.7898\n",
            "Epoch 8/10\n",
            "235/235 [==============================] - 1s 2ms/step - loss: 0.3944 - accuracy: 0.8216 - val_loss: 0.4284 - val_accuracy: 0.8026\n",
            "Epoch 9/10\n",
            "235/235 [==============================] - 1s 2ms/step - loss: 0.3900 - accuracy: 0.8206 - val_loss: 0.4330 - val_accuracy: 0.8054\n",
            "Epoch 10/10\n",
            "235/235 [==============================] - 1s 2ms/step - loss: 0.3863 - accuracy: 0.8259 - val_loss: 0.4304 - val_accuracy: 0.7997\n",
            "118/118 [==============================] - 0s 1ms/step\n",
            "Epoch 1/10\n"
          ]
        },
        {
          "output_type": "stream",
          "name": "stderr",
          "text": [
            "/usr/local/lib/python3.10/dist-packages/scikeras/wrappers.py:915: UserWarning: ``build_fn`` will be renamed to ``model`` in a future release, at which point use of ``build_fn`` will raise an Error instead.\n",
            "  X, y = self._initialize(X, y)\n"
          ]
        },
        {
          "output_type": "stream",
          "name": "stdout",
          "text": [
            "235/235 [==============================] - 2s 3ms/step - loss: 0.5002 - accuracy: 0.7489 - val_loss: 0.4428 - val_accuracy: 0.8026\n",
            "Epoch 2/10\n",
            "235/235 [==============================] - 1s 2ms/step - loss: 0.4249 - accuracy: 0.8003 - val_loss: 0.4243 - val_accuracy: 0.8040\n",
            "Epoch 3/10\n",
            "235/235 [==============================] - 1s 2ms/step - loss: 0.4136 - accuracy: 0.8038 - val_loss: 0.4246 - val_accuracy: 0.8040\n",
            "Epoch 4/10\n",
            "235/235 [==============================] - 1s 2ms/step - loss: 0.4085 - accuracy: 0.8083 - val_loss: 0.4260 - val_accuracy: 0.8082\n",
            "Epoch 5/10\n",
            "235/235 [==============================] - 1s 3ms/step - loss: 0.4034 - accuracy: 0.8134 - val_loss: 0.4243 - val_accuracy: 0.8054\n",
            "Epoch 6/10\n",
            "235/235 [==============================] - 1s 4ms/step - loss: 0.3986 - accuracy: 0.8171 - val_loss: 0.4284 - val_accuracy: 0.7997\n",
            "Epoch 7/10\n",
            "235/235 [==============================] - 1s 3ms/step - loss: 0.3930 - accuracy: 0.8176 - val_loss: 0.4373 - val_accuracy: 0.7955\n",
            "Epoch 8/10\n",
            "235/235 [==============================] - 1s 4ms/step - loss: 0.3908 - accuracy: 0.8174 - val_loss: 0.4318 - val_accuracy: 0.7997\n",
            "Epoch 9/10\n",
            "235/235 [==============================] - 1s 4ms/step - loss: 0.3854 - accuracy: 0.8240 - val_loss: 0.4338 - val_accuracy: 0.7969\n",
            "Epoch 10/10\n",
            "235/235 [==============================] - 1s 3ms/step - loss: 0.3814 - accuracy: 0.8227 - val_loss: 0.4360 - val_accuracy: 0.7955\n",
            "118/118 [==============================] - 0s 1ms/step\n",
            "Epoch 1/10\n"
          ]
        },
        {
          "output_type": "stream",
          "name": "stderr",
          "text": [
            "/usr/local/lib/python3.10/dist-packages/scikeras/wrappers.py:915: UserWarning: ``build_fn`` will be renamed to ``model`` in a future release, at which point use of ``build_fn`` will raise an Error instead.\n",
            "  X, y = self._initialize(X, y)\n"
          ]
        },
        {
          "output_type": "stream",
          "name": "stdout",
          "text": [
            "235/235 [==============================] - 2s 3ms/step - loss: 0.5001 - accuracy: 0.7356 - val_loss: 0.4456 - val_accuracy: 0.7486\n",
            "Epoch 2/10\n",
            "235/235 [==============================] - 1s 2ms/step - loss: 0.4424 - accuracy: 0.7713 - val_loss: 0.4352 - val_accuracy: 0.7955\n",
            "Epoch 3/10\n",
            "235/235 [==============================] - 1s 2ms/step - loss: 0.4276 - accuracy: 0.7942 - val_loss: 0.4295 - val_accuracy: 0.7955\n",
            "Epoch 4/10\n",
            "235/235 [==============================] - 1s 2ms/step - loss: 0.4183 - accuracy: 0.8001 - val_loss: 0.4261 - val_accuracy: 0.8040\n",
            "Epoch 5/10\n",
            "235/235 [==============================] - 1s 2ms/step - loss: 0.4118 - accuracy: 0.8017 - val_loss: 0.4244 - val_accuracy: 0.7997\n",
            "Epoch 6/10\n",
            "235/235 [==============================] - 1s 3ms/step - loss: 0.4074 - accuracy: 0.8118 - val_loss: 0.4269 - val_accuracy: 0.7997\n",
            "Epoch 7/10\n",
            "235/235 [==============================] - 1s 5ms/step - loss: 0.4027 - accuracy: 0.8078 - val_loss: 0.4260 - val_accuracy: 0.8011\n",
            "Epoch 8/10\n",
            "235/235 [==============================] - 1s 6ms/step - loss: 0.3985 - accuracy: 0.8142 - val_loss: 0.4297 - val_accuracy: 0.8011\n",
            "Epoch 9/10\n",
            "235/235 [==============================] - 1s 6ms/step - loss: 0.3950 - accuracy: 0.8128 - val_loss: 0.4300 - val_accuracy: 0.7841\n",
            "Epoch 10/10\n",
            "235/235 [==============================] - 2s 7ms/step - loss: 0.3904 - accuracy: 0.8155 - val_loss: 0.4304 - val_accuracy: 0.7969\n",
            "118/118 [==============================] - 0s 2ms/step\n"
          ]
        },
        {
          "output_type": "stream",
          "name": "stderr",
          "text": [
            "/usr/local/lib/python3.10/dist-packages/scikeras/wrappers.py:915: UserWarning: ``build_fn`` will be renamed to ``model`` in a future release, at which point use of ``build_fn`` will raise an Error instead.\n",
            "  X, y = self._initialize(X, y)\n"
          ]
        },
        {
          "output_type": "stream",
          "name": "stdout",
          "text": [
            "Epoch 1/10\n",
            "235/235 [==============================] - 5s 6ms/step - loss: 0.4855 - accuracy: 0.7540 - val_loss: 0.4314 - val_accuracy: 0.7869\n",
            "Epoch 2/10\n",
            "235/235 [==============================] - 1s 3ms/step - loss: 0.4258 - accuracy: 0.7961 - val_loss: 0.4191 - val_accuracy: 0.7983\n",
            "Epoch 3/10\n",
            "235/235 [==============================] - 1s 3ms/step - loss: 0.4158 - accuracy: 0.8022 - val_loss: 0.4265 - val_accuracy: 0.8026\n",
            "Epoch 4/10\n",
            "235/235 [==============================] - 1s 3ms/step - loss: 0.4080 - accuracy: 0.8070 - val_loss: 0.4188 - val_accuracy: 0.7926\n",
            "Epoch 5/10\n",
            "235/235 [==============================] - 1s 6ms/step - loss: 0.4031 - accuracy: 0.8144 - val_loss: 0.4159 - val_accuracy: 0.8054\n",
            "Epoch 6/10\n",
            "235/235 [==============================] - 1s 4ms/step - loss: 0.4010 - accuracy: 0.8163 - val_loss: 0.4176 - val_accuracy: 0.7997\n",
            "Epoch 7/10\n",
            "235/235 [==============================] - 1s 4ms/step - loss: 0.3953 - accuracy: 0.8152 - val_loss: 0.4223 - val_accuracy: 0.7955\n",
            "Epoch 8/10\n",
            "235/235 [==============================] - 1s 5ms/step - loss: 0.3909 - accuracy: 0.8203 - val_loss: 0.4345 - val_accuracy: 0.7841\n",
            "Epoch 9/10\n",
            "235/235 [==============================] - 1s 3ms/step - loss: 0.3883 - accuracy: 0.8190 - val_loss: 0.4392 - val_accuracy: 0.7827\n",
            "Epoch 10/10\n",
            "235/235 [==============================] - 1s 2ms/step - loss: 0.3848 - accuracy: 0.8219 - val_loss: 0.4195 - val_accuracy: 0.8153\n",
            "118/118 [==============================] - 0s 1ms/step\n",
            "Epoch 1/10\n"
          ]
        },
        {
          "output_type": "stream",
          "name": "stderr",
          "text": [
            "/usr/local/lib/python3.10/dist-packages/scikeras/wrappers.py:915: UserWarning: ``build_fn`` will be renamed to ``model`` in a future release, at which point use of ``build_fn`` will raise an Error instead.\n",
            "  X, y = self._initialize(X, y)\n"
          ]
        },
        {
          "output_type": "stream",
          "name": "stdout",
          "text": [
            "235/235 [==============================] - 2s 5ms/step - loss: 0.4824 - accuracy: 0.7503 - val_loss: 0.4350 - val_accuracy: 0.7855\n",
            "Epoch 2/10\n",
            "235/235 [==============================] - 1s 3ms/step - loss: 0.4281 - accuracy: 0.7955 - val_loss: 0.4334 - val_accuracy: 0.7983\n",
            "Epoch 3/10\n",
            "235/235 [==============================] - 1s 4ms/step - loss: 0.4178 - accuracy: 0.8032 - val_loss: 0.4187 - val_accuracy: 0.8153\n",
            "Epoch 4/10\n",
            "235/235 [==============================] - 2s 9ms/step - loss: 0.4102 - accuracy: 0.8094 - val_loss: 0.4175 - val_accuracy: 0.8054\n",
            "Epoch 5/10\n",
            "235/235 [==============================] - 1s 5ms/step - loss: 0.4040 - accuracy: 0.8091 - val_loss: 0.4178 - val_accuracy: 0.8082\n",
            "Epoch 6/10\n",
            "235/235 [==============================] - 1s 6ms/step - loss: 0.3990 - accuracy: 0.8144 - val_loss: 0.4255 - val_accuracy: 0.8026\n",
            "Epoch 7/10\n",
            "235/235 [==============================] - 1s 4ms/step - loss: 0.3962 - accuracy: 0.8182 - val_loss: 0.4225 - val_accuracy: 0.8026\n",
            "Epoch 8/10\n",
            "235/235 [==============================] - 1s 4ms/step - loss: 0.3919 - accuracy: 0.8168 - val_loss: 0.4194 - val_accuracy: 0.8139\n",
            "Epoch 9/10\n",
            "235/235 [==============================] - 1s 4ms/step - loss: 0.3880 - accuracy: 0.8214 - val_loss: 0.4232 - val_accuracy: 0.8011\n",
            "Epoch 10/10\n",
            "235/235 [==============================] - 1s 5ms/step - loss: 0.3852 - accuracy: 0.8224 - val_loss: 0.4255 - val_accuracy: 0.8011\n",
            "118/118 [==============================] - 1s 5ms/step\n"
          ]
        },
        {
          "output_type": "stream",
          "name": "stderr",
          "text": [
            "/usr/local/lib/python3.10/dist-packages/scikeras/wrappers.py:915: UserWarning: ``build_fn`` will be renamed to ``model`` in a future release, at which point use of ``build_fn`` will raise an Error instead.\n",
            "  X, y = self._initialize(X, y)\n"
          ]
        },
        {
          "output_type": "stream",
          "name": "stdout",
          "text": [
            "Epoch 1/10\n",
            "235/235 [==============================] - 4s 4ms/step - loss: 0.4820 - accuracy: 0.7713 - val_loss: 0.4308 - val_accuracy: 0.8026\n",
            "Epoch 2/10\n",
            "235/235 [==============================] - 1s 3ms/step - loss: 0.4264 - accuracy: 0.7971 - val_loss: 0.4259 - val_accuracy: 0.7926\n",
            "Epoch 3/10\n",
            "235/235 [==============================] - 1s 6ms/step - loss: 0.4176 - accuracy: 0.8022 - val_loss: 0.4235 - val_accuracy: 0.8054\n",
            "Epoch 4/10\n",
            "235/235 [==============================] - 1s 5ms/step - loss: 0.4118 - accuracy: 0.8048 - val_loss: 0.4238 - val_accuracy: 0.8011\n",
            "Epoch 5/10\n",
            "235/235 [==============================] - 1s 5ms/step - loss: 0.4067 - accuracy: 0.8072 - val_loss: 0.4242 - val_accuracy: 0.7940\n",
            "Epoch 6/10\n",
            "235/235 [==============================] - 1s 5ms/step - loss: 0.4010 - accuracy: 0.8107 - val_loss: 0.4264 - val_accuracy: 0.8026\n",
            "Epoch 7/10\n",
            "235/235 [==============================] - 1s 5ms/step - loss: 0.3975 - accuracy: 0.8144 - val_loss: 0.4280 - val_accuracy: 0.7940\n",
            "Epoch 8/10\n",
            "235/235 [==============================] - 1s 6ms/step - loss: 0.3930 - accuracy: 0.8176 - val_loss: 0.4245 - val_accuracy: 0.8026\n",
            "Epoch 9/10\n",
            "235/235 [==============================] - 1s 4ms/step - loss: 0.3893 - accuracy: 0.8208 - val_loss: 0.4333 - val_accuracy: 0.7969\n",
            "Epoch 10/10\n",
            "235/235 [==============================] - 1s 2ms/step - loss: 0.3830 - accuracy: 0.8229 - val_loss: 0.4334 - val_accuracy: 0.8011\n",
            "118/118 [==============================] - 0s 2ms/step\n",
            "Epoch 1/10\n"
          ]
        },
        {
          "output_type": "stream",
          "name": "stderr",
          "text": [
            "/usr/local/lib/python3.10/dist-packages/scikeras/wrappers.py:915: UserWarning: ``build_fn`` will be renamed to ``model`` in a future release, at which point use of ``build_fn`` will raise an Error instead.\n",
            "  X, y = self._initialize(X, y)\n"
          ]
        },
        {
          "output_type": "stream",
          "name": "stdout",
          "text": [
            "235/235 [==============================] - 2s 4ms/step - loss: 0.4933 - accuracy: 0.7497 - val_loss: 0.4331 - val_accuracy: 0.8026\n",
            "Epoch 2/10\n",
            "235/235 [==============================] - 1s 3ms/step - loss: 0.4223 - accuracy: 0.7955 - val_loss: 0.4267 - val_accuracy: 0.7940\n",
            "Epoch 3/10\n",
            "235/235 [==============================] - 1s 3ms/step - loss: 0.4123 - accuracy: 0.8070 - val_loss: 0.4230 - val_accuracy: 0.8011\n",
            "Epoch 4/10\n",
            "235/235 [==============================] - 1s 2ms/step - loss: 0.4080 - accuracy: 0.8051 - val_loss: 0.4258 - val_accuracy: 0.8026\n",
            "Epoch 5/10\n",
            "235/235 [==============================] - 1s 2ms/step - loss: 0.4008 - accuracy: 0.8059 - val_loss: 0.4290 - val_accuracy: 0.8011\n",
            "Epoch 6/10\n",
            "235/235 [==============================] - 1s 2ms/step - loss: 0.3959 - accuracy: 0.8128 - val_loss: 0.4295 - val_accuracy: 0.7983\n",
            "Epoch 7/10\n",
            "235/235 [==============================] - 1s 2ms/step - loss: 0.3919 - accuracy: 0.8163 - val_loss: 0.4308 - val_accuracy: 0.8011\n",
            "Epoch 8/10\n",
            "235/235 [==============================] - 1s 4ms/step - loss: 0.3897 - accuracy: 0.8190 - val_loss: 0.4326 - val_accuracy: 0.7969\n",
            "Epoch 9/10\n",
            "235/235 [==============================] - 1s 5ms/step - loss: 0.3849 - accuracy: 0.8152 - val_loss: 0.4342 - val_accuracy: 0.7969\n",
            "Epoch 10/10\n",
            "235/235 [==============================] - 1s 4ms/step - loss: 0.3787 - accuracy: 0.8224 - val_loss: 0.4353 - val_accuracy: 0.8040\n",
            "118/118 [==============================] - 0s 2ms/step\n",
            "Epoch 1/10\n"
          ]
        },
        {
          "output_type": "stream",
          "name": "stderr",
          "text": [
            "/usr/local/lib/python3.10/dist-packages/scikeras/wrappers.py:915: UserWarning: ``build_fn`` will be renamed to ``model`` in a future release, at which point use of ``build_fn`` will raise an Error instead.\n",
            "  X, y = self._initialize(X, y)\n"
          ]
        },
        {
          "output_type": "stream",
          "name": "stdout",
          "text": [
            "235/235 [==============================] - 2s 3ms/step - loss: 0.4814 - accuracy: 0.7575 - val_loss: 0.4278 - val_accuracy: 0.8011\n",
            "Epoch 2/10\n",
            "235/235 [==============================] - 1s 2ms/step - loss: 0.4234 - accuracy: 0.7987 - val_loss: 0.4266 - val_accuracy: 0.8040\n",
            "Epoch 3/10\n",
            "235/235 [==============================] - 1s 2ms/step - loss: 0.4141 - accuracy: 0.8022 - val_loss: 0.4207 - val_accuracy: 0.8040\n",
            "Epoch 4/10\n",
            "235/235 [==============================] - 1s 2ms/step - loss: 0.4063 - accuracy: 0.8096 - val_loss: 0.4255 - val_accuracy: 0.8026\n",
            "Epoch 5/10\n",
            "235/235 [==============================] - 1s 2ms/step - loss: 0.3985 - accuracy: 0.8163 - val_loss: 0.4251 - val_accuracy: 0.7997\n",
            "Epoch 6/10\n",
            "235/235 [==============================] - 1s 3ms/step - loss: 0.3925 - accuracy: 0.8192 - val_loss: 0.4180 - val_accuracy: 0.8040\n",
            "Epoch 7/10\n",
            "235/235 [==============================] - 1s 3ms/step - loss: 0.3877 - accuracy: 0.8192 - val_loss: 0.4244 - val_accuracy: 0.8054\n",
            "Epoch 8/10\n",
            "235/235 [==============================] - 1s 3ms/step - loss: 0.3816 - accuracy: 0.8277 - val_loss: 0.4247 - val_accuracy: 0.8040\n",
            "Epoch 9/10\n",
            "235/235 [==============================] - 1s 3ms/step - loss: 0.3797 - accuracy: 0.8224 - val_loss: 0.4317 - val_accuracy: 0.7969\n",
            "Epoch 10/10\n",
            "235/235 [==============================] - 1s 3ms/step - loss: 0.3714 - accuracy: 0.8293 - val_loss: 0.4396 - val_accuracy: 0.7926\n",
            "118/118 [==============================] - 0s 1ms/step\n",
            "Epoch 1/10\n"
          ]
        },
        {
          "output_type": "stream",
          "name": "stderr",
          "text": [
            "/usr/local/lib/python3.10/dist-packages/scikeras/wrappers.py:915: UserWarning: ``build_fn`` will be renamed to ``model`` in a future release, at which point use of ``build_fn`` will raise an Error instead.\n",
            "  X, y = self._initialize(X, y)\n"
          ]
        },
        {
          "output_type": "stream",
          "name": "stdout",
          "text": [
            "235/235 [==============================] - 1s 3ms/step - loss: 0.4638 - accuracy: 0.7718 - val_loss: 0.4368 - val_accuracy: 0.7969\n",
            "Epoch 2/10\n",
            "235/235 [==============================] - 1s 2ms/step - loss: 0.4303 - accuracy: 0.7915 - val_loss: 0.4306 - val_accuracy: 0.8026\n",
            "Epoch 3/10\n",
            "235/235 [==============================] - 1s 2ms/step - loss: 0.4196 - accuracy: 0.7971 - val_loss: 0.4392 - val_accuracy: 0.7955\n",
            "Epoch 4/10\n",
            "235/235 [==============================] - 1s 2ms/step - loss: 0.4145 - accuracy: 0.8014 - val_loss: 0.4363 - val_accuracy: 0.7841\n",
            "Epoch 5/10\n",
            "235/235 [==============================] - 1s 2ms/step - loss: 0.4082 - accuracy: 0.8054 - val_loss: 0.4325 - val_accuracy: 0.7912\n",
            "Epoch 6/10\n",
            "235/235 [==============================] - 1s 2ms/step - loss: 0.4025 - accuracy: 0.8067 - val_loss: 0.4293 - val_accuracy: 0.8054\n",
            "Epoch 7/10\n",
            "235/235 [==============================] - 1s 3ms/step - loss: 0.3980 - accuracy: 0.8088 - val_loss: 0.4392 - val_accuracy: 0.8011\n",
            "Epoch 8/10\n",
            "235/235 [==============================] - 1s 2ms/step - loss: 0.3930 - accuracy: 0.8134 - val_loss: 0.4390 - val_accuracy: 0.7969\n",
            "Epoch 9/10\n",
            "235/235 [==============================] - 1s 2ms/step - loss: 0.3876 - accuracy: 0.8147 - val_loss: 0.4446 - val_accuracy: 0.7983\n",
            "Epoch 10/10\n",
            "235/235 [==============================] - 1s 2ms/step - loss: 0.3834 - accuracy: 0.8160 - val_loss: 0.4466 - val_accuracy: 0.7855\n",
            "118/118 [==============================] - 0s 2ms/step\n",
            "Epoch 1/10\n"
          ]
        },
        {
          "output_type": "stream",
          "name": "stderr",
          "text": [
            "/usr/local/lib/python3.10/dist-packages/scikeras/wrappers.py:915: UserWarning: ``build_fn`` will be renamed to ``model`` in a future release, at which point use of ``build_fn`` will raise an Error instead.\n",
            "  X, y = self._initialize(X, y)\n"
          ]
        },
        {
          "output_type": "stream",
          "name": "stdout",
          "text": [
            "235/235 [==============================] - 2s 3ms/step - loss: 0.4685 - accuracy: 0.7726 - val_loss: 0.4352 - val_accuracy: 0.7898\n",
            "Epoch 2/10\n",
            "235/235 [==============================] - 1s 3ms/step - loss: 0.4230 - accuracy: 0.7966 - val_loss: 0.4315 - val_accuracy: 0.7969\n",
            "Epoch 3/10\n",
            "235/235 [==============================] - 1s 2ms/step - loss: 0.4105 - accuracy: 0.8040 - val_loss: 0.4288 - val_accuracy: 0.7926\n",
            "Epoch 4/10\n",
            "235/235 [==============================] - 1s 2ms/step - loss: 0.4057 - accuracy: 0.8067 - val_loss: 0.4230 - val_accuracy: 0.8082\n",
            "Epoch 5/10\n",
            "235/235 [==============================] - 1s 2ms/step - loss: 0.3994 - accuracy: 0.8115 - val_loss: 0.4213 - val_accuracy: 0.8011\n",
            "Epoch 6/10\n",
            "235/235 [==============================] - 1s 2ms/step - loss: 0.3936 - accuracy: 0.8206 - val_loss: 0.4459 - val_accuracy: 0.7827\n",
            "Epoch 7/10\n",
            "235/235 [==============================] - 1s 2ms/step - loss: 0.3905 - accuracy: 0.8195 - val_loss: 0.4259 - val_accuracy: 0.7926\n",
            "Epoch 8/10\n",
            "235/235 [==============================] - 1s 2ms/step - loss: 0.3843 - accuracy: 0.8200 - val_loss: 0.4303 - val_accuracy: 0.7997\n",
            "Epoch 9/10\n",
            "235/235 [==============================] - 1s 2ms/step - loss: 0.3792 - accuracy: 0.8256 - val_loss: 0.4363 - val_accuracy: 0.7955\n",
            "Epoch 10/10\n",
            "235/235 [==============================] - 1s 2ms/step - loss: 0.3753 - accuracy: 0.8259 - val_loss: 0.4295 - val_accuracy: 0.8082\n",
            "118/118 [==============================] - 0s 2ms/step\n",
            "Epoch 1/10\n"
          ]
        },
        {
          "output_type": "stream",
          "name": "stderr",
          "text": [
            "/usr/local/lib/python3.10/dist-packages/scikeras/wrappers.py:915: UserWarning: ``build_fn`` will be renamed to ``model`` in a future release, at which point use of ``build_fn`` will raise an Error instead.\n",
            "  X, y = self._initialize(X, y)\n"
          ]
        },
        {
          "output_type": "stream",
          "name": "stdout",
          "text": [
            "235/235 [==============================] - 2s 5ms/step - loss: 0.4769 - accuracy: 0.7561 - val_loss: 0.4366 - val_accuracy: 0.7912\n",
            "Epoch 2/10\n",
            "235/235 [==============================] - 1s 3ms/step - loss: 0.4292 - accuracy: 0.7987 - val_loss: 0.4270 - val_accuracy: 0.7940\n",
            "Epoch 3/10\n",
            "235/235 [==============================] - 1s 4ms/step - loss: 0.4158 - accuracy: 0.7998 - val_loss: 0.4250 - val_accuracy: 0.8026\n",
            "Epoch 4/10\n",
            "235/235 [==============================] - 1s 4ms/step - loss: 0.4088 - accuracy: 0.8070 - val_loss: 0.4277 - val_accuracy: 0.8054\n",
            "Epoch 5/10\n",
            "235/235 [==============================] - 1s 2ms/step - loss: 0.4019 - accuracy: 0.8128 - val_loss: 0.4311 - val_accuracy: 0.7969\n",
            "Epoch 6/10\n",
            "235/235 [==============================] - 1s 2ms/step - loss: 0.3991 - accuracy: 0.8115 - val_loss: 0.4356 - val_accuracy: 0.7940\n",
            "Epoch 7/10\n",
            "235/235 [==============================] - 1s 2ms/step - loss: 0.3928 - accuracy: 0.8187 - val_loss: 0.4339 - val_accuracy: 0.7940\n",
            "Epoch 8/10\n",
            "235/235 [==============================] - 1s 2ms/step - loss: 0.3880 - accuracy: 0.8198 - val_loss: 0.4383 - val_accuracy: 0.7869\n",
            "Epoch 9/10\n",
            "235/235 [==============================] - 1s 2ms/step - loss: 0.3825 - accuracy: 0.8222 - val_loss: 0.4414 - val_accuracy: 0.7926\n",
            "Epoch 10/10\n",
            "235/235 [==============================] - 1s 2ms/step - loss: 0.3784 - accuracy: 0.8251 - val_loss: 0.4380 - val_accuracy: 0.7912\n",
            "118/118 [==============================] - 0s 1ms/step\n",
            "Epoch 1/10\n"
          ]
        },
        {
          "output_type": "stream",
          "name": "stderr",
          "text": [
            "/usr/local/lib/python3.10/dist-packages/scikeras/wrappers.py:915: UserWarning: ``build_fn`` will be renamed to ``model`` in a future release, at which point use of ``build_fn`` will raise an Error instead.\n",
            "  X, y = self._initialize(X, y)\n"
          ]
        },
        {
          "output_type": "stream",
          "name": "stdout",
          "text": [
            "235/235 [==============================] - 1s 3ms/step - loss: 0.5078 - accuracy: 0.7463 - val_loss: 0.4339 - val_accuracy: 0.7912\n",
            "Epoch 2/10\n",
            "235/235 [==============================] - 1s 2ms/step - loss: 0.4302 - accuracy: 0.7942 - val_loss: 0.4170 - val_accuracy: 0.8125\n",
            "Epoch 3/10\n",
            "235/235 [==============================] - 1s 2ms/step - loss: 0.4166 - accuracy: 0.8009 - val_loss: 0.4284 - val_accuracy: 0.8026\n",
            "Epoch 4/10\n",
            "235/235 [==============================] - 1s 2ms/step - loss: 0.4097 - accuracy: 0.8024 - val_loss: 0.4245 - val_accuracy: 0.7983\n",
            "Epoch 5/10\n",
            "235/235 [==============================] - 1s 2ms/step - loss: 0.4035 - accuracy: 0.8086 - val_loss: 0.4311 - val_accuracy: 0.7940\n",
            "Epoch 6/10\n",
            "235/235 [==============================] - 1s 2ms/step - loss: 0.4012 - accuracy: 0.8086 - val_loss: 0.4248 - val_accuracy: 0.7955\n",
            "Epoch 7/10\n",
            "235/235 [==============================] - 1s 2ms/step - loss: 0.3932 - accuracy: 0.8168 - val_loss: 0.4311 - val_accuracy: 0.7969\n",
            "Epoch 8/10\n",
            "235/235 [==============================] - 1s 2ms/step - loss: 0.3893 - accuracy: 0.8142 - val_loss: 0.4379 - val_accuracy: 0.7940\n",
            "Epoch 9/10\n",
            "235/235 [==============================] - 1s 2ms/step - loss: 0.3839 - accuracy: 0.8229 - val_loss: 0.4365 - val_accuracy: 0.7841\n",
            "Epoch 10/10\n",
            "235/235 [==============================] - 1s 2ms/step - loss: 0.3792 - accuracy: 0.8243 - val_loss: 0.4420 - val_accuracy: 0.7841\n",
            "118/118 [==============================] - 0s 2ms/step\n",
            "Epoch 1/10\n"
          ]
        },
        {
          "output_type": "stream",
          "name": "stderr",
          "text": [
            "/usr/local/lib/python3.10/dist-packages/scikeras/wrappers.py:915: UserWarning: ``build_fn`` will be renamed to ``model`` in a future release, at which point use of ``build_fn`` will raise an Error instead.\n",
            "  X, y = self._initialize(X, y)\n"
          ]
        },
        {
          "output_type": "stream",
          "name": "stdout",
          "text": [
            "235/235 [==============================] - 2s 4ms/step - loss: 0.4729 - accuracy: 0.7620 - val_loss: 0.4325 - val_accuracy: 0.7912\n",
            "Epoch 2/10\n",
            "235/235 [==============================] - 1s 3ms/step - loss: 0.4265 - accuracy: 0.7923 - val_loss: 0.4198 - val_accuracy: 0.7983\n",
            "Epoch 3/10\n",
            "235/235 [==============================] - 1s 3ms/step - loss: 0.4176 - accuracy: 0.8011 - val_loss: 0.4207 - val_accuracy: 0.8011\n",
            "Epoch 4/10\n",
            "235/235 [==============================] - 1s 3ms/step - loss: 0.4099 - accuracy: 0.8067 - val_loss: 0.4254 - val_accuracy: 0.8054\n",
            "Epoch 5/10\n",
            "235/235 [==============================] - 1s 4ms/step - loss: 0.4032 - accuracy: 0.8107 - val_loss: 0.4256 - val_accuracy: 0.8054\n",
            "Epoch 6/10\n",
            "235/235 [==============================] - 1s 3ms/step - loss: 0.3991 - accuracy: 0.8115 - val_loss: 0.4283 - val_accuracy: 0.7940\n",
            "Epoch 7/10\n",
            "235/235 [==============================] - 1s 2ms/step - loss: 0.3935 - accuracy: 0.8136 - val_loss: 0.4235 - val_accuracy: 0.7983\n",
            "Epoch 8/10\n",
            "235/235 [==============================] - 1s 2ms/step - loss: 0.3895 - accuracy: 0.8198 - val_loss: 0.4279 - val_accuracy: 0.7912\n",
            "Epoch 9/10\n",
            "235/235 [==============================] - 1s 2ms/step - loss: 0.3836 - accuracy: 0.8240 - val_loss: 0.4316 - val_accuracy: 0.7898\n",
            "Epoch 10/10\n",
            "235/235 [==============================] - 1s 2ms/step - loss: 0.3819 - accuracy: 0.8203 - val_loss: 0.4294 - val_accuracy: 0.8011\n",
            "118/118 [==============================] - 0s 1ms/step\n",
            "Epoch 1/10\n"
          ]
        },
        {
          "output_type": "stream",
          "name": "stderr",
          "text": [
            "/usr/local/lib/python3.10/dist-packages/scikeras/wrappers.py:915: UserWarning: ``build_fn`` will be renamed to ``model`` in a future release, at which point use of ``build_fn`` will raise an Error instead.\n",
            "  X, y = self._initialize(X, y)\n"
          ]
        },
        {
          "output_type": "stream",
          "name": "stdout",
          "text": [
            "235/235 [==============================] - 1s 3ms/step - loss: 0.4795 - accuracy: 0.7612 - val_loss: 0.4299 - val_accuracy: 0.7855\n",
            "Epoch 2/10\n",
            "235/235 [==============================] - 1s 2ms/step - loss: 0.4249 - accuracy: 0.7987 - val_loss: 0.4245 - val_accuracy: 0.8011\n",
            "Epoch 3/10\n",
            "235/235 [==============================] - 1s 2ms/step - loss: 0.4153 - accuracy: 0.8040 - val_loss: 0.4212 - val_accuracy: 0.8040\n",
            "Epoch 4/10\n",
            "235/235 [==============================] - 1s 2ms/step - loss: 0.4099 - accuracy: 0.8094 - val_loss: 0.4183 - val_accuracy: 0.8011\n",
            "Epoch 5/10\n",
            "235/235 [==============================] - 1s 2ms/step - loss: 0.4029 - accuracy: 0.8123 - val_loss: 0.4246 - val_accuracy: 0.7983\n",
            "Epoch 6/10\n",
            "235/235 [==============================] - 1s 2ms/step - loss: 0.3975 - accuracy: 0.8131 - val_loss: 0.4320 - val_accuracy: 0.7983\n",
            "Epoch 7/10\n",
            "235/235 [==============================] - 1s 2ms/step - loss: 0.3933 - accuracy: 0.8166 - val_loss: 0.4233 - val_accuracy: 0.7969\n",
            "Epoch 8/10\n",
            "235/235 [==============================] - 1s 2ms/step - loss: 0.3881 - accuracy: 0.8222 - val_loss: 0.4295 - val_accuracy: 0.7955\n",
            "Epoch 9/10\n",
            "235/235 [==============================] - 1s 2ms/step - loss: 0.3864 - accuracy: 0.8190 - val_loss: 0.4262 - val_accuracy: 0.8068\n",
            "Epoch 10/10\n",
            "235/235 [==============================] - 1s 2ms/step - loss: 0.3809 - accuracy: 0.8272 - val_loss: 0.4355 - val_accuracy: 0.7912\n",
            "118/118 [==============================] - 0s 1ms/step\n",
            "Epoch 1/10\n"
          ]
        },
        {
          "output_type": "stream",
          "name": "stderr",
          "text": [
            "/usr/local/lib/python3.10/dist-packages/scikeras/wrappers.py:915: UserWarning: ``build_fn`` will be renamed to ``model`` in a future release, at which point use of ``build_fn`` will raise an Error instead.\n",
            "  X, y = self._initialize(X, y)\n"
          ]
        },
        {
          "output_type": "stream",
          "name": "stdout",
          "text": [
            "235/235 [==============================] - 2s 4ms/step - loss: 0.4753 - accuracy: 0.7535 - val_loss: 0.4377 - val_accuracy: 0.7955\n",
            "Epoch 2/10\n",
            "235/235 [==============================] - 1s 3ms/step - loss: 0.4376 - accuracy: 0.7963 - val_loss: 0.4326 - val_accuracy: 0.7969\n",
            "Epoch 3/10\n",
            "235/235 [==============================] - 1s 3ms/step - loss: 0.4238 - accuracy: 0.7966 - val_loss: 0.4282 - val_accuracy: 0.8068\n",
            "Epoch 4/10\n",
            "235/235 [==============================] - 1s 3ms/step - loss: 0.4140 - accuracy: 0.8022 - val_loss: 0.4287 - val_accuracy: 0.7969\n",
            "Epoch 5/10\n",
            "235/235 [==============================] - 1s 3ms/step - loss: 0.4080 - accuracy: 0.8014 - val_loss: 0.4281 - val_accuracy: 0.7997\n",
            "Epoch 6/10\n",
            "235/235 [==============================] - 1s 3ms/step - loss: 0.4015 - accuracy: 0.8080 - val_loss: 0.4333 - val_accuracy: 0.7969\n",
            "Epoch 7/10\n",
            "235/235 [==============================] - 1s 3ms/step - loss: 0.3966 - accuracy: 0.8104 - val_loss: 0.4333 - val_accuracy: 0.7869\n",
            "Epoch 8/10\n",
            "235/235 [==============================] - 1s 3ms/step - loss: 0.3913 - accuracy: 0.8112 - val_loss: 0.4329 - val_accuracy: 0.7926\n",
            "Epoch 9/10\n",
            "235/235 [==============================] - 1s 3ms/step - loss: 0.3849 - accuracy: 0.8184 - val_loss: 0.4437 - val_accuracy: 0.7869\n",
            "Epoch 10/10\n",
            "235/235 [==============================] - 1s 2ms/step - loss: 0.3839 - accuracy: 0.8184 - val_loss: 0.4432 - val_accuracy: 0.7841\n",
            "118/118 [==============================] - 0s 1ms/step\n",
            "Epoch 1/10\n"
          ]
        },
        {
          "output_type": "stream",
          "name": "stderr",
          "text": [
            "/usr/local/lib/python3.10/dist-packages/scikeras/wrappers.py:915: UserWarning: ``build_fn`` will be renamed to ``model`` in a future release, at which point use of ``build_fn`` will raise an Error instead.\n",
            "  X, y = self._initialize(X, y)\n"
          ]
        },
        {
          "output_type": "stream",
          "name": "stdout",
          "text": [
            "235/235 [==============================] - 1s 3ms/step - loss: 0.4751 - accuracy: 0.7606 - val_loss: 0.4350 - val_accuracy: 0.7798\n",
            "Epoch 2/10\n",
            "235/235 [==============================] - 1s 2ms/step - loss: 0.4325 - accuracy: 0.7947 - val_loss: 0.4289 - val_accuracy: 0.7955\n",
            "Epoch 3/10\n",
            "235/235 [==============================] - 1s 5ms/step - loss: 0.4220 - accuracy: 0.7990 - val_loss: 0.4272 - val_accuracy: 0.7983\n",
            "Epoch 4/10\n",
            "235/235 [==============================] - 1s 2ms/step - loss: 0.4146 - accuracy: 0.8040 - val_loss: 0.4289 - val_accuracy: 0.7983\n",
            "Epoch 5/10\n",
            "235/235 [==============================] - 1s 2ms/step - loss: 0.4078 - accuracy: 0.8062 - val_loss: 0.4335 - val_accuracy: 0.8040\n",
            "Epoch 6/10\n",
            "235/235 [==============================] - 1s 2ms/step - loss: 0.4040 - accuracy: 0.8120 - val_loss: 0.4293 - val_accuracy: 0.7926\n",
            "Epoch 7/10\n",
            "235/235 [==============================] - 1s 2ms/step - loss: 0.3985 - accuracy: 0.8158 - val_loss: 0.4309 - val_accuracy: 0.8097\n",
            "Epoch 8/10\n",
            "235/235 [==============================] - 1s 2ms/step - loss: 0.3961 - accuracy: 0.8155 - val_loss: 0.4291 - val_accuracy: 0.7940\n",
            "Epoch 9/10\n",
            "235/235 [==============================] - 1s 2ms/step - loss: 0.3905 - accuracy: 0.8163 - val_loss: 0.4320 - val_accuracy: 0.7955\n",
            "Epoch 10/10\n",
            "235/235 [==============================] - 1s 2ms/step - loss: 0.3889 - accuracy: 0.8174 - val_loss: 0.4349 - val_accuracy: 0.7969\n",
            "118/118 [==============================] - 0s 1ms/step\n",
            "Epoch 1/10\n"
          ]
        },
        {
          "output_type": "stream",
          "name": "stderr",
          "text": [
            "/usr/local/lib/python3.10/dist-packages/scikeras/wrappers.py:915: UserWarning: ``build_fn`` will be renamed to ``model`` in a future release, at which point use of ``build_fn`` will raise an Error instead.\n",
            "  X, y = self._initialize(X, y)\n"
          ]
        },
        {
          "output_type": "stream",
          "name": "stdout",
          "text": [
            "235/235 [==============================] - 1s 3ms/step - loss: 0.5399 - accuracy: 0.7066 - val_loss: 0.4449 - val_accuracy: 0.7812\n",
            "Epoch 2/10\n",
            "235/235 [==============================] - 1s 3ms/step - loss: 0.4410 - accuracy: 0.7897 - val_loss: 0.4244 - val_accuracy: 0.7912\n",
            "Epoch 3/10\n",
            "235/235 [==============================] - 2s 9ms/step - loss: 0.4262 - accuracy: 0.7939 - val_loss: 0.4227 - val_accuracy: 0.7983\n",
            "Epoch 4/10\n",
            "235/235 [==============================] - 1s 3ms/step - loss: 0.4181 - accuracy: 0.8038 - val_loss: 0.4192 - val_accuracy: 0.8026\n",
            "Epoch 5/10\n",
            "235/235 [==============================] - 1s 3ms/step - loss: 0.4134 - accuracy: 0.8048 - val_loss: 0.4250 - val_accuracy: 0.8026\n",
            "Epoch 6/10\n",
            "235/235 [==============================] - 1s 3ms/step - loss: 0.4093 - accuracy: 0.8120 - val_loss: 0.4192 - val_accuracy: 0.8011\n",
            "Epoch 7/10\n",
            "235/235 [==============================] - 1s 3ms/step - loss: 0.4045 - accuracy: 0.8115 - val_loss: 0.4205 - val_accuracy: 0.8026\n",
            "Epoch 8/10\n",
            "235/235 [==============================] - 1s 4ms/step - loss: 0.4020 - accuracy: 0.8126 - val_loss: 0.4250 - val_accuracy: 0.7969\n",
            "Epoch 9/10\n",
            "235/235 [==============================] - 1s 3ms/step - loss: 0.3978 - accuracy: 0.8184 - val_loss: 0.4229 - val_accuracy: 0.7997\n",
            "Epoch 10/10\n",
            "235/235 [==============================] - 1s 2ms/step - loss: 0.3942 - accuracy: 0.8192 - val_loss: 0.4319 - val_accuracy: 0.7955\n",
            "118/118 [==============================] - 0s 1ms/step\n",
            "Epoch 1/10\n"
          ]
        },
        {
          "output_type": "stream",
          "name": "stderr",
          "text": [
            "/usr/local/lib/python3.10/dist-packages/scikeras/wrappers.py:915: UserWarning: ``build_fn`` will be renamed to ``model`` in a future release, at which point use of ``build_fn`` will raise an Error instead.\n",
            "  X, y = self._initialize(X, y)\n"
          ]
        },
        {
          "output_type": "stream",
          "name": "stdout",
          "text": [
            "235/235 [==============================] - 1s 3ms/step - loss: 0.5227 - accuracy: 0.7316 - val_loss: 0.4651 - val_accuracy: 0.7344\n",
            "Epoch 2/10\n",
            "235/235 [==============================] - 1s 2ms/step - loss: 0.4558 - accuracy: 0.7396 - val_loss: 0.4495 - val_accuracy: 0.7457\n",
            "Epoch 3/10\n",
            "235/235 [==============================] - 1s 2ms/step - loss: 0.4441 - accuracy: 0.7628 - val_loss: 0.4435 - val_accuracy: 0.7827\n",
            "Epoch 4/10\n",
            "235/235 [==============================] - 1s 2ms/step - loss: 0.4376 - accuracy: 0.7889 - val_loss: 0.4411 - val_accuracy: 0.7841\n",
            "Epoch 5/10\n",
            "235/235 [==============================] - 1s 2ms/step - loss: 0.4310 - accuracy: 0.7929 - val_loss: 0.4377 - val_accuracy: 0.7926\n",
            "Epoch 6/10\n",
            "235/235 [==============================] - 1s 2ms/step - loss: 0.4261 - accuracy: 0.8017 - val_loss: 0.4369 - val_accuracy: 0.8054\n",
            "Epoch 7/10\n",
            "235/235 [==============================] - 1s 2ms/step - loss: 0.4217 - accuracy: 0.8062 - val_loss: 0.4334 - val_accuracy: 0.8068\n",
            "Epoch 8/10\n",
            "235/235 [==============================] - 1s 2ms/step - loss: 0.4149 - accuracy: 0.8051 - val_loss: 0.4316 - val_accuracy: 0.8026\n",
            "Epoch 9/10\n",
            "235/235 [==============================] - 1s 2ms/step - loss: 0.4095 - accuracy: 0.8088 - val_loss: 0.4289 - val_accuracy: 0.8011\n",
            "Epoch 10/10\n",
            "235/235 [==============================] - 1s 2ms/step - loss: 0.4047 - accuracy: 0.8078 - val_loss: 0.4296 - val_accuracy: 0.8040\n",
            "118/118 [==============================] - 0s 1ms/step\n",
            "Epoch 1/10\n"
          ]
        },
        {
          "output_type": "stream",
          "name": "stderr",
          "text": [
            "/usr/local/lib/python3.10/dist-packages/scikeras/wrappers.py:915: UserWarning: ``build_fn`` will be renamed to ``model`` in a future release, at which point use of ``build_fn`` will raise an Error instead.\n",
            "  X, y = self._initialize(X, y)\n"
          ]
        },
        {
          "output_type": "stream",
          "name": "stdout",
          "text": [
            "235/235 [==============================] - 2s 4ms/step - loss: 0.5004 - accuracy: 0.7559 - val_loss: 0.4378 - val_accuracy: 0.7898\n",
            "Epoch 2/10\n",
            "235/235 [==============================] - 1s 3ms/step - loss: 0.4395 - accuracy: 0.7931 - val_loss: 0.4237 - val_accuracy: 0.8097\n",
            "Epoch 3/10\n",
            "235/235 [==============================] - 1s 4ms/step - loss: 0.4233 - accuracy: 0.7993 - val_loss: 0.4197 - val_accuracy: 0.8082\n",
            "Epoch 4/10\n",
            "235/235 [==============================] - 1s 3ms/step - loss: 0.4149 - accuracy: 0.8014 - val_loss: 0.4193 - val_accuracy: 0.8040\n",
            "Epoch 5/10\n",
            "235/235 [==============================] - 1s 4ms/step - loss: 0.4092 - accuracy: 0.8043 - val_loss: 0.4221 - val_accuracy: 0.7926\n",
            "Epoch 6/10\n",
            "235/235 [==============================] - 1s 3ms/step - loss: 0.4038 - accuracy: 0.8067 - val_loss: 0.4205 - val_accuracy: 0.8068\n",
            "Epoch 7/10\n",
            "235/235 [==============================] - 1s 4ms/step - loss: 0.4007 - accuracy: 0.8115 - val_loss: 0.4226 - val_accuracy: 0.7969\n",
            "Epoch 8/10\n",
            "235/235 [==============================] - 1s 4ms/step - loss: 0.3972 - accuracy: 0.8096 - val_loss: 0.4241 - val_accuracy: 0.8097\n",
            "Epoch 9/10\n",
            "235/235 [==============================] - 1s 4ms/step - loss: 0.3948 - accuracy: 0.8126 - val_loss: 0.4230 - val_accuracy: 0.8011\n",
            "Epoch 10/10\n",
            "235/235 [==============================] - 1s 4ms/step - loss: 0.3908 - accuracy: 0.8174 - val_loss: 0.4267 - val_accuracy: 0.8068\n",
            "118/118 [==============================] - 0s 2ms/step\n",
            "Epoch 1/10\n"
          ]
        },
        {
          "output_type": "stream",
          "name": "stderr",
          "text": [
            "/usr/local/lib/python3.10/dist-packages/scikeras/wrappers.py:915: UserWarning: ``build_fn`` will be renamed to ``model`` in a future release, at which point use of ``build_fn`` will raise an Error instead.\n",
            "  X, y = self._initialize(X, y)\n"
          ]
        },
        {
          "output_type": "stream",
          "name": "stdout",
          "text": [
            "235/235 [==============================] - 2s 3ms/step - loss: 0.4982 - accuracy: 0.7604 - val_loss: 0.4408 - val_accuracy: 0.7969\n",
            "Epoch 2/10\n",
            "235/235 [==============================] - 1s 2ms/step - loss: 0.4389 - accuracy: 0.7942 - val_loss: 0.4304 - val_accuracy: 0.7983\n",
            "Epoch 3/10\n",
            "235/235 [==============================] - 1s 2ms/step - loss: 0.4254 - accuracy: 0.8011 - val_loss: 0.4293 - val_accuracy: 0.7983\n",
            "Epoch 4/10\n",
            "235/235 [==============================] - 1s 2ms/step - loss: 0.4185 - accuracy: 0.8099 - val_loss: 0.4306 - val_accuracy: 0.7955\n",
            "Epoch 5/10\n",
            "235/235 [==============================] - 1s 2ms/step - loss: 0.4131 - accuracy: 0.8062 - val_loss: 0.4302 - val_accuracy: 0.7997\n",
            "Epoch 6/10\n",
            "235/235 [==============================] - 1s 2ms/step - loss: 0.4088 - accuracy: 0.8115 - val_loss: 0.4306 - val_accuracy: 0.8082\n",
            "Epoch 7/10\n",
            "235/235 [==============================] - 1s 2ms/step - loss: 0.4051 - accuracy: 0.8123 - val_loss: 0.4286 - val_accuracy: 0.7983\n",
            "Epoch 8/10\n",
            "235/235 [==============================] - 1s 2ms/step - loss: 0.4031 - accuracy: 0.8168 - val_loss: 0.4271 - val_accuracy: 0.8054\n",
            "Epoch 9/10\n",
            "235/235 [==============================] - 1s 2ms/step - loss: 0.3999 - accuracy: 0.8152 - val_loss: 0.4305 - val_accuracy: 0.8040\n",
            "Epoch 10/10\n",
            "235/235 [==============================] - 1s 2ms/step - loss: 0.3975 - accuracy: 0.8144 - val_loss: 0.4322 - val_accuracy: 0.7997\n",
            "118/118 [==============================] - 0s 1ms/step\n",
            "Epoch 1/10\n"
          ]
        },
        {
          "output_type": "stream",
          "name": "stderr",
          "text": [
            "/usr/local/lib/python3.10/dist-packages/scikeras/wrappers.py:915: UserWarning: ``build_fn`` will be renamed to ``model`` in a future release, at which point use of ``build_fn`` will raise an Error instead.\n",
            "  X, y = self._initialize(X, y)\n"
          ]
        },
        {
          "output_type": "stream",
          "name": "stdout",
          "text": [
            "235/235 [==============================] - 2s 5ms/step - loss: 0.4794 - accuracy: 0.7599 - val_loss: 0.4376 - val_accuracy: 0.7898\n",
            "Epoch 2/10\n",
            "235/235 [==============================] - 1s 2ms/step - loss: 0.4352 - accuracy: 0.7918 - val_loss: 0.4327 - val_accuracy: 0.7969\n",
            "Epoch 3/10\n",
            "235/235 [==============================] - 1s 2ms/step - loss: 0.4251 - accuracy: 0.7985 - val_loss: 0.4269 - val_accuracy: 0.8011\n",
            "Epoch 4/10\n",
            "235/235 [==============================] - 1s 3ms/step - loss: 0.4192 - accuracy: 0.8001 - val_loss: 0.4279 - val_accuracy: 0.8026\n",
            "Epoch 5/10\n",
            "235/235 [==============================] - 1s 3ms/step - loss: 0.4150 - accuracy: 0.7993 - val_loss: 0.4248 - val_accuracy: 0.7997\n",
            "Epoch 6/10\n",
            "235/235 [==============================] - 1s 3ms/step - loss: 0.4110 - accuracy: 0.8046 - val_loss: 0.4221 - val_accuracy: 0.8026\n",
            "Epoch 7/10\n",
            "235/235 [==============================] - 1s 3ms/step - loss: 0.4080 - accuracy: 0.8056 - val_loss: 0.4234 - val_accuracy: 0.8011\n",
            "Epoch 8/10\n",
            "235/235 [==============================] - 1s 3ms/step - loss: 0.4062 - accuracy: 0.8054 - val_loss: 0.4294 - val_accuracy: 0.8040\n",
            "Epoch 9/10\n",
            "235/235 [==============================] - 1s 3ms/step - loss: 0.4041 - accuracy: 0.8107 - val_loss: 0.4261 - val_accuracy: 0.8026\n",
            "Epoch 10/10\n",
            "235/235 [==============================] - 1s 3ms/step - loss: 0.4013 - accuracy: 0.8120 - val_loss: 0.4247 - val_accuracy: 0.8011\n",
            "118/118 [==============================] - 0s 1ms/step\n",
            "Epoch 1/10\n"
          ]
        },
        {
          "output_type": "stream",
          "name": "stderr",
          "text": [
            "/usr/local/lib/python3.10/dist-packages/scikeras/wrappers.py:915: UserWarning: ``build_fn`` will be renamed to ``model`` in a future release, at which point use of ``build_fn`` will raise an Error instead.\n",
            "  X, y = self._initialize(X, y)\n"
          ]
        },
        {
          "output_type": "stream",
          "name": "stdout",
          "text": [
            "235/235 [==============================] - 1s 3ms/step - loss: 0.5313 - accuracy: 0.7061 - val_loss: 0.4472 - val_accuracy: 0.7798\n",
            "Epoch 2/10\n",
            "235/235 [==============================] - 1s 2ms/step - loss: 0.4404 - accuracy: 0.7897 - val_loss: 0.4311 - val_accuracy: 0.7912\n",
            "Epoch 3/10\n",
            "235/235 [==============================] - 1s 2ms/step - loss: 0.4257 - accuracy: 0.7934 - val_loss: 0.4244 - val_accuracy: 0.8054\n",
            "Epoch 4/10\n",
            "235/235 [==============================] - 1s 2ms/step - loss: 0.4165 - accuracy: 0.8019 - val_loss: 0.4255 - val_accuracy: 0.7869\n",
            "Epoch 5/10\n",
            "235/235 [==============================] - 1s 2ms/step - loss: 0.4115 - accuracy: 0.8009 - val_loss: 0.4255 - val_accuracy: 0.7983\n",
            "Epoch 6/10\n",
            "235/235 [==============================] - 1s 2ms/step - loss: 0.4070 - accuracy: 0.8051 - val_loss: 0.4298 - val_accuracy: 0.7812\n",
            "Epoch 7/10\n",
            "235/235 [==============================] - 1s 2ms/step - loss: 0.4039 - accuracy: 0.8075 - val_loss: 0.4297 - val_accuracy: 0.7940\n",
            "Epoch 8/10\n",
            "235/235 [==============================] - 1s 2ms/step - loss: 0.4009 - accuracy: 0.8080 - val_loss: 0.4334 - val_accuracy: 0.7884\n",
            "Epoch 9/10\n",
            "235/235 [==============================] - 1s 2ms/step - loss: 0.3986 - accuracy: 0.8126 - val_loss: 0.4301 - val_accuracy: 0.7969\n",
            "Epoch 10/10\n",
            "235/235 [==============================] - 1s 2ms/step - loss: 0.3966 - accuracy: 0.8110 - val_loss: 0.4300 - val_accuracy: 0.7912\n",
            "118/118 [==============================] - 0s 1ms/step\n",
            "Epoch 1/10\n"
          ]
        },
        {
          "output_type": "stream",
          "name": "stderr",
          "text": [
            "/usr/local/lib/python3.10/dist-packages/scikeras/wrappers.py:915: UserWarning: ``build_fn`` will be renamed to ``model`` in a future release, at which point use of ``build_fn`` will raise an Error instead.\n",
            "  X, y = self._initialize(X, y)\n"
          ]
        },
        {
          "output_type": "stream",
          "name": "stdout",
          "text": [
            "235/235 [==============================] - 2s 3ms/step - loss: 0.5031 - accuracy: 0.7700 - val_loss: 0.4486 - val_accuracy: 0.7912\n",
            "Epoch 2/10\n",
            "235/235 [==============================] - 1s 3ms/step - loss: 0.4313 - accuracy: 0.7963 - val_loss: 0.4360 - val_accuracy: 0.8011\n",
            "Epoch 3/10\n",
            "235/235 [==============================] - 1s 3ms/step - loss: 0.4213 - accuracy: 0.8027 - val_loss: 0.4344 - val_accuracy: 0.7912\n",
            "Epoch 4/10\n",
            "235/235 [==============================] - 1s 3ms/step - loss: 0.4153 - accuracy: 0.8056 - val_loss: 0.4317 - val_accuracy: 0.7955\n",
            "Epoch 5/10\n",
            "235/235 [==============================] - 1s 3ms/step - loss: 0.4109 - accuracy: 0.8075 - val_loss: 0.4324 - val_accuracy: 0.7983\n",
            "Epoch 6/10\n",
            "235/235 [==============================] - 1s 3ms/step - loss: 0.4079 - accuracy: 0.8048 - val_loss: 0.4372 - val_accuracy: 0.7969\n",
            "Epoch 7/10\n",
            "235/235 [==============================] - 1s 3ms/step - loss: 0.4051 - accuracy: 0.8083 - val_loss: 0.4331 - val_accuracy: 0.7940\n",
            "Epoch 8/10\n",
            "235/235 [==============================] - 1s 3ms/step - loss: 0.4014 - accuracy: 0.8094 - val_loss: 0.4281 - val_accuracy: 0.8011\n",
            "Epoch 9/10\n",
            "235/235 [==============================] - 1s 3ms/step - loss: 0.3990 - accuracy: 0.8142 - val_loss: 0.4360 - val_accuracy: 0.7983\n",
            "Epoch 10/10\n",
            "235/235 [==============================] - 1s 3ms/step - loss: 0.3971 - accuracy: 0.8139 - val_loss: 0.4356 - val_accuracy: 0.7940\n",
            "118/118 [==============================] - 0s 1ms/step\n",
            "Epoch 1/10\n"
          ]
        },
        {
          "output_type": "stream",
          "name": "stderr",
          "text": [
            "/usr/local/lib/python3.10/dist-packages/scikeras/wrappers.py:915: UserWarning: ``build_fn`` will be renamed to ``model`` in a future release, at which point use of ``build_fn`` will raise an Error instead.\n",
            "  X, y = self._initialize(X, y)\n"
          ]
        },
        {
          "output_type": "stream",
          "name": "stdout",
          "text": [
            "235/235 [==============================] - 1s 3ms/step - loss: 0.5493 - accuracy: 0.7260 - val_loss: 0.4562 - val_accuracy: 0.7841\n",
            "Epoch 2/10\n",
            "235/235 [==============================] - 1s 2ms/step - loss: 0.4390 - accuracy: 0.7939 - val_loss: 0.4329 - val_accuracy: 0.7955\n",
            "Epoch 3/10\n",
            "235/235 [==============================] - 1s 2ms/step - loss: 0.4257 - accuracy: 0.7950 - val_loss: 0.4346 - val_accuracy: 0.7827\n",
            "Epoch 4/10\n",
            "235/235 [==============================] - 1s 2ms/step - loss: 0.4192 - accuracy: 0.7969 - val_loss: 0.4287 - val_accuracy: 0.7940\n",
            "Epoch 5/10\n",
            "235/235 [==============================] - 1s 2ms/step - loss: 0.4148 - accuracy: 0.8003 - val_loss: 0.4289 - val_accuracy: 0.7969\n",
            "Epoch 6/10\n",
            "235/235 [==============================] - 1s 2ms/step - loss: 0.4093 - accuracy: 0.8078 - val_loss: 0.4283 - val_accuracy: 0.8054\n",
            "Epoch 7/10\n",
            "235/235 [==============================] - 1s 2ms/step - loss: 0.4061 - accuracy: 0.8094 - val_loss: 0.4257 - val_accuracy: 0.7940\n",
            "Epoch 8/10\n",
            "235/235 [==============================] - 1s 2ms/step - loss: 0.4031 - accuracy: 0.8118 - val_loss: 0.4254 - val_accuracy: 0.7912\n",
            "Epoch 9/10\n",
            "235/235 [==============================] - 1s 2ms/step - loss: 0.4001 - accuracy: 0.8110 - val_loss: 0.4267 - val_accuracy: 0.8011\n",
            "Epoch 10/10\n",
            "235/235 [==============================] - 1s 2ms/step - loss: 0.3964 - accuracy: 0.8107 - val_loss: 0.4323 - val_accuracy: 0.7869\n",
            "118/118 [==============================] - 0s 2ms/step\n",
            "Epoch 1/10\n"
          ]
        },
        {
          "output_type": "stream",
          "name": "stderr",
          "text": [
            "/usr/local/lib/python3.10/dist-packages/scikeras/wrappers.py:915: UserWarning: ``build_fn`` will be renamed to ``model`` in a future release, at which point use of ``build_fn`` will raise an Error instead.\n",
            "  X, y = self._initialize(X, y)\n"
          ]
        },
        {
          "output_type": "stream",
          "name": "stdout",
          "text": [
            "235/235 [==============================] - 2s 4ms/step - loss: 0.4873 - accuracy: 0.7620 - val_loss: 0.4409 - val_accuracy: 0.7855\n",
            "Epoch 2/10\n",
            "235/235 [==============================] - 1s 3ms/step - loss: 0.4271 - accuracy: 0.7987 - val_loss: 0.4327 - val_accuracy: 0.7912\n",
            "Epoch 3/10\n",
            "235/235 [==============================] - 1s 3ms/step - loss: 0.4142 - accuracy: 0.8064 - val_loss: 0.4232 - val_accuracy: 0.8068\n",
            "Epoch 4/10\n",
            "235/235 [==============================] - 1s 2ms/step - loss: 0.4073 - accuracy: 0.8056 - val_loss: 0.4214 - val_accuracy: 0.7940\n",
            "Epoch 5/10\n",
            "235/235 [==============================] - 1s 2ms/step - loss: 0.3979 - accuracy: 0.8155 - val_loss: 0.4250 - val_accuracy: 0.8040\n",
            "Epoch 6/10\n",
            "235/235 [==============================] - 1s 2ms/step - loss: 0.3972 - accuracy: 0.8168 - val_loss: 0.4210 - val_accuracy: 0.8026\n",
            "Epoch 7/10\n",
            "235/235 [==============================] - 1s 2ms/step - loss: 0.3904 - accuracy: 0.8214 - val_loss: 0.4251 - val_accuracy: 0.7926\n",
            "Epoch 8/10\n",
            "235/235 [==============================] - 1s 2ms/step - loss: 0.3854 - accuracy: 0.8224 - val_loss: 0.4230 - val_accuracy: 0.7955\n",
            "Epoch 9/10\n",
            "235/235 [==============================] - 1s 2ms/step - loss: 0.3810 - accuracy: 0.8237 - val_loss: 0.4221 - val_accuracy: 0.7955\n",
            "Epoch 10/10\n",
            "235/235 [==============================] - 1s 2ms/step - loss: 0.3761 - accuracy: 0.8285 - val_loss: 0.4299 - val_accuracy: 0.7869\n",
            "118/118 [==============================] - 0s 1ms/step\n",
            "Epoch 1/10\n"
          ]
        },
        {
          "output_type": "stream",
          "name": "stderr",
          "text": [
            "/usr/local/lib/python3.10/dist-packages/scikeras/wrappers.py:915: UserWarning: ``build_fn`` will be renamed to ``model`` in a future release, at which point use of ``build_fn`` will raise an Error instead.\n",
            "  X, y = self._initialize(X, y)\n"
          ]
        },
        {
          "output_type": "stream",
          "name": "stdout",
          "text": [
            "235/235 [==============================] - 2s 3ms/step - loss: 0.4855 - accuracy: 0.7471 - val_loss: 0.4432 - val_accuracy: 0.7926\n",
            "Epoch 2/10\n",
            "235/235 [==============================] - 1s 3ms/step - loss: 0.4333 - accuracy: 0.7947 - val_loss: 0.4286 - val_accuracy: 0.7997\n",
            "Epoch 3/10\n",
            "235/235 [==============================] - 1s 3ms/step - loss: 0.4201 - accuracy: 0.8014 - val_loss: 0.4265 - val_accuracy: 0.7969\n",
            "Epoch 4/10\n",
            "235/235 [==============================] - 1s 3ms/step - loss: 0.4152 - accuracy: 0.8056 - val_loss: 0.4248 - val_accuracy: 0.8026\n",
            "Epoch 5/10\n",
            "235/235 [==============================] - 1s 3ms/step - loss: 0.4087 - accuracy: 0.8083 - val_loss: 0.4308 - val_accuracy: 0.7955\n",
            "Epoch 6/10\n",
            "235/235 [==============================] - 1s 4ms/step - loss: 0.4070 - accuracy: 0.8099 - val_loss: 0.4238 - val_accuracy: 0.8068\n",
            "Epoch 7/10\n",
            "235/235 [==============================] - 1s 3ms/step - loss: 0.4013 - accuracy: 0.8168 - val_loss: 0.4240 - val_accuracy: 0.8040\n",
            "Epoch 8/10\n",
            "235/235 [==============================] - 1s 3ms/step - loss: 0.3977 - accuracy: 0.8166 - val_loss: 0.4208 - val_accuracy: 0.8054\n",
            "Epoch 9/10\n",
            "235/235 [==============================] - 1s 3ms/step - loss: 0.3939 - accuracy: 0.8206 - val_loss: 0.4257 - val_accuracy: 0.8026\n",
            "Epoch 10/10\n",
            "235/235 [==============================] - 1s 2ms/step - loss: 0.3913 - accuracy: 0.8211 - val_loss: 0.4246 - val_accuracy: 0.8097\n",
            "118/118 [==============================] - 0s 1ms/step\n",
            "Epoch 1/10\n"
          ]
        },
        {
          "output_type": "stream",
          "name": "stderr",
          "text": [
            "/usr/local/lib/python3.10/dist-packages/scikeras/wrappers.py:915: UserWarning: ``build_fn`` will be renamed to ``model`` in a future release, at which point use of ``build_fn`` will raise an Error instead.\n",
            "  X, y = self._initialize(X, y)\n"
          ]
        },
        {
          "output_type": "stream",
          "name": "stdout",
          "text": [
            "235/235 [==============================] - 1s 3ms/step - loss: 0.4802 - accuracy: 0.7425 - val_loss: 0.4483 - val_accuracy: 0.7841\n",
            "Epoch 2/10\n",
            "235/235 [==============================] - 0s 2ms/step - loss: 0.4335 - accuracy: 0.7897 - val_loss: 0.4343 - val_accuracy: 0.7912\n",
            "Epoch 3/10\n",
            "235/235 [==============================] - 1s 2ms/step - loss: 0.4220 - accuracy: 0.8009 - val_loss: 0.4291 - val_accuracy: 0.8054\n",
            "Epoch 4/10\n",
            "235/235 [==============================] - 1s 2ms/step - loss: 0.4153 - accuracy: 0.7998 - val_loss: 0.4299 - val_accuracy: 0.7955\n",
            "Epoch 5/10\n",
            "235/235 [==============================] - 1s 2ms/step - loss: 0.4097 - accuracy: 0.8056 - val_loss: 0.4313 - val_accuracy: 0.7912\n",
            "Epoch 6/10\n",
            "235/235 [==============================] - 1s 2ms/step - loss: 0.4040 - accuracy: 0.8030 - val_loss: 0.4368 - val_accuracy: 0.7940\n",
            "Epoch 7/10\n",
            "235/235 [==============================] - 1s 2ms/step - loss: 0.4021 - accuracy: 0.8078 - val_loss: 0.4325 - val_accuracy: 0.7940\n",
            "Epoch 8/10\n",
            "235/235 [==============================] - 1s 2ms/step - loss: 0.3961 - accuracy: 0.8112 - val_loss: 0.4346 - val_accuracy: 0.7955\n",
            "Epoch 9/10\n",
            "235/235 [==============================] - 1s 2ms/step - loss: 0.3932 - accuracy: 0.8139 - val_loss: 0.4333 - val_accuracy: 0.7940\n",
            "Epoch 10/10\n",
            "235/235 [==============================] - 1s 2ms/step - loss: 0.3882 - accuracy: 0.8174 - val_loss: 0.4375 - val_accuracy: 0.7969\n",
            "118/118 [==============================] - 0s 2ms/step\n",
            "Epoch 1/10\n"
          ]
        },
        {
          "output_type": "stream",
          "name": "stderr",
          "text": [
            "/usr/local/lib/python3.10/dist-packages/scikeras/wrappers.py:915: UserWarning: ``build_fn`` will be renamed to ``model`` in a future release, at which point use of ``build_fn`` will raise an Error instead.\n",
            "  X, y = self._initialize(X, y)\n"
          ]
        },
        {
          "output_type": "stream",
          "name": "stdout",
          "text": [
            "235/235 [==============================] - 2s 4ms/step - loss: 0.4759 - accuracy: 0.7583 - val_loss: 0.4519 - val_accuracy: 0.7798\n",
            "Epoch 2/10\n",
            "235/235 [==============================] - 1s 4ms/step - loss: 0.4376 - accuracy: 0.7870 - val_loss: 0.4395 - val_accuracy: 0.7955\n",
            "Epoch 3/10\n",
            "235/235 [==============================] - 0s 2ms/step - loss: 0.4265 - accuracy: 0.7995 - val_loss: 0.4342 - val_accuracy: 0.7955\n",
            "Epoch 4/10\n",
            "235/235 [==============================] - 1s 5ms/step - loss: 0.4152 - accuracy: 0.8059 - val_loss: 0.4305 - val_accuracy: 0.7955\n",
            "Epoch 5/10\n",
            "235/235 [==============================] - 1s 2ms/step - loss: 0.4093 - accuracy: 0.8123 - val_loss: 0.4313 - val_accuracy: 0.7955\n",
            "Epoch 6/10\n",
            "235/235 [==============================] - 1s 2ms/step - loss: 0.4045 - accuracy: 0.8142 - val_loss: 0.4289 - val_accuracy: 0.8011\n",
            "Epoch 7/10\n",
            "235/235 [==============================] - 1s 2ms/step - loss: 0.4011 - accuracy: 0.8150 - val_loss: 0.4322 - val_accuracy: 0.7912\n",
            "Epoch 8/10\n",
            "235/235 [==============================] - 1s 2ms/step - loss: 0.3951 - accuracy: 0.8208 - val_loss: 0.4327 - val_accuracy: 0.7969\n",
            "Epoch 9/10\n",
            "235/235 [==============================] - 1s 2ms/step - loss: 0.3936 - accuracy: 0.8163 - val_loss: 0.4245 - val_accuracy: 0.8054\n",
            "Epoch 10/10\n",
            "235/235 [==============================] - 1s 2ms/step - loss: 0.3878 - accuracy: 0.8237 - val_loss: 0.4310 - val_accuracy: 0.8040\n",
            "118/118 [==============================] - 0s 1ms/step\n",
            "Epoch 1/10\n"
          ]
        },
        {
          "output_type": "stream",
          "name": "stderr",
          "text": [
            "/usr/local/lib/python3.10/dist-packages/scikeras/wrappers.py:915: UserWarning: ``build_fn`` will be renamed to ``model`` in a future release, at which point use of ``build_fn`` will raise an Error instead.\n",
            "  X, y = self._initialize(X, y)\n"
          ]
        },
        {
          "output_type": "stream",
          "name": "stdout",
          "text": [
            "235/235 [==============================] - 2s 4ms/step - loss: 0.5033 - accuracy: 0.7465 - val_loss: 0.4373 - val_accuracy: 0.7898\n",
            "Epoch 2/10\n",
            "235/235 [==============================] - 1s 3ms/step - loss: 0.4280 - accuracy: 0.7947 - val_loss: 0.4265 - val_accuracy: 0.8026\n",
            "Epoch 3/10\n",
            "235/235 [==============================] - 1s 3ms/step - loss: 0.4173 - accuracy: 0.8059 - val_loss: 0.4207 - val_accuracy: 0.8054\n",
            "Epoch 4/10\n",
            "235/235 [==============================] - 1s 3ms/step - loss: 0.4107 - accuracy: 0.8072 - val_loss: 0.4203 - val_accuracy: 0.8054\n",
            "Epoch 5/10\n",
            "235/235 [==============================] - 1s 3ms/step - loss: 0.4046 - accuracy: 0.8102 - val_loss: 0.4246 - val_accuracy: 0.7969\n",
            "Epoch 6/10\n",
            "235/235 [==============================] - 1s 3ms/step - loss: 0.3998 - accuracy: 0.8163 - val_loss: 0.4217 - val_accuracy: 0.8040\n",
            "Epoch 7/10\n",
            "235/235 [==============================] - 1s 3ms/step - loss: 0.3958 - accuracy: 0.8131 - val_loss: 0.4213 - val_accuracy: 0.8040\n",
            "Epoch 8/10\n",
            "235/235 [==============================] - 1s 3ms/step - loss: 0.3919 - accuracy: 0.8190 - val_loss: 0.4253 - val_accuracy: 0.8082\n",
            "Epoch 9/10\n",
            "235/235 [==============================] - 1s 3ms/step - loss: 0.3872 - accuracy: 0.8203 - val_loss: 0.4267 - val_accuracy: 0.8040\n",
            "Epoch 10/10\n",
            "235/235 [==============================] - 1s 2ms/step - loss: 0.3844 - accuracy: 0.8208 - val_loss: 0.4293 - val_accuracy: 0.8040\n",
            "118/118 [==============================] - 0s 1ms/step\n",
            "Epoch 1/10\n"
          ]
        },
        {
          "output_type": "stream",
          "name": "stderr",
          "text": [
            "/usr/local/lib/python3.10/dist-packages/scikeras/wrappers.py:915: UserWarning: ``build_fn`` will be renamed to ``model`` in a future release, at which point use of ``build_fn`` will raise an Error instead.\n",
            "  X, y = self._initialize(X, y)\n"
          ]
        },
        {
          "output_type": "stream",
          "name": "stdout",
          "text": [
            "235/235 [==============================] - 1s 3ms/step - loss: 0.5014 - accuracy: 0.7495 - val_loss: 0.4354 - val_accuracy: 0.7955\n",
            "Epoch 2/10\n",
            "235/235 [==============================] - 1s 2ms/step - loss: 0.4350 - accuracy: 0.7945 - val_loss: 0.4262 - val_accuracy: 0.8054\n",
            "Epoch 3/10\n",
            "235/235 [==============================] - 1s 2ms/step - loss: 0.4223 - accuracy: 0.8032 - val_loss: 0.4329 - val_accuracy: 0.7912\n",
            "Epoch 4/10\n",
            "235/235 [==============================] - 1s 2ms/step - loss: 0.4167 - accuracy: 0.8032 - val_loss: 0.4253 - val_accuracy: 0.7955\n",
            "Epoch 5/10\n",
            "235/235 [==============================] - 1s 2ms/step - loss: 0.4089 - accuracy: 0.8064 - val_loss: 0.4312 - val_accuracy: 0.7926\n",
            "Epoch 6/10\n",
            "235/235 [==============================] - 1s 2ms/step - loss: 0.4048 - accuracy: 0.8062 - val_loss: 0.4295 - val_accuracy: 0.7912\n",
            "Epoch 7/10\n",
            "235/235 [==============================] - 1s 2ms/step - loss: 0.4014 - accuracy: 0.8104 - val_loss: 0.4331 - val_accuracy: 0.7898\n",
            "Epoch 8/10\n",
            "235/235 [==============================] - 1s 2ms/step - loss: 0.3979 - accuracy: 0.8136 - val_loss: 0.4354 - val_accuracy: 0.7898\n",
            "Epoch 9/10\n",
            "235/235 [==============================] - 1s 2ms/step - loss: 0.3923 - accuracy: 0.8155 - val_loss: 0.4381 - val_accuracy: 0.7898\n",
            "Epoch 10/10\n",
            "235/235 [==============================] - 1s 2ms/step - loss: 0.3876 - accuracy: 0.8211 - val_loss: 0.4336 - val_accuracy: 0.7955\n",
            "118/118 [==============================] - 0s 1ms/step\n",
            "Epoch 1/10\n"
          ]
        },
        {
          "output_type": "stream",
          "name": "stderr",
          "text": [
            "/usr/local/lib/python3.10/dist-packages/scikeras/wrappers.py:915: UserWarning: ``build_fn`` will be renamed to ``model`` in a future release, at which point use of ``build_fn`` will raise an Error instead.\n",
            "  X, y = self._initialize(X, y)\n"
          ]
        },
        {
          "output_type": "stream",
          "name": "stdout",
          "text": [
            "235/235 [==============================] - 1s 3ms/step - loss: 0.4801 - accuracy: 0.7676 - val_loss: 0.4330 - val_accuracy: 0.8054\n",
            "Epoch 2/10\n",
            "235/235 [==============================] - 1s 2ms/step - loss: 0.4238 - accuracy: 0.7971 - val_loss: 0.4302 - val_accuracy: 0.7955\n",
            "Epoch 3/10\n",
            "235/235 [==============================] - 1s 3ms/step - loss: 0.4163 - accuracy: 0.7993 - val_loss: 0.4255 - val_accuracy: 0.8054\n",
            "Epoch 4/10\n",
            "235/235 [==============================] - 1s 3ms/step - loss: 0.4075 - accuracy: 0.8086 - val_loss: 0.4252 - val_accuracy: 0.8054\n",
            "Epoch 5/10\n",
            "235/235 [==============================] - 1s 3ms/step - loss: 0.4034 - accuracy: 0.8139 - val_loss: 0.4409 - val_accuracy: 0.7955\n",
            "Epoch 6/10\n",
            "235/235 [==============================] - 1s 3ms/step - loss: 0.3985 - accuracy: 0.8179 - val_loss: 0.4302 - val_accuracy: 0.8068\n",
            "Epoch 7/10\n",
            "235/235 [==============================] - 1s 3ms/step - loss: 0.3946 - accuracy: 0.8160 - val_loss: 0.4306 - val_accuracy: 0.8111\n",
            "Epoch 8/10\n",
            "235/235 [==============================] - 1s 3ms/step - loss: 0.3911 - accuracy: 0.8182 - val_loss: 0.4311 - val_accuracy: 0.8082\n",
            "Epoch 9/10\n",
            "235/235 [==============================] - 1s 3ms/step - loss: 0.3859 - accuracy: 0.8214 - val_loss: 0.4299 - val_accuracy: 0.8040\n",
            "Epoch 10/10\n",
            "235/235 [==============================] - 1s 3ms/step - loss: 0.3818 - accuracy: 0.8224 - val_loss: 0.4348 - val_accuracy: 0.8068\n",
            "118/118 [==============================] - 0s 2ms/step\n",
            "Epoch 1/10\n"
          ]
        },
        {
          "output_type": "stream",
          "name": "stderr",
          "text": [
            "/usr/local/lib/python3.10/dist-packages/scikeras/wrappers.py:915: UserWarning: ``build_fn`` will be renamed to ``model`` in a future release, at which point use of ``build_fn`` will raise an Error instead.\n",
            "  X, y = self._initialize(X, y)\n"
          ]
        },
        {
          "output_type": "stream",
          "name": "stdout",
          "text": [
            "235/235 [==============================] - 2s 3ms/step - loss: 0.5412 - accuracy: 0.7167 - val_loss: 0.4409 - val_accuracy: 0.7940\n",
            "Epoch 2/10\n",
            "235/235 [==============================] - 1s 2ms/step - loss: 0.4330 - accuracy: 0.7993 - val_loss: 0.4265 - val_accuracy: 0.8068\n",
            "Epoch 3/10\n",
            "235/235 [==============================] - 1s 2ms/step - loss: 0.4202 - accuracy: 0.8024 - val_loss: 0.4252 - val_accuracy: 0.8026\n",
            "Epoch 4/10\n",
            "235/235 [==============================] - 1s 2ms/step - loss: 0.4138 - accuracy: 0.8072 - val_loss: 0.4237 - val_accuracy: 0.8026\n",
            "Epoch 5/10\n",
            "235/235 [==============================] - 1s 2ms/step - loss: 0.4105 - accuracy: 0.8099 - val_loss: 0.4257 - val_accuracy: 0.8011\n",
            "Epoch 6/10\n",
            "235/235 [==============================] - 1s 2ms/step - loss: 0.4055 - accuracy: 0.8102 - val_loss: 0.4250 - val_accuracy: 0.8040\n",
            "Epoch 7/10\n",
            "235/235 [==============================] - 1s 2ms/step - loss: 0.4022 - accuracy: 0.8152 - val_loss: 0.4392 - val_accuracy: 0.7898\n",
            "Epoch 8/10\n",
            "235/235 [==============================] - 1s 2ms/step - loss: 0.4012 - accuracy: 0.8142 - val_loss: 0.4284 - val_accuracy: 0.8011\n",
            "Epoch 9/10\n",
            "235/235 [==============================] - 1s 2ms/step - loss: 0.3942 - accuracy: 0.8222 - val_loss: 0.4388 - val_accuracy: 0.7884\n",
            "Epoch 10/10\n",
            "235/235 [==============================] - 1s 2ms/step - loss: 0.3919 - accuracy: 0.8229 - val_loss: 0.4311 - val_accuracy: 0.8054\n",
            "118/118 [==============================] - 0s 2ms/step\n",
            "Epoch 1/10\n"
          ]
        },
        {
          "output_type": "stream",
          "name": "stderr",
          "text": [
            "/usr/local/lib/python3.10/dist-packages/scikeras/wrappers.py:915: UserWarning: ``build_fn`` will be renamed to ``model`` in a future release, at which point use of ``build_fn`` will raise an Error instead.\n",
            "  X, y = self._initialize(X, y)\n"
          ]
        },
        {
          "output_type": "stream",
          "name": "stdout",
          "text": [
            "235/235 [==============================] - 2s 4ms/step - loss: 0.4880 - accuracy: 0.7718 - val_loss: 0.4267 - val_accuracy: 0.7983\n",
            "Epoch 2/10\n",
            "235/235 [==============================] - 1s 3ms/step - loss: 0.4316 - accuracy: 0.7955 - val_loss: 0.4235 - val_accuracy: 0.8011\n",
            "Epoch 3/10\n",
            "235/235 [==============================] - 1s 3ms/step - loss: 0.4212 - accuracy: 0.7979 - val_loss: 0.4219 - val_accuracy: 0.8054\n",
            "Epoch 4/10\n",
            "235/235 [==============================] - 1s 3ms/step - loss: 0.4151 - accuracy: 0.8038 - val_loss: 0.4207 - val_accuracy: 0.8082\n",
            "Epoch 5/10\n",
            "235/235 [==============================] - 1s 2ms/step - loss: 0.4117 - accuracy: 0.7993 - val_loss: 0.4267 - val_accuracy: 0.8097\n",
            "Epoch 6/10\n",
            "235/235 [==============================] - 1s 2ms/step - loss: 0.4090 - accuracy: 0.8064 - val_loss: 0.4201 - val_accuracy: 0.8026\n",
            "Epoch 7/10\n",
            "235/235 [==============================] - 1s 2ms/step - loss: 0.4048 - accuracy: 0.8059 - val_loss: 0.4239 - val_accuracy: 0.7969\n",
            "Epoch 8/10\n",
            "235/235 [==============================] - 1s 2ms/step - loss: 0.4009 - accuracy: 0.8096 - val_loss: 0.4229 - val_accuracy: 0.8011\n",
            "Epoch 9/10\n",
            "235/235 [==============================] - 1s 2ms/step - loss: 0.3983 - accuracy: 0.8158 - val_loss: 0.4226 - val_accuracy: 0.8026\n",
            "Epoch 10/10\n",
            "235/235 [==============================] - 1s 2ms/step - loss: 0.3934 - accuracy: 0.8160 - val_loss: 0.4281 - val_accuracy: 0.7997\n",
            "118/118 [==============================] - 0s 1ms/step\n",
            "Epoch 1/10\n"
          ]
        },
        {
          "output_type": "stream",
          "name": "stderr",
          "text": [
            "/usr/local/lib/python3.10/dist-packages/scikeras/wrappers.py:915: UserWarning: ``build_fn`` will be renamed to ``model`` in a future release, at which point use of ``build_fn`` will raise an Error instead.\n",
            "  X, y = self._initialize(X, y)\n"
          ]
        },
        {
          "output_type": "stream",
          "name": "stdout",
          "text": [
            "235/235 [==============================] - 1s 3ms/step - loss: 0.4716 - accuracy: 0.7740 - val_loss: 0.4320 - val_accuracy: 0.7912\n",
            "Epoch 2/10\n",
            "235/235 [==============================] - 1s 2ms/step - loss: 0.4213 - accuracy: 0.8001 - val_loss: 0.4346 - val_accuracy: 0.7926\n",
            "Epoch 3/10\n",
            "235/235 [==============================] - 1s 2ms/step - loss: 0.4110 - accuracy: 0.8075 - val_loss: 0.4306 - val_accuracy: 0.8011\n",
            "Epoch 4/10\n",
            "235/235 [==============================] - 1s 3ms/step - loss: 0.4060 - accuracy: 0.8120 - val_loss: 0.4289 - val_accuracy: 0.7983\n",
            "Epoch 5/10\n",
            "235/235 [==============================] - 1s 3ms/step - loss: 0.3999 - accuracy: 0.8174 - val_loss: 0.4241 - val_accuracy: 0.7940\n",
            "Epoch 6/10\n",
            "235/235 [==============================] - 1s 3ms/step - loss: 0.3944 - accuracy: 0.8163 - val_loss: 0.4326 - val_accuracy: 0.7926\n",
            "Epoch 7/10\n",
            "235/235 [==============================] - 1s 3ms/step - loss: 0.3905 - accuracy: 0.8198 - val_loss: 0.4329 - val_accuracy: 0.7884\n",
            "Epoch 8/10\n",
            "235/235 [==============================] - 1s 3ms/step - loss: 0.3882 - accuracy: 0.8182 - val_loss: 0.4439 - val_accuracy: 0.7884\n",
            "Epoch 9/10\n",
            "235/235 [==============================] - 1s 3ms/step - loss: 0.3827 - accuracy: 0.8245 - val_loss: 0.4377 - val_accuracy: 0.7955\n",
            "Epoch 10/10\n",
            "235/235 [==============================] - 1s 3ms/step - loss: 0.3750 - accuracy: 0.8253 - val_loss: 0.4384 - val_accuracy: 0.7898\n",
            "118/118 [==============================] - 0s 2ms/step\n",
            "Epoch 1/10\n"
          ]
        },
        {
          "output_type": "stream",
          "name": "stderr",
          "text": [
            "/usr/local/lib/python3.10/dist-packages/scikeras/wrappers.py:915: UserWarning: ``build_fn`` will be renamed to ``model`` in a future release, at which point use of ``build_fn`` will raise an Error instead.\n",
            "  X, y = self._initialize(X, y)\n"
          ]
        },
        {
          "output_type": "stream",
          "name": "stdout",
          "text": [
            "235/235 [==============================] - 2s 3ms/step - loss: 0.5134 - accuracy: 0.7085 - val_loss: 0.4382 - val_accuracy: 0.7884\n",
            "Epoch 2/10\n",
            "235/235 [==============================] - 1s 2ms/step - loss: 0.4262 - accuracy: 0.7969 - val_loss: 0.4281 - val_accuracy: 0.7955\n",
            "Epoch 3/10\n",
            "235/235 [==============================] - 1s 2ms/step - loss: 0.4170 - accuracy: 0.8032 - val_loss: 0.4272 - val_accuracy: 0.7955\n",
            "Epoch 4/10\n",
            "235/235 [==============================] - 1s 2ms/step - loss: 0.4081 - accuracy: 0.8104 - val_loss: 0.4221 - val_accuracy: 0.8040\n",
            "Epoch 5/10\n",
            "235/235 [==============================] - 1s 2ms/step - loss: 0.4014 - accuracy: 0.8158 - val_loss: 0.4188 - val_accuracy: 0.8011\n",
            "Epoch 6/10\n",
            "235/235 [==============================] - 1s 2ms/step - loss: 0.3993 - accuracy: 0.8134 - val_loss: 0.4212 - val_accuracy: 0.7969\n",
            "Epoch 7/10\n",
            "235/235 [==============================] - 1s 2ms/step - loss: 0.3922 - accuracy: 0.8179 - val_loss: 0.4261 - val_accuracy: 0.8097\n",
            "Epoch 8/10\n",
            "235/235 [==============================] - 1s 2ms/step - loss: 0.3902 - accuracy: 0.8248 - val_loss: 0.4243 - val_accuracy: 0.7955\n",
            "Epoch 9/10\n",
            "235/235 [==============================] - 1s 2ms/step - loss: 0.3826 - accuracy: 0.8237 - val_loss: 0.4252 - val_accuracy: 0.8068\n",
            "Epoch 10/10\n",
            "235/235 [==============================] - 1s 2ms/step - loss: 0.3802 - accuracy: 0.8245 - val_loss: 0.4327 - val_accuracy: 0.7884\n",
            "118/118 [==============================] - 0s 2ms/step\n",
            "Epoch 1/10\n"
          ]
        },
        {
          "output_type": "stream",
          "name": "stderr",
          "text": [
            "/usr/local/lib/python3.10/dist-packages/scikeras/wrappers.py:915: UserWarning: ``build_fn`` will be renamed to ``model`` in a future release, at which point use of ``build_fn`` will raise an Error instead.\n",
            "  X, y = self._initialize(X, y)\n"
          ]
        },
        {
          "output_type": "stream",
          "name": "stdout",
          "text": [
            "235/235 [==============================] - 2s 4ms/step - loss: 0.4800 - accuracy: 0.7766 - val_loss: 0.4213 - val_accuracy: 0.7983\n",
            "Epoch 2/10\n",
            "235/235 [==============================] - 1s 3ms/step - loss: 0.4219 - accuracy: 0.8006 - val_loss: 0.4203 - val_accuracy: 0.7983\n",
            "Epoch 3/10\n",
            "235/235 [==============================] - 1s 3ms/step - loss: 0.4154 - accuracy: 0.8032 - val_loss: 0.4228 - val_accuracy: 0.8026\n",
            "Epoch 4/10\n",
            "235/235 [==============================] - 1s 3ms/step - loss: 0.4097 - accuracy: 0.8096 - val_loss: 0.4233 - val_accuracy: 0.8026\n",
            "Epoch 5/10\n",
            "235/235 [==============================] - 1s 3ms/step - loss: 0.4059 - accuracy: 0.8088 - val_loss: 0.4220 - val_accuracy: 0.8040\n",
            "Epoch 6/10\n",
            "235/235 [==============================] - 1s 2ms/step - loss: 0.3994 - accuracy: 0.8126 - val_loss: 0.4302 - val_accuracy: 0.7827\n",
            "Epoch 7/10\n",
            "235/235 [==============================] - 1s 2ms/step - loss: 0.3950 - accuracy: 0.8192 - val_loss: 0.4291 - val_accuracy: 0.8040\n",
            "Epoch 8/10\n",
            "235/235 [==============================] - 1s 2ms/step - loss: 0.3889 - accuracy: 0.8184 - val_loss: 0.4300 - val_accuracy: 0.7898\n",
            "Epoch 9/10\n",
            "235/235 [==============================] - 1s 2ms/step - loss: 0.3849 - accuracy: 0.8224 - val_loss: 0.4374 - val_accuracy: 0.8011\n",
            "Epoch 10/10\n",
            "235/235 [==============================] - 0s 2ms/step - loss: 0.3804 - accuracy: 0.8243 - val_loss: 0.4363 - val_accuracy: 0.7926\n",
            "118/118 [==============================] - 0s 1ms/step\n",
            "Epoch 1/10\n"
          ]
        },
        {
          "output_type": "stream",
          "name": "stderr",
          "text": [
            "/usr/local/lib/python3.10/dist-packages/scikeras/wrappers.py:915: UserWarning: ``build_fn`` will be renamed to ``model`` in a future release, at which point use of ``build_fn`` will raise an Error instead.\n",
            "  X, y = self._initialize(X, y)\n"
          ]
        },
        {
          "output_type": "stream",
          "name": "stdout",
          "text": [
            "235/235 [==============================] - 1s 3ms/step - loss: 0.4823 - accuracy: 0.7532 - val_loss: 0.4321 - val_accuracy: 0.7940\n",
            "Epoch 2/10\n",
            "235/235 [==============================] - 1s 2ms/step - loss: 0.4208 - accuracy: 0.7993 - val_loss: 0.4278 - val_accuracy: 0.7940\n",
            "Epoch 3/10\n",
            "235/235 [==============================] - 1s 2ms/step - loss: 0.4113 - accuracy: 0.8038 - val_loss: 0.4269 - val_accuracy: 0.7969\n",
            "Epoch 4/10\n",
            "235/235 [==============================] - 1s 2ms/step - loss: 0.4030 - accuracy: 0.8128 - val_loss: 0.4354 - val_accuracy: 0.7940\n",
            "Epoch 5/10\n",
            "235/235 [==============================] - 1s 2ms/step - loss: 0.3986 - accuracy: 0.8091 - val_loss: 0.4291 - val_accuracy: 0.7983\n",
            "Epoch 6/10\n",
            "235/235 [==============================] - 1s 2ms/step - loss: 0.3929 - accuracy: 0.8198 - val_loss: 0.4419 - val_accuracy: 0.7926\n",
            "Epoch 7/10\n",
            "235/235 [==============================] - 1s 2ms/step - loss: 0.3893 - accuracy: 0.8192 - val_loss: 0.4348 - val_accuracy: 0.7912\n",
            "Epoch 8/10\n",
            "235/235 [==============================] - 1s 2ms/step - loss: 0.3836 - accuracy: 0.8168 - val_loss: 0.4369 - val_accuracy: 0.7912\n",
            "Epoch 9/10\n",
            "235/235 [==============================] - 1s 2ms/step - loss: 0.3781 - accuracy: 0.8203 - val_loss: 0.4364 - val_accuracy: 0.7955\n",
            "Epoch 10/10\n",
            "235/235 [==============================] - 1s 2ms/step - loss: 0.3758 - accuracy: 0.8195 - val_loss: 0.4328 - val_accuracy: 0.7969\n",
            "118/118 [==============================] - 0s 1ms/step\n",
            "Epoch 1/10\n"
          ]
        },
        {
          "output_type": "stream",
          "name": "stderr",
          "text": [
            "/usr/local/lib/python3.10/dist-packages/scikeras/wrappers.py:915: UserWarning: ``build_fn`` will be renamed to ``model`` in a future release, at which point use of ``build_fn`` will raise an Error instead.\n",
            "  X, y = self._initialize(X, y)\n"
          ]
        },
        {
          "output_type": "stream",
          "name": "stdout",
          "text": [
            "235/235 [==============================] - 2s 4ms/step - loss: 0.4910 - accuracy: 0.7654 - val_loss: 0.4229 - val_accuracy: 0.8026\n",
            "Epoch 2/10\n",
            "235/235 [==============================] - 1s 3ms/step - loss: 0.4247 - accuracy: 0.8024 - val_loss: 0.4192 - val_accuracy: 0.8026\n",
            "Epoch 3/10\n",
            "235/235 [==============================] - 1s 3ms/step - loss: 0.4144 - accuracy: 0.8072 - val_loss: 0.4248 - val_accuracy: 0.7955\n",
            "Epoch 4/10\n",
            "235/235 [==============================] - 1s 3ms/step - loss: 0.4101 - accuracy: 0.8062 - val_loss: 0.4214 - val_accuracy: 0.7983\n",
            "Epoch 5/10\n",
            "235/235 [==============================] - 1s 3ms/step - loss: 0.4034 - accuracy: 0.8152 - val_loss: 0.4207 - val_accuracy: 0.8054\n",
            "Epoch 6/10\n",
            "235/235 [==============================] - 1s 4ms/step - loss: 0.4003 - accuracy: 0.8131 - val_loss: 0.4213 - val_accuracy: 0.7955\n",
            "Epoch 7/10\n",
            "235/235 [==============================] - 1s 3ms/step - loss: 0.3966 - accuracy: 0.8160 - val_loss: 0.4279 - val_accuracy: 0.7983\n",
            "Epoch 8/10\n",
            "235/235 [==============================] - 1s 3ms/step - loss: 0.3926 - accuracy: 0.8184 - val_loss: 0.4237 - val_accuracy: 0.8082\n",
            "Epoch 9/10\n",
            "235/235 [==============================] - 1s 2ms/step - loss: 0.3878 - accuracy: 0.8198 - val_loss: 0.4234 - val_accuracy: 0.7983\n",
            "Epoch 10/10\n",
            "235/235 [==============================] - 1s 2ms/step - loss: 0.3867 - accuracy: 0.8229 - val_loss: 0.4336 - val_accuracy: 0.8040\n",
            "118/118 [==============================] - 0s 1ms/step\n"
          ]
        },
        {
          "output_type": "stream",
          "name": "stderr",
          "text": [
            "/usr/local/lib/python3.10/dist-packages/scikeras/wrappers.py:915: UserWarning: ``build_fn`` will be renamed to ``model`` in a future release, at which point use of ``build_fn`` will raise an Error instead.\n",
            "  X, y = self._initialize(X, y)\n"
          ]
        },
        {
          "output_type": "stream",
          "name": "stdout",
          "text": [
            "Epoch 1/10\n",
            "235/235 [==============================] - 2s 3ms/step - loss: 0.4685 - accuracy: 0.7710 - val_loss: 0.4228 - val_accuracy: 0.8026\n",
            "Epoch 2/10\n",
            "235/235 [==============================] - 1s 3ms/step - loss: 0.4256 - accuracy: 0.7998 - val_loss: 0.4192 - val_accuracy: 0.8082\n",
            "Epoch 3/10\n",
            "235/235 [==============================] - 1s 2ms/step - loss: 0.4149 - accuracy: 0.8006 - val_loss: 0.4206 - val_accuracy: 0.7983\n",
            "Epoch 4/10\n",
            "235/235 [==============================] - 1s 2ms/step - loss: 0.4086 - accuracy: 0.8027 - val_loss: 0.4191 - val_accuracy: 0.8011\n",
            "Epoch 5/10\n",
            "235/235 [==============================] - 1s 3ms/step - loss: 0.4026 - accuracy: 0.8123 - val_loss: 0.4172 - val_accuracy: 0.8040\n",
            "Epoch 6/10\n",
            "235/235 [==============================] - 1s 3ms/step - loss: 0.3995 - accuracy: 0.8142 - val_loss: 0.4269 - val_accuracy: 0.7898\n",
            "Epoch 7/10\n",
            "235/235 [==============================] - 1s 3ms/step - loss: 0.3930 - accuracy: 0.8200 - val_loss: 0.4245 - val_accuracy: 0.7940\n",
            "Epoch 8/10\n",
            "235/235 [==============================] - 1s 3ms/step - loss: 0.3911 - accuracy: 0.8184 - val_loss: 0.4279 - val_accuracy: 0.7969\n",
            "Epoch 9/10\n",
            "235/235 [==============================] - 1s 3ms/step - loss: 0.3849 - accuracy: 0.8195 - val_loss: 0.4303 - val_accuracy: 0.7940\n",
            "Epoch 10/10\n",
            "235/235 [==============================] - 1s 3ms/step - loss: 0.3772 - accuracy: 0.8288 - val_loss: 0.4372 - val_accuracy: 0.8011\n",
            "118/118 [==============================] - 0s 2ms/step\n",
            "Epoch 1/10\n"
          ]
        },
        {
          "output_type": "stream",
          "name": "stderr",
          "text": [
            "/usr/local/lib/python3.10/dist-packages/scikeras/wrappers.py:915: UserWarning: ``build_fn`` will be renamed to ``model`` in a future release, at which point use of ``build_fn`` will raise an Error instead.\n",
            "  X, y = self._initialize(X, y)\n"
          ]
        },
        {
          "output_type": "stream",
          "name": "stdout",
          "text": [
            "235/235 [==============================] - 2s 4ms/step - loss: 0.4850 - accuracy: 0.7553 - val_loss: 0.4243 - val_accuracy: 0.7940\n",
            "Epoch 2/10\n",
            "235/235 [==============================] - 1s 3ms/step - loss: 0.4214 - accuracy: 0.8024 - val_loss: 0.4224 - val_accuracy: 0.8054\n",
            "Epoch 3/10\n",
            "235/235 [==============================] - 1s 2ms/step - loss: 0.4116 - accuracy: 0.8054 - val_loss: 0.4210 - val_accuracy: 0.8026\n",
            "Epoch 4/10\n",
            "235/235 [==============================] - 1s 2ms/step - loss: 0.4049 - accuracy: 0.8067 - val_loss: 0.4226 - val_accuracy: 0.7997\n",
            "Epoch 5/10\n",
            "235/235 [==============================] - 1s 2ms/step - loss: 0.4001 - accuracy: 0.8107 - val_loss: 0.4253 - val_accuracy: 0.8026\n",
            "Epoch 6/10\n",
            "235/235 [==============================] - 1s 2ms/step - loss: 0.3952 - accuracy: 0.8104 - val_loss: 0.4258 - val_accuracy: 0.8011\n",
            "Epoch 7/10\n",
            "235/235 [==============================] - 1s 2ms/step - loss: 0.3890 - accuracy: 0.8190 - val_loss: 0.4225 - val_accuracy: 0.8082\n",
            "Epoch 8/10\n",
            "235/235 [==============================] - 1s 2ms/step - loss: 0.3850 - accuracy: 0.8168 - val_loss: 0.4411 - val_accuracy: 0.7955\n",
            "Epoch 9/10\n",
            "235/235 [==============================] - 1s 2ms/step - loss: 0.3823 - accuracy: 0.8240 - val_loss: 0.4367 - val_accuracy: 0.7912\n",
            "Epoch 10/10\n",
            "235/235 [==============================] - 1s 2ms/step - loss: 0.3775 - accuracy: 0.8267 - val_loss: 0.4315 - val_accuracy: 0.7969\n",
            "118/118 [==============================] - 0s 1ms/step\n",
            "Epoch 1/10\n"
          ]
        },
        {
          "output_type": "stream",
          "name": "stderr",
          "text": [
            "/usr/local/lib/python3.10/dist-packages/scikeras/wrappers.py:915: UserWarning: ``build_fn`` will be renamed to ``model`` in a future release, at which point use of ``build_fn`` will raise an Error instead.\n",
            "  X, y = self._initialize(X, y)\n"
          ]
        },
        {
          "output_type": "stream",
          "name": "stdout",
          "text": [
            "235/235 [==============================] - 2s 3ms/step - loss: 0.4733 - accuracy: 0.7684 - val_loss: 0.4240 - val_accuracy: 0.7983\n",
            "Epoch 2/10\n",
            "235/235 [==============================] - 1s 2ms/step - loss: 0.4230 - accuracy: 0.7977 - val_loss: 0.4191 - val_accuracy: 0.8026\n",
            "Epoch 3/10\n",
            "235/235 [==============================] - 1s 2ms/step - loss: 0.4160 - accuracy: 0.8003 - val_loss: 0.4173 - val_accuracy: 0.8097\n",
            "Epoch 4/10\n",
            "235/235 [==============================] - 1s 2ms/step - loss: 0.4096 - accuracy: 0.8056 - val_loss: 0.4162 - val_accuracy: 0.8040\n",
            "Epoch 5/10\n",
            "235/235 [==============================] - 1s 3ms/step - loss: 0.4052 - accuracy: 0.8086 - val_loss: 0.4177 - val_accuracy: 0.8111\n",
            "Epoch 6/10\n",
            "235/235 [==============================] - 1s 4ms/step - loss: 0.3989 - accuracy: 0.8150 - val_loss: 0.4181 - val_accuracy: 0.8011\n",
            "Epoch 7/10\n",
            "235/235 [==============================] - 1s 3ms/step - loss: 0.3959 - accuracy: 0.8102 - val_loss: 0.4157 - val_accuracy: 0.8082\n",
            "Epoch 8/10\n",
            "235/235 [==============================] - 1s 3ms/step - loss: 0.3927 - accuracy: 0.8147 - val_loss: 0.4156 - val_accuracy: 0.7969\n",
            "Epoch 9/10\n",
            "235/235 [==============================] - 1s 4ms/step - loss: 0.3878 - accuracy: 0.8227 - val_loss: 0.4252 - val_accuracy: 0.7926\n",
            "Epoch 10/10\n",
            "235/235 [==============================] - 1s 3ms/step - loss: 0.3846 - accuracy: 0.8176 - val_loss: 0.4288 - val_accuracy: 0.7983\n",
            "118/118 [==============================] - 0s 2ms/step\n",
            "Epoch 1/10\n"
          ]
        },
        {
          "output_type": "stream",
          "name": "stderr",
          "text": [
            "/usr/local/lib/python3.10/dist-packages/scikeras/wrappers.py:915: UserWarning: ``build_fn`` will be renamed to ``model`` in a future release, at which point use of ``build_fn`` will raise an Error instead.\n",
            "  X, y = self._initialize(X, y)\n"
          ]
        },
        {
          "output_type": "stream",
          "name": "stdout",
          "text": [
            "235/235 [==============================] - 2s 4ms/step - loss: 0.4745 - accuracy: 0.7580 - val_loss: 0.4324 - val_accuracy: 0.7912\n",
            "Epoch 2/10\n",
            "235/235 [==============================] - 1s 2ms/step - loss: 0.4264 - accuracy: 0.7982 - val_loss: 0.4238 - val_accuracy: 0.8082\n",
            "Epoch 3/10\n",
            "235/235 [==============================] - 1s 2ms/step - loss: 0.4199 - accuracy: 0.8006 - val_loss: 0.4211 - val_accuracy: 0.8011\n",
            "Epoch 4/10\n",
            "235/235 [==============================] - 1s 2ms/step - loss: 0.4110 - accuracy: 0.8059 - val_loss: 0.4246 - val_accuracy: 0.8011\n",
            "Epoch 5/10\n",
            "235/235 [==============================] - 1s 3ms/step - loss: 0.4064 - accuracy: 0.8059 - val_loss: 0.4324 - val_accuracy: 0.7940\n",
            "Epoch 6/10\n",
            "235/235 [==============================] - 1s 2ms/step - loss: 0.4006 - accuracy: 0.8088 - val_loss: 0.4195 - val_accuracy: 0.8097\n",
            "Epoch 7/10\n",
            "235/235 [==============================] - 1s 2ms/step - loss: 0.3956 - accuracy: 0.8136 - val_loss: 0.4265 - val_accuracy: 0.7912\n",
            "Epoch 8/10\n",
            "235/235 [==============================] - 1s 2ms/step - loss: 0.3933 - accuracy: 0.8112 - val_loss: 0.4311 - val_accuracy: 0.7997\n",
            "Epoch 9/10\n",
            "235/235 [==============================] - 1s 2ms/step - loss: 0.3873 - accuracy: 0.8150 - val_loss: 0.4272 - val_accuracy: 0.7955\n",
            "Epoch 10/10\n",
            "235/235 [==============================] - 1s 2ms/step - loss: 0.3820 - accuracy: 0.8200 - val_loss: 0.4355 - val_accuracy: 0.7784\n",
            "118/118 [==============================] - 0s 1ms/step\n",
            "Epoch 1/10\n"
          ]
        },
        {
          "output_type": "stream",
          "name": "stderr",
          "text": [
            "/usr/local/lib/python3.10/dist-packages/scikeras/wrappers.py:915: UserWarning: ``build_fn`` will be renamed to ``model`` in a future release, at which point use of ``build_fn`` will raise an Error instead.\n",
            "  X, y = self._initialize(X, y)\n"
          ]
        },
        {
          "output_type": "stream",
          "name": "stdout",
          "text": [
            "118/118 [==============================] - 1s 4ms/step - loss: 0.5378 - accuracy: 0.7061 - val_loss: 0.4578 - val_accuracy: 0.7827\n",
            "Epoch 2/10\n",
            "118/118 [==============================] - 0s 2ms/step - loss: 0.4436 - accuracy: 0.7867 - val_loss: 0.4429 - val_accuracy: 0.7997\n",
            "Epoch 3/10\n",
            "118/118 [==============================] - 0s 3ms/step - loss: 0.4287 - accuracy: 0.7979 - val_loss: 0.4343 - val_accuracy: 0.7997\n",
            "Epoch 4/10\n",
            "118/118 [==============================] - 0s 3ms/step - loss: 0.4204 - accuracy: 0.8051 - val_loss: 0.4335 - val_accuracy: 0.7940\n",
            "Epoch 5/10\n",
            "118/118 [==============================] - 0s 3ms/step - loss: 0.4145 - accuracy: 0.8051 - val_loss: 0.4335 - val_accuracy: 0.7926\n",
            "Epoch 6/10\n",
            "118/118 [==============================] - 0s 2ms/step - loss: 0.4102 - accuracy: 0.8086 - val_loss: 0.4352 - val_accuracy: 0.7898\n",
            "Epoch 7/10\n",
            "118/118 [==============================] - 0s 3ms/step - loss: 0.4070 - accuracy: 0.8094 - val_loss: 0.4338 - val_accuracy: 0.7884\n",
            "Epoch 8/10\n",
            "118/118 [==============================] - 0s 3ms/step - loss: 0.4032 - accuracy: 0.8102 - val_loss: 0.4276 - val_accuracy: 0.7997\n",
            "Epoch 9/10\n",
            "118/118 [==============================] - 0s 2ms/step - loss: 0.4003 - accuracy: 0.8147 - val_loss: 0.4333 - val_accuracy: 0.7884\n",
            "Epoch 10/10\n",
            "118/118 [==============================] - 0s 2ms/step - loss: 0.3983 - accuracy: 0.8128 - val_loss: 0.4293 - val_accuracy: 0.7926\n",
            "59/59 [==============================] - 0s 2ms/step\n",
            "Epoch 1/10\n"
          ]
        },
        {
          "output_type": "stream",
          "name": "stderr",
          "text": [
            "/usr/local/lib/python3.10/dist-packages/scikeras/wrappers.py:915: UserWarning: ``build_fn`` will be renamed to ``model`` in a future release, at which point use of ``build_fn`` will raise an Error instead.\n",
            "  X, y = self._initialize(X, y)\n"
          ]
        },
        {
          "output_type": "stream",
          "name": "stdout",
          "text": [
            "118/118 [==============================] - 2s 5ms/step - loss: 0.6299 - accuracy: 0.6446 - val_loss: 0.5155 - val_accuracy: 0.7344\n",
            "Epoch 2/10\n",
            "118/118 [==============================] - 0s 3ms/step - loss: 0.4650 - accuracy: 0.7750 - val_loss: 0.4488 - val_accuracy: 0.7841\n",
            "Epoch 3/10\n",
            "118/118 [==============================] - 0s 3ms/step - loss: 0.4344 - accuracy: 0.8003 - val_loss: 0.4375 - val_accuracy: 0.7983\n",
            "Epoch 4/10\n",
            "118/118 [==============================] - 0s 3ms/step - loss: 0.4237 - accuracy: 0.8003 - val_loss: 0.4344 - val_accuracy: 0.7926\n",
            "Epoch 5/10\n",
            "118/118 [==============================] - 0s 3ms/step - loss: 0.4173 - accuracy: 0.8046 - val_loss: 0.4325 - val_accuracy: 0.7997\n",
            "Epoch 6/10\n",
            "118/118 [==============================] - 0s 3ms/step - loss: 0.4136 - accuracy: 0.8064 - val_loss: 0.4328 - val_accuracy: 0.7997\n",
            "Epoch 7/10\n",
            "118/118 [==============================] - 0s 3ms/step - loss: 0.4106 - accuracy: 0.8040 - val_loss: 0.4352 - val_accuracy: 0.8026\n",
            "Epoch 8/10\n",
            "118/118 [==============================] - 0s 4ms/step - loss: 0.4076 - accuracy: 0.8099 - val_loss: 0.4286 - val_accuracy: 0.8011\n",
            "Epoch 9/10\n",
            "118/118 [==============================] - 0s 3ms/step - loss: 0.4044 - accuracy: 0.8128 - val_loss: 0.4300 - val_accuracy: 0.7983\n",
            "Epoch 10/10\n",
            "118/118 [==============================] - 0s 3ms/step - loss: 0.4030 - accuracy: 0.8136 - val_loss: 0.4290 - val_accuracy: 0.8011\n",
            "59/59 [==============================] - 0s 2ms/step\n",
            "Epoch 1/10\n"
          ]
        },
        {
          "output_type": "stream",
          "name": "stderr",
          "text": [
            "/usr/local/lib/python3.10/dist-packages/scikeras/wrappers.py:915: UserWarning: ``build_fn`` will be renamed to ``model`` in a future release, at which point use of ``build_fn`` will raise an Error instead.\n",
            "  X, y = self._initialize(X, y)\n"
          ]
        },
        {
          "output_type": "stream",
          "name": "stdout",
          "text": [
            "118/118 [==============================] - 1s 4ms/step - loss: 0.5257 - accuracy: 0.7354 - val_loss: 0.4671 - val_accuracy: 0.7344\n",
            "Epoch 2/10\n",
            "118/118 [==============================] - 0s 2ms/step - loss: 0.4603 - accuracy: 0.7545 - val_loss: 0.4511 - val_accuracy: 0.7656\n",
            "Epoch 3/10\n",
            "118/118 [==============================] - 0s 3ms/step - loss: 0.4431 - accuracy: 0.7777 - val_loss: 0.4413 - val_accuracy: 0.7940\n",
            "Epoch 4/10\n",
            "118/118 [==============================] - 0s 2ms/step - loss: 0.4330 - accuracy: 0.7862 - val_loss: 0.4391 - val_accuracy: 0.7983\n",
            "Epoch 5/10\n",
            "118/118 [==============================] - 0s 3ms/step - loss: 0.4256 - accuracy: 0.7985 - val_loss: 0.4380 - val_accuracy: 0.7912\n",
            "Epoch 6/10\n",
            "118/118 [==============================] - 0s 3ms/step - loss: 0.4204 - accuracy: 0.7969 - val_loss: 0.4402 - val_accuracy: 0.7955\n",
            "Epoch 7/10\n",
            "118/118 [==============================] - 0s 2ms/step - loss: 0.4173 - accuracy: 0.7971 - val_loss: 0.4356 - val_accuracy: 0.7983\n",
            "Epoch 8/10\n",
            "118/118 [==============================] - 0s 2ms/step - loss: 0.4136 - accuracy: 0.8054 - val_loss: 0.4327 - val_accuracy: 0.7969\n",
            "Epoch 9/10\n",
            "118/118 [==============================] - 0s 2ms/step - loss: 0.4098 - accuracy: 0.8056 - val_loss: 0.4319 - val_accuracy: 0.7969\n",
            "Epoch 10/10\n",
            "118/118 [==============================] - 0s 2ms/step - loss: 0.4072 - accuracy: 0.8110 - val_loss: 0.4338 - val_accuracy: 0.7940\n",
            "59/59 [==============================] - 0s 1ms/step\n",
            "Epoch 1/10\n"
          ]
        },
        {
          "output_type": "stream",
          "name": "stderr",
          "text": [
            "/usr/local/lib/python3.10/dist-packages/scikeras/wrappers.py:915: UserWarning: ``build_fn`` will be renamed to ``model`` in a future release, at which point use of ``build_fn`` will raise an Error instead.\n",
            "  X, y = self._initialize(X, y)\n"
          ]
        },
        {
          "output_type": "stream",
          "name": "stdout",
          "text": [
            "118/118 [==============================] - 1s 4ms/step - loss: 0.5055 - accuracy: 0.7364 - val_loss: 0.4552 - val_accuracy: 0.7543\n",
            "Epoch 2/10\n",
            "118/118 [==============================] - 0s 3ms/step - loss: 0.4515 - accuracy: 0.7734 - val_loss: 0.4362 - val_accuracy: 0.7898\n",
            "Epoch 3/10\n",
            "118/118 [==============================] - 0s 2ms/step - loss: 0.4365 - accuracy: 0.7878 - val_loss: 0.4283 - val_accuracy: 0.7955\n",
            "Epoch 4/10\n",
            "118/118 [==============================] - 0s 3ms/step - loss: 0.4265 - accuracy: 0.7923 - val_loss: 0.4227 - val_accuracy: 0.7955\n",
            "Epoch 5/10\n",
            "118/118 [==============================] - 0s 3ms/step - loss: 0.4181 - accuracy: 0.7987 - val_loss: 0.4226 - val_accuracy: 0.7997\n",
            "Epoch 6/10\n",
            "118/118 [==============================] - 0s 3ms/step - loss: 0.4114 - accuracy: 0.8040 - val_loss: 0.4207 - val_accuracy: 0.7898\n",
            "Epoch 7/10\n",
            "118/118 [==============================] - 0s 2ms/step - loss: 0.4063 - accuracy: 0.8062 - val_loss: 0.4212 - val_accuracy: 0.7912\n",
            "Epoch 8/10\n",
            "118/118 [==============================] - 0s 3ms/step - loss: 0.4030 - accuracy: 0.8094 - val_loss: 0.4234 - val_accuracy: 0.7969\n",
            "Epoch 9/10\n",
            "118/118 [==============================] - 0s 3ms/step - loss: 0.4012 - accuracy: 0.8070 - val_loss: 0.4191 - val_accuracy: 0.7940\n",
            "Epoch 10/10\n",
            "118/118 [==============================] - 0s 3ms/step - loss: 0.3972 - accuracy: 0.8136 - val_loss: 0.4220 - val_accuracy: 0.7955\n",
            "59/59 [==============================] - 0s 2ms/step\n",
            "Epoch 1/10\n"
          ]
        },
        {
          "output_type": "stream",
          "name": "stderr",
          "text": [
            "/usr/local/lib/python3.10/dist-packages/scikeras/wrappers.py:915: UserWarning: ``build_fn`` will be renamed to ``model`` in a future release, at which point use of ``build_fn`` will raise an Error instead.\n",
            "  X, y = self._initialize(X, y)\n"
          ]
        },
        {
          "output_type": "stream",
          "name": "stdout",
          "text": [
            "118/118 [==============================] - 2s 5ms/step - loss: 0.6140 - accuracy: 0.6313 - val_loss: 0.4844 - val_accuracy: 0.7685\n",
            "Epoch 2/10\n",
            "118/118 [==============================] - 0s 4ms/step - loss: 0.4611 - accuracy: 0.7809 - val_loss: 0.4317 - val_accuracy: 0.7940\n",
            "Epoch 3/10\n",
            "118/118 [==============================] - 0s 4ms/step - loss: 0.4366 - accuracy: 0.7889 - val_loss: 0.4239 - val_accuracy: 0.7983\n",
            "Epoch 4/10\n",
            "118/118 [==============================] - 0s 3ms/step - loss: 0.4277 - accuracy: 0.7979 - val_loss: 0.4190 - val_accuracy: 0.7983\n",
            "Epoch 5/10\n",
            "118/118 [==============================] - 0s 3ms/step - loss: 0.4218 - accuracy: 0.7993 - val_loss: 0.4173 - val_accuracy: 0.7997\n",
            "Epoch 6/10\n",
            "118/118 [==============================] - 0s 3ms/step - loss: 0.4174 - accuracy: 0.8051 - val_loss: 0.4155 - val_accuracy: 0.7940\n",
            "Epoch 7/10\n",
            "118/118 [==============================] - 0s 3ms/step - loss: 0.4147 - accuracy: 0.8038 - val_loss: 0.4150 - val_accuracy: 0.7940\n",
            "Epoch 8/10\n",
            "118/118 [==============================] - 0s 4ms/step - loss: 0.4118 - accuracy: 0.8059 - val_loss: 0.4128 - val_accuracy: 0.7926\n",
            "Epoch 9/10\n",
            "118/118 [==============================] - 0s 4ms/step - loss: 0.4087 - accuracy: 0.8030 - val_loss: 0.4128 - val_accuracy: 0.7940\n",
            "Epoch 10/10\n",
            "118/118 [==============================] - 0s 4ms/step - loss: 0.4061 - accuracy: 0.8059 - val_loss: 0.4119 - val_accuracy: 0.7969\n",
            "59/59 [==============================] - 0s 2ms/step\n",
            "Epoch 1/10\n"
          ]
        },
        {
          "output_type": "stream",
          "name": "stderr",
          "text": [
            "/usr/local/lib/python3.10/dist-packages/scikeras/wrappers.py:915: UserWarning: ``build_fn`` will be renamed to ``model`` in a future release, at which point use of ``build_fn`` will raise an Error instead.\n",
            "  X, y = self._initialize(X, y)\n"
          ]
        },
        {
          "output_type": "stream",
          "name": "stdout",
          "text": [
            "118/118 [==============================] - 1s 4ms/step - loss: 0.5237 - accuracy: 0.7244 - val_loss: 0.4571 - val_accuracy: 0.7727\n",
            "Epoch 2/10\n",
            "118/118 [==============================] - 0s 3ms/step - loss: 0.4563 - accuracy: 0.7716 - val_loss: 0.4394 - val_accuracy: 0.7912\n",
            "Epoch 3/10\n",
            "118/118 [==============================] - 0s 2ms/step - loss: 0.4397 - accuracy: 0.7894 - val_loss: 0.4322 - val_accuracy: 0.8026\n",
            "Epoch 4/10\n",
            "118/118 [==============================] - 0s 2ms/step - loss: 0.4298 - accuracy: 0.7993 - val_loss: 0.4278 - val_accuracy: 0.8111\n",
            "Epoch 5/10\n",
            "118/118 [==============================] - 0s 2ms/step - loss: 0.4230 - accuracy: 0.8003 - val_loss: 0.4274 - val_accuracy: 0.7955\n",
            "Epoch 6/10\n",
            "118/118 [==============================] - 0s 3ms/step - loss: 0.4187 - accuracy: 0.8027 - val_loss: 0.4252 - val_accuracy: 0.8040\n",
            "Epoch 7/10\n",
            "118/118 [==============================] - 0s 3ms/step - loss: 0.4148 - accuracy: 0.8064 - val_loss: 0.4276 - val_accuracy: 0.8111\n",
            "Epoch 8/10\n",
            "118/118 [==============================] - 0s 2ms/step - loss: 0.4128 - accuracy: 0.8043 - val_loss: 0.4243 - val_accuracy: 0.8026\n",
            "Epoch 9/10\n",
            "118/118 [==============================] - 0s 2ms/step - loss: 0.4098 - accuracy: 0.8102 - val_loss: 0.4257 - val_accuracy: 0.8011\n",
            "Epoch 10/10\n",
            "118/118 [==============================] - 0s 3ms/step - loss: 0.4064 - accuracy: 0.8099 - val_loss: 0.4239 - val_accuracy: 0.8040\n",
            "59/59 [==============================] - 0s 1ms/step\n",
            "Epoch 1/10\n"
          ]
        },
        {
          "output_type": "stream",
          "name": "stderr",
          "text": [
            "/usr/local/lib/python3.10/dist-packages/scikeras/wrappers.py:915: UserWarning: ``build_fn`` will be renamed to ``model`` in a future release, at which point use of ``build_fn`` will raise an Error instead.\n",
            "  X, y = self._initialize(X, y)\n"
          ]
        },
        {
          "output_type": "stream",
          "name": "stdout",
          "text": [
            "118/118 [==============================] - 1s 4ms/step - loss: 0.5500 - accuracy: 0.7457 - val_loss: 0.4586 - val_accuracy: 0.7812\n",
            "Epoch 2/10\n",
            "118/118 [==============================] - 0s 3ms/step - loss: 0.4503 - accuracy: 0.7788 - val_loss: 0.4305 - val_accuracy: 0.7869\n",
            "Epoch 3/10\n",
            "118/118 [==============================] - 0s 3ms/step - loss: 0.4311 - accuracy: 0.7977 - val_loss: 0.4252 - val_accuracy: 0.7997\n",
            "Epoch 4/10\n",
            "118/118 [==============================] - 0s 2ms/step - loss: 0.4217 - accuracy: 0.7982 - val_loss: 0.4261 - val_accuracy: 0.7955\n",
            "Epoch 5/10\n",
            "118/118 [==============================] - 0s 2ms/step - loss: 0.4170 - accuracy: 0.7995 - val_loss: 0.4209 - val_accuracy: 0.8026\n",
            "Epoch 6/10\n",
            "118/118 [==============================] - 0s 2ms/step - loss: 0.4114 - accuracy: 0.8035 - val_loss: 0.4206 - val_accuracy: 0.7997\n",
            "Epoch 7/10\n",
            "118/118 [==============================] - 0s 2ms/step - loss: 0.4094 - accuracy: 0.8022 - val_loss: 0.4215 - val_accuracy: 0.7912\n",
            "Epoch 8/10\n",
            "118/118 [==============================] - 0s 2ms/step - loss: 0.4053 - accuracy: 0.8078 - val_loss: 0.4197 - val_accuracy: 0.7983\n",
            "Epoch 9/10\n",
            "118/118 [==============================] - 0s 2ms/step - loss: 0.4035 - accuracy: 0.8083 - val_loss: 0.4189 - val_accuracy: 0.8026\n",
            "Epoch 10/10\n",
            "118/118 [==============================] - 0s 3ms/step - loss: 0.3997 - accuracy: 0.8184 - val_loss: 0.4232 - val_accuracy: 0.8054\n",
            "59/59 [==============================] - 0s 1ms/step\n",
            "Epoch 1/10\n"
          ]
        },
        {
          "output_type": "stream",
          "name": "stderr",
          "text": [
            "/usr/local/lib/python3.10/dist-packages/scikeras/wrappers.py:915: UserWarning: ``build_fn`` will be renamed to ``model`` in a future release, at which point use of ``build_fn`` will raise an Error instead.\n",
            "  X, y = self._initialize(X, y)\n"
          ]
        },
        {
          "output_type": "stream",
          "name": "stdout",
          "text": [
            "118/118 [==============================] - 1s 4ms/step - loss: 0.5047 - accuracy: 0.7524 - val_loss: 0.4390 - val_accuracy: 0.7827\n",
            "Epoch 2/10\n",
            "118/118 [==============================] - 0s 3ms/step - loss: 0.4395 - accuracy: 0.7907 - val_loss: 0.4246 - val_accuracy: 0.7884\n",
            "Epoch 3/10\n",
            "118/118 [==============================] - 0s 3ms/step - loss: 0.4290 - accuracy: 0.7998 - val_loss: 0.4238 - val_accuracy: 0.7969\n",
            "Epoch 4/10\n",
            "118/118 [==============================] - 0s 4ms/step - loss: 0.4225 - accuracy: 0.8011 - val_loss: 0.4206 - val_accuracy: 0.7898\n",
            "Epoch 5/10\n",
            "118/118 [==============================] - 0s 3ms/step - loss: 0.4176 - accuracy: 0.8040 - val_loss: 0.4216 - val_accuracy: 0.7940\n",
            "Epoch 6/10\n",
            "118/118 [==============================] - 0s 3ms/step - loss: 0.4130 - accuracy: 0.8126 - val_loss: 0.4203 - val_accuracy: 0.7997\n",
            "Epoch 7/10\n",
            "118/118 [==============================] - 0s 3ms/step - loss: 0.4105 - accuracy: 0.8070 - val_loss: 0.4191 - val_accuracy: 0.7955\n",
            "Epoch 8/10\n",
            "118/118 [==============================] - 0s 4ms/step - loss: 0.4079 - accuracy: 0.8128 - val_loss: 0.4187 - val_accuracy: 0.8040\n",
            "Epoch 9/10\n",
            "118/118 [==============================] - 0s 3ms/step - loss: 0.4050 - accuracy: 0.8123 - val_loss: 0.4194 - val_accuracy: 0.8011\n",
            "Epoch 10/10\n",
            "118/118 [==============================] - 0s 3ms/step - loss: 0.4030 - accuracy: 0.8142 - val_loss: 0.4190 - val_accuracy: 0.8054\n",
            "59/59 [==============================] - 0s 2ms/step\n",
            "Epoch 1/10\n"
          ]
        },
        {
          "output_type": "stream",
          "name": "stderr",
          "text": [
            "/usr/local/lib/python3.10/dist-packages/scikeras/wrappers.py:915: UserWarning: ``build_fn`` will be renamed to ``model`` in a future release, at which point use of ``build_fn`` will raise an Error instead.\n",
            "  X, y = self._initialize(X, y)\n"
          ]
        },
        {
          "output_type": "stream",
          "name": "stdout",
          "text": [
            "118/118 [==============================] - 2s 5ms/step - loss: 0.5478 - accuracy: 0.7023 - val_loss: 0.4611 - val_accuracy: 0.7429\n",
            "Epoch 2/10\n",
            "118/118 [==============================] - 0s 3ms/step - loss: 0.4523 - accuracy: 0.7684 - val_loss: 0.4292 - val_accuracy: 0.7997\n",
            "Epoch 3/10\n",
            "118/118 [==============================] - 0s 3ms/step - loss: 0.4340 - accuracy: 0.7923 - val_loss: 0.4252 - val_accuracy: 0.7926\n",
            "Epoch 4/10\n",
            "118/118 [==============================] - 0s 3ms/step - loss: 0.4252 - accuracy: 0.7963 - val_loss: 0.4210 - val_accuracy: 0.8054\n",
            "Epoch 5/10\n",
            "118/118 [==============================] - 0s 3ms/step - loss: 0.4198 - accuracy: 0.8019 - val_loss: 0.4219 - val_accuracy: 0.8011\n",
            "Epoch 6/10\n",
            "118/118 [==============================] - 0s 2ms/step - loss: 0.4147 - accuracy: 0.8046 - val_loss: 0.4225 - val_accuracy: 0.8011\n",
            "Epoch 7/10\n",
            "118/118 [==============================] - 0s 3ms/step - loss: 0.4120 - accuracy: 0.8038 - val_loss: 0.4230 - val_accuracy: 0.8040\n",
            "Epoch 8/10\n",
            "118/118 [==============================] - 0s 3ms/step - loss: 0.4089 - accuracy: 0.8102 - val_loss: 0.4226 - val_accuracy: 0.8026\n",
            "Epoch 9/10\n",
            "118/118 [==============================] - 0s 2ms/step - loss: 0.4057 - accuracy: 0.8112 - val_loss: 0.4240 - val_accuracy: 0.8011\n",
            "Epoch 10/10\n",
            "118/118 [==============================] - 0s 2ms/step - loss: 0.4030 - accuracy: 0.8083 - val_loss: 0.4275 - val_accuracy: 0.7983\n",
            "59/59 [==============================] - 0s 1ms/step\n",
            "Epoch 1/10\n"
          ]
        },
        {
          "output_type": "stream",
          "name": "stderr",
          "text": [
            "/usr/local/lib/python3.10/dist-packages/scikeras/wrappers.py:915: UserWarning: ``build_fn`` will be renamed to ``model`` in a future release, at which point use of ``build_fn`` will raise an Error instead.\n",
            "  X, y = self._initialize(X, y)\n"
          ]
        },
        {
          "output_type": "stream",
          "name": "stdout",
          "text": [
            "118/118 [==============================] - 1s 4ms/step - loss: 0.5148 - accuracy: 0.7489 - val_loss: 0.4458 - val_accuracy: 0.7955\n",
            "Epoch 2/10\n",
            "118/118 [==============================] - 0s 2ms/step - loss: 0.4369 - accuracy: 0.7918 - val_loss: 0.4397 - val_accuracy: 0.7855\n",
            "Epoch 3/10\n",
            "118/118 [==============================] - 0s 2ms/step - loss: 0.4236 - accuracy: 0.7966 - val_loss: 0.4332 - val_accuracy: 0.7969\n",
            "Epoch 4/10\n",
            "118/118 [==============================] - 0s 3ms/step - loss: 0.4152 - accuracy: 0.8003 - val_loss: 0.4271 - val_accuracy: 0.7955\n",
            "Epoch 5/10\n",
            "118/118 [==============================] - 0s 3ms/step - loss: 0.4085 - accuracy: 0.8086 - val_loss: 0.4270 - val_accuracy: 0.8011\n",
            "Epoch 6/10\n",
            "118/118 [==============================] - 0s 2ms/step - loss: 0.4035 - accuracy: 0.8096 - val_loss: 0.4271 - val_accuracy: 0.7969\n",
            "Epoch 7/10\n",
            "118/118 [==============================] - 0s 2ms/step - loss: 0.3983 - accuracy: 0.8139 - val_loss: 0.4279 - val_accuracy: 0.7997\n",
            "Epoch 8/10\n",
            "118/118 [==============================] - 0s 2ms/step - loss: 0.3955 - accuracy: 0.8150 - val_loss: 0.4271 - val_accuracy: 0.8040\n",
            "Epoch 9/10\n",
            "118/118 [==============================] - 0s 3ms/step - loss: 0.3914 - accuracy: 0.8144 - val_loss: 0.4368 - val_accuracy: 0.7969\n",
            "Epoch 10/10\n",
            "118/118 [==============================] - 0s 2ms/step - loss: 0.3903 - accuracy: 0.8224 - val_loss: 0.4373 - val_accuracy: 0.7926\n",
            "59/59 [==============================] - 0s 2ms/step\n",
            "Epoch 1/10\n"
          ]
        },
        {
          "output_type": "stream",
          "name": "stderr",
          "text": [
            "/usr/local/lib/python3.10/dist-packages/scikeras/wrappers.py:915: UserWarning: ``build_fn`` will be renamed to ``model`` in a future release, at which point use of ``build_fn`` will raise an Error instead.\n",
            "  X, y = self._initialize(X, y)\n"
          ]
        },
        {
          "output_type": "stream",
          "name": "stdout",
          "text": [
            "118/118 [==============================] - 1s 4ms/step - loss: 0.5178 - accuracy: 0.7255 - val_loss: 0.4464 - val_accuracy: 0.7898\n",
            "Epoch 2/10\n",
            "118/118 [==============================] - 0s 3ms/step - loss: 0.4370 - accuracy: 0.7907 - val_loss: 0.4316 - val_accuracy: 0.7969\n",
            "Epoch 3/10\n",
            "118/118 [==============================] - 0s 3ms/step - loss: 0.4235 - accuracy: 0.7971 - val_loss: 0.4314 - val_accuracy: 0.7884\n",
            "Epoch 4/10\n",
            "118/118 [==============================] - 0s 3ms/step - loss: 0.4152 - accuracy: 0.8040 - val_loss: 0.4242 - val_accuracy: 0.7940\n",
            "Epoch 5/10\n",
            "118/118 [==============================] - 0s 4ms/step - loss: 0.4087 - accuracy: 0.8150 - val_loss: 0.4243 - val_accuracy: 0.7926\n",
            "Epoch 6/10\n",
            "118/118 [==============================] - 0s 4ms/step - loss: 0.4025 - accuracy: 0.8123 - val_loss: 0.4252 - val_accuracy: 0.7955\n",
            "Epoch 7/10\n",
            "118/118 [==============================] - 0s 3ms/step - loss: 0.3983 - accuracy: 0.8152 - val_loss: 0.4188 - val_accuracy: 0.8026\n",
            "Epoch 8/10\n",
            "118/118 [==============================] - 0s 4ms/step - loss: 0.3948 - accuracy: 0.8203 - val_loss: 0.4181 - val_accuracy: 0.8040\n",
            "Epoch 9/10\n",
            "118/118 [==============================] - 0s 3ms/step - loss: 0.3917 - accuracy: 0.8192 - val_loss: 0.4225 - val_accuracy: 0.7940\n",
            "Epoch 10/10\n",
            "118/118 [==============================] - 0s 3ms/step - loss: 0.3895 - accuracy: 0.8174 - val_loss: 0.4242 - val_accuracy: 0.7997\n",
            "59/59 [==============================] - 0s 2ms/step\n",
            "Epoch 1/10\n"
          ]
        },
        {
          "output_type": "stream",
          "name": "stderr",
          "text": [
            "/usr/local/lib/python3.10/dist-packages/scikeras/wrappers.py:915: UserWarning: ``build_fn`` will be renamed to ``model`` in a future release, at which point use of ``build_fn`` will raise an Error instead.\n",
            "  X, y = self._initialize(X, y)\n"
          ]
        },
        {
          "output_type": "stream",
          "name": "stdout",
          "text": [
            "118/118 [==============================] - 2s 4ms/step - loss: 0.5219 - accuracy: 0.7250 - val_loss: 0.4537 - val_accuracy: 0.7486\n",
            "Epoch 2/10\n",
            "118/118 [==============================] - 0s 2ms/step - loss: 0.4516 - accuracy: 0.7686 - val_loss: 0.4344 - val_accuracy: 0.7898\n",
            "Epoch 3/10\n",
            "118/118 [==============================] - 0s 3ms/step - loss: 0.4341 - accuracy: 0.7947 - val_loss: 0.4279 - val_accuracy: 0.8011\n",
            "Epoch 4/10\n",
            "118/118 [==============================] - 0s 2ms/step - loss: 0.4229 - accuracy: 0.8024 - val_loss: 0.4244 - val_accuracy: 0.8040\n",
            "Epoch 5/10\n",
            "118/118 [==============================] - 0s 3ms/step - loss: 0.4162 - accuracy: 0.8091 - val_loss: 0.4260 - val_accuracy: 0.8068\n",
            "Epoch 6/10\n",
            "118/118 [==============================] - 0s 2ms/step - loss: 0.4124 - accuracy: 0.8080 - val_loss: 0.4250 - val_accuracy: 0.8040\n",
            "Epoch 7/10\n",
            "118/118 [==============================] - 0s 3ms/step - loss: 0.4057 - accuracy: 0.8107 - val_loss: 0.4261 - val_accuracy: 0.8068\n",
            "Epoch 8/10\n",
            "118/118 [==============================] - 0s 2ms/step - loss: 0.4012 - accuracy: 0.8155 - val_loss: 0.4285 - val_accuracy: 0.7997\n",
            "Epoch 9/10\n",
            "118/118 [==============================] - 0s 3ms/step - loss: 0.3984 - accuracy: 0.8155 - val_loss: 0.4276 - val_accuracy: 0.8011\n",
            "Epoch 10/10\n",
            "118/118 [==============================] - 0s 2ms/step - loss: 0.3955 - accuracy: 0.8160 - val_loss: 0.4326 - val_accuracy: 0.8026\n",
            "59/59 [==============================] - 0s 1ms/step\n",
            "Epoch 1/10\n"
          ]
        },
        {
          "output_type": "stream",
          "name": "stderr",
          "text": [
            "/usr/local/lib/python3.10/dist-packages/scikeras/wrappers.py:915: UserWarning: ``build_fn`` will be renamed to ``model`` in a future release, at which point use of ``build_fn`` will raise an Error instead.\n",
            "  X, y = self._initialize(X, y)\n"
          ]
        },
        {
          "output_type": "stream",
          "name": "stdout",
          "text": [
            "118/118 [==============================] - 1s 4ms/step - loss: 0.5213 - accuracy: 0.7324 - val_loss: 0.4539 - val_accuracy: 0.7855\n",
            "Epoch 2/10\n",
            "118/118 [==============================] - 0s 2ms/step - loss: 0.4400 - accuracy: 0.7843 - val_loss: 0.4424 - val_accuracy: 0.7855\n",
            "Epoch 3/10\n",
            "118/118 [==============================] - 0s 2ms/step - loss: 0.4236 - accuracy: 0.7979 - val_loss: 0.4392 - val_accuracy: 0.7898\n",
            "Epoch 4/10\n",
            "118/118 [==============================] - 0s 3ms/step - loss: 0.4157 - accuracy: 0.8022 - val_loss: 0.4322 - val_accuracy: 0.7926\n",
            "Epoch 5/10\n",
            "118/118 [==============================] - 0s 3ms/step - loss: 0.4095 - accuracy: 0.8094 - val_loss: 0.4385 - val_accuracy: 0.7912\n",
            "Epoch 6/10\n",
            "118/118 [==============================] - 0s 4ms/step - loss: 0.4041 - accuracy: 0.8142 - val_loss: 0.4313 - val_accuracy: 0.7912\n",
            "Epoch 7/10\n",
            "118/118 [==============================] - 0s 4ms/step - loss: 0.3999 - accuracy: 0.8123 - val_loss: 0.4348 - val_accuracy: 0.7926\n",
            "Epoch 8/10\n",
            "118/118 [==============================] - 0s 3ms/step - loss: 0.3958 - accuracy: 0.8134 - val_loss: 0.4329 - val_accuracy: 0.8011\n",
            "Epoch 9/10\n",
            "118/118 [==============================] - 0s 4ms/step - loss: 0.3929 - accuracy: 0.8190 - val_loss: 0.4352 - val_accuracy: 0.7955\n",
            "Epoch 10/10\n",
            "118/118 [==============================] - 0s 4ms/step - loss: 0.3887 - accuracy: 0.8174 - val_loss: 0.4363 - val_accuracy: 0.8040\n",
            "59/59 [==============================] - 0s 2ms/step\n",
            "Epoch 1/10\n"
          ]
        },
        {
          "output_type": "stream",
          "name": "stderr",
          "text": [
            "/usr/local/lib/python3.10/dist-packages/scikeras/wrappers.py:915: UserWarning: ``build_fn`` will be renamed to ``model`` in a future release, at which point use of ``build_fn`` will raise an Error instead.\n",
            "  X, y = self._initialize(X, y)\n"
          ]
        },
        {
          "output_type": "stream",
          "name": "stdout",
          "text": [
            "118/118 [==============================] - 2s 6ms/step - loss: 0.5057 - accuracy: 0.7516 - val_loss: 0.4293 - val_accuracy: 0.7884\n",
            "Epoch 2/10\n",
            "118/118 [==============================] - 0s 4ms/step - loss: 0.4343 - accuracy: 0.7923 - val_loss: 0.4208 - val_accuracy: 0.7940\n",
            "Epoch 3/10\n",
            "118/118 [==============================] - 0s 4ms/step - loss: 0.4239 - accuracy: 0.8014 - val_loss: 0.4197 - val_accuracy: 0.8125\n",
            "Epoch 4/10\n",
            "118/118 [==============================] - 0s 4ms/step - loss: 0.4162 - accuracy: 0.8067 - val_loss: 0.4167 - val_accuracy: 0.8011\n",
            "Epoch 5/10\n",
            "118/118 [==============================] - 0s 4ms/step - loss: 0.4112 - accuracy: 0.8115 - val_loss: 0.4171 - val_accuracy: 0.8040\n",
            "Epoch 6/10\n",
            "118/118 [==============================] - 0s 4ms/step - loss: 0.4060 - accuracy: 0.8168 - val_loss: 0.4200 - val_accuracy: 0.7855\n",
            "Epoch 7/10\n",
            "118/118 [==============================] - 0s 3ms/step - loss: 0.4024 - accuracy: 0.8166 - val_loss: 0.4194 - val_accuracy: 0.8026\n",
            "Epoch 8/10\n",
            "118/118 [==============================] - 1s 5ms/step - loss: 0.3987 - accuracy: 0.8184 - val_loss: 0.4179 - val_accuracy: 0.7997\n",
            "Epoch 9/10\n",
            "118/118 [==============================] - 0s 3ms/step - loss: 0.3944 - accuracy: 0.8206 - val_loss: 0.4208 - val_accuracy: 0.7940\n",
            "Epoch 10/10\n",
            "118/118 [==============================] - 0s 3ms/step - loss: 0.3931 - accuracy: 0.8139 - val_loss: 0.4194 - val_accuracy: 0.8011\n",
            "59/59 [==============================] - 0s 2ms/step\n",
            "Epoch 1/10\n"
          ]
        },
        {
          "output_type": "stream",
          "name": "stderr",
          "text": [
            "/usr/local/lib/python3.10/dist-packages/scikeras/wrappers.py:915: UserWarning: ``build_fn`` will be renamed to ``model`` in a future release, at which point use of ``build_fn`` will raise an Error instead.\n",
            "  X, y = self._initialize(X, y)\n"
          ]
        },
        {
          "output_type": "stream",
          "name": "stdout",
          "text": [
            "118/118 [==============================] - 2s 5ms/step - loss: 0.5362 - accuracy: 0.7359 - val_loss: 0.4368 - val_accuracy: 0.7955\n",
            "Epoch 2/10\n",
            "118/118 [==============================] - 0s 4ms/step - loss: 0.4369 - accuracy: 0.7870 - val_loss: 0.4244 - val_accuracy: 0.8068\n",
            "Epoch 3/10\n",
            "118/118 [==============================] - 0s 3ms/step - loss: 0.4242 - accuracy: 0.7953 - val_loss: 0.4225 - val_accuracy: 0.7940\n",
            "Epoch 4/10\n",
            "118/118 [==============================] - 0s 3ms/step - loss: 0.4183 - accuracy: 0.7987 - val_loss: 0.4172 - val_accuracy: 0.8097\n",
            "Epoch 5/10\n",
            "118/118 [==============================] - 0s 3ms/step - loss: 0.4137 - accuracy: 0.8051 - val_loss: 0.4204 - val_accuracy: 0.7997\n",
            "Epoch 6/10\n",
            "118/118 [==============================] - 0s 3ms/step - loss: 0.4098 - accuracy: 0.8051 - val_loss: 0.4177 - val_accuracy: 0.8082\n",
            "Epoch 7/10\n",
            "118/118 [==============================] - 0s 3ms/step - loss: 0.4055 - accuracy: 0.8088 - val_loss: 0.4225 - val_accuracy: 0.7983\n",
            "Epoch 8/10\n",
            "118/118 [==============================] - 0s 2ms/step - loss: 0.4027 - accuracy: 0.8059 - val_loss: 0.4219 - val_accuracy: 0.8040\n",
            "Epoch 9/10\n",
            "118/118 [==============================] - 0s 3ms/step - loss: 0.3985 - accuracy: 0.8088 - val_loss: 0.4210 - val_accuracy: 0.7983\n",
            "Epoch 10/10\n",
            "118/118 [==============================] - 0s 2ms/step - loss: 0.3957 - accuracy: 0.8083 - val_loss: 0.4207 - val_accuracy: 0.7983\n",
            "59/59 [==============================] - 0s 1ms/step\n",
            "Epoch 1/10\n"
          ]
        },
        {
          "output_type": "stream",
          "name": "stderr",
          "text": [
            "/usr/local/lib/python3.10/dist-packages/scikeras/wrappers.py:915: UserWarning: ``build_fn`` will be renamed to ``model`` in a future release, at which point use of ``build_fn`` will raise an Error instead.\n",
            "  X, y = self._initialize(X, y)\n"
          ]
        },
        {
          "output_type": "stream",
          "name": "stdout",
          "text": [
            "118/118 [==============================] - 1s 4ms/step - loss: 0.5506 - accuracy: 0.6832 - val_loss: 0.4535 - val_accuracy: 0.7756\n",
            "Epoch 2/10\n",
            "118/118 [==============================] - 0s 3ms/step - loss: 0.4425 - accuracy: 0.7865 - val_loss: 0.4343 - val_accuracy: 0.7798\n",
            "Epoch 3/10\n",
            "118/118 [==============================] - 0s 2ms/step - loss: 0.4263 - accuracy: 0.7971 - val_loss: 0.4310 - val_accuracy: 0.7812\n",
            "Epoch 4/10\n",
            "118/118 [==============================] - 0s 3ms/step - loss: 0.4150 - accuracy: 0.7995 - val_loss: 0.4321 - val_accuracy: 0.7784\n",
            "Epoch 5/10\n",
            "118/118 [==============================] - 0s 3ms/step - loss: 0.4104 - accuracy: 0.8040 - val_loss: 0.4296 - val_accuracy: 0.7827\n",
            "Epoch 6/10\n",
            "118/118 [==============================] - 0s 2ms/step - loss: 0.4035 - accuracy: 0.8086 - val_loss: 0.4302 - val_accuracy: 0.7955\n",
            "Epoch 7/10\n",
            "118/118 [==============================] - 0s 3ms/step - loss: 0.3994 - accuracy: 0.8099 - val_loss: 0.4371 - val_accuracy: 0.7841\n",
            "Epoch 8/10\n",
            "118/118 [==============================] - 0s 3ms/step - loss: 0.3955 - accuracy: 0.8110 - val_loss: 0.4284 - val_accuracy: 0.7955\n",
            "Epoch 9/10\n",
            "118/118 [==============================] - 0s 2ms/step - loss: 0.3900 - accuracy: 0.8158 - val_loss: 0.4317 - val_accuracy: 0.7940\n",
            "Epoch 10/10\n",
            "118/118 [==============================] - 0s 3ms/step - loss: 0.3849 - accuracy: 0.8206 - val_loss: 0.4310 - val_accuracy: 0.7969\n",
            "59/59 [==============================] - 0s 1ms/step\n",
            "Epoch 1/10\n"
          ]
        },
        {
          "output_type": "stream",
          "name": "stderr",
          "text": [
            "/usr/local/lib/python3.10/dist-packages/scikeras/wrappers.py:915: UserWarning: ``build_fn`` will be renamed to ``model`` in a future release, at which point use of ``build_fn`` will raise an Error instead.\n",
            "  X, y = self._initialize(X, y)\n"
          ]
        },
        {
          "output_type": "stream",
          "name": "stdout",
          "text": [
            "118/118 [==============================] - 2s 5ms/step - loss: 0.5238 - accuracy: 0.7266 - val_loss: 0.4430 - val_accuracy: 0.7912\n",
            "Epoch 2/10\n",
            "118/118 [==============================] - 0s 3ms/step - loss: 0.4366 - accuracy: 0.7902 - val_loss: 0.4292 - val_accuracy: 0.7983\n",
            "Epoch 3/10\n",
            "118/118 [==============================] - 0s 4ms/step - loss: 0.4231 - accuracy: 0.7993 - val_loss: 0.4261 - val_accuracy: 0.7997\n",
            "Epoch 4/10\n",
            "118/118 [==============================] - 0s 4ms/step - loss: 0.4146 - accuracy: 0.8054 - val_loss: 0.4231 - val_accuracy: 0.7940\n",
            "Epoch 5/10\n",
            "118/118 [==============================] - 0s 3ms/step - loss: 0.4090 - accuracy: 0.8072 - val_loss: 0.4215 - val_accuracy: 0.7997\n",
            "Epoch 6/10\n",
            "118/118 [==============================] - 0s 4ms/step - loss: 0.4029 - accuracy: 0.8104 - val_loss: 0.4250 - val_accuracy: 0.8011\n",
            "Epoch 7/10\n",
            "118/118 [==============================] - 0s 3ms/step - loss: 0.3995 - accuracy: 0.8123 - val_loss: 0.4234 - val_accuracy: 0.8011\n",
            "Epoch 8/10\n",
            "118/118 [==============================] - 0s 3ms/step - loss: 0.3947 - accuracy: 0.8174 - val_loss: 0.4259 - val_accuracy: 0.7997\n",
            "Epoch 9/10\n",
            "118/118 [==============================] - 0s 3ms/step - loss: 0.3925 - accuracy: 0.8150 - val_loss: 0.4255 - val_accuracy: 0.7997\n",
            "Epoch 10/10\n",
            "118/118 [==============================] - 0s 3ms/step - loss: 0.3869 - accuracy: 0.8195 - val_loss: 0.4263 - val_accuracy: 0.7926\n",
            "59/59 [==============================] - 0s 2ms/step\n",
            "Epoch 1/10\n"
          ]
        },
        {
          "output_type": "stream",
          "name": "stderr",
          "text": [
            "/usr/local/lib/python3.10/dist-packages/scikeras/wrappers.py:915: UserWarning: ``build_fn`` will be renamed to ``model`` in a future release, at which point use of ``build_fn`` will raise an Error instead.\n",
            "  X, y = self._initialize(X, y)\n"
          ]
        },
        {
          "output_type": "stream",
          "name": "stdout",
          "text": [
            "118/118 [==============================] - 2s 4ms/step - loss: 0.5387 - accuracy: 0.7191 - val_loss: 0.4385 - val_accuracy: 0.7912\n",
            "Epoch 2/10\n",
            "118/118 [==============================] - 0s 2ms/step - loss: 0.4368 - accuracy: 0.7899 - val_loss: 0.4277 - val_accuracy: 0.7912\n",
            "Epoch 3/10\n",
            "118/118 [==============================] - 0s 2ms/step - loss: 0.4255 - accuracy: 0.7926 - val_loss: 0.4303 - val_accuracy: 0.7898\n",
            "Epoch 4/10\n",
            "118/118 [==============================] - 0s 3ms/step - loss: 0.4192 - accuracy: 0.7979 - val_loss: 0.4275 - val_accuracy: 0.7940\n",
            "Epoch 5/10\n",
            "118/118 [==============================] - 0s 3ms/step - loss: 0.4150 - accuracy: 0.8011 - val_loss: 0.4289 - val_accuracy: 0.7983\n",
            "Epoch 6/10\n",
            "118/118 [==============================] - 0s 3ms/step - loss: 0.4091 - accuracy: 0.8051 - val_loss: 0.4279 - val_accuracy: 0.7926\n",
            "Epoch 7/10\n",
            "118/118 [==============================] - 0s 2ms/step - loss: 0.4042 - accuracy: 0.8072 - val_loss: 0.4272 - val_accuracy: 0.7955\n",
            "Epoch 8/10\n",
            "118/118 [==============================] - 0s 3ms/step - loss: 0.4006 - accuracy: 0.8067 - val_loss: 0.4285 - val_accuracy: 0.7969\n",
            "Epoch 9/10\n",
            "118/118 [==============================] - 0s 2ms/step - loss: 0.3978 - accuracy: 0.8070 - val_loss: 0.4333 - val_accuracy: 0.7997\n",
            "Epoch 10/10\n",
            "118/118 [==============================] - 0s 3ms/step - loss: 0.3938 - accuracy: 0.8115 - val_loss: 0.4325 - val_accuracy: 0.7997\n",
            "59/59 [==============================] - 0s 1ms/step\n",
            "Epoch 1/10\n"
          ]
        },
        {
          "output_type": "stream",
          "name": "stderr",
          "text": [
            "/usr/local/lib/python3.10/dist-packages/scikeras/wrappers.py:915: UserWarning: ``build_fn`` will be renamed to ``model`` in a future release, at which point use of ``build_fn`` will raise an Error instead.\n",
            "  X, y = self._initialize(X, y)\n"
          ]
        },
        {
          "output_type": "stream",
          "name": "stdout",
          "text": [
            "118/118 [==============================] - 1s 4ms/step - loss: 0.5111 - accuracy: 0.7543 - val_loss: 0.4315 - val_accuracy: 0.7969\n",
            "Epoch 2/10\n",
            "118/118 [==============================] - 0s 3ms/step - loss: 0.4266 - accuracy: 0.7966 - val_loss: 0.4252 - val_accuracy: 0.7855\n",
            "Epoch 3/10\n",
            "118/118 [==============================] - 0s 3ms/step - loss: 0.4151 - accuracy: 0.8035 - val_loss: 0.4221 - val_accuracy: 0.8026\n",
            "Epoch 4/10\n",
            "118/118 [==============================] - 0s 3ms/step - loss: 0.4088 - accuracy: 0.8070 - val_loss: 0.4244 - val_accuracy: 0.8054\n",
            "Epoch 5/10\n",
            "118/118 [==============================] - 0s 2ms/step - loss: 0.4036 - accuracy: 0.8083 - val_loss: 0.4252 - val_accuracy: 0.7955\n",
            "Epoch 6/10\n",
            "118/118 [==============================] - 0s 3ms/step - loss: 0.3989 - accuracy: 0.8067 - val_loss: 0.4402 - val_accuracy: 0.7940\n",
            "Epoch 7/10\n",
            "118/118 [==============================] - 0s 3ms/step - loss: 0.3932 - accuracy: 0.8136 - val_loss: 0.4272 - val_accuracy: 0.8097\n",
            "Epoch 8/10\n",
            "118/118 [==============================] - 0s 3ms/step - loss: 0.3910 - accuracy: 0.8120 - val_loss: 0.4353 - val_accuracy: 0.7926\n",
            "Epoch 9/10\n",
            "118/118 [==============================] - 0s 2ms/step - loss: 0.3854 - accuracy: 0.8176 - val_loss: 0.4378 - val_accuracy: 0.7983\n",
            "Epoch 10/10\n",
            "118/118 [==============================] - 0s 3ms/step - loss: 0.3828 - accuracy: 0.8192 - val_loss: 0.4366 - val_accuracy: 0.7884\n",
            "59/59 [==============================] - 0s 1ms/step\n",
            "Epoch 1/10\n"
          ]
        },
        {
          "output_type": "stream",
          "name": "stderr",
          "text": [
            "/usr/local/lib/python3.10/dist-packages/scikeras/wrappers.py:915: UserWarning: ``build_fn`` will be renamed to ``model`` in a future release, at which point use of ``build_fn`` will raise an Error instead.\n",
            "  X, y = self._initialize(X, y)\n"
          ]
        },
        {
          "output_type": "stream",
          "name": "stdout",
          "text": [
            "118/118 [==============================] - 2s 5ms/step - loss: 0.4649 - accuracy: 0.7684 - val_loss: 0.4281 - val_accuracy: 0.7983\n",
            "Epoch 2/10\n",
            "118/118 [==============================] - 0s 3ms/step - loss: 0.4239 - accuracy: 0.7985 - val_loss: 0.4183 - val_accuracy: 0.7983\n",
            "Epoch 3/10\n",
            "118/118 [==============================] - 0s 3ms/step - loss: 0.4134 - accuracy: 0.8075 - val_loss: 0.4180 - val_accuracy: 0.8111\n",
            "Epoch 4/10\n",
            "118/118 [==============================] - 0s 4ms/step - loss: 0.4051 - accuracy: 0.8110 - val_loss: 0.4232 - val_accuracy: 0.8026\n",
            "Epoch 5/10\n",
            "118/118 [==============================] - 0s 4ms/step - loss: 0.3993 - accuracy: 0.8160 - val_loss: 0.4207 - val_accuracy: 0.8040\n",
            "Epoch 6/10\n",
            "118/118 [==============================] - 0s 4ms/step - loss: 0.3946 - accuracy: 0.8190 - val_loss: 0.4239 - val_accuracy: 0.8054\n",
            "Epoch 7/10\n",
            "118/118 [==============================] - 0s 4ms/step - loss: 0.3899 - accuracy: 0.8195 - val_loss: 0.4204 - val_accuracy: 0.8082\n",
            "Epoch 8/10\n",
            "118/118 [==============================] - 0s 3ms/step - loss: 0.3860 - accuracy: 0.8222 - val_loss: 0.4286 - val_accuracy: 0.8097\n",
            "Epoch 9/10\n",
            "118/118 [==============================] - 0s 3ms/step - loss: 0.3818 - accuracy: 0.8235 - val_loss: 0.4346 - val_accuracy: 0.8068\n",
            "Epoch 10/10\n",
            "118/118 [==============================] - 0s 3ms/step - loss: 0.3799 - accuracy: 0.8240 - val_loss: 0.4313 - val_accuracy: 0.8011\n",
            "59/59 [==============================] - 0s 2ms/step\n",
            "Epoch 1/10\n"
          ]
        },
        {
          "output_type": "stream",
          "name": "stderr",
          "text": [
            "/usr/local/lib/python3.10/dist-packages/scikeras/wrappers.py:915: UserWarning: ``build_fn`` will be renamed to ``model`` in a future release, at which point use of ``build_fn`` will raise an Error instead.\n",
            "  X, y = self._initialize(X, y)\n"
          ]
        },
        {
          "output_type": "stream",
          "name": "stdout",
          "text": [
            "118/118 [==============================] - 1s 4ms/step - loss: 0.4914 - accuracy: 0.7564 - val_loss: 0.4276 - val_accuracy: 0.7955\n",
            "Epoch 2/10\n",
            "118/118 [==============================] - 0s 2ms/step - loss: 0.4272 - accuracy: 0.7923 - val_loss: 0.4213 - val_accuracy: 0.8011\n",
            "Epoch 3/10\n",
            "118/118 [==============================] - 0s 3ms/step - loss: 0.4182 - accuracy: 0.7934 - val_loss: 0.4197 - val_accuracy: 0.8026\n",
            "Epoch 4/10\n",
            "118/118 [==============================] - 0s 2ms/step - loss: 0.4129 - accuracy: 0.8014 - val_loss: 0.4173 - val_accuracy: 0.8026\n",
            "Epoch 5/10\n",
            "118/118 [==============================] - 0s 3ms/step - loss: 0.4058 - accuracy: 0.8110 - val_loss: 0.4230 - val_accuracy: 0.7983\n",
            "Epoch 6/10\n",
            "118/118 [==============================] - 0s 3ms/step - loss: 0.4016 - accuracy: 0.8123 - val_loss: 0.4216 - val_accuracy: 0.7997\n",
            "Epoch 7/10\n",
            "118/118 [==============================] - 0s 2ms/step - loss: 0.3994 - accuracy: 0.8040 - val_loss: 0.4209 - val_accuracy: 0.7940\n",
            "Epoch 8/10\n",
            "118/118 [==============================] - 0s 2ms/step - loss: 0.3934 - accuracy: 0.8152 - val_loss: 0.4225 - val_accuracy: 0.7969\n",
            "Epoch 9/10\n",
            "118/118 [==============================] - 0s 3ms/step - loss: 0.3903 - accuracy: 0.8184 - val_loss: 0.4228 - val_accuracy: 0.7912\n",
            "Epoch 10/10\n",
            "118/118 [==============================] - 0s 3ms/step - loss: 0.3856 - accuracy: 0.8187 - val_loss: 0.4324 - val_accuracy: 0.8026\n",
            "59/59 [==============================] - 0s 1ms/step\n",
            "Epoch 1/10\n"
          ]
        },
        {
          "output_type": "stream",
          "name": "stderr",
          "text": [
            "/usr/local/lib/python3.10/dist-packages/scikeras/wrappers.py:915: UserWarning: ``build_fn`` will be renamed to ``model`` in a future release, at which point use of ``build_fn`` will raise an Error instead.\n",
            "  X, y = self._initialize(X, y)\n"
          ]
        },
        {
          "output_type": "stream",
          "name": "stdout",
          "text": [
            "118/118 [==============================] - 1s 4ms/step - loss: 0.4844 - accuracy: 0.7383 - val_loss: 0.4438 - val_accuracy: 0.7869\n",
            "Epoch 2/10\n",
            "118/118 [==============================] - 0s 3ms/step - loss: 0.4373 - accuracy: 0.7886 - val_loss: 0.4370 - val_accuracy: 0.7926\n",
            "Epoch 3/10\n",
            "118/118 [==============================] - 0s 3ms/step - loss: 0.4213 - accuracy: 0.8011 - val_loss: 0.4309 - val_accuracy: 0.7969\n",
            "Epoch 4/10\n",
            "118/118 [==============================] - 0s 3ms/step - loss: 0.4134 - accuracy: 0.8019 - val_loss: 0.4274 - val_accuracy: 0.7969\n",
            "Epoch 5/10\n",
            "118/118 [==============================] - 0s 3ms/step - loss: 0.4038 - accuracy: 0.8120 - val_loss: 0.4287 - val_accuracy: 0.7997\n",
            "Epoch 6/10\n",
            "118/118 [==============================] - 0s 3ms/step - loss: 0.3983 - accuracy: 0.8147 - val_loss: 0.4356 - val_accuracy: 0.7827\n",
            "Epoch 7/10\n",
            "118/118 [==============================] - 0s 2ms/step - loss: 0.3943 - accuracy: 0.8198 - val_loss: 0.4317 - val_accuracy: 0.8011\n",
            "Epoch 8/10\n",
            "118/118 [==============================] - 0s 3ms/step - loss: 0.3893 - accuracy: 0.8216 - val_loss: 0.4312 - val_accuracy: 0.8040\n",
            "Epoch 9/10\n",
            "118/118 [==============================] - 0s 2ms/step - loss: 0.3845 - accuracy: 0.8187 - val_loss: 0.4372 - val_accuracy: 0.7869\n",
            "Epoch 10/10\n",
            "118/118 [==============================] - 0s 2ms/step - loss: 0.3802 - accuracy: 0.8264 - val_loss: 0.4289 - val_accuracy: 0.7955\n",
            "59/59 [==============================] - 0s 2ms/step\n",
            "Epoch 1/10\n"
          ]
        },
        {
          "output_type": "stream",
          "name": "stderr",
          "text": [
            "/usr/local/lib/python3.10/dist-packages/scikeras/wrappers.py:915: UserWarning: ``build_fn`` will be renamed to ``model`` in a future release, at which point use of ``build_fn`` will raise an Error instead.\n",
            "  X, y = self._initialize(X, y)\n"
          ]
        },
        {
          "output_type": "stream",
          "name": "stdout",
          "text": [
            "118/118 [==============================] - 2s 5ms/step - loss: 0.4863 - accuracy: 0.7553 - val_loss: 0.4338 - val_accuracy: 0.7940\n",
            "Epoch 2/10\n",
            "118/118 [==============================] - 0s 3ms/step - loss: 0.4293 - accuracy: 0.7993 - val_loss: 0.4229 - val_accuracy: 0.8097\n",
            "Epoch 3/10\n",
            "118/118 [==============================] - 0s 3ms/step - loss: 0.4210 - accuracy: 0.8059 - val_loss: 0.4198 - val_accuracy: 0.8054\n",
            "Epoch 4/10\n",
            "118/118 [==============================] - 0s 3ms/step - loss: 0.4119 - accuracy: 0.8080 - val_loss: 0.4196 - val_accuracy: 0.8040\n",
            "Epoch 5/10\n",
            "118/118 [==============================] - 0s 3ms/step - loss: 0.4066 - accuracy: 0.8104 - val_loss: 0.4212 - val_accuracy: 0.8068\n",
            "Epoch 6/10\n",
            "118/118 [==============================] - 0s 3ms/step - loss: 0.4016 - accuracy: 0.8080 - val_loss: 0.4208 - val_accuracy: 0.8082\n",
            "Epoch 7/10\n",
            "118/118 [==============================] - 0s 2ms/step - loss: 0.3967 - accuracy: 0.8142 - val_loss: 0.4207 - val_accuracy: 0.8040\n",
            "Epoch 8/10\n",
            "118/118 [==============================] - 0s 2ms/step - loss: 0.3945 - accuracy: 0.8195 - val_loss: 0.4235 - val_accuracy: 0.8082\n",
            "Epoch 9/10\n",
            "118/118 [==============================] - 0s 2ms/step - loss: 0.3901 - accuracy: 0.8171 - val_loss: 0.4268 - val_accuracy: 0.7983\n",
            "Epoch 10/10\n",
            "118/118 [==============================] - 0s 3ms/step - loss: 0.3882 - accuracy: 0.8182 - val_loss: 0.4267 - val_accuracy: 0.7969\n",
            "59/59 [==============================] - 0s 1ms/step\n",
            "Epoch 1/10\n"
          ]
        },
        {
          "output_type": "stream",
          "name": "stderr",
          "text": [
            "/usr/local/lib/python3.10/dist-packages/scikeras/wrappers.py:915: UserWarning: ``build_fn`` will be renamed to ``model`` in a future release, at which point use of ``build_fn`` will raise an Error instead.\n",
            "  X, y = self._initialize(X, y)\n"
          ]
        },
        {
          "output_type": "stream",
          "name": "stdout",
          "text": [
            "118/118 [==============================] - 1s 4ms/step - loss: 0.6979 - accuracy: 0.6046 - val_loss: 0.6643 - val_accuracy: 0.8011\n",
            "Epoch 2/10\n",
            "118/118 [==============================] - 0s 3ms/step - loss: 0.6489 - accuracy: 0.7886 - val_loss: 0.6329 - val_accuracy: 0.7940\n",
            "Epoch 3/10\n",
            "118/118 [==============================] - 0s 3ms/step - loss: 0.6178 - accuracy: 0.7950 - val_loss: 0.6036 - val_accuracy: 0.7983\n",
            "Epoch 4/10\n",
            "118/118 [==============================] - 0s 2ms/step - loss: 0.5923 - accuracy: 0.8043 - val_loss: 0.5868 - val_accuracy: 0.7940\n",
            "Epoch 5/10\n",
            "118/118 [==============================] - 0s 2ms/step - loss: 0.5718 - accuracy: 0.8043 - val_loss: 0.5656 - val_accuracy: 0.8040\n",
            "Epoch 6/10\n",
            "118/118 [==============================] - 0s 3ms/step - loss: 0.5521 - accuracy: 0.8091 - val_loss: 0.5494 - val_accuracy: 0.8026\n",
            "Epoch 7/10\n",
            "118/118 [==============================] - 0s 3ms/step - loss: 0.5360 - accuracy: 0.8099 - val_loss: 0.5381 - val_accuracy: 0.7969\n",
            "Epoch 8/10\n",
            "118/118 [==============================] - 0s 3ms/step - loss: 0.5192 - accuracy: 0.8163 - val_loss: 0.5303 - val_accuracy: 0.7912\n",
            "Epoch 9/10\n",
            "118/118 [==============================] - 0s 2ms/step - loss: 0.5068 - accuracy: 0.8182 - val_loss: 0.5183 - val_accuracy: 0.8026\n",
            "Epoch 10/10\n",
            "118/118 [==============================] - 0s 2ms/step - loss: 0.4940 - accuracy: 0.8200 - val_loss: 0.5158 - val_accuracy: 0.7912\n",
            "59/59 [==============================] - 0s 1ms/step\n",
            "Epoch 1/10\n"
          ]
        },
        {
          "output_type": "stream",
          "name": "stderr",
          "text": [
            "/usr/local/lib/python3.10/dist-packages/scikeras/wrappers.py:915: UserWarning: ``build_fn`` will be renamed to ``model`` in a future release, at which point use of ``build_fn`` will raise an Error instead.\n",
            "  X, y = self._initialize(X, y)\n"
          ]
        },
        {
          "output_type": "stream",
          "name": "stdout",
          "text": [
            "118/118 [==============================] - 1s 4ms/step - loss: 0.4777 - accuracy: 0.7612 - val_loss: 0.4380 - val_accuracy: 0.7940\n",
            "Epoch 2/10\n",
            "118/118 [==============================] - 0s 3ms/step - loss: 0.4295 - accuracy: 0.7958 - val_loss: 0.4267 - val_accuracy: 0.7969\n",
            "Epoch 3/10\n",
            "118/118 [==============================] - 0s 3ms/step - loss: 0.4179 - accuracy: 0.8024 - val_loss: 0.4284 - val_accuracy: 0.7969\n",
            "Epoch 4/10\n",
            "118/118 [==============================] - 0s 2ms/step - loss: 0.4107 - accuracy: 0.8102 - val_loss: 0.4279 - val_accuracy: 0.7969\n",
            "Epoch 5/10\n",
            "118/118 [==============================] - 0s 3ms/step - loss: 0.4060 - accuracy: 0.8080 - val_loss: 0.4315 - val_accuracy: 0.7969\n",
            "Epoch 6/10\n",
            "118/118 [==============================] - 0s 3ms/step - loss: 0.4006 - accuracy: 0.8152 - val_loss: 0.4253 - val_accuracy: 0.7997\n",
            "Epoch 7/10\n",
            "118/118 [==============================] - 0s 2ms/step - loss: 0.3959 - accuracy: 0.8123 - val_loss: 0.4297 - val_accuracy: 0.8040\n",
            "Epoch 8/10\n",
            "118/118 [==============================] - 0s 2ms/step - loss: 0.3936 - accuracy: 0.8160 - val_loss: 0.4286 - val_accuracy: 0.8082\n",
            "Epoch 9/10\n",
            "118/118 [==============================] - 0s 3ms/step - loss: 0.3906 - accuracy: 0.8184 - val_loss: 0.4326 - val_accuracy: 0.7940\n",
            "Epoch 10/10\n",
            "118/118 [==============================] - 0s 2ms/step - loss: 0.3844 - accuracy: 0.8224 - val_loss: 0.4399 - val_accuracy: 0.7841\n",
            "59/59 [==============================] - 0s 2ms/step\n",
            "Epoch 1/10\n"
          ]
        },
        {
          "output_type": "stream",
          "name": "stderr",
          "text": [
            "/usr/local/lib/python3.10/dist-packages/scikeras/wrappers.py:915: UserWarning: ``build_fn`` will be renamed to ``model`` in a future release, at which point use of ``build_fn`` will raise an Error instead.\n",
            "  X, y = self._initialize(X, y)\n"
          ]
        },
        {
          "output_type": "stream",
          "name": "stdout",
          "text": [
            "118/118 [==============================] - 2s 5ms/step - loss: 0.4862 - accuracy: 0.7593 - val_loss: 0.4307 - val_accuracy: 0.8011\n",
            "Epoch 2/10\n",
            "118/118 [==============================] - 0s 3ms/step - loss: 0.4287 - accuracy: 0.7977 - val_loss: 0.4307 - val_accuracy: 0.8011\n",
            "Epoch 3/10\n",
            "118/118 [==============================] - 0s 4ms/step - loss: 0.4168 - accuracy: 0.8064 - val_loss: 0.4260 - val_accuracy: 0.7969\n",
            "Epoch 4/10\n",
            "118/118 [==============================] - 0s 3ms/step - loss: 0.4087 - accuracy: 0.8110 - val_loss: 0.4297 - val_accuracy: 0.7955\n",
            "Epoch 5/10\n",
            "118/118 [==============================] - 0s 4ms/step - loss: 0.4063 - accuracy: 0.8136 - val_loss: 0.4265 - val_accuracy: 0.8011\n",
            "Epoch 6/10\n",
            "118/118 [==============================] - 0s 3ms/step - loss: 0.3991 - accuracy: 0.8184 - val_loss: 0.4226 - val_accuracy: 0.8068\n",
            "Epoch 7/10\n",
            "118/118 [==============================] - 0s 3ms/step - loss: 0.3979 - accuracy: 0.8211 - val_loss: 0.4269 - val_accuracy: 0.8026\n",
            "Epoch 8/10\n",
            "118/118 [==============================] - 0s 3ms/step - loss: 0.3923 - accuracy: 0.8211 - val_loss: 0.4221 - val_accuracy: 0.8011\n",
            "Epoch 9/10\n",
            "118/118 [==============================] - 0s 3ms/step - loss: 0.3900 - accuracy: 0.8195 - val_loss: 0.4238 - val_accuracy: 0.8082\n",
            "Epoch 10/10\n",
            "118/118 [==============================] - 0s 3ms/step - loss: 0.3838 - accuracy: 0.8285 - val_loss: 0.4242 - val_accuracy: 0.8040\n",
            "59/59 [==============================] - 0s 2ms/step\n",
            "Epoch 1/10\n"
          ]
        },
        {
          "output_type": "stream",
          "name": "stderr",
          "text": [
            "/usr/local/lib/python3.10/dist-packages/scikeras/wrappers.py:915: UserWarning: ``build_fn`` will be renamed to ``model`` in a future release, at which point use of ``build_fn`` will raise an Error instead.\n",
            "  X, y = self._initialize(X, y)\n"
          ]
        },
        {
          "output_type": "stream",
          "name": "stdout",
          "text": [
            "118/118 [==============================] - 1s 4ms/step - loss: 0.4829 - accuracy: 0.7503 - val_loss: 0.4359 - val_accuracy: 0.7983\n",
            "Epoch 2/10\n",
            "118/118 [==============================] - 0s 3ms/step - loss: 0.4341 - accuracy: 0.7883 - val_loss: 0.4249 - val_accuracy: 0.8040\n",
            "Epoch 3/10\n",
            "118/118 [==============================] - 0s 2ms/step - loss: 0.4212 - accuracy: 0.8003 - val_loss: 0.4183 - val_accuracy: 0.8082\n",
            "Epoch 4/10\n",
            "118/118 [==============================] - 0s 3ms/step - loss: 0.4135 - accuracy: 0.8035 - val_loss: 0.4277 - val_accuracy: 0.8026\n",
            "Epoch 5/10\n",
            "118/118 [==============================] - 0s 3ms/step - loss: 0.4095 - accuracy: 0.8056 - val_loss: 0.4223 - val_accuracy: 0.8068\n",
            "Epoch 6/10\n",
            "118/118 [==============================] - 0s 3ms/step - loss: 0.4023 - accuracy: 0.8110 - val_loss: 0.4248 - val_accuracy: 0.7926\n",
            "Epoch 7/10\n",
            "118/118 [==============================] - 0s 2ms/step - loss: 0.3973 - accuracy: 0.8139 - val_loss: 0.4264 - val_accuracy: 0.7983\n",
            "Epoch 8/10\n",
            "118/118 [==============================] - 0s 2ms/step - loss: 0.3943 - accuracy: 0.8166 - val_loss: 0.4297 - val_accuracy: 0.7898\n",
            "Epoch 9/10\n",
            "118/118 [==============================] - 0s 3ms/step - loss: 0.3909 - accuracy: 0.8134 - val_loss: 0.4265 - val_accuracy: 0.8054\n",
            "Epoch 10/10\n",
            "118/118 [==============================] - 0s 2ms/step - loss: 0.3853 - accuracy: 0.8174 - val_loss: 0.4302 - val_accuracy: 0.7940\n",
            "59/59 [==============================] - 0s 1ms/step\n",
            "Epoch 1/10\n"
          ]
        },
        {
          "output_type": "stream",
          "name": "stderr",
          "text": [
            "/usr/local/lib/python3.10/dist-packages/scikeras/wrappers.py:915: UserWarning: ``build_fn`` will be renamed to ``model`` in a future release, at which point use of ``build_fn`` will raise an Error instead.\n",
            "  X, y = self._initialize(X, y)\n"
          ]
        },
        {
          "output_type": "stream",
          "name": "stdout",
          "text": [
            "118/118 [==============================] - 1s 3ms/step - loss: 0.5611 - accuracy: 0.6925 - val_loss: 0.4699 - val_accuracy: 0.7372\n",
            "Epoch 2/10\n",
            "118/118 [==============================] - 0s 3ms/step - loss: 0.4610 - accuracy: 0.7575 - val_loss: 0.4438 - val_accuracy: 0.7898\n",
            "Epoch 3/10\n",
            "118/118 [==============================] - 0s 2ms/step - loss: 0.4402 - accuracy: 0.7793 - val_loss: 0.4343 - val_accuracy: 0.7969\n",
            "Epoch 4/10\n",
            "118/118 [==============================] - 0s 3ms/step - loss: 0.4280 - accuracy: 0.7865 - val_loss: 0.4312 - val_accuracy: 0.7983\n",
            "Epoch 5/10\n",
            "118/118 [==============================] - 0s 3ms/step - loss: 0.4206 - accuracy: 0.7947 - val_loss: 0.4307 - val_accuracy: 0.7940\n",
            "Epoch 6/10\n",
            "118/118 [==============================] - 0s 3ms/step - loss: 0.4157 - accuracy: 0.7966 - val_loss: 0.4293 - val_accuracy: 0.7997\n",
            "Epoch 7/10\n",
            "118/118 [==============================] - 0s 2ms/step - loss: 0.4113 - accuracy: 0.8014 - val_loss: 0.4305 - val_accuracy: 0.7983\n",
            "Epoch 8/10\n",
            "118/118 [==============================] - 0s 3ms/step - loss: 0.4073 - accuracy: 0.8051 - val_loss: 0.4302 - val_accuracy: 0.7926\n",
            "Epoch 9/10\n",
            "118/118 [==============================] - 0s 3ms/step - loss: 0.4049 - accuracy: 0.8064 - val_loss: 0.4308 - val_accuracy: 0.8011\n",
            "Epoch 10/10\n",
            "118/118 [==============================] - 0s 2ms/step - loss: 0.4018 - accuracy: 0.8088 - val_loss: 0.4305 - val_accuracy: 0.7898\n",
            "59/59 [==============================] - 0s 2ms/step\n",
            "Epoch 1/10\n"
          ]
        },
        {
          "output_type": "stream",
          "name": "stderr",
          "text": [
            "/usr/local/lib/python3.10/dist-packages/scikeras/wrappers.py:915: UserWarning: ``build_fn`` will be renamed to ``model`` in a future release, at which point use of ``build_fn`` will raise an Error instead.\n",
            "  X, y = self._initialize(X, y)\n"
          ]
        },
        {
          "output_type": "stream",
          "name": "stdout",
          "text": [
            "118/118 [==============================] - 2s 5ms/step - loss: 0.5524 - accuracy: 0.7266 - val_loss: 0.4696 - val_accuracy: 0.7557\n",
            "Epoch 2/10\n",
            "118/118 [==============================] - 0s 3ms/step - loss: 0.4500 - accuracy: 0.7843 - val_loss: 0.4501 - val_accuracy: 0.7841\n",
            "Epoch 3/10\n",
            "118/118 [==============================] - 0s 3ms/step - loss: 0.4356 - accuracy: 0.7923 - val_loss: 0.4450 - val_accuracy: 0.7898\n",
            "Epoch 4/10\n",
            "118/118 [==============================] - 0s 3ms/step - loss: 0.4273 - accuracy: 0.8001 - val_loss: 0.4417 - val_accuracy: 0.7926\n",
            "Epoch 5/10\n",
            "118/118 [==============================] - 0s 2ms/step - loss: 0.4211 - accuracy: 0.8030 - val_loss: 0.4377 - val_accuracy: 0.7912\n",
            "Epoch 6/10\n",
            "118/118 [==============================] - 0s 2ms/step - loss: 0.4149 - accuracy: 0.8006 - val_loss: 0.4418 - val_accuracy: 0.7969\n",
            "Epoch 7/10\n",
            "118/118 [==============================] - 0s 3ms/step - loss: 0.4106 - accuracy: 0.8094 - val_loss: 0.4388 - val_accuracy: 0.7926\n",
            "Epoch 8/10\n",
            "118/118 [==============================] - 0s 3ms/step - loss: 0.4085 - accuracy: 0.8099 - val_loss: 0.4349 - val_accuracy: 0.7955\n",
            "Epoch 9/10\n",
            "118/118 [==============================] - 0s 2ms/step - loss: 0.4032 - accuracy: 0.8120 - val_loss: 0.4331 - val_accuracy: 0.8011\n",
            "Epoch 10/10\n",
            "118/118 [==============================] - 0s 3ms/step - loss: 0.4009 - accuracy: 0.8110 - val_loss: 0.4349 - val_accuracy: 0.7983\n",
            "59/59 [==============================] - 0s 1ms/step\n",
            "Epoch 1/10\n"
          ]
        },
        {
          "output_type": "stream",
          "name": "stderr",
          "text": [
            "/usr/local/lib/python3.10/dist-packages/scikeras/wrappers.py:915: UserWarning: ``build_fn`` will be renamed to ``model`` in a future release, at which point use of ``build_fn`` will raise an Error instead.\n",
            "  X, y = self._initialize(X, y)\n"
          ]
        },
        {
          "output_type": "stream",
          "name": "stdout",
          "text": [
            "118/118 [==============================] - 1s 4ms/step - loss: 0.5448 - accuracy: 0.7042 - val_loss: 0.4666 - val_accuracy: 0.7472\n",
            "Epoch 2/10\n",
            "118/118 [==============================] - 0s 2ms/step - loss: 0.4575 - accuracy: 0.7756 - val_loss: 0.4459 - val_accuracy: 0.7898\n",
            "Epoch 3/10\n",
            "118/118 [==============================] - 0s 2ms/step - loss: 0.4392 - accuracy: 0.7857 - val_loss: 0.4393 - val_accuracy: 0.8011\n",
            "Epoch 4/10\n",
            "118/118 [==============================] - 0s 2ms/step - loss: 0.4290 - accuracy: 0.7926 - val_loss: 0.4280 - val_accuracy: 0.8011\n",
            "Epoch 5/10\n",
            "118/118 [==============================] - 0s 2ms/step - loss: 0.4225 - accuracy: 0.7995 - val_loss: 0.4300 - val_accuracy: 0.8026\n",
            "Epoch 6/10\n",
            "118/118 [==============================] - 0s 3ms/step - loss: 0.4193 - accuracy: 0.8017 - val_loss: 0.4269 - val_accuracy: 0.8011\n",
            "Epoch 7/10\n",
            "118/118 [==============================] - 0s 3ms/step - loss: 0.4159 - accuracy: 0.8019 - val_loss: 0.4265 - val_accuracy: 0.7997\n",
            "Epoch 8/10\n",
            "118/118 [==============================] - 0s 2ms/step - loss: 0.4115 - accuracy: 0.8040 - val_loss: 0.4267 - val_accuracy: 0.7983\n",
            "Epoch 9/10\n",
            "118/118 [==============================] - 0s 2ms/step - loss: 0.4090 - accuracy: 0.8107 - val_loss: 0.4281 - val_accuracy: 0.8026\n",
            "Epoch 10/10\n",
            "118/118 [==============================] - 0s 3ms/step - loss: 0.4080 - accuracy: 0.8067 - val_loss: 0.4255 - val_accuracy: 0.7983\n",
            "59/59 [==============================] - 0s 1ms/step\n",
            "Epoch 1/10\n"
          ]
        },
        {
          "output_type": "stream",
          "name": "stderr",
          "text": [
            "/usr/local/lib/python3.10/dist-packages/scikeras/wrappers.py:915: UserWarning: ``build_fn`` will be renamed to ``model`` in a future release, at which point use of ``build_fn`` will raise an Error instead.\n",
            "  X, y = self._initialize(X, y)\n"
          ]
        },
        {
          "output_type": "stream",
          "name": "stdout",
          "text": [
            "118/118 [==============================] - 1s 4ms/step - loss: 0.5192 - accuracy: 0.7468 - val_loss: 0.4624 - val_accuracy: 0.7798\n",
            "Epoch 2/10\n",
            "118/118 [==============================] - 0s 3ms/step - loss: 0.4464 - accuracy: 0.7878 - val_loss: 0.4399 - val_accuracy: 0.7912\n",
            "Epoch 3/10\n",
            "118/118 [==============================] - 0s 3ms/step - loss: 0.4314 - accuracy: 0.7926 - val_loss: 0.4364 - val_accuracy: 0.7912\n",
            "Epoch 4/10\n",
            "118/118 [==============================] - 0s 2ms/step - loss: 0.4228 - accuracy: 0.7979 - val_loss: 0.4338 - val_accuracy: 0.7912\n",
            "Epoch 5/10\n",
            "118/118 [==============================] - 0s 3ms/step - loss: 0.4166 - accuracy: 0.8054 - val_loss: 0.4309 - val_accuracy: 0.7912\n",
            "Epoch 6/10\n",
            "118/118 [==============================] - 0s 3ms/step - loss: 0.4120 - accuracy: 0.8067 - val_loss: 0.4356 - val_accuracy: 0.7898\n",
            "Epoch 7/10\n",
            "118/118 [==============================] - 0s 2ms/step - loss: 0.4087 - accuracy: 0.8078 - val_loss: 0.4321 - val_accuracy: 0.7997\n",
            "Epoch 8/10\n",
            "118/118 [==============================] - 0s 2ms/step - loss: 0.4052 - accuracy: 0.8083 - val_loss: 0.4297 - val_accuracy: 0.7884\n",
            "Epoch 9/10\n",
            "118/118 [==============================] - 0s 3ms/step - loss: 0.4026 - accuracy: 0.8131 - val_loss: 0.4329 - val_accuracy: 0.7841\n",
            "Epoch 10/10\n",
            "118/118 [==============================] - 0s 4ms/step - loss: 0.3998 - accuracy: 0.8150 - val_loss: 0.4326 - val_accuracy: 0.7827\n",
            "59/59 [==============================] - 0s 2ms/step\n",
            "Epoch 1/10\n"
          ]
        },
        {
          "output_type": "stream",
          "name": "stderr",
          "text": [
            "/usr/local/lib/python3.10/dist-packages/scikeras/wrappers.py:915: UserWarning: ``build_fn`` will be renamed to ``model`` in a future release, at which point use of ``build_fn`` will raise an Error instead.\n",
            "  X, y = self._initialize(X, y)\n"
          ]
        },
        {
          "output_type": "stream",
          "name": "stdout",
          "text": [
            "118/118 [==============================] - 2s 6ms/step - loss: 0.5220 - accuracy: 0.7095 - val_loss: 0.4574 - val_accuracy: 0.7670\n",
            "Epoch 2/10\n",
            "118/118 [==============================] - 0s 4ms/step - loss: 0.4477 - accuracy: 0.7817 - val_loss: 0.4387 - val_accuracy: 0.7926\n",
            "Epoch 3/10\n",
            "118/118 [==============================] - 0s 3ms/step - loss: 0.4324 - accuracy: 0.7931 - val_loss: 0.4320 - val_accuracy: 0.7955\n",
            "Epoch 4/10\n",
            "118/118 [==============================] - 0s 3ms/step - loss: 0.4230 - accuracy: 0.7977 - val_loss: 0.4326 - val_accuracy: 0.7997\n",
            "Epoch 5/10\n",
            "118/118 [==============================] - 0s 3ms/step - loss: 0.4163 - accuracy: 0.8019 - val_loss: 0.4302 - val_accuracy: 0.8040\n",
            "Epoch 6/10\n",
            "118/118 [==============================] - 0s 3ms/step - loss: 0.4139 - accuracy: 0.8019 - val_loss: 0.4303 - val_accuracy: 0.7969\n",
            "Epoch 7/10\n",
            "118/118 [==============================] - 0s 3ms/step - loss: 0.4097 - accuracy: 0.8038 - val_loss: 0.4317 - val_accuracy: 0.7926\n",
            "Epoch 8/10\n",
            "118/118 [==============================] - 0s 3ms/step - loss: 0.4063 - accuracy: 0.8064 - val_loss: 0.4308 - val_accuracy: 0.7997\n",
            "Epoch 9/10\n",
            "118/118 [==============================] - 0s 4ms/step - loss: 0.4034 - accuracy: 0.8032 - val_loss: 0.4297 - val_accuracy: 0.8026\n",
            "Epoch 10/10\n",
            "118/118 [==============================] - 0s 3ms/step - loss: 0.4005 - accuracy: 0.8120 - val_loss: 0.4339 - val_accuracy: 0.7983\n",
            "59/59 [==============================] - 0s 2ms/step\n",
            "Epoch 1/10\n"
          ]
        },
        {
          "output_type": "stream",
          "name": "stderr",
          "text": [
            "/usr/local/lib/python3.10/dist-packages/scikeras/wrappers.py:915: UserWarning: ``build_fn`` will be renamed to ``model`` in a future release, at which point use of ``build_fn`` will raise an Error instead.\n",
            "  X, y = self._initialize(X, y)\n"
          ]
        },
        {
          "output_type": "stream",
          "name": "stdout",
          "text": [
            "118/118 [==============================] - 1s 4ms/step - loss: 0.5160 - accuracy: 0.7287 - val_loss: 0.4504 - val_accuracy: 0.7614\n",
            "Epoch 2/10\n",
            "118/118 [==============================] - 0s 3ms/step - loss: 0.4511 - accuracy: 0.7724 - val_loss: 0.4351 - val_accuracy: 0.7884\n",
            "Epoch 3/10\n",
            "118/118 [==============================] - 0s 3ms/step - loss: 0.4363 - accuracy: 0.7923 - val_loss: 0.4312 - val_accuracy: 0.7898\n",
            "Epoch 4/10\n",
            "118/118 [==============================] - 0s 3ms/step - loss: 0.4267 - accuracy: 0.7971 - val_loss: 0.4288 - val_accuracy: 0.7926\n",
            "Epoch 5/10\n",
            "118/118 [==============================] - 0s 2ms/step - loss: 0.4209 - accuracy: 0.8022 - val_loss: 0.4272 - val_accuracy: 0.8011\n",
            "Epoch 6/10\n",
            "118/118 [==============================] - 0s 3ms/step - loss: 0.4162 - accuracy: 0.8043 - val_loss: 0.4264 - val_accuracy: 0.7969\n",
            "Epoch 7/10\n",
            "118/118 [==============================] - 0s 3ms/step - loss: 0.4109 - accuracy: 0.8112 - val_loss: 0.4277 - val_accuracy: 0.7912\n",
            "Epoch 8/10\n",
            "118/118 [==============================] - 0s 2ms/step - loss: 0.4085 - accuracy: 0.8091 - val_loss: 0.4267 - val_accuracy: 0.7926\n",
            "Epoch 9/10\n",
            "118/118 [==============================] - 0s 3ms/step - loss: 0.4046 - accuracy: 0.8128 - val_loss: 0.4285 - val_accuracy: 0.7983\n",
            "Epoch 10/10\n",
            "118/118 [==============================] - 0s 3ms/step - loss: 0.4011 - accuracy: 0.8118 - val_loss: 0.4280 - val_accuracy: 0.7926\n",
            "59/59 [==============================] - 0s 1ms/step\n",
            "Epoch 1/10\n"
          ]
        },
        {
          "output_type": "stream",
          "name": "stderr",
          "text": [
            "/usr/local/lib/python3.10/dist-packages/scikeras/wrappers.py:915: UserWarning: ``build_fn`` will be renamed to ``model`` in a future release, at which point use of ``build_fn`` will raise an Error instead.\n",
            "  X, y = self._initialize(X, y)\n"
          ]
        },
        {
          "output_type": "stream",
          "name": "stdout",
          "text": [
            "118/118 [==============================] - 1s 4ms/step - loss: 0.5520 - accuracy: 0.7149 - val_loss: 0.4696 - val_accuracy: 0.7415\n",
            "Epoch 2/10\n",
            "118/118 [==============================] - 0s 3ms/step - loss: 0.4528 - accuracy: 0.7569 - val_loss: 0.4497 - val_accuracy: 0.7898\n",
            "Epoch 3/10\n",
            "118/118 [==============================] - 0s 3ms/step - loss: 0.4357 - accuracy: 0.7915 - val_loss: 0.4406 - val_accuracy: 0.8011\n",
            "Epoch 4/10\n",
            "118/118 [==============================] - 0s 2ms/step - loss: 0.4245 - accuracy: 0.8022 - val_loss: 0.4362 - val_accuracy: 0.7926\n",
            "Epoch 5/10\n",
            "118/118 [==============================] - 0s 3ms/step - loss: 0.4174 - accuracy: 0.7998 - val_loss: 0.4307 - val_accuracy: 0.7983\n",
            "Epoch 6/10\n",
            "118/118 [==============================] - 0s 2ms/step - loss: 0.4128 - accuracy: 0.8040 - val_loss: 0.4319 - val_accuracy: 0.7898\n",
            "Epoch 7/10\n",
            "118/118 [==============================] - 0s 2ms/step - loss: 0.4093 - accuracy: 0.8054 - val_loss: 0.4312 - val_accuracy: 0.7955\n",
            "Epoch 8/10\n",
            "118/118 [==============================] - 0s 3ms/step - loss: 0.4068 - accuracy: 0.8083 - val_loss: 0.4332 - val_accuracy: 0.7940\n",
            "Epoch 9/10\n",
            "118/118 [==============================] - 0s 3ms/step - loss: 0.4034 - accuracy: 0.8094 - val_loss: 0.4320 - val_accuracy: 0.7940\n",
            "Epoch 10/10\n",
            "118/118 [==============================] - 0s 3ms/step - loss: 0.4013 - accuracy: 0.8072 - val_loss: 0.4320 - val_accuracy: 0.7898\n",
            "59/59 [==============================] - 0s 2ms/step\n",
            "Epoch 1/10\n"
          ]
        },
        {
          "output_type": "stream",
          "name": "stderr",
          "text": [
            "/usr/local/lib/python3.10/dist-packages/scikeras/wrappers.py:915: UserWarning: ``build_fn`` will be renamed to ``model`` in a future release, at which point use of ``build_fn`` will raise an Error instead.\n",
            "  X, y = self._initialize(X, y)\n"
          ]
        },
        {
          "output_type": "stream",
          "name": "stdout",
          "text": [
            "118/118 [==============================] - 2s 5ms/step - loss: 0.5260 - accuracy: 0.7362 - val_loss: 0.4487 - val_accuracy: 0.7997\n",
            "Epoch 2/10\n",
            "118/118 [==============================] - 0s 3ms/step - loss: 0.4440 - accuracy: 0.7918 - val_loss: 0.4277 - val_accuracy: 0.8082\n",
            "Epoch 3/10\n",
            "118/118 [==============================] - 0s 3ms/step - loss: 0.4313 - accuracy: 0.7977 - val_loss: 0.4219 - val_accuracy: 0.8040\n",
            "Epoch 4/10\n",
            "118/118 [==============================] - 0s 3ms/step - loss: 0.4237 - accuracy: 0.8001 - val_loss: 0.4179 - val_accuracy: 0.8153\n",
            "Epoch 5/10\n",
            "118/118 [==============================] - 0s 2ms/step - loss: 0.4181 - accuracy: 0.8056 - val_loss: 0.4162 - val_accuracy: 0.8125\n",
            "Epoch 6/10\n",
            "118/118 [==============================] - 0s 3ms/step - loss: 0.4156 - accuracy: 0.8067 - val_loss: 0.4166 - val_accuracy: 0.8125\n",
            "Epoch 7/10\n",
            "118/118 [==============================] - 0s 3ms/step - loss: 0.4112 - accuracy: 0.8072 - val_loss: 0.4164 - val_accuracy: 0.8068\n",
            "Epoch 8/10\n",
            "118/118 [==============================] - 0s 3ms/step - loss: 0.4083 - accuracy: 0.8099 - val_loss: 0.4177 - val_accuracy: 0.8054\n",
            "Epoch 9/10\n",
            "118/118 [==============================] - 0s 3ms/step - loss: 0.4052 - accuracy: 0.8099 - val_loss: 0.4144 - val_accuracy: 0.8111\n",
            "Epoch 10/10\n",
            "118/118 [==============================] - 0s 2ms/step - loss: 0.4026 - accuracy: 0.8128 - val_loss: 0.4156 - val_accuracy: 0.8125\n",
            "59/59 [==============================] - 0s 1ms/step\n",
            "Epoch 1/10\n"
          ]
        },
        {
          "output_type": "stream",
          "name": "stderr",
          "text": [
            "/usr/local/lib/python3.10/dist-packages/scikeras/wrappers.py:915: UserWarning: ``build_fn`` will be renamed to ``model`` in a future release, at which point use of ``build_fn`` will raise an Error instead.\n",
            "  X, y = self._initialize(X, y)\n"
          ]
        },
        {
          "output_type": "stream",
          "name": "stdout",
          "text": [
            "118/118 [==============================] - 1s 4ms/step - loss: 0.5347 - accuracy: 0.7306 - val_loss: 0.4586 - val_accuracy: 0.7472\n",
            "Epoch 2/10\n",
            "118/118 [==============================] - 0s 2ms/step - loss: 0.4595 - accuracy: 0.7652 - val_loss: 0.4340 - val_accuracy: 0.8011\n",
            "Epoch 3/10\n",
            "118/118 [==============================] - 0s 3ms/step - loss: 0.4404 - accuracy: 0.7809 - val_loss: 0.4291 - val_accuracy: 0.8040\n",
            "Epoch 4/10\n",
            "118/118 [==============================] - 0s 3ms/step - loss: 0.4310 - accuracy: 0.7899 - val_loss: 0.4288 - val_accuracy: 0.7997\n",
            "Epoch 5/10\n",
            "118/118 [==============================] - 0s 3ms/step - loss: 0.4250 - accuracy: 0.7969 - val_loss: 0.4307 - val_accuracy: 0.8040\n",
            "Epoch 6/10\n",
            "118/118 [==============================] - 0s 2ms/step - loss: 0.4195 - accuracy: 0.8017 - val_loss: 0.4309 - val_accuracy: 0.7997\n",
            "Epoch 7/10\n",
            "118/118 [==============================] - 0s 2ms/step - loss: 0.4159 - accuracy: 0.8014 - val_loss: 0.4333 - val_accuracy: 0.7926\n",
            "Epoch 8/10\n",
            "118/118 [==============================] - 0s 2ms/step - loss: 0.4123 - accuracy: 0.8078 - val_loss: 0.4337 - val_accuracy: 0.7955\n",
            "Epoch 9/10\n",
            "118/118 [==============================] - 0s 2ms/step - loss: 0.4093 - accuracy: 0.8048 - val_loss: 0.4358 - val_accuracy: 0.7898\n",
            "Epoch 10/10\n",
            "118/118 [==============================] - 0s 2ms/step - loss: 0.4058 - accuracy: 0.8080 - val_loss: 0.4359 - val_accuracy: 0.7898\n",
            "59/59 [==============================] - 0s 1ms/step\n",
            "Epoch 1/10\n"
          ]
        },
        {
          "output_type": "stream",
          "name": "stderr",
          "text": [
            "/usr/local/lib/python3.10/dist-packages/scikeras/wrappers.py:915: UserWarning: ``build_fn`` will be renamed to ``model`` in a future release, at which point use of ``build_fn`` will raise an Error instead.\n",
            "  X, y = self._initialize(X, y)\n"
          ]
        },
        {
          "output_type": "stream",
          "name": "stdout",
          "text": [
            "118/118 [==============================] - 1s 4ms/step - loss: 0.4939 - accuracy: 0.7314 - val_loss: 0.4477 - val_accuracy: 0.7401\n",
            "Epoch 2/10\n",
            "118/118 [==============================] - 0s 3ms/step - loss: 0.4460 - accuracy: 0.7662 - val_loss: 0.4409 - val_accuracy: 0.7926\n",
            "Epoch 3/10\n",
            "118/118 [==============================] - 0s 2ms/step - loss: 0.4299 - accuracy: 0.7947 - val_loss: 0.4384 - val_accuracy: 0.7983\n",
            "Epoch 4/10\n",
            "118/118 [==============================] - 0s 3ms/step - loss: 0.4195 - accuracy: 0.8038 - val_loss: 0.4287 - val_accuracy: 0.8068\n",
            "Epoch 5/10\n",
            "118/118 [==============================] - 0s 3ms/step - loss: 0.4098 - accuracy: 0.8062 - val_loss: 0.4280 - val_accuracy: 0.8082\n",
            "Epoch 6/10\n",
            "118/118 [==============================] - 0s 2ms/step - loss: 0.4033 - accuracy: 0.8091 - val_loss: 0.4280 - val_accuracy: 0.7997\n",
            "Epoch 7/10\n",
            "118/118 [==============================] - 0s 2ms/step - loss: 0.3988 - accuracy: 0.8163 - val_loss: 0.4303 - val_accuracy: 0.8082\n",
            "Epoch 8/10\n",
            "118/118 [==============================] - 0s 3ms/step - loss: 0.3927 - accuracy: 0.8168 - val_loss: 0.4357 - val_accuracy: 0.7997\n",
            "Epoch 9/10\n",
            "118/118 [==============================] - 0s 4ms/step - loss: 0.3892 - accuracy: 0.8184 - val_loss: 0.4360 - val_accuracy: 0.7955\n",
            "Epoch 10/10\n",
            "118/118 [==============================] - 0s 3ms/step - loss: 0.3859 - accuracy: 0.8198 - val_loss: 0.4340 - val_accuracy: 0.7926\n",
            "59/59 [==============================] - 0s 2ms/step\n",
            "Epoch 1/10\n"
          ]
        },
        {
          "output_type": "stream",
          "name": "stderr",
          "text": [
            "/usr/local/lib/python3.10/dist-packages/scikeras/wrappers.py:915: UserWarning: ``build_fn`` will be renamed to ``model`` in a future release, at which point use of ``build_fn`` will raise an Error instead.\n",
            "  X, y = self._initialize(X, y)\n"
          ]
        },
        {
          "output_type": "stream",
          "name": "stdout",
          "text": [
            "118/118 [==============================] - 2s 5ms/step - loss: 0.5028 - accuracy: 0.7505 - val_loss: 0.4419 - val_accuracy: 0.7884\n",
            "Epoch 2/10\n",
            "118/118 [==============================] - 0s 3ms/step - loss: 0.4357 - accuracy: 0.7955 - val_loss: 0.4295 - val_accuracy: 0.8026\n",
            "Epoch 3/10\n",
            "118/118 [==============================] - 0s 3ms/step - loss: 0.4241 - accuracy: 0.7977 - val_loss: 0.4226 - val_accuracy: 0.8011\n",
            "Epoch 4/10\n",
            "118/118 [==============================] - 0s 2ms/step - loss: 0.4161 - accuracy: 0.8043 - val_loss: 0.4215 - val_accuracy: 0.7997\n",
            "Epoch 5/10\n",
            "118/118 [==============================] - 0s 3ms/step - loss: 0.4111 - accuracy: 0.8030 - val_loss: 0.4188 - val_accuracy: 0.8068\n",
            "Epoch 6/10\n",
            "118/118 [==============================] - 0s 3ms/step - loss: 0.4064 - accuracy: 0.8091 - val_loss: 0.4163 - val_accuracy: 0.8068\n",
            "Epoch 7/10\n",
            "118/118 [==============================] - 0s 3ms/step - loss: 0.4024 - accuracy: 0.8088 - val_loss: 0.4195 - val_accuracy: 0.8097\n",
            "Epoch 8/10\n",
            "118/118 [==============================] - 0s 3ms/step - loss: 0.3982 - accuracy: 0.8134 - val_loss: 0.4178 - val_accuracy: 0.8125\n",
            "Epoch 9/10\n",
            "118/118 [==============================] - 0s 3ms/step - loss: 0.3964 - accuracy: 0.8136 - val_loss: 0.4208 - val_accuracy: 0.8139\n",
            "Epoch 10/10\n",
            "118/118 [==============================] - 0s 3ms/step - loss: 0.3935 - accuracy: 0.8206 - val_loss: 0.4227 - val_accuracy: 0.8182\n",
            "59/59 [==============================] - 0s 1ms/step\n",
            "Epoch 1/10\n"
          ]
        },
        {
          "output_type": "stream",
          "name": "stderr",
          "text": [
            "/usr/local/lib/python3.10/dist-packages/scikeras/wrappers.py:915: UserWarning: ``build_fn`` will be renamed to ``model`` in a future release, at which point use of ``build_fn`` will raise an Error instead.\n",
            "  X, y = self._initialize(X, y)\n"
          ]
        },
        {
          "output_type": "stream",
          "name": "stdout",
          "text": [
            "118/118 [==============================] - 1s 4ms/step - loss: 0.6393 - accuracy: 0.6456 - val_loss: 0.5080 - val_accuracy: 0.7628\n",
            "Epoch 2/10\n",
            "118/118 [==============================] - 0s 2ms/step - loss: 0.4618 - accuracy: 0.7841 - val_loss: 0.4366 - val_accuracy: 0.7898\n",
            "Epoch 3/10\n",
            "118/118 [==============================] - 0s 2ms/step - loss: 0.4351 - accuracy: 0.7961 - val_loss: 0.4295 - val_accuracy: 0.7912\n",
            "Epoch 4/10\n",
            "118/118 [==============================] - 0s 2ms/step - loss: 0.4252 - accuracy: 0.8006 - val_loss: 0.4297 - val_accuracy: 0.7955\n",
            "Epoch 5/10\n",
            "118/118 [==============================] - 0s 2ms/step - loss: 0.4201 - accuracy: 0.8017 - val_loss: 0.4302 - val_accuracy: 0.7983\n",
            "Epoch 6/10\n",
            "118/118 [==============================] - 0s 3ms/step - loss: 0.4164 - accuracy: 0.8062 - val_loss: 0.4260 - val_accuracy: 0.8068\n",
            "Epoch 7/10\n",
            "118/118 [==============================] - 0s 2ms/step - loss: 0.4115 - accuracy: 0.8059 - val_loss: 0.4273 - val_accuracy: 0.7940\n",
            "Epoch 8/10\n",
            "118/118 [==============================] - 0s 3ms/step - loss: 0.4090 - accuracy: 0.8075 - val_loss: 0.4305 - val_accuracy: 0.7983\n",
            "Epoch 9/10\n",
            "118/118 [==============================] - 0s 3ms/step - loss: 0.4051 - accuracy: 0.8120 - val_loss: 0.4250 - val_accuracy: 0.7898\n",
            "Epoch 10/10\n",
            "118/118 [==============================] - 0s 3ms/step - loss: 0.4031 - accuracy: 0.8096 - val_loss: 0.4266 - val_accuracy: 0.7983\n",
            "59/59 [==============================] - 0s 1ms/step\n",
            "Epoch 1/10\n"
          ]
        },
        {
          "output_type": "stream",
          "name": "stderr",
          "text": [
            "/usr/local/lib/python3.10/dist-packages/scikeras/wrappers.py:915: UserWarning: ``build_fn`` will be renamed to ``model`` in a future release, at which point use of ``build_fn`` will raise an Error instead.\n",
            "  X, y = self._initialize(X, y)\n"
          ]
        },
        {
          "output_type": "stream",
          "name": "stdout",
          "text": [
            "118/118 [==============================] - 1s 4ms/step - loss: 0.5099 - accuracy: 0.7322 - val_loss: 0.4543 - val_accuracy: 0.7486\n",
            "Epoch 2/10\n",
            "118/118 [==============================] - 0s 4ms/step - loss: 0.4428 - accuracy: 0.7782 - val_loss: 0.4360 - val_accuracy: 0.8011\n",
            "Epoch 3/10\n",
            "118/118 [==============================] - 0s 4ms/step - loss: 0.4252 - accuracy: 0.7985 - val_loss: 0.4286 - val_accuracy: 0.7940\n",
            "Epoch 4/10\n",
            "118/118 [==============================] - 0s 4ms/step - loss: 0.4167 - accuracy: 0.8046 - val_loss: 0.4286 - val_accuracy: 0.7926\n",
            "Epoch 5/10\n",
            "118/118 [==============================] - 0s 3ms/step - loss: 0.4105 - accuracy: 0.8032 - val_loss: 0.4284 - val_accuracy: 0.7997\n",
            "Epoch 6/10\n",
            "118/118 [==============================] - 0s 3ms/step - loss: 0.4045 - accuracy: 0.8083 - val_loss: 0.4289 - val_accuracy: 0.7997\n",
            "Epoch 7/10\n",
            "118/118 [==============================] - 0s 4ms/step - loss: 0.3994 - accuracy: 0.8112 - val_loss: 0.4257 - val_accuracy: 0.7912\n",
            "Epoch 8/10\n",
            "118/118 [==============================] - 0s 3ms/step - loss: 0.3958 - accuracy: 0.8142 - val_loss: 0.4294 - val_accuracy: 0.7926\n",
            "Epoch 9/10\n",
            "118/118 [==============================] - 0s 3ms/step - loss: 0.3925 - accuracy: 0.8150 - val_loss: 0.4275 - val_accuracy: 0.7969\n",
            "Epoch 10/10\n",
            "118/118 [==============================] - 0s 4ms/step - loss: 0.3896 - accuracy: 0.8160 - val_loss: 0.4312 - val_accuracy: 0.8040\n",
            "59/59 [==============================] - 0s 2ms/step\n",
            "Epoch 1/10\n"
          ]
        },
        {
          "output_type": "stream",
          "name": "stderr",
          "text": [
            "/usr/local/lib/python3.10/dist-packages/scikeras/wrappers.py:915: UserWarning: ``build_fn`` will be renamed to ``model`` in a future release, at which point use of ``build_fn`` will raise an Error instead.\n",
            "  X, y = self._initialize(X, y)\n"
          ]
        },
        {
          "output_type": "stream",
          "name": "stdout",
          "text": [
            "118/118 [==============================] - 2s 4ms/step - loss: 0.4950 - accuracy: 0.7633 - val_loss: 0.4265 - val_accuracy: 0.8011\n",
            "Epoch 2/10\n",
            "118/118 [==============================] - 0s 2ms/step - loss: 0.4319 - accuracy: 0.7958 - val_loss: 0.4219 - val_accuracy: 0.7940\n",
            "Epoch 3/10\n",
            "118/118 [==============================] - 0s 3ms/step - loss: 0.4223 - accuracy: 0.7974 - val_loss: 0.4179 - val_accuracy: 0.8011\n",
            "Epoch 4/10\n",
            "118/118 [==============================] - 0s 2ms/step - loss: 0.4171 - accuracy: 0.8040 - val_loss: 0.4150 - val_accuracy: 0.8168\n",
            "Epoch 5/10\n",
            "118/118 [==============================] - 0s 3ms/step - loss: 0.4136 - accuracy: 0.8091 - val_loss: 0.4140 - val_accuracy: 0.7997\n",
            "Epoch 6/10\n",
            "118/118 [==============================] - 0s 2ms/step - loss: 0.4082 - accuracy: 0.8107 - val_loss: 0.4164 - val_accuracy: 0.8026\n",
            "Epoch 7/10\n",
            "118/118 [==============================] - 0s 3ms/step - loss: 0.4069 - accuracy: 0.8104 - val_loss: 0.4139 - val_accuracy: 0.8054\n",
            "Epoch 8/10\n",
            "118/118 [==============================] - 0s 3ms/step - loss: 0.4025 - accuracy: 0.8160 - val_loss: 0.4184 - val_accuracy: 0.8026\n",
            "Epoch 9/10\n",
            "118/118 [==============================] - 0s 2ms/step - loss: 0.3998 - accuracy: 0.8147 - val_loss: 0.4268 - val_accuracy: 0.7955\n",
            "Epoch 10/10\n",
            "118/118 [==============================] - 0s 2ms/step - loss: 0.3981 - accuracy: 0.8136 - val_loss: 0.4167 - val_accuracy: 0.8026\n",
            "59/59 [==============================] - 0s 1ms/step\n",
            "Epoch 1/10\n"
          ]
        },
        {
          "output_type": "stream",
          "name": "stderr",
          "text": [
            "/usr/local/lib/python3.10/dist-packages/scikeras/wrappers.py:915: UserWarning: ``build_fn`` will be renamed to ``model`` in a future release, at which point use of ``build_fn`` will raise an Error instead.\n",
            "  X, y = self._initialize(X, y)\n"
          ]
        },
        {
          "output_type": "stream",
          "name": "stdout",
          "text": [
            "118/118 [==============================] - 1s 4ms/step - loss: 0.5142 - accuracy: 0.7343 - val_loss: 0.4492 - val_accuracy: 0.7827\n",
            "Epoch 2/10\n",
            "118/118 [==============================] - 0s 2ms/step - loss: 0.4378 - accuracy: 0.7918 - val_loss: 0.4339 - val_accuracy: 0.7969\n",
            "Epoch 3/10\n",
            "118/118 [==============================] - 0s 2ms/step - loss: 0.4245 - accuracy: 0.7979 - val_loss: 0.4274 - val_accuracy: 0.8068\n",
            "Epoch 4/10\n",
            "118/118 [==============================] - 0s 2ms/step - loss: 0.4173 - accuracy: 0.8011 - val_loss: 0.4251 - val_accuracy: 0.7983\n",
            "Epoch 5/10\n",
            "118/118 [==============================] - 0s 2ms/step - loss: 0.4134 - accuracy: 0.8011 - val_loss: 0.4265 - val_accuracy: 0.7940\n",
            "Epoch 6/10\n",
            "118/118 [==============================] - 0s 2ms/step - loss: 0.4101 - accuracy: 0.8035 - val_loss: 0.4269 - val_accuracy: 0.7926\n",
            "Epoch 7/10\n",
            "118/118 [==============================] - 0s 2ms/step - loss: 0.4059 - accuracy: 0.8051 - val_loss: 0.4282 - val_accuracy: 0.7969\n",
            "Epoch 8/10\n",
            "118/118 [==============================] - 0s 3ms/step - loss: 0.4035 - accuracy: 0.8078 - val_loss: 0.4301 - val_accuracy: 0.7926\n",
            "Epoch 9/10\n",
            "118/118 [==============================] - 0s 2ms/step - loss: 0.3988 - accuracy: 0.8067 - val_loss: 0.4337 - val_accuracy: 0.7969\n",
            "Epoch 10/10\n",
            "118/118 [==============================] - 0s 3ms/step - loss: 0.3957 - accuracy: 0.8120 - val_loss: 0.4311 - val_accuracy: 0.7926\n",
            "59/59 [==============================] - 3s 2ms/step\n",
            "Epoch 1/10\n"
          ]
        },
        {
          "output_type": "stream",
          "name": "stderr",
          "text": [
            "/usr/local/lib/python3.10/dist-packages/scikeras/wrappers.py:915: UserWarning: ``build_fn`` will be renamed to ``model`` in a future release, at which point use of ``build_fn`` will raise an Error instead.\n",
            "  X, y = self._initialize(X, y)\n"
          ]
        },
        {
          "output_type": "stream",
          "name": "stdout",
          "text": [
            "118/118 [==============================] - 2s 6ms/step - loss: 0.5528 - accuracy: 0.6904 - val_loss: 0.4498 - val_accuracy: 0.7827\n",
            "Epoch 2/10\n",
            "118/118 [==============================] - 0s 4ms/step - loss: 0.4330 - accuracy: 0.7883 - val_loss: 0.4297 - val_accuracy: 0.7926\n",
            "Epoch 3/10\n",
            "118/118 [==============================] - 0s 4ms/step - loss: 0.4190 - accuracy: 0.8014 - val_loss: 0.4218 - val_accuracy: 0.8082\n",
            "Epoch 4/10\n",
            "118/118 [==============================] - 0s 4ms/step - loss: 0.4122 - accuracy: 0.8072 - val_loss: 0.4224 - val_accuracy: 0.7912\n",
            "Epoch 5/10\n",
            "118/118 [==============================] - 0s 2ms/step - loss: 0.4063 - accuracy: 0.8067 - val_loss: 0.4243 - val_accuracy: 0.7983\n",
            "Epoch 6/10\n",
            "118/118 [==============================] - 0s 3ms/step - loss: 0.4015 - accuracy: 0.8115 - val_loss: 0.4160 - val_accuracy: 0.8054\n",
            "Epoch 7/10\n",
            "118/118 [==============================] - 0s 3ms/step - loss: 0.3983 - accuracy: 0.8094 - val_loss: 0.4201 - val_accuracy: 0.7969\n",
            "Epoch 8/10\n",
            "118/118 [==============================] - 0s 3ms/step - loss: 0.3948 - accuracy: 0.8086 - val_loss: 0.4225 - val_accuracy: 0.7869\n",
            "Epoch 9/10\n",
            "118/118 [==============================] - 0s 3ms/step - loss: 0.3912 - accuracy: 0.8174 - val_loss: 0.4245 - val_accuracy: 0.7983\n",
            "Epoch 10/10\n",
            "118/118 [==============================] - 0s 2ms/step - loss: 0.3881 - accuracy: 0.8176 - val_loss: 0.4216 - val_accuracy: 0.7969\n",
            "59/59 [==============================] - 0s 1ms/step\n",
            "Epoch 1/10\n"
          ]
        },
        {
          "output_type": "stream",
          "name": "stderr",
          "text": [
            "/usr/local/lib/python3.10/dist-packages/scikeras/wrappers.py:915: UserWarning: ``build_fn`` will be renamed to ``model`` in a future release, at which point use of ``build_fn`` will raise an Error instead.\n",
            "  X, y = self._initialize(X, y)\n"
          ]
        },
        {
          "output_type": "stream",
          "name": "stdout",
          "text": [
            "118/118 [==============================] - 1s 4ms/step - loss: 0.5508 - accuracy: 0.7146 - val_loss: 0.4429 - val_accuracy: 0.7969\n",
            "Epoch 2/10\n",
            "118/118 [==============================] - 0s 3ms/step - loss: 0.4354 - accuracy: 0.7950 - val_loss: 0.4320 - val_accuracy: 0.7983\n",
            "Epoch 3/10\n",
            "118/118 [==============================] - 0s 3ms/step - loss: 0.4197 - accuracy: 0.8001 - val_loss: 0.4289 - val_accuracy: 0.8011\n",
            "Epoch 4/10\n",
            "118/118 [==============================] - 0s 3ms/step - loss: 0.4137 - accuracy: 0.8062 - val_loss: 0.4245 - val_accuracy: 0.7969\n",
            "Epoch 5/10\n",
            "118/118 [==============================] - 0s 3ms/step - loss: 0.4072 - accuracy: 0.8072 - val_loss: 0.4262 - val_accuracy: 0.7940\n",
            "Epoch 6/10\n",
            "118/118 [==============================] - 0s 2ms/step - loss: 0.4022 - accuracy: 0.8131 - val_loss: 0.4279 - val_accuracy: 0.7955\n",
            "Epoch 7/10\n",
            "118/118 [==============================] - 0s 3ms/step - loss: 0.3977 - accuracy: 0.8150 - val_loss: 0.4268 - val_accuracy: 0.7926\n",
            "Epoch 8/10\n",
            "118/118 [==============================] - 0s 3ms/step - loss: 0.3937 - accuracy: 0.8171 - val_loss: 0.4330 - val_accuracy: 0.7926\n",
            "Epoch 9/10\n",
            "118/118 [==============================] - 0s 2ms/step - loss: 0.3900 - accuracy: 0.8198 - val_loss: 0.4296 - val_accuracy: 0.7997\n",
            "Epoch 10/10\n",
            "118/118 [==============================] - 0s 3ms/step - loss: 0.3872 - accuracy: 0.8208 - val_loss: 0.4316 - val_accuracy: 0.7926\n",
            "59/59 [==============================] - 0s 2ms/step\n",
            "Epoch 1/10\n"
          ]
        },
        {
          "output_type": "stream",
          "name": "stderr",
          "text": [
            "/usr/local/lib/python3.10/dist-packages/scikeras/wrappers.py:915: UserWarning: ``build_fn`` will be renamed to ``model`` in a future release, at which point use of ``build_fn`` will raise an Error instead.\n",
            "  X, y = self._initialize(X, y)\n"
          ]
        },
        {
          "output_type": "stream",
          "name": "stdout",
          "text": [
            "118/118 [==============================] - 2s 6ms/step - loss: 0.5062 - accuracy: 0.7489 - val_loss: 0.4403 - val_accuracy: 0.8026\n",
            "Epoch 2/10\n",
            "118/118 [==============================] - 0s 4ms/step - loss: 0.4362 - accuracy: 0.7886 - val_loss: 0.4244 - val_accuracy: 0.7898\n",
            "Epoch 3/10\n",
            "118/118 [==============================] - 0s 3ms/step - loss: 0.4248 - accuracy: 0.7947 - val_loss: 0.4249 - val_accuracy: 0.7912\n",
            "Epoch 4/10\n",
            "118/118 [==============================] - 0s 4ms/step - loss: 0.4163 - accuracy: 0.8011 - val_loss: 0.4264 - val_accuracy: 0.8054\n",
            "Epoch 5/10\n",
            "118/118 [==============================] - 0s 3ms/step - loss: 0.4137 - accuracy: 0.8059 - val_loss: 0.4244 - val_accuracy: 0.7926\n",
            "Epoch 6/10\n",
            "118/118 [==============================] - 0s 3ms/step - loss: 0.4090 - accuracy: 0.8040 - val_loss: 0.4261 - val_accuracy: 0.7940\n",
            "Epoch 7/10\n",
            "118/118 [==============================] - 0s 4ms/step - loss: 0.4037 - accuracy: 0.8083 - val_loss: 0.4257 - val_accuracy: 0.7898\n",
            "Epoch 8/10\n",
            "118/118 [==============================] - 0s 3ms/step - loss: 0.4007 - accuracy: 0.8107 - val_loss: 0.4257 - val_accuracy: 0.7912\n",
            "Epoch 9/10\n",
            "118/118 [==============================] - 0s 4ms/step - loss: 0.3958 - accuracy: 0.8144 - val_loss: 0.4264 - val_accuracy: 0.7955\n",
            "Epoch 10/10\n",
            "118/118 [==============================] - 0s 3ms/step - loss: 0.3937 - accuracy: 0.8142 - val_loss: 0.4311 - val_accuracy: 0.7955\n",
            "59/59 [==============================] - 0s 2ms/step\n",
            "Epoch 1/10\n"
          ]
        },
        {
          "output_type": "stream",
          "name": "stderr",
          "text": [
            "/usr/local/lib/python3.10/dist-packages/scikeras/wrappers.py:915: UserWarning: ``build_fn`` will be renamed to ``model`` in a future release, at which point use of ``build_fn`` will raise an Error instead.\n",
            "  X, y = self._initialize(X, y)\n"
          ]
        },
        {
          "output_type": "stream",
          "name": "stdout",
          "text": [
            "118/118 [==============================] - 2s 4ms/step - loss: 0.5063 - accuracy: 0.7527 - val_loss: 0.4309 - val_accuracy: 0.7997\n",
            "Epoch 2/10\n",
            "118/118 [==============================] - 0s 3ms/step - loss: 0.4231 - accuracy: 0.7998 - val_loss: 0.4258 - val_accuracy: 0.7969\n",
            "Epoch 3/10\n",
            "118/118 [==============================] - 0s 3ms/step - loss: 0.4129 - accuracy: 0.8070 - val_loss: 0.4212 - val_accuracy: 0.7940\n",
            "Epoch 4/10\n",
            "118/118 [==============================] - 0s 3ms/step - loss: 0.4075 - accuracy: 0.8046 - val_loss: 0.4236 - val_accuracy: 0.7997\n",
            "Epoch 5/10\n",
            "118/118 [==============================] - 0s 3ms/step - loss: 0.4020 - accuracy: 0.8110 - val_loss: 0.4228 - val_accuracy: 0.7912\n",
            "Epoch 6/10\n",
            "118/118 [==============================] - 0s 3ms/step - loss: 0.3957 - accuracy: 0.8126 - val_loss: 0.4224 - val_accuracy: 0.7969\n",
            "Epoch 7/10\n",
            "118/118 [==============================] - 0s 3ms/step - loss: 0.3932 - accuracy: 0.8158 - val_loss: 0.4223 - val_accuracy: 0.8026\n",
            "Epoch 8/10\n",
            "118/118 [==============================] - 0s 3ms/step - loss: 0.3878 - accuracy: 0.8195 - val_loss: 0.4272 - val_accuracy: 0.7997\n",
            "Epoch 9/10\n",
            "118/118 [==============================] - 0s 2ms/step - loss: 0.3823 - accuracy: 0.8251 - val_loss: 0.4276 - val_accuracy: 0.7955\n",
            "Epoch 10/10\n",
            "118/118 [==============================] - 0s 3ms/step - loss: 0.3798 - accuracy: 0.8237 - val_loss: 0.4362 - val_accuracy: 0.7940\n",
            "59/59 [==============================] - 0s 1ms/step\n",
            "Epoch 1/10\n"
          ]
        },
        {
          "output_type": "stream",
          "name": "stderr",
          "text": [
            "/usr/local/lib/python3.10/dist-packages/scikeras/wrappers.py:915: UserWarning: ``build_fn`` will be renamed to ``model`` in a future release, at which point use of ``build_fn`` will raise an Error instead.\n",
            "  X, y = self._initialize(X, y)\n"
          ]
        },
        {
          "output_type": "stream",
          "name": "stdout",
          "text": [
            "118/118 [==============================] - 1s 4ms/step - loss: 0.4744 - accuracy: 0.7646 - val_loss: 0.4242 - val_accuracy: 0.8011\n",
            "Epoch 2/10\n",
            "118/118 [==============================] - 0s 3ms/step - loss: 0.4250 - accuracy: 0.8038 - val_loss: 0.4263 - val_accuracy: 0.7997\n",
            "Epoch 3/10\n",
            "118/118 [==============================] - 0s 3ms/step - loss: 0.4172 - accuracy: 0.8059 - val_loss: 0.4156 - val_accuracy: 0.8068\n",
            "Epoch 4/10\n",
            "118/118 [==============================] - 0s 3ms/step - loss: 0.4086 - accuracy: 0.8102 - val_loss: 0.4164 - val_accuracy: 0.8068\n",
            "Epoch 5/10\n",
            "118/118 [==============================] - 0s 2ms/step - loss: 0.4027 - accuracy: 0.8128 - val_loss: 0.4154 - val_accuracy: 0.8068\n",
            "Epoch 6/10\n",
            "118/118 [==============================] - 0s 3ms/step - loss: 0.4003 - accuracy: 0.8134 - val_loss: 0.4152 - val_accuracy: 0.8082\n",
            "Epoch 7/10\n",
            "118/118 [==============================] - 0s 3ms/step - loss: 0.3948 - accuracy: 0.8168 - val_loss: 0.4195 - val_accuracy: 0.7997\n",
            "Epoch 8/10\n",
            "118/118 [==============================] - 0s 3ms/step - loss: 0.3924 - accuracy: 0.8192 - val_loss: 0.4253 - val_accuracy: 0.7955\n",
            "Epoch 9/10\n",
            "118/118 [==============================] - 0s 3ms/step - loss: 0.3875 - accuracy: 0.8195 - val_loss: 0.4248 - val_accuracy: 0.8040\n",
            "Epoch 10/10\n",
            "118/118 [==============================] - 0s 3ms/step - loss: 0.3842 - accuracy: 0.8208 - val_loss: 0.4222 - val_accuracy: 0.8068\n",
            "59/59 [==============================] - 0s 2ms/step\n",
            "Epoch 1/10\n"
          ]
        },
        {
          "output_type": "stream",
          "name": "stderr",
          "text": [
            "/usr/local/lib/python3.10/dist-packages/scikeras/wrappers.py:915: UserWarning: ``build_fn`` will be renamed to ``model`` in a future release, at which point use of ``build_fn`` will raise an Error instead.\n",
            "  X, y = self._initialize(X, y)\n"
          ]
        },
        {
          "output_type": "stream",
          "name": "stdout",
          "text": [
            "118/118 [==============================] - 2s 6ms/step - loss: 0.4877 - accuracy: 0.7702 - val_loss: 0.4216 - val_accuracy: 0.8054\n",
            "Epoch 2/10\n",
            "118/118 [==============================] - 0s 4ms/step - loss: 0.4289 - accuracy: 0.8001 - val_loss: 0.4173 - val_accuracy: 0.8168\n",
            "Epoch 3/10\n",
            "118/118 [==============================] - 0s 3ms/step - loss: 0.4181 - accuracy: 0.8024 - val_loss: 0.4194 - val_accuracy: 0.8097\n",
            "Epoch 4/10\n",
            "118/118 [==============================] - 0s 4ms/step - loss: 0.4124 - accuracy: 0.8046 - val_loss: 0.4209 - val_accuracy: 0.8054\n",
            "Epoch 5/10\n",
            "118/118 [==============================] - 0s 3ms/step - loss: 0.4072 - accuracy: 0.8051 - val_loss: 0.4185 - val_accuracy: 0.7983\n",
            "Epoch 6/10\n",
            "118/118 [==============================] - 0s 4ms/step - loss: 0.4000 - accuracy: 0.8142 - val_loss: 0.4252 - val_accuracy: 0.7969\n",
            "Epoch 7/10\n",
            "118/118 [==============================] - 0s 4ms/step - loss: 0.3981 - accuracy: 0.8200 - val_loss: 0.4237 - val_accuracy: 0.8125\n",
            "Epoch 8/10\n",
            "118/118 [==============================] - 0s 3ms/step - loss: 0.3951 - accuracy: 0.8144 - val_loss: 0.4238 - val_accuracy: 0.8026\n",
            "Epoch 9/10\n",
            "118/118 [==============================] - 0s 4ms/step - loss: 0.3908 - accuracy: 0.8206 - val_loss: 0.4248 - val_accuracy: 0.7983\n",
            "Epoch 10/10\n",
            "118/118 [==============================] - 0s 4ms/step - loss: 0.3864 - accuracy: 0.8206 - val_loss: 0.4265 - val_accuracy: 0.7955\n",
            "59/59 [==============================] - 0s 2ms/step\n",
            "Epoch 1/10\n"
          ]
        },
        {
          "output_type": "stream",
          "name": "stderr",
          "text": [
            "/usr/local/lib/python3.10/dist-packages/scikeras/wrappers.py:915: UserWarning: ``build_fn`` will be renamed to ``model`` in a future release, at which point use of ``build_fn`` will raise an Error instead.\n",
            "  X, y = self._initialize(X, y)\n"
          ]
        },
        {
          "output_type": "stream",
          "name": "stdout",
          "text": [
            "118/118 [==============================] - 1s 4ms/step - loss: 0.5361 - accuracy: 0.7338 - val_loss: 0.4416 - val_accuracy: 0.7898\n",
            "Epoch 2/10\n",
            "118/118 [==============================] - 0s 2ms/step - loss: 0.4344 - accuracy: 0.7921 - val_loss: 0.4286 - val_accuracy: 0.7926\n",
            "Epoch 3/10\n",
            "118/118 [==============================] - 0s 3ms/step - loss: 0.4182 - accuracy: 0.8054 - val_loss: 0.4218 - val_accuracy: 0.8011\n",
            "Epoch 4/10\n",
            "118/118 [==============================] - 0s 2ms/step - loss: 0.4112 - accuracy: 0.8078 - val_loss: 0.4263 - val_accuracy: 0.7940\n",
            "Epoch 5/10\n",
            "118/118 [==============================] - 0s 3ms/step - loss: 0.4068 - accuracy: 0.8107 - val_loss: 0.4280 - val_accuracy: 0.8011\n",
            "Epoch 6/10\n",
            "118/118 [==============================] - 0s 3ms/step - loss: 0.3989 - accuracy: 0.8139 - val_loss: 0.4254 - val_accuracy: 0.7955\n",
            "Epoch 7/10\n",
            "118/118 [==============================] - 0s 3ms/step - loss: 0.3985 - accuracy: 0.8136 - val_loss: 0.4268 - val_accuracy: 0.7955\n",
            "Epoch 8/10\n",
            "118/118 [==============================] - 0s 3ms/step - loss: 0.3935 - accuracy: 0.8174 - val_loss: 0.4228 - val_accuracy: 0.7997\n",
            "Epoch 9/10\n",
            "118/118 [==============================] - 0s 3ms/step - loss: 0.3892 - accuracy: 0.8190 - val_loss: 0.4296 - val_accuracy: 0.7955\n",
            "Epoch 10/10\n",
            "118/118 [==============================] - 0s 3ms/step - loss: 0.3873 - accuracy: 0.8222 - val_loss: 0.4313 - val_accuracy: 0.7955\n",
            "59/59 [==============================] - 0s 1ms/step\n",
            "Epoch 1/10\n"
          ]
        },
        {
          "output_type": "stream",
          "name": "stderr",
          "text": [
            "/usr/local/lib/python3.10/dist-packages/scikeras/wrappers.py:915: UserWarning: ``build_fn`` will be renamed to ``model`` in a future release, at which point use of ``build_fn`` will raise an Error instead.\n",
            "  X, y = self._initialize(X, y)\n"
          ]
        },
        {
          "output_type": "stream",
          "name": "stdout",
          "text": [
            "118/118 [==============================] - 1s 4ms/step - loss: 0.4963 - accuracy: 0.7638 - val_loss: 0.4340 - val_accuracy: 0.8011\n",
            "Epoch 2/10\n",
            "118/118 [==============================] - 0s 3ms/step - loss: 0.4290 - accuracy: 0.7979 - val_loss: 0.4209 - val_accuracy: 0.7997\n",
            "Epoch 3/10\n",
            "118/118 [==============================] - 0s 3ms/step - loss: 0.4154 - accuracy: 0.8091 - val_loss: 0.4195 - val_accuracy: 0.8082\n",
            "Epoch 4/10\n",
            "118/118 [==============================] - 0s 3ms/step - loss: 0.4098 - accuracy: 0.8046 - val_loss: 0.4195 - val_accuracy: 0.7997\n",
            "Epoch 5/10\n",
            "118/118 [==============================] - 0s 3ms/step - loss: 0.4033 - accuracy: 0.8088 - val_loss: 0.4191 - val_accuracy: 0.8082\n",
            "Epoch 6/10\n",
            "118/118 [==============================] - 0s 3ms/step - loss: 0.3999 - accuracy: 0.8134 - val_loss: 0.4195 - val_accuracy: 0.8011\n",
            "Epoch 7/10\n",
            "118/118 [==============================] - 0s 3ms/step - loss: 0.3942 - accuracy: 0.8168 - val_loss: 0.4236 - val_accuracy: 0.8040\n",
            "Epoch 8/10\n",
            "118/118 [==============================] - 0s 3ms/step - loss: 0.3881 - accuracy: 0.8214 - val_loss: 0.4297 - val_accuracy: 0.7955\n",
            "Epoch 9/10\n",
            "118/118 [==============================] - 0s 3ms/step - loss: 0.3858 - accuracy: 0.8187 - val_loss: 0.4287 - val_accuracy: 0.7997\n",
            "Epoch 10/10\n",
            "118/118 [==============================] - 0s 3ms/step - loss: 0.3828 - accuracy: 0.8267 - val_loss: 0.4311 - val_accuracy: 0.7997\n",
            "59/59 [==============================] - 0s 2ms/step\n",
            "Epoch 1/10\n"
          ]
        },
        {
          "output_type": "stream",
          "name": "stderr",
          "text": [
            "/usr/local/lib/python3.10/dist-packages/scikeras/wrappers.py:915: UserWarning: ``build_fn`` will be renamed to ``model`` in a future release, at which point use of ``build_fn`` will raise an Error instead.\n",
            "  X, y = self._initialize(X, y)\n"
          ]
        },
        {
          "output_type": "stream",
          "name": "stdout",
          "text": [
            "118/118 [==============================] - 2s 6ms/step - loss: 0.4674 - accuracy: 0.7692 - val_loss: 0.4314 - val_accuracy: 0.8040\n",
            "Epoch 2/10\n",
            "118/118 [==============================] - 0s 4ms/step - loss: 0.4290 - accuracy: 0.7945 - val_loss: 0.4273 - val_accuracy: 0.7997\n",
            "Epoch 3/10\n",
            "118/118 [==============================] - 0s 3ms/step - loss: 0.4191 - accuracy: 0.8001 - val_loss: 0.4252 - val_accuracy: 0.8068\n",
            "Epoch 4/10\n",
            "118/118 [==============================] - 0s 3ms/step - loss: 0.4143 - accuracy: 0.8051 - val_loss: 0.4285 - val_accuracy: 0.7955\n",
            "Epoch 5/10\n",
            "118/118 [==============================] - 0s 4ms/step - loss: 0.4084 - accuracy: 0.8067 - val_loss: 0.4303 - val_accuracy: 0.7997\n",
            "Epoch 6/10\n",
            "118/118 [==============================] - 0s 3ms/step - loss: 0.4034 - accuracy: 0.8096 - val_loss: 0.4296 - val_accuracy: 0.7955\n",
            "Epoch 7/10\n",
            "118/118 [==============================] - 0s 4ms/step - loss: 0.3969 - accuracy: 0.8147 - val_loss: 0.4344 - val_accuracy: 0.7926\n",
            "Epoch 8/10\n",
            "118/118 [==============================] - 0s 4ms/step - loss: 0.3951 - accuracy: 0.8128 - val_loss: 0.4290 - val_accuracy: 0.7983\n",
            "Epoch 9/10\n",
            "118/118 [==============================] - 0s 4ms/step - loss: 0.3889 - accuracy: 0.8182 - val_loss: 0.4374 - val_accuracy: 0.7926\n",
            "Epoch 10/10\n",
            "118/118 [==============================] - 0s 3ms/step - loss: 0.3861 - accuracy: 0.8182 - val_loss: 0.4332 - val_accuracy: 0.7940\n",
            "59/59 [==============================] - 0s 1ms/step\n",
            "Epoch 1/10\n"
          ]
        },
        {
          "output_type": "stream",
          "name": "stderr",
          "text": [
            "/usr/local/lib/python3.10/dist-packages/scikeras/wrappers.py:915: UserWarning: ``build_fn`` will be renamed to ``model`` in a future release, at which point use of ``build_fn`` will raise an Error instead.\n",
            "  X, y = self._initialize(X, y)\n"
          ]
        },
        {
          "output_type": "stream",
          "name": "stdout",
          "text": [
            "118/118 [==============================] - 1s 4ms/step - loss: 0.5420 - accuracy: 0.7287 - val_loss: 0.4354 - val_accuracy: 0.7940\n",
            "Epoch 2/10\n",
            "118/118 [==============================] - 0s 3ms/step - loss: 0.4287 - accuracy: 0.7915 - val_loss: 0.4265 - val_accuracy: 0.7955\n",
            "Epoch 3/10\n",
            "118/118 [==============================] - 0s 3ms/step - loss: 0.4143 - accuracy: 0.8017 - val_loss: 0.4270 - val_accuracy: 0.7940\n",
            "Epoch 4/10\n",
            "118/118 [==============================] - 0s 3ms/step - loss: 0.4080 - accuracy: 0.8083 - val_loss: 0.4263 - val_accuracy: 0.7940\n",
            "Epoch 5/10\n",
            "118/118 [==============================] - 0s 3ms/step - loss: 0.4017 - accuracy: 0.8115 - val_loss: 0.4222 - val_accuracy: 0.7969\n",
            "Epoch 6/10\n",
            "118/118 [==============================] - 0s 3ms/step - loss: 0.3975 - accuracy: 0.8131 - val_loss: 0.4259 - val_accuracy: 0.8011\n",
            "Epoch 7/10\n",
            "118/118 [==============================] - 0s 2ms/step - loss: 0.3933 - accuracy: 0.8219 - val_loss: 0.4240 - val_accuracy: 0.8097\n",
            "Epoch 8/10\n",
            "118/118 [==============================] - 0s 3ms/step - loss: 0.3903 - accuracy: 0.8229 - val_loss: 0.4293 - val_accuracy: 0.8040\n",
            "Epoch 9/10\n",
            "118/118 [==============================] - 0s 2ms/step - loss: 0.3866 - accuracy: 0.8222 - val_loss: 0.4262 - val_accuracy: 0.8082\n",
            "Epoch 10/10\n",
            "118/118 [==============================] - 0s 3ms/step - loss: 0.3843 - accuracy: 0.8248 - val_loss: 0.4305 - val_accuracy: 0.8054\n",
            "59/59 [==============================] - 0s 1ms/step\n",
            "Epoch 1/10\n"
          ]
        },
        {
          "output_type": "stream",
          "name": "stderr",
          "text": [
            "/usr/local/lib/python3.10/dist-packages/scikeras/wrappers.py:915: UserWarning: ``build_fn`` will be renamed to ``model`` in a future release, at which point use of ``build_fn`` will raise an Error instead.\n",
            "  X, y = self._initialize(X, y)\n"
          ]
        },
        {
          "output_type": "stream",
          "name": "stdout",
          "text": [
            "118/118 [==============================] - 1s 4ms/step - loss: 0.4969 - accuracy: 0.7497 - val_loss: 0.4259 - val_accuracy: 0.7884\n",
            "Epoch 2/10\n",
            "118/118 [==============================] - 0s 3ms/step - loss: 0.4273 - accuracy: 0.7963 - val_loss: 0.4217 - val_accuracy: 0.7983\n",
            "Epoch 3/10\n",
            "118/118 [==============================] - 0s 3ms/step - loss: 0.4169 - accuracy: 0.8075 - val_loss: 0.4208 - val_accuracy: 0.7997\n",
            "Epoch 4/10\n",
            "118/118 [==============================] - 0s 3ms/step - loss: 0.4081 - accuracy: 0.8086 - val_loss: 0.4206 - val_accuracy: 0.8040\n",
            "Epoch 5/10\n",
            "118/118 [==============================] - 0s 2ms/step - loss: 0.4037 - accuracy: 0.8142 - val_loss: 0.4214 - val_accuracy: 0.8054\n",
            "Epoch 6/10\n",
            "118/118 [==============================] - 0s 3ms/step - loss: 0.3985 - accuracy: 0.8182 - val_loss: 0.4246 - val_accuracy: 0.8040\n",
            "Epoch 7/10\n",
            "118/118 [==============================] - 0s 3ms/step - loss: 0.3957 - accuracy: 0.8195 - val_loss: 0.4226 - val_accuracy: 0.8054\n",
            "Epoch 8/10\n",
            "118/118 [==============================] - 0s 2ms/step - loss: 0.3926 - accuracy: 0.8187 - val_loss: 0.4197 - val_accuracy: 0.8082\n",
            "Epoch 9/10\n",
            "118/118 [==============================] - 0s 3ms/step - loss: 0.3879 - accuracy: 0.8179 - val_loss: 0.4286 - val_accuracy: 0.8040\n",
            "Epoch 10/10\n",
            "118/118 [==============================] - 0s 3ms/step - loss: 0.3827 - accuracy: 0.8277 - val_loss: 0.4248 - val_accuracy: 0.7955\n",
            "59/59 [==============================] - 0s 2ms/step\n",
            "Epoch 1/10\n"
          ]
        },
        {
          "output_type": "stream",
          "name": "stderr",
          "text": [
            "/usr/local/lib/python3.10/dist-packages/scikeras/wrappers.py:915: UserWarning: ``build_fn`` will be renamed to ``model`` in a future release, at which point use of ``build_fn`` will raise an Error instead.\n",
            "  X, y = self._initialize(X, y)\n"
          ]
        },
        {
          "output_type": "stream",
          "name": "stdout",
          "text": [
            "118/118 [==============================] - 2s 6ms/step - loss: 0.5024 - accuracy: 0.7391 - val_loss: 0.4355 - val_accuracy: 0.7855\n",
            "Epoch 2/10\n",
            "118/118 [==============================] - 1s 6ms/step - loss: 0.4335 - accuracy: 0.7899 - val_loss: 0.4232 - val_accuracy: 0.8097\n",
            "Epoch 3/10\n",
            "118/118 [==============================] - 1s 10ms/step - loss: 0.4197 - accuracy: 0.7995 - val_loss: 0.4214 - val_accuracy: 0.8040\n",
            "Epoch 4/10\n",
            "118/118 [==============================] - 1s 11ms/step - loss: 0.4118 - accuracy: 0.8035 - val_loss: 0.4190 - val_accuracy: 0.7940\n",
            "Epoch 5/10\n",
            "118/118 [==============================] - 1s 9ms/step - loss: 0.4072 - accuracy: 0.8072 - val_loss: 0.4246 - val_accuracy: 0.7898\n",
            "Epoch 6/10\n",
            "118/118 [==============================] - 1s 12ms/step - loss: 0.4004 - accuracy: 0.8110 - val_loss: 0.4256 - val_accuracy: 0.7955\n",
            "Epoch 7/10\n",
            "118/118 [==============================] - 1s 8ms/step - loss: 0.3949 - accuracy: 0.8155 - val_loss: 0.4240 - val_accuracy: 0.7997\n",
            "Epoch 8/10\n",
            "118/118 [==============================] - 1s 8ms/step - loss: 0.3945 - accuracy: 0.8112 - val_loss: 0.4327 - val_accuracy: 0.7983\n",
            "Epoch 9/10\n",
            "118/118 [==============================] - 1s 9ms/step - loss: 0.3880 - accuracy: 0.8179 - val_loss: 0.4274 - val_accuracy: 0.7955\n",
            "Epoch 10/10\n",
            "118/118 [==============================] - 1s 5ms/step - loss: 0.3801 - accuracy: 0.8245 - val_loss: 0.4330 - val_accuracy: 0.7926\n",
            "59/59 [==============================] - 0s 2ms/step\n"
          ]
        },
        {
          "output_type": "stream",
          "name": "stderr",
          "text": [
            "/usr/local/lib/python3.10/dist-packages/scikeras/wrappers.py:915: UserWarning: ``build_fn`` will be renamed to ``model`` in a future release, at which point use of ``build_fn`` will raise an Error instead.\n",
            "  X, y = self._initialize(X, y)\n"
          ]
        },
        {
          "output_type": "stream",
          "name": "stdout",
          "text": [
            "Epoch 1/10\n",
            "59/59 [==============================] - 2s 5ms/step - loss: 0.5455 - accuracy: 0.7226 - val_loss: 0.4880 - val_accuracy: 0.7372\n",
            "Epoch 2/10\n",
            "59/59 [==============================] - 0s 3ms/step - loss: 0.4722 - accuracy: 0.7487 - val_loss: 0.4520 - val_accuracy: 0.7798\n",
            "Epoch 3/10\n",
            "59/59 [==============================] - 0s 3ms/step - loss: 0.4466 - accuracy: 0.7846 - val_loss: 0.4373 - val_accuracy: 0.7812\n",
            "Epoch 4/10\n",
            "59/59 [==============================] - 0s 3ms/step - loss: 0.4342 - accuracy: 0.7923 - val_loss: 0.4334 - val_accuracy: 0.7884\n",
            "Epoch 5/10\n",
            "59/59 [==============================] - 0s 3ms/step - loss: 0.4254 - accuracy: 0.7995 - val_loss: 0.4285 - val_accuracy: 0.7940\n",
            "Epoch 6/10\n",
            "59/59 [==============================] - 0s 6ms/step - loss: 0.4200 - accuracy: 0.8027 - val_loss: 0.4265 - val_accuracy: 0.7940\n",
            "Epoch 7/10\n",
            "59/59 [==============================] - 1s 10ms/step - loss: 0.4153 - accuracy: 0.8032 - val_loss: 0.4280 - val_accuracy: 0.7969\n",
            "Epoch 8/10\n",
            "59/59 [==============================] - 0s 6ms/step - loss: 0.4127 - accuracy: 0.8035 - val_loss: 0.4260 - val_accuracy: 0.7955\n",
            "Epoch 9/10\n",
            "59/59 [==============================] - 1s 9ms/step - loss: 0.4106 - accuracy: 0.8075 - val_loss: 0.4239 - val_accuracy: 0.7983\n",
            "Epoch 10/10\n",
            "59/59 [==============================] - 0s 6ms/step - loss: 0.4076 - accuracy: 0.8091 - val_loss: 0.4257 - val_accuracy: 0.7926\n",
            "30/30 [==============================] - 0s 4ms/step\n"
          ]
        },
        {
          "output_type": "stream",
          "name": "stderr",
          "text": [
            "/usr/local/lib/python3.10/dist-packages/scikeras/wrappers.py:915: UserWarning: ``build_fn`` will be renamed to ``model`` in a future release, at which point use of ``build_fn`` will raise an Error instead.\n",
            "  X, y = self._initialize(X, y)\n"
          ]
        },
        {
          "output_type": "stream",
          "name": "stdout",
          "text": [
            "Epoch 1/10\n",
            "59/59 [==============================] - 4s 19ms/step - loss: 0.4951 - accuracy: 0.7492 - val_loss: 0.4589 - val_accuracy: 0.7315\n",
            "Epoch 2/10\n",
            "59/59 [==============================] - 0s 6ms/step - loss: 0.4520 - accuracy: 0.7753 - val_loss: 0.4430 - val_accuracy: 0.7756\n",
            "Epoch 3/10\n",
            "59/59 [==============================] - 0s 4ms/step - loss: 0.4406 - accuracy: 0.7849 - val_loss: 0.4381 - val_accuracy: 0.7841\n",
            "Epoch 4/10\n",
            "59/59 [==============================] - 0s 4ms/step - loss: 0.4322 - accuracy: 0.7921 - val_loss: 0.4353 - val_accuracy: 0.7898\n",
            "Epoch 5/10\n",
            "59/59 [==============================] - 0s 3ms/step - loss: 0.4253 - accuracy: 0.7969 - val_loss: 0.4322 - val_accuracy: 0.7898\n",
            "Epoch 6/10\n",
            "59/59 [==============================] - 0s 3ms/step - loss: 0.4206 - accuracy: 0.7974 - val_loss: 0.4296 - val_accuracy: 0.7969\n",
            "Epoch 7/10\n",
            "59/59 [==============================] - 0s 3ms/step - loss: 0.4150 - accuracy: 0.8019 - val_loss: 0.4292 - val_accuracy: 0.7884\n",
            "Epoch 8/10\n",
            "59/59 [==============================] - 0s 3ms/step - loss: 0.4126 - accuracy: 0.8043 - val_loss: 0.4268 - val_accuracy: 0.7940\n",
            "Epoch 9/10\n",
            "59/59 [==============================] - 0s 3ms/step - loss: 0.4081 - accuracy: 0.8062 - val_loss: 0.4268 - val_accuracy: 0.7926\n",
            "Epoch 10/10\n",
            "59/59 [==============================] - 0s 3ms/step - loss: 0.4064 - accuracy: 0.8056 - val_loss: 0.4268 - val_accuracy: 0.7912\n",
            "30/30 [==============================] - 0s 1ms/step\n",
            "Epoch 1/10\n"
          ]
        },
        {
          "output_type": "stream",
          "name": "stderr",
          "text": [
            "/usr/local/lib/python3.10/dist-packages/scikeras/wrappers.py:915: UserWarning: ``build_fn`` will be renamed to ``model`` in a future release, at which point use of ``build_fn`` will raise an Error instead.\n",
            "  X, y = self._initialize(X, y)\n"
          ]
        },
        {
          "output_type": "stream",
          "name": "stdout",
          "text": [
            "59/59 [==============================] - 1s 5ms/step - loss: 0.6363 - accuracy: 0.6403 - val_loss: 0.5140 - val_accuracy: 0.7699\n",
            "Epoch 2/10\n",
            "59/59 [==============================] - 0s 3ms/step - loss: 0.4834 - accuracy: 0.7670 - val_loss: 0.4486 - val_accuracy: 0.7798\n",
            "Epoch 3/10\n",
            "59/59 [==============================] - 0s 3ms/step - loss: 0.4505 - accuracy: 0.7859 - val_loss: 0.4384 - val_accuracy: 0.7841\n",
            "Epoch 4/10\n",
            "59/59 [==============================] - 0s 3ms/step - loss: 0.4395 - accuracy: 0.7899 - val_loss: 0.4314 - val_accuracy: 0.7955\n",
            "Epoch 5/10\n",
            "59/59 [==============================] - 0s 3ms/step - loss: 0.4314 - accuracy: 0.7945 - val_loss: 0.4283 - val_accuracy: 0.7969\n",
            "Epoch 6/10\n",
            "59/59 [==============================] - 0s 3ms/step - loss: 0.4258 - accuracy: 0.7974 - val_loss: 0.4278 - val_accuracy: 0.8011\n",
            "Epoch 7/10\n",
            "59/59 [==============================] - 0s 3ms/step - loss: 0.4205 - accuracy: 0.8019 - val_loss: 0.4264 - val_accuracy: 0.8026\n",
            "Epoch 8/10\n",
            "59/59 [==============================] - 0s 3ms/step - loss: 0.4171 - accuracy: 0.8046 - val_loss: 0.4258 - val_accuracy: 0.8068\n",
            "Epoch 9/10\n",
            "59/59 [==============================] - 0s 3ms/step - loss: 0.4132 - accuracy: 0.8091 - val_loss: 0.4250 - val_accuracy: 0.8125\n",
            "Epoch 10/10\n",
            "59/59 [==============================] - 0s 3ms/step - loss: 0.4107 - accuracy: 0.8091 - val_loss: 0.4251 - val_accuracy: 0.8111\n",
            "30/30 [==============================] - 0s 1ms/step\n",
            "Epoch 1/10\n"
          ]
        },
        {
          "output_type": "stream",
          "name": "stderr",
          "text": [
            "/usr/local/lib/python3.10/dist-packages/scikeras/wrappers.py:915: UserWarning: ``build_fn`` will be renamed to ``model`` in a future release, at which point use of ``build_fn`` will raise an Error instead.\n",
            "  X, y = self._initialize(X, y)\n"
          ]
        },
        {
          "output_type": "stream",
          "name": "stdout",
          "text": [
            "59/59 [==============================] - 1s 5ms/step - loss: 0.6217 - accuracy: 0.7141 - val_loss: 0.5325 - val_accuracy: 0.7642\n",
            "Epoch 2/10\n",
            "59/59 [==============================] - 0s 3ms/step - loss: 0.4760 - accuracy: 0.7780 - val_loss: 0.4437 - val_accuracy: 0.7983\n",
            "Epoch 3/10\n",
            "59/59 [==============================] - 0s 3ms/step - loss: 0.4344 - accuracy: 0.7899 - val_loss: 0.4351 - val_accuracy: 0.7969\n",
            "Epoch 4/10\n",
            "59/59 [==============================] - 0s 3ms/step - loss: 0.4252 - accuracy: 0.7979 - val_loss: 0.4337 - val_accuracy: 0.7898\n",
            "Epoch 5/10\n",
            "59/59 [==============================] - 0s 3ms/step - loss: 0.4192 - accuracy: 0.8043 - val_loss: 0.4325 - val_accuracy: 0.7940\n",
            "Epoch 6/10\n",
            "59/59 [==============================] - 0s 3ms/step - loss: 0.4154 - accuracy: 0.8024 - val_loss: 0.4317 - val_accuracy: 0.7926\n",
            "Epoch 7/10\n",
            "59/59 [==============================] - 0s 3ms/step - loss: 0.4110 - accuracy: 0.8038 - val_loss: 0.4306 - val_accuracy: 0.7940\n",
            "Epoch 8/10\n",
            "59/59 [==============================] - 0s 3ms/step - loss: 0.4079 - accuracy: 0.8062 - val_loss: 0.4330 - val_accuracy: 0.7983\n",
            "Epoch 9/10\n",
            "59/59 [==============================] - 0s 3ms/step - loss: 0.4054 - accuracy: 0.8070 - val_loss: 0.4298 - val_accuracy: 0.7940\n",
            "Epoch 10/10\n",
            "59/59 [==============================] - 0s 3ms/step - loss: 0.4032 - accuracy: 0.8078 - val_loss: 0.4307 - val_accuracy: 0.7997\n",
            "30/30 [==============================] - 0s 1ms/step\n",
            "Epoch 1/10\n"
          ]
        },
        {
          "output_type": "stream",
          "name": "stderr",
          "text": [
            "/usr/local/lib/python3.10/dist-packages/scikeras/wrappers.py:915: UserWarning: ``build_fn`` will be renamed to ``model`` in a future release, at which point use of ``build_fn`` will raise an Error instead.\n",
            "  X, y = self._initialize(X, y)\n"
          ]
        },
        {
          "output_type": "stream",
          "name": "stdout",
          "text": [
            "59/59 [==============================] - 2s 8ms/step - loss: 0.7255 - accuracy: 0.4393 - val_loss: 0.6761 - val_accuracy: 0.7244\n",
            "Epoch 2/10\n",
            "59/59 [==============================] - 0s 4ms/step - loss: 0.6326 - accuracy: 0.7487 - val_loss: 0.5677 - val_accuracy: 0.7614\n",
            "Epoch 3/10\n",
            "59/59 [==============================] - 0s 4ms/step - loss: 0.4889 - accuracy: 0.7886 - val_loss: 0.4548 - val_accuracy: 0.7855\n",
            "Epoch 4/10\n",
            "59/59 [==============================] - 0s 4ms/step - loss: 0.4373 - accuracy: 0.7958 - val_loss: 0.4384 - val_accuracy: 0.7855\n",
            "Epoch 5/10\n",
            "59/59 [==============================] - 0s 4ms/step - loss: 0.4279 - accuracy: 0.7974 - val_loss: 0.4334 - val_accuracy: 0.7912\n",
            "Epoch 6/10\n",
            "59/59 [==============================] - 0s 4ms/step - loss: 0.4220 - accuracy: 0.7993 - val_loss: 0.4309 - val_accuracy: 0.7926\n",
            "Epoch 7/10\n",
            "59/59 [==============================] - 0s 4ms/step - loss: 0.4178 - accuracy: 0.8035 - val_loss: 0.4279 - val_accuracy: 0.7940\n",
            "Epoch 8/10\n",
            "59/59 [==============================] - 0s 3ms/step - loss: 0.4146 - accuracy: 0.8056 - val_loss: 0.4276 - val_accuracy: 0.7926\n",
            "Epoch 9/10\n",
            "59/59 [==============================] - 0s 4ms/step - loss: 0.4112 - accuracy: 0.8096 - val_loss: 0.4249 - val_accuracy: 0.8011\n",
            "Epoch 10/10\n",
            "59/59 [==============================] - 0s 5ms/step - loss: 0.4095 - accuracy: 0.8083 - val_loss: 0.4257 - val_accuracy: 0.7983\n",
            "30/30 [==============================] - 0s 1ms/step\n",
            "Epoch 1/10\n"
          ]
        },
        {
          "output_type": "stream",
          "name": "stderr",
          "text": [
            "/usr/local/lib/python3.10/dist-packages/scikeras/wrappers.py:915: UserWarning: ``build_fn`` will be renamed to ``model`` in a future release, at which point use of ``build_fn`` will raise an Error instead.\n",
            "  X, y = self._initialize(X, y)\n"
          ]
        },
        {
          "output_type": "stream",
          "name": "stdout",
          "text": [
            "59/59 [==============================] - 1s 5ms/step - loss: 0.6409 - accuracy: 0.6419 - val_loss: 0.5447 - val_accuracy: 0.7344\n",
            "Epoch 2/10\n",
            "59/59 [==============================] - 0s 3ms/step - loss: 0.4939 - accuracy: 0.7457 - val_loss: 0.4507 - val_accuracy: 0.7841\n",
            "Epoch 3/10\n",
            "59/59 [==============================] - 0s 3ms/step - loss: 0.4517 - accuracy: 0.7833 - val_loss: 0.4321 - val_accuracy: 0.7969\n",
            "Epoch 4/10\n",
            "59/59 [==============================] - 0s 3ms/step - loss: 0.4380 - accuracy: 0.7945 - val_loss: 0.4249 - val_accuracy: 0.8026\n",
            "Epoch 5/10\n",
            "59/59 [==============================] - 0s 3ms/step - loss: 0.4289 - accuracy: 0.7977 - val_loss: 0.4235 - val_accuracy: 0.7997\n",
            "Epoch 6/10\n",
            "59/59 [==============================] - 0s 3ms/step - loss: 0.4239 - accuracy: 0.7947 - val_loss: 0.4222 - val_accuracy: 0.7955\n",
            "Epoch 7/10\n",
            "59/59 [==============================] - 0s 3ms/step - loss: 0.4201 - accuracy: 0.7955 - val_loss: 0.4222 - val_accuracy: 0.7997\n",
            "Epoch 8/10\n",
            "59/59 [==============================] - 0s 3ms/step - loss: 0.4166 - accuracy: 0.7974 - val_loss: 0.4202 - val_accuracy: 0.7983\n",
            "Epoch 9/10\n",
            "59/59 [==============================] - 0s 3ms/step - loss: 0.4137 - accuracy: 0.8014 - val_loss: 0.4202 - val_accuracy: 0.8011\n",
            "Epoch 10/10\n",
            "59/59 [==============================] - 0s 3ms/step - loss: 0.4112 - accuracy: 0.8046 - val_loss: 0.4211 - val_accuracy: 0.8011\n",
            "30/30 [==============================] - 0s 1ms/step\n",
            "Epoch 1/10\n"
          ]
        },
        {
          "output_type": "stream",
          "name": "stderr",
          "text": [
            "/usr/local/lib/python3.10/dist-packages/scikeras/wrappers.py:915: UserWarning: ``build_fn`` will be renamed to ``model`` in a future release, at which point use of ``build_fn`` will raise an Error instead.\n",
            "  X, y = self._initialize(X, y)\n"
          ]
        },
        {
          "output_type": "stream",
          "name": "stdout",
          "text": [
            "59/59 [==============================] - 1s 5ms/step - loss: 0.7037 - accuracy: 0.5788 - val_loss: 0.6326 - val_accuracy: 0.7330\n",
            "Epoch 2/10\n",
            "59/59 [==============================] - 0s 3ms/step - loss: 0.5678 - accuracy: 0.7322 - val_loss: 0.4911 - val_accuracy: 0.7457\n",
            "Epoch 3/10\n",
            "59/59 [==============================] - 0s 3ms/step - loss: 0.4723 - accuracy: 0.7527 - val_loss: 0.4358 - val_accuracy: 0.7855\n",
            "Epoch 4/10\n",
            "59/59 [==============================] - 0s 3ms/step - loss: 0.4436 - accuracy: 0.7801 - val_loss: 0.4228 - val_accuracy: 0.8026\n",
            "Epoch 5/10\n",
            "59/59 [==============================] - 0s 3ms/step - loss: 0.4325 - accuracy: 0.7867 - val_loss: 0.4189 - val_accuracy: 0.8139\n",
            "Epoch 6/10\n",
            "59/59 [==============================] - 0s 3ms/step - loss: 0.4252 - accuracy: 0.7939 - val_loss: 0.4189 - val_accuracy: 0.8125\n",
            "Epoch 7/10\n",
            "59/59 [==============================] - 0s 3ms/step - loss: 0.4195 - accuracy: 0.8001 - val_loss: 0.4192 - val_accuracy: 0.8054\n",
            "Epoch 8/10\n",
            "59/59 [==============================] - 0s 3ms/step - loss: 0.4162 - accuracy: 0.8019 - val_loss: 0.4188 - val_accuracy: 0.8125\n",
            "Epoch 9/10\n",
            "59/59 [==============================] - 0s 3ms/step - loss: 0.4122 - accuracy: 0.8022 - val_loss: 0.4182 - val_accuracy: 0.8153\n",
            "Epoch 10/10\n",
            "59/59 [==============================] - 0s 3ms/step - loss: 0.4089 - accuracy: 0.8022 - val_loss: 0.4194 - val_accuracy: 0.8068\n",
            "30/30 [==============================] - 0s 2ms/step\n",
            "Epoch 1/10\n"
          ]
        },
        {
          "output_type": "stream",
          "name": "stderr",
          "text": [
            "/usr/local/lib/python3.10/dist-packages/scikeras/wrappers.py:915: UserWarning: ``build_fn`` will be renamed to ``model`` in a future release, at which point use of ``build_fn`` will raise an Error instead.\n",
            "  X, y = self._initialize(X, y)\n"
          ]
        },
        {
          "output_type": "stream",
          "name": "stdout",
          "text": [
            "59/59 [==============================] - 1s 6ms/step - loss: 0.5216 - accuracy: 0.7362 - val_loss: 0.4715 - val_accuracy: 0.7344\n",
            "Epoch 2/10\n",
            "59/59 [==============================] - 0s 3ms/step - loss: 0.4603 - accuracy: 0.7425 - val_loss: 0.4564 - val_accuracy: 0.7486\n",
            "Epoch 3/10\n",
            "59/59 [==============================] - 0s 3ms/step - loss: 0.4458 - accuracy: 0.7692 - val_loss: 0.4503 - val_accuracy: 0.7770\n",
            "Epoch 4/10\n",
            "59/59 [==============================] - 0s 3ms/step - loss: 0.4379 - accuracy: 0.7875 - val_loss: 0.4481 - val_accuracy: 0.7798\n",
            "Epoch 5/10\n",
            "59/59 [==============================] - 0s 3ms/step - loss: 0.4312 - accuracy: 0.7969 - val_loss: 0.4459 - val_accuracy: 0.7898\n",
            "Epoch 6/10\n",
            "59/59 [==============================] - 0s 3ms/step - loss: 0.4257 - accuracy: 0.8035 - val_loss: 0.4449 - val_accuracy: 0.7898\n",
            "Epoch 7/10\n",
            "59/59 [==============================] - 0s 4ms/step - loss: 0.4218 - accuracy: 0.8056 - val_loss: 0.4436 - val_accuracy: 0.7869\n",
            "Epoch 8/10\n",
            "59/59 [==============================] - 0s 4ms/step - loss: 0.4181 - accuracy: 0.8104 - val_loss: 0.4431 - val_accuracy: 0.7869\n",
            "Epoch 9/10\n",
            "59/59 [==============================] - 0s 4ms/step - loss: 0.4152 - accuracy: 0.8136 - val_loss: 0.4437 - val_accuracy: 0.7912\n",
            "Epoch 10/10\n",
            "59/59 [==============================] - 0s 5ms/step - loss: 0.4125 - accuracy: 0.8134 - val_loss: 0.4428 - val_accuracy: 0.7884\n",
            "30/30 [==============================] - 0s 2ms/step\n",
            "Epoch 1/10\n"
          ]
        },
        {
          "output_type": "stream",
          "name": "stderr",
          "text": [
            "/usr/local/lib/python3.10/dist-packages/scikeras/wrappers.py:915: UserWarning: ``build_fn`` will be renamed to ``model`` in a future release, at which point use of ``build_fn`` will raise an Error instead.\n",
            "  X, y = self._initialize(X, y)\n"
          ]
        },
        {
          "output_type": "stream",
          "name": "stdout",
          "text": [
            "59/59 [==============================] - 2s 8ms/step - loss: 0.5410 - accuracy: 0.7508 - val_loss: 0.4795 - val_accuracy: 0.7727\n",
            "Epoch 2/10\n",
            "59/59 [==============================] - 0s 4ms/step - loss: 0.4641 - accuracy: 0.7721 - val_loss: 0.4450 - val_accuracy: 0.7969\n",
            "Epoch 3/10\n",
            "59/59 [==============================] - 0s 4ms/step - loss: 0.4433 - accuracy: 0.7843 - val_loss: 0.4351 - val_accuracy: 0.7997\n",
            "Epoch 4/10\n",
            "59/59 [==============================] - 0s 4ms/step - loss: 0.4319 - accuracy: 0.7918 - val_loss: 0.4305 - val_accuracy: 0.8011\n",
            "Epoch 5/10\n",
            "59/59 [==============================] - 0s 4ms/step - loss: 0.4245 - accuracy: 0.7947 - val_loss: 0.4294 - val_accuracy: 0.7997\n",
            "Epoch 6/10\n",
            "59/59 [==============================] - 0s 4ms/step - loss: 0.4201 - accuracy: 0.7947 - val_loss: 0.4309 - val_accuracy: 0.7940\n",
            "Epoch 7/10\n",
            "59/59 [==============================] - 0s 4ms/step - loss: 0.4159 - accuracy: 0.7990 - val_loss: 0.4302 - val_accuracy: 0.7969\n",
            "Epoch 8/10\n",
            "59/59 [==============================] - 0s 3ms/step - loss: 0.4119 - accuracy: 0.8009 - val_loss: 0.4307 - val_accuracy: 0.7926\n",
            "Epoch 9/10\n",
            "59/59 [==============================] - 0s 3ms/step - loss: 0.4085 - accuracy: 0.8032 - val_loss: 0.4310 - val_accuracy: 0.7955\n",
            "Epoch 10/10\n",
            "59/59 [==============================] - 0s 4ms/step - loss: 0.4074 - accuracy: 0.8064 - val_loss: 0.4318 - val_accuracy: 0.7997\n",
            "30/30 [==============================] - 0s 1ms/step\n",
            "Epoch 1/10\n"
          ]
        },
        {
          "output_type": "stream",
          "name": "stderr",
          "text": [
            "/usr/local/lib/python3.10/dist-packages/scikeras/wrappers.py:915: UserWarning: ``build_fn`` will be renamed to ``model`` in a future release, at which point use of ``build_fn`` will raise an Error instead.\n",
            "  X, y = self._initialize(X, y)\n"
          ]
        },
        {
          "output_type": "stream",
          "name": "stdout",
          "text": [
            "59/59 [==============================] - 1s 8ms/step - loss: 0.5484 - accuracy: 0.7117 - val_loss: 0.4458 - val_accuracy: 0.7884\n",
            "Epoch 2/10\n",
            "59/59 [==============================] - 0s 4ms/step - loss: 0.4417 - accuracy: 0.7859 - val_loss: 0.4364 - val_accuracy: 0.7898\n",
            "Epoch 3/10\n",
            "59/59 [==============================] - 0s 3ms/step - loss: 0.4273 - accuracy: 0.7950 - val_loss: 0.4272 - val_accuracy: 0.7969\n",
            "Epoch 4/10\n",
            "59/59 [==============================] - 0s 4ms/step - loss: 0.4190 - accuracy: 0.8011 - val_loss: 0.4260 - val_accuracy: 0.8011\n",
            "Epoch 5/10\n",
            "59/59 [==============================] - 0s 4ms/step - loss: 0.4137 - accuracy: 0.8022 - val_loss: 0.4230 - val_accuracy: 0.8068\n",
            "Epoch 6/10\n",
            "59/59 [==============================] - 0s 3ms/step - loss: 0.4087 - accuracy: 0.8048 - val_loss: 0.4230 - val_accuracy: 0.7997\n",
            "Epoch 7/10\n",
            "59/59 [==============================] - 0s 5ms/step - loss: 0.4038 - accuracy: 0.8088 - val_loss: 0.4240 - val_accuracy: 0.7997\n",
            "Epoch 8/10\n",
            "59/59 [==============================] - 0s 4ms/step - loss: 0.4005 - accuracy: 0.8091 - val_loss: 0.4244 - val_accuracy: 0.7884\n",
            "Epoch 9/10\n",
            "59/59 [==============================] - 0s 5ms/step - loss: 0.3975 - accuracy: 0.8126 - val_loss: 0.4247 - val_accuracy: 0.7983\n",
            "Epoch 10/10\n",
            "59/59 [==============================] - 0s 4ms/step - loss: 0.3944 - accuracy: 0.8139 - val_loss: 0.4251 - val_accuracy: 0.7955\n",
            "30/30 [==============================] - 0s 2ms/step\n",
            "Epoch 1/10\n"
          ]
        },
        {
          "output_type": "stream",
          "name": "stderr",
          "text": [
            "/usr/local/lib/python3.10/dist-packages/scikeras/wrappers.py:915: UserWarning: ``build_fn`` will be renamed to ``model`` in a future release, at which point use of ``build_fn`` will raise an Error instead.\n",
            "  X, y = self._initialize(X, y)\n"
          ]
        },
        {
          "output_type": "stream",
          "name": "stdout",
          "text": [
            "59/59 [==============================] - 2s 8ms/step - loss: 0.5359 - accuracy: 0.7367 - val_loss: 0.4586 - val_accuracy: 0.7344\n",
            "Epoch 2/10\n",
            "59/59 [==============================] - 0s 4ms/step - loss: 0.4526 - accuracy: 0.7367 - val_loss: 0.4407 - val_accuracy: 0.7344\n",
            "Epoch 3/10\n",
            "59/59 [==============================] - 0s 4ms/step - loss: 0.4410 - accuracy: 0.7487 - val_loss: 0.4392 - val_accuracy: 0.7827\n",
            "Epoch 4/10\n",
            "59/59 [==============================] - 0s 5ms/step - loss: 0.4343 - accuracy: 0.7894 - val_loss: 0.4357 - val_accuracy: 0.7955\n",
            "Epoch 5/10\n",
            "59/59 [==============================] - 0s 4ms/step - loss: 0.4302 - accuracy: 0.7942 - val_loss: 0.4349 - val_accuracy: 0.8026\n",
            "Epoch 6/10\n",
            "59/59 [==============================] - 0s 4ms/step - loss: 0.4249 - accuracy: 0.8027 - val_loss: 0.4329 - val_accuracy: 0.8068\n",
            "Epoch 7/10\n",
            "59/59 [==============================] - 0s 4ms/step - loss: 0.4228 - accuracy: 0.8104 - val_loss: 0.4309 - val_accuracy: 0.8068\n",
            "Epoch 8/10\n",
            "59/59 [==============================] - 0s 3ms/step - loss: 0.4180 - accuracy: 0.8075 - val_loss: 0.4294 - val_accuracy: 0.8040\n",
            "Epoch 9/10\n",
            "59/59 [==============================] - 0s 3ms/step - loss: 0.4144 - accuracy: 0.8126 - val_loss: 0.4308 - val_accuracy: 0.8040\n",
            "Epoch 10/10\n",
            "59/59 [==============================] - 0s 3ms/step - loss: 0.4116 - accuracy: 0.8118 - val_loss: 0.4289 - val_accuracy: 0.8097\n",
            "30/30 [==============================] - 0s 1ms/step\n",
            "Epoch 1/10\n"
          ]
        },
        {
          "output_type": "stream",
          "name": "stderr",
          "text": [
            "/usr/local/lib/python3.10/dist-packages/scikeras/wrappers.py:915: UserWarning: ``build_fn`` will be renamed to ``model`` in a future release, at which point use of ``build_fn`` will raise an Error instead.\n",
            "  X, y = self._initialize(X, y)\n"
          ]
        },
        {
          "output_type": "stream",
          "name": "stdout",
          "text": [
            "59/59 [==============================] - 2s 9ms/step - loss: 0.5538 - accuracy: 0.7119 - val_loss: 0.4589 - val_accuracy: 0.7685\n",
            "Epoch 2/10\n",
            "59/59 [==============================] - 0s 4ms/step - loss: 0.4539 - accuracy: 0.7830 - val_loss: 0.4329 - val_accuracy: 0.7940\n",
            "Epoch 3/10\n",
            "59/59 [==============================] - 0s 3ms/step - loss: 0.4361 - accuracy: 0.7907 - val_loss: 0.4256 - val_accuracy: 0.7955\n",
            "Epoch 4/10\n",
            "59/59 [==============================] - 0s 4ms/step - loss: 0.4273 - accuracy: 0.8006 - val_loss: 0.4232 - val_accuracy: 0.8040\n",
            "Epoch 5/10\n",
            "59/59 [==============================] - 0s 4ms/step - loss: 0.4213 - accuracy: 0.7977 - val_loss: 0.4219 - val_accuracy: 0.8011\n",
            "Epoch 6/10\n",
            "59/59 [==============================] - 0s 3ms/step - loss: 0.4179 - accuracy: 0.7985 - val_loss: 0.4213 - val_accuracy: 0.8054\n",
            "Epoch 7/10\n",
            "59/59 [==============================] - 0s 4ms/step - loss: 0.4142 - accuracy: 0.8019 - val_loss: 0.4192 - val_accuracy: 0.8026\n",
            "Epoch 8/10\n",
            "59/59 [==============================] - 0s 4ms/step - loss: 0.4103 - accuracy: 0.8048 - val_loss: 0.4215 - val_accuracy: 0.7969\n",
            "Epoch 9/10\n",
            "59/59 [==============================] - 0s 4ms/step - loss: 0.4085 - accuracy: 0.8051 - val_loss: 0.4191 - val_accuracy: 0.7969\n",
            "Epoch 10/10\n",
            "59/59 [==============================] - 0s 4ms/step - loss: 0.4049 - accuracy: 0.8107 - val_loss: 0.4216 - val_accuracy: 0.7997\n",
            "30/30 [==============================] - 0s 1ms/step\n",
            "Epoch 1/10\n"
          ]
        },
        {
          "output_type": "stream",
          "name": "stderr",
          "text": [
            "/usr/local/lib/python3.10/dist-packages/scikeras/wrappers.py:915: UserWarning: ``build_fn`` will be renamed to ``model`` in a future release, at which point use of ``build_fn`` will raise an Error instead.\n",
            "  X, y = self._initialize(X, y)\n"
          ]
        },
        {
          "output_type": "stream",
          "name": "stdout",
          "text": [
            "59/59 [==============================] - 1s 5ms/step - loss: 0.5832 - accuracy: 0.6989 - val_loss: 0.4754 - val_accuracy: 0.7884\n",
            "Epoch 2/10\n",
            "59/59 [==============================] - 0s 3ms/step - loss: 0.4440 - accuracy: 0.7902 - val_loss: 0.4361 - val_accuracy: 0.7884\n",
            "Epoch 3/10\n",
            "59/59 [==============================] - 0s 3ms/step - loss: 0.4257 - accuracy: 0.7985 - val_loss: 0.4343 - val_accuracy: 0.7912\n",
            "Epoch 4/10\n",
            "59/59 [==============================] - 0s 3ms/step - loss: 0.4168 - accuracy: 0.8027 - val_loss: 0.4303 - val_accuracy: 0.7841\n",
            "Epoch 5/10\n",
            "59/59 [==============================] - 0s 3ms/step - loss: 0.4112 - accuracy: 0.8088 - val_loss: 0.4296 - val_accuracy: 0.7869\n",
            "Epoch 6/10\n",
            "59/59 [==============================] - 0s 3ms/step - loss: 0.4088 - accuracy: 0.8064 - val_loss: 0.4265 - val_accuracy: 0.7983\n",
            "Epoch 7/10\n",
            "59/59 [==============================] - 0s 3ms/step - loss: 0.4052 - accuracy: 0.8102 - val_loss: 0.4344 - val_accuracy: 0.7855\n",
            "Epoch 8/10\n",
            "59/59 [==============================] - 0s 3ms/step - loss: 0.4015 - accuracy: 0.8139 - val_loss: 0.4285 - val_accuracy: 0.7869\n",
            "Epoch 9/10\n",
            "59/59 [==============================] - 0s 3ms/step - loss: 0.3993 - accuracy: 0.8131 - val_loss: 0.4268 - val_accuracy: 0.7969\n",
            "Epoch 10/10\n",
            "59/59 [==============================] - 0s 3ms/step - loss: 0.3952 - accuracy: 0.8187 - val_loss: 0.4300 - val_accuracy: 0.7912\n",
            "30/30 [==============================] - 0s 1ms/step\n",
            "Epoch 1/10\n"
          ]
        },
        {
          "output_type": "stream",
          "name": "stderr",
          "text": [
            "/usr/local/lib/python3.10/dist-packages/scikeras/wrappers.py:915: UserWarning: ``build_fn`` will be renamed to ``model`` in a future release, at which point use of ``build_fn`` will raise an Error instead.\n",
            "  X, y = self._initialize(X, y)\n"
          ]
        },
        {
          "output_type": "stream",
          "name": "stdout",
          "text": [
            "59/59 [==============================] - 2s 9ms/step - loss: 0.6211 - accuracy: 0.6568 - val_loss: 0.5196 - val_accuracy: 0.7557\n",
            "Epoch 2/10\n",
            "59/59 [==============================] - 0s 3ms/step - loss: 0.4702 - accuracy: 0.7835 - val_loss: 0.4313 - val_accuracy: 0.8026\n",
            "Epoch 3/10\n",
            "59/59 [==============================] - 0s 5ms/step - loss: 0.4334 - accuracy: 0.7945 - val_loss: 0.4220 - val_accuracy: 0.8026\n",
            "Epoch 4/10\n",
            "59/59 [==============================] - 0s 5ms/step - loss: 0.4224 - accuracy: 0.8014 - val_loss: 0.4188 - val_accuracy: 0.8068\n",
            "Epoch 5/10\n",
            "59/59 [==============================] - 0s 5ms/step - loss: 0.4152 - accuracy: 0.8080 - val_loss: 0.4177 - val_accuracy: 0.8054\n",
            "Epoch 6/10\n",
            "59/59 [==============================] - 0s 5ms/step - loss: 0.4096 - accuracy: 0.8078 - val_loss: 0.4189 - val_accuracy: 0.7940\n",
            "Epoch 7/10\n",
            "59/59 [==============================] - 0s 5ms/step - loss: 0.4064 - accuracy: 0.8107 - val_loss: 0.4166 - val_accuracy: 0.7997\n",
            "Epoch 8/10\n",
            "59/59 [==============================] - 0s 4ms/step - loss: 0.4032 - accuracy: 0.8110 - val_loss: 0.4164 - val_accuracy: 0.7997\n",
            "Epoch 9/10\n",
            "59/59 [==============================] - 0s 4ms/step - loss: 0.3998 - accuracy: 0.8158 - val_loss: 0.4202 - val_accuracy: 0.7983\n",
            "Epoch 10/10\n",
            "59/59 [==============================] - 0s 4ms/step - loss: 0.3968 - accuracy: 0.8152 - val_loss: 0.4180 - val_accuracy: 0.7997\n",
            "30/30 [==============================] - 0s 2ms/step\n",
            "Epoch 1/10\n"
          ]
        },
        {
          "output_type": "stream",
          "name": "stderr",
          "text": [
            "/usr/local/lib/python3.10/dist-packages/scikeras/wrappers.py:915: UserWarning: ``build_fn`` will be renamed to ``model`` in a future release, at which point use of ``build_fn`` will raise an Error instead.\n",
            "  X, y = self._initialize(X, y)\n"
          ]
        },
        {
          "output_type": "stream",
          "name": "stdout",
          "text": [
            "59/59 [==============================] - 3s 12ms/step - loss: 0.6550 - accuracy: 0.5996 - val_loss: 0.5268 - val_accuracy: 0.7528\n",
            "Epoch 2/10\n",
            "59/59 [==============================] - 0s 4ms/step - loss: 0.4758 - accuracy: 0.7894 - val_loss: 0.4427 - val_accuracy: 0.7898\n",
            "Epoch 3/10\n",
            "59/59 [==============================] - 0s 7ms/step - loss: 0.4382 - accuracy: 0.7915 - val_loss: 0.4269 - val_accuracy: 0.7997\n",
            "Epoch 4/10\n",
            "59/59 [==============================] - 0s 8ms/step - loss: 0.4260 - accuracy: 0.8003 - val_loss: 0.4230 - val_accuracy: 0.8026\n",
            "Epoch 5/10\n",
            "59/59 [==============================] - 0s 7ms/step - loss: 0.4198 - accuracy: 0.7985 - val_loss: 0.4203 - val_accuracy: 0.8026\n",
            "Epoch 6/10\n",
            "59/59 [==============================] - 0s 5ms/step - loss: 0.4152 - accuracy: 0.8067 - val_loss: 0.4193 - val_accuracy: 0.8082\n",
            "Epoch 7/10\n",
            "59/59 [==============================] - 0s 6ms/step - loss: 0.4120 - accuracy: 0.8035 - val_loss: 0.4201 - val_accuracy: 0.8054\n",
            "Epoch 8/10\n",
            "59/59 [==============================] - 0s 4ms/step - loss: 0.4088 - accuracy: 0.8096 - val_loss: 0.4205 - val_accuracy: 0.8011\n",
            "Epoch 9/10\n",
            "59/59 [==============================] - 0s 6ms/step - loss: 0.4051 - accuracy: 0.8094 - val_loss: 0.4243 - val_accuracy: 0.7983\n",
            "Epoch 10/10\n",
            "59/59 [==============================] - 0s 6ms/step - loss: 0.4016 - accuracy: 0.8142 - val_loss: 0.4229 - val_accuracy: 0.8040\n",
            "30/30 [==============================] - 0s 3ms/step\n"
          ]
        },
        {
          "output_type": "stream",
          "name": "stderr",
          "text": [
            "/usr/local/lib/python3.10/dist-packages/scikeras/wrappers.py:915: UserWarning: ``build_fn`` will be renamed to ``model`` in a future release, at which point use of ``build_fn`` will raise an Error instead.\n",
            "  X, y = self._initialize(X, y)\n"
          ]
        },
        {
          "output_type": "stream",
          "name": "stdout",
          "text": [
            "Epoch 1/10\n",
            "59/59 [==============================] - 4s 13ms/step - loss: 0.5523 - accuracy: 0.7324 - val_loss: 0.4669 - val_accuracy: 0.7486\n",
            "Epoch 2/10\n",
            "59/59 [==============================] - 0s 5ms/step - loss: 0.4456 - accuracy: 0.7796 - val_loss: 0.4395 - val_accuracy: 0.7869\n",
            "Epoch 3/10\n",
            "59/59 [==============================] - 0s 5ms/step - loss: 0.4266 - accuracy: 0.7971 - val_loss: 0.4348 - val_accuracy: 0.7983\n",
            "Epoch 4/10\n",
            "59/59 [==============================] - 0s 5ms/step - loss: 0.4178 - accuracy: 0.8024 - val_loss: 0.4322 - val_accuracy: 0.7926\n",
            "Epoch 5/10\n",
            "59/59 [==============================] - 0s 3ms/step - loss: 0.4118 - accuracy: 0.8099 - val_loss: 0.4304 - val_accuracy: 0.7884\n",
            "Epoch 6/10\n",
            "59/59 [==============================] - 0s 3ms/step - loss: 0.4074 - accuracy: 0.8104 - val_loss: 0.4295 - val_accuracy: 0.7969\n",
            "Epoch 7/10\n",
            "59/59 [==============================] - 0s 3ms/step - loss: 0.4041 - accuracy: 0.8115 - val_loss: 0.4341 - val_accuracy: 0.7869\n",
            "Epoch 8/10\n",
            "59/59 [==============================] - 0s 3ms/step - loss: 0.3994 - accuracy: 0.8134 - val_loss: 0.4281 - val_accuracy: 0.7898\n",
            "Epoch 9/10\n",
            "59/59 [==============================] - 0s 3ms/step - loss: 0.3965 - accuracy: 0.8139 - val_loss: 0.4300 - val_accuracy: 0.7926\n",
            "Epoch 10/10\n",
            "59/59 [==============================] - 0s 3ms/step - loss: 0.3932 - accuracy: 0.8190 - val_loss: 0.4287 - val_accuracy: 0.7983\n",
            "30/30 [==============================] - 0s 1ms/step\n",
            "Epoch 1/10\n"
          ]
        },
        {
          "output_type": "stream",
          "name": "stderr",
          "text": [
            "/usr/local/lib/python3.10/dist-packages/scikeras/wrappers.py:915: UserWarning: ``build_fn`` will be renamed to ``model`` in a future release, at which point use of ``build_fn`` will raise an Error instead.\n",
            "  X, y = self._initialize(X, y)\n"
          ]
        },
        {
          "output_type": "stream",
          "name": "stdout",
          "text": [
            "59/59 [==============================] - 1s 5ms/step - loss: 0.5318 - accuracy: 0.7322 - val_loss: 0.4550 - val_accuracy: 0.7571\n",
            "Epoch 2/10\n",
            "59/59 [==============================] - 0s 3ms/step - loss: 0.4416 - accuracy: 0.7854 - val_loss: 0.4298 - val_accuracy: 0.7955\n",
            "Epoch 3/10\n",
            "59/59 [==============================] - 0s 3ms/step - loss: 0.4278 - accuracy: 0.7985 - val_loss: 0.4231 - val_accuracy: 0.7940\n",
            "Epoch 4/10\n",
            "59/59 [==============================] - 0s 3ms/step - loss: 0.4196 - accuracy: 0.8030 - val_loss: 0.4221 - val_accuracy: 0.7955\n",
            "Epoch 5/10\n",
            "59/59 [==============================] - 0s 3ms/step - loss: 0.4142 - accuracy: 0.8104 - val_loss: 0.4213 - val_accuracy: 0.8011\n",
            "Epoch 6/10\n",
            "59/59 [==============================] - 0s 3ms/step - loss: 0.4105 - accuracy: 0.8104 - val_loss: 0.4197 - val_accuracy: 0.7983\n",
            "Epoch 7/10\n",
            "59/59 [==============================] - 0s 3ms/step - loss: 0.4066 - accuracy: 0.8080 - val_loss: 0.4193 - val_accuracy: 0.8097\n",
            "Epoch 8/10\n",
            "59/59 [==============================] - 0s 3ms/step - loss: 0.4029 - accuracy: 0.8147 - val_loss: 0.4196 - val_accuracy: 0.7997\n",
            "Epoch 9/10\n",
            "59/59 [==============================] - 0s 3ms/step - loss: 0.3995 - accuracy: 0.8139 - val_loss: 0.4218 - val_accuracy: 0.8068\n",
            "Epoch 10/10\n",
            "59/59 [==============================] - 0s 3ms/step - loss: 0.3979 - accuracy: 0.8126 - val_loss: 0.4209 - val_accuracy: 0.8097\n",
            "30/30 [==============================] - 0s 2ms/step\n",
            "Epoch 1/10\n"
          ]
        },
        {
          "output_type": "stream",
          "name": "stderr",
          "text": [
            "/usr/local/lib/python3.10/dist-packages/scikeras/wrappers.py:915: UserWarning: ``build_fn`` will be renamed to ``model`` in a future release, at which point use of ``build_fn`` will raise an Error instead.\n",
            "  X, y = self._initialize(X, y)\n"
          ]
        },
        {
          "output_type": "stream",
          "name": "stdout",
          "text": [
            "59/59 [==============================] - 1s 5ms/step - loss: 0.5486 - accuracy: 0.7346 - val_loss: 0.4608 - val_accuracy: 0.7628\n",
            "Epoch 2/10\n",
            "59/59 [==============================] - 0s 3ms/step - loss: 0.4541 - accuracy: 0.7788 - val_loss: 0.4370 - val_accuracy: 0.7898\n",
            "Epoch 3/10\n",
            "59/59 [==============================] - 0s 3ms/step - loss: 0.4357 - accuracy: 0.7897 - val_loss: 0.4300 - val_accuracy: 0.7940\n",
            "Epoch 4/10\n",
            "59/59 [==============================] - 0s 3ms/step - loss: 0.4282 - accuracy: 0.7929 - val_loss: 0.4254 - val_accuracy: 0.7969\n",
            "Epoch 5/10\n",
            "59/59 [==============================] - 0s 3ms/step - loss: 0.4210 - accuracy: 0.7961 - val_loss: 0.4237 - val_accuracy: 0.7940\n",
            "Epoch 6/10\n",
            "59/59 [==============================] - 0s 3ms/step - loss: 0.4166 - accuracy: 0.8030 - val_loss: 0.4214 - val_accuracy: 0.7940\n",
            "Epoch 7/10\n",
            "59/59 [==============================] - 0s 3ms/step - loss: 0.4121 - accuracy: 0.7998 - val_loss: 0.4212 - val_accuracy: 0.7983\n",
            "Epoch 8/10\n",
            "59/59 [==============================] - 0s 3ms/step - loss: 0.4082 - accuracy: 0.8043 - val_loss: 0.4209 - val_accuracy: 0.7969\n",
            "Epoch 9/10\n",
            "59/59 [==============================] - 0s 4ms/step - loss: 0.4051 - accuracy: 0.8062 - val_loss: 0.4216 - val_accuracy: 0.7983\n",
            "Epoch 10/10\n",
            "59/59 [==============================] - 0s 5ms/step - loss: 0.4020 - accuracy: 0.8078 - val_loss: 0.4220 - val_accuracy: 0.7983\n",
            "30/30 [==============================] - 0s 2ms/step\n"
          ]
        },
        {
          "output_type": "stream",
          "name": "stderr",
          "text": [
            "/usr/local/lib/python3.10/dist-packages/scikeras/wrappers.py:915: UserWarning: ``build_fn`` will be renamed to ``model`` in a future release, at which point use of ``build_fn`` will raise an Error instead.\n",
            "  X, y = self._initialize(X, y)\n"
          ]
        },
        {
          "output_type": "stream",
          "name": "stdout",
          "text": [
            "Epoch 1/10\n",
            "59/59 [==============================] - 6s 26ms/step - loss: 0.6676 - accuracy: 0.6395 - val_loss: 0.5504 - val_accuracy: 0.7798\n",
            "Epoch 2/10\n",
            "59/59 [==============================] - 1s 9ms/step - loss: 0.4593 - accuracy: 0.7899 - val_loss: 0.4286 - val_accuracy: 0.7926\n",
            "Epoch 3/10\n",
            "59/59 [==============================] - 0s 8ms/step - loss: 0.4244 - accuracy: 0.7985 - val_loss: 0.4193 - val_accuracy: 0.7997\n",
            "Epoch 4/10\n",
            "59/59 [==============================] - 0s 6ms/step - loss: 0.4150 - accuracy: 0.8032 - val_loss: 0.4195 - val_accuracy: 0.7940\n",
            "Epoch 5/10\n",
            "59/59 [==============================] - 0s 8ms/step - loss: 0.4090 - accuracy: 0.8059 - val_loss: 0.4227 - val_accuracy: 0.7955\n",
            "Epoch 6/10\n",
            "59/59 [==============================] - 0s 5ms/step - loss: 0.4044 - accuracy: 0.8102 - val_loss: 0.4211 - val_accuracy: 0.7940\n",
            "Epoch 7/10\n",
            "59/59 [==============================] - 0s 3ms/step - loss: 0.3999 - accuracy: 0.8115 - val_loss: 0.4204 - val_accuracy: 0.7983\n",
            "Epoch 8/10\n",
            "59/59 [==============================] - 0s 3ms/step - loss: 0.3954 - accuracy: 0.8158 - val_loss: 0.4241 - val_accuracy: 0.8026\n",
            "Epoch 9/10\n",
            "59/59 [==============================] - 0s 6ms/step - loss: 0.3922 - accuracy: 0.8208 - val_loss: 0.4245 - val_accuracy: 0.8011\n",
            "Epoch 10/10\n",
            "59/59 [==============================] - 0s 6ms/step - loss: 0.3893 - accuracy: 0.8179 - val_loss: 0.4219 - val_accuracy: 0.7955\n",
            "30/30 [==============================] - 0s 2ms/step\n",
            "Epoch 1/10\n"
          ]
        },
        {
          "output_type": "stream",
          "name": "stderr",
          "text": [
            "/usr/local/lib/python3.10/dist-packages/scikeras/wrappers.py:915: UserWarning: ``build_fn`` will be renamed to ``model`` in a future release, at which point use of ``build_fn`` will raise an Error instead.\n",
            "  X, y = self._initialize(X, y)\n"
          ]
        },
        {
          "output_type": "stream",
          "name": "stdout",
          "text": [
            "59/59 [==============================] - 2s 7ms/step - loss: 0.5049 - accuracy: 0.7487 - val_loss: 0.4345 - val_accuracy: 0.8011\n",
            "Epoch 2/10\n",
            "59/59 [==============================] - 0s 3ms/step - loss: 0.4307 - accuracy: 0.7937 - val_loss: 0.4232 - val_accuracy: 0.8011\n",
            "Epoch 3/10\n",
            "59/59 [==============================] - 0s 3ms/step - loss: 0.4200 - accuracy: 0.8040 - val_loss: 0.4198 - val_accuracy: 0.8040\n",
            "Epoch 4/10\n",
            "59/59 [==============================] - 0s 3ms/step - loss: 0.4131 - accuracy: 0.8091 - val_loss: 0.4192 - val_accuracy: 0.8139\n",
            "Epoch 5/10\n",
            "59/59 [==============================] - 0s 3ms/step - loss: 0.4085 - accuracy: 0.8112 - val_loss: 0.4275 - val_accuracy: 0.7983\n",
            "Epoch 6/10\n",
            "59/59 [==============================] - 0s 3ms/step - loss: 0.4042 - accuracy: 0.8104 - val_loss: 0.4190 - val_accuracy: 0.8068\n",
            "Epoch 7/10\n",
            "59/59 [==============================] - 0s 3ms/step - loss: 0.4019 - accuracy: 0.8187 - val_loss: 0.4164 - val_accuracy: 0.8139\n",
            "Epoch 8/10\n",
            "59/59 [==============================] - 0s 3ms/step - loss: 0.3984 - accuracy: 0.8131 - val_loss: 0.4181 - val_accuracy: 0.8068\n",
            "Epoch 9/10\n",
            "59/59 [==============================] - 0s 3ms/step - loss: 0.3931 - accuracy: 0.8174 - val_loss: 0.4166 - val_accuracy: 0.8097\n",
            "Epoch 10/10\n",
            "59/59 [==============================] - 0s 3ms/step - loss: 0.3892 - accuracy: 0.8224 - val_loss: 0.4185 - val_accuracy: 0.8054\n",
            "30/30 [==============================] - 0s 2ms/step\n",
            "Epoch 1/10\n"
          ]
        },
        {
          "output_type": "stream",
          "name": "stderr",
          "text": [
            "/usr/local/lib/python3.10/dist-packages/scikeras/wrappers.py:915: UserWarning: ``build_fn`` will be renamed to ``model`` in a future release, at which point use of ``build_fn`` will raise an Error instead.\n",
            "  X, y = self._initialize(X, y)\n"
          ]
        },
        {
          "output_type": "stream",
          "name": "stdout",
          "text": [
            "59/59 [==============================] - 1s 5ms/step - loss: 0.4943 - accuracy: 0.7343 - val_loss: 0.4469 - val_accuracy: 0.7315\n",
            "Epoch 2/10\n",
            "59/59 [==============================] - 0s 3ms/step - loss: 0.4407 - accuracy: 0.7575 - val_loss: 0.4412 - val_accuracy: 0.7940\n",
            "Epoch 3/10\n",
            "59/59 [==============================] - 0s 3ms/step - loss: 0.4289 - accuracy: 0.7878 - val_loss: 0.4386 - val_accuracy: 0.7812\n",
            "Epoch 4/10\n",
            "59/59 [==============================] - 0s 3ms/step - loss: 0.4187 - accuracy: 0.7993 - val_loss: 0.4309 - val_accuracy: 0.7983\n",
            "Epoch 5/10\n",
            "59/59 [==============================] - 0s 3ms/step - loss: 0.4090 - accuracy: 0.8022 - val_loss: 0.4319 - val_accuracy: 0.7969\n",
            "Epoch 6/10\n",
            "59/59 [==============================] - 0s 3ms/step - loss: 0.4031 - accuracy: 0.8046 - val_loss: 0.4313 - val_accuracy: 0.8040\n",
            "Epoch 7/10\n",
            "59/59 [==============================] - 0s 3ms/step - loss: 0.3970 - accuracy: 0.8080 - val_loss: 0.4333 - val_accuracy: 0.7926\n",
            "Epoch 8/10\n",
            "59/59 [==============================] - 0s 3ms/step - loss: 0.3931 - accuracy: 0.8091 - val_loss: 0.4341 - val_accuracy: 0.7983\n",
            "Epoch 9/10\n",
            "59/59 [==============================] - 0s 3ms/step - loss: 0.3885 - accuracy: 0.8166 - val_loss: 0.4321 - val_accuracy: 0.7997\n",
            "Epoch 10/10\n",
            "59/59 [==============================] - 0s 3ms/step - loss: 0.3838 - accuracy: 0.8174 - val_loss: 0.4339 - val_accuracy: 0.8040\n",
            "30/30 [==============================] - 0s 2ms/step\n",
            "Epoch 1/10\n"
          ]
        },
        {
          "output_type": "stream",
          "name": "stderr",
          "text": [
            "/usr/local/lib/python3.10/dist-packages/scikeras/wrappers.py:915: UserWarning: ``build_fn`` will be renamed to ``model`` in a future release, at which point use of ``build_fn`` will raise an Error instead.\n",
            "  X, y = self._initialize(X, y)\n"
          ]
        },
        {
          "output_type": "stream",
          "name": "stdout",
          "text": [
            "59/59 [==============================] - 3s 16ms/step - loss: 0.5383 - accuracy: 0.7127 - val_loss: 0.4500 - val_accuracy: 0.7344\n",
            "Epoch 2/10\n",
            "59/59 [==============================] - 0s 7ms/step - loss: 0.4476 - accuracy: 0.7676 - val_loss: 0.4369 - val_accuracy: 0.7912\n",
            "Epoch 3/10\n",
            "59/59 [==============================] - 0s 6ms/step - loss: 0.4325 - accuracy: 0.7942 - val_loss: 0.4324 - val_accuracy: 0.8040\n",
            "Epoch 4/10\n",
            "59/59 [==============================] - 0s 5ms/step - loss: 0.4220 - accuracy: 0.8038 - val_loss: 0.4296 - val_accuracy: 0.8011\n",
            "Epoch 5/10\n",
            "59/59 [==============================] - 0s 7ms/step - loss: 0.4154 - accuracy: 0.8051 - val_loss: 0.4279 - val_accuracy: 0.8011\n",
            "Epoch 6/10\n",
            "59/59 [==============================] - 0s 6ms/step - loss: 0.4069 - accuracy: 0.8083 - val_loss: 0.4321 - val_accuracy: 0.7912\n",
            "Epoch 7/10\n",
            "59/59 [==============================] - 0s 7ms/step - loss: 0.4051 - accuracy: 0.8086 - val_loss: 0.4265 - val_accuracy: 0.8011\n",
            "Epoch 8/10\n",
            "59/59 [==============================] - 0s 7ms/step - loss: 0.4003 - accuracy: 0.8083 - val_loss: 0.4274 - val_accuracy: 0.8011\n",
            "Epoch 9/10\n",
            "59/59 [==============================] - 0s 7ms/step - loss: 0.3967 - accuracy: 0.8155 - val_loss: 0.4215 - val_accuracy: 0.7997\n",
            "Epoch 10/10\n",
            "59/59 [==============================] - 0s 6ms/step - loss: 0.3929 - accuracy: 0.8139 - val_loss: 0.4260 - val_accuracy: 0.8026\n",
            "30/30 [==============================] - 0s 5ms/step\n"
          ]
        },
        {
          "output_type": "stream",
          "name": "stderr",
          "text": [
            "/usr/local/lib/python3.10/dist-packages/scikeras/wrappers.py:915: UserWarning: ``build_fn`` will be renamed to ``model`` in a future release, at which point use of ``build_fn`` will raise an Error instead.\n",
            "  X, y = self._initialize(X, y)\n"
          ]
        },
        {
          "output_type": "stream",
          "name": "stdout",
          "text": [
            "Epoch 1/10\n",
            "59/59 [==============================] - 2s 5ms/step - loss: 0.5921 - accuracy: 0.6999 - val_loss: 0.4597 - val_accuracy: 0.7926\n",
            "Epoch 2/10\n",
            "59/59 [==============================] - 0s 3ms/step - loss: 0.4370 - accuracy: 0.7955 - val_loss: 0.4286 - val_accuracy: 0.8040\n",
            "Epoch 3/10\n",
            "59/59 [==============================] - 0s 3ms/step - loss: 0.4228 - accuracy: 0.8006 - val_loss: 0.4245 - val_accuracy: 0.8054\n",
            "Epoch 4/10\n",
            "59/59 [==============================] - 0s 3ms/step - loss: 0.4147 - accuracy: 0.8032 - val_loss: 0.4218 - val_accuracy: 0.7983\n",
            "Epoch 5/10\n",
            "59/59 [==============================] - 0s 3ms/step - loss: 0.4105 - accuracy: 0.8083 - val_loss: 0.4200 - val_accuracy: 0.8011\n",
            "Epoch 6/10\n",
            "59/59 [==============================] - 0s 4ms/step - loss: 0.4084 - accuracy: 0.8070 - val_loss: 0.4232 - val_accuracy: 0.7969\n",
            "Epoch 7/10\n",
            "59/59 [==============================] - 0s 6ms/step - loss: 0.4035 - accuracy: 0.8147 - val_loss: 0.4217 - val_accuracy: 0.7997\n",
            "Epoch 8/10\n",
            "59/59 [==============================] - 0s 4ms/step - loss: 0.4007 - accuracy: 0.8136 - val_loss: 0.4208 - val_accuracy: 0.7983\n",
            "Epoch 9/10\n",
            "59/59 [==============================] - 0s 5ms/step - loss: 0.3976 - accuracy: 0.8136 - val_loss: 0.4194 - val_accuracy: 0.8068\n",
            "Epoch 10/10\n",
            "59/59 [==============================] - 0s 5ms/step - loss: 0.3951 - accuracy: 0.8155 - val_loss: 0.4231 - val_accuracy: 0.8040\n",
            "30/30 [==============================] - 0s 1ms/step\n",
            "Epoch 1/10\n"
          ]
        },
        {
          "output_type": "stream",
          "name": "stderr",
          "text": [
            "/usr/local/lib/python3.10/dist-packages/scikeras/wrappers.py:915: UserWarning: ``build_fn`` will be renamed to ``model`` in a future release, at which point use of ``build_fn`` will raise an Error instead.\n",
            "  X, y = self._initialize(X, y)\n"
          ]
        },
        {
          "output_type": "stream",
          "name": "stdout",
          "text": [
            "59/59 [==============================] - 2s 5ms/step - loss: 0.5579 - accuracy: 0.7007 - val_loss: 0.4621 - val_accuracy: 0.7756\n",
            "Epoch 2/10\n",
            "59/59 [==============================] - 0s 3ms/step - loss: 0.4434 - accuracy: 0.7913 - val_loss: 0.4270 - val_accuracy: 0.7983\n",
            "Epoch 3/10\n",
            "59/59 [==============================] - 0s 3ms/step - loss: 0.4262 - accuracy: 0.7990 - val_loss: 0.4212 - val_accuracy: 0.8068\n",
            "Epoch 4/10\n",
            "59/59 [==============================] - 0s 3ms/step - loss: 0.4177 - accuracy: 0.8064 - val_loss: 0.4184 - val_accuracy: 0.8068\n",
            "Epoch 5/10\n",
            "59/59 [==============================] - 0s 3ms/step - loss: 0.4114 - accuracy: 0.8075 - val_loss: 0.4207 - val_accuracy: 0.8026\n",
            "Epoch 6/10\n",
            "59/59 [==============================] - 0s 3ms/step - loss: 0.4070 - accuracy: 0.8099 - val_loss: 0.4214 - val_accuracy: 0.8026\n",
            "Epoch 7/10\n",
            "59/59 [==============================] - 0s 3ms/step - loss: 0.4010 - accuracy: 0.8123 - val_loss: 0.4218 - val_accuracy: 0.8040\n",
            "Epoch 8/10\n",
            "59/59 [==============================] - 0s 3ms/step - loss: 0.3990 - accuracy: 0.8134 - val_loss: 0.4246 - val_accuracy: 0.8040\n",
            "Epoch 9/10\n",
            "59/59 [==============================] - 0s 3ms/step - loss: 0.3934 - accuracy: 0.8187 - val_loss: 0.4229 - val_accuracy: 0.7997\n",
            "Epoch 10/10\n",
            "59/59 [==============================] - 0s 3ms/step - loss: 0.3894 - accuracy: 0.8237 - val_loss: 0.4245 - val_accuracy: 0.7912\n",
            "30/30 [==============================] - 0s 2ms/step\n",
            "Epoch 1/10\n"
          ]
        },
        {
          "output_type": "stream",
          "name": "stderr",
          "text": [
            "/usr/local/lib/python3.10/dist-packages/scikeras/wrappers.py:915: UserWarning: ``build_fn`` will be renamed to ``model`` in a future release, at which point use of ``build_fn`` will raise an Error instead.\n",
            "  X, y = self._initialize(X, y)\n"
          ]
        },
        {
          "output_type": "stream",
          "name": "stdout",
          "text": [
            "59/59 [==============================] - 1s 5ms/step - loss: 0.5207 - accuracy: 0.7370 - val_loss: 0.4456 - val_accuracy: 0.7926\n",
            "Epoch 2/10\n",
            "59/59 [==============================] - 0s 3ms/step - loss: 0.4336 - accuracy: 0.8009 - val_loss: 0.4319 - val_accuracy: 0.7912\n",
            "Epoch 3/10\n",
            "59/59 [==============================] - 0s 3ms/step - loss: 0.4194 - accuracy: 0.8035 - val_loss: 0.4266 - val_accuracy: 0.7912\n",
            "Epoch 4/10\n",
            "59/59 [==============================] - 0s 3ms/step - loss: 0.4118 - accuracy: 0.8070 - val_loss: 0.4275 - val_accuracy: 0.7884\n",
            "Epoch 5/10\n",
            "59/59 [==============================] - 0s 3ms/step - loss: 0.4055 - accuracy: 0.8075 - val_loss: 0.4310 - val_accuracy: 0.7841\n",
            "Epoch 6/10\n",
            "59/59 [==============================] - 0s 3ms/step - loss: 0.4022 - accuracy: 0.8126 - val_loss: 0.4276 - val_accuracy: 0.7884\n",
            "Epoch 7/10\n",
            "59/59 [==============================] - 0s 3ms/step - loss: 0.3975 - accuracy: 0.8152 - val_loss: 0.4282 - val_accuracy: 0.7898\n",
            "Epoch 8/10\n",
            "59/59 [==============================] - 0s 3ms/step - loss: 0.3932 - accuracy: 0.8158 - val_loss: 0.4264 - val_accuracy: 0.7912\n",
            "Epoch 9/10\n",
            "59/59 [==============================] - 0s 3ms/step - loss: 0.3896 - accuracy: 0.8174 - val_loss: 0.4328 - val_accuracy: 0.7869\n",
            "Epoch 10/10\n",
            "59/59 [==============================] - 0s 3ms/step - loss: 0.3867 - accuracy: 0.8174 - val_loss: 0.4308 - val_accuracy: 0.7912\n",
            "30/30 [==============================] - 0s 2ms/step\n"
          ]
        },
        {
          "output_type": "stream",
          "name": "stderr",
          "text": [
            "/usr/local/lib/python3.10/dist-packages/scikeras/wrappers.py:915: UserWarning: ``build_fn`` will be renamed to ``model`` in a future release, at which point use of ``build_fn`` will raise an Error instead.\n",
            "  X, y = self._initialize(X, y)\n"
          ]
        },
        {
          "output_type": "stream",
          "name": "stdout",
          "text": [
            "Epoch 1/10\n",
            "59/59 [==============================] - 4s 28ms/step - loss: 0.5709 - accuracy: 0.7170 - val_loss: 0.4630 - val_accuracy: 0.7486\n",
            "Epoch 2/10\n",
            "59/59 [==============================] - 0s 5ms/step - loss: 0.4466 - accuracy: 0.7851 - val_loss: 0.4340 - val_accuracy: 0.7898\n",
            "Epoch 3/10\n",
            "59/59 [==============================] - 0s 4ms/step - loss: 0.4274 - accuracy: 0.8030 - val_loss: 0.4268 - val_accuracy: 0.7926\n",
            "Epoch 4/10\n",
            "59/59 [==============================] - 0s 4ms/step - loss: 0.4176 - accuracy: 0.8096 - val_loss: 0.4270 - val_accuracy: 0.7926\n",
            "Epoch 5/10\n",
            "59/59 [==============================] - 0s 3ms/step - loss: 0.4125 - accuracy: 0.8139 - val_loss: 0.4205 - val_accuracy: 0.8040\n",
            "Epoch 6/10\n",
            "59/59 [==============================] - 0s 4ms/step - loss: 0.4065 - accuracy: 0.8168 - val_loss: 0.4208 - val_accuracy: 0.7955\n",
            "Epoch 7/10\n",
            "59/59 [==============================] - 0s 3ms/step - loss: 0.4014 - accuracy: 0.8160 - val_loss: 0.4221 - val_accuracy: 0.8011\n",
            "Epoch 8/10\n",
            "59/59 [==============================] - 0s 4ms/step - loss: 0.3975 - accuracy: 0.8198 - val_loss: 0.4256 - val_accuracy: 0.8026\n",
            "Epoch 9/10\n",
            "59/59 [==============================] - 0s 6ms/step - loss: 0.3944 - accuracy: 0.8208 - val_loss: 0.4233 - val_accuracy: 0.8026\n",
            "Epoch 10/10\n",
            "59/59 [==============================] - 0s 7ms/step - loss: 0.3900 - accuracy: 0.8222 - val_loss: 0.4224 - val_accuracy: 0.7997\n",
            "30/30 [==============================] - 0s 3ms/step\n"
          ]
        },
        {
          "output_type": "stream",
          "name": "stderr",
          "text": [
            "/usr/local/lib/python3.10/dist-packages/scikeras/wrappers.py:915: UserWarning: ``build_fn`` will be renamed to ``model`` in a future release, at which point use of ``build_fn`` will raise an Error instead.\n",
            "  X, y = self._initialize(X, y)\n"
          ]
        },
        {
          "output_type": "stream",
          "name": "stdout",
          "text": [
            "Epoch 1/10\n",
            "59/59 [==============================] - 2s 9ms/step - loss: 0.5188 - accuracy: 0.7399 - val_loss: 0.4346 - val_accuracy: 0.7884\n",
            "Epoch 2/10\n",
            "59/59 [==============================] - 0s 6ms/step - loss: 0.4367 - accuracy: 0.7846 - val_loss: 0.4275 - val_accuracy: 0.8011\n",
            "Epoch 3/10\n",
            "59/59 [==============================] - 0s 3ms/step - loss: 0.4227 - accuracy: 0.7947 - val_loss: 0.4257 - val_accuracy: 0.8026\n",
            "Epoch 4/10\n",
            "59/59 [==============================] - 0s 5ms/step - loss: 0.4140 - accuracy: 0.8011 - val_loss: 0.4258 - val_accuracy: 0.7955\n",
            "Epoch 5/10\n",
            "59/59 [==============================] - 0s 5ms/step - loss: 0.4096 - accuracy: 0.8040 - val_loss: 0.4257 - val_accuracy: 0.7898\n",
            "Epoch 6/10\n",
            "59/59 [==============================] - 0s 5ms/step - loss: 0.4019 - accuracy: 0.8102 - val_loss: 0.4283 - val_accuracy: 0.7869\n",
            "Epoch 7/10\n",
            "59/59 [==============================] - 0s 6ms/step - loss: 0.3984 - accuracy: 0.8126 - val_loss: 0.4299 - val_accuracy: 0.7884\n",
            "Epoch 8/10\n",
            "59/59 [==============================] - 0s 5ms/step - loss: 0.3938 - accuracy: 0.8134 - val_loss: 0.4329 - val_accuracy: 0.7841\n",
            "Epoch 9/10\n",
            "59/59 [==============================] - 0s 5ms/step - loss: 0.3883 - accuracy: 0.8219 - val_loss: 0.4346 - val_accuracy: 0.7926\n",
            "Epoch 10/10\n",
            "59/59 [==============================] - 0s 5ms/step - loss: 0.3844 - accuracy: 0.8206 - val_loss: 0.4363 - val_accuracy: 0.7898\n",
            "30/30 [==============================] - 0s 3ms/step\n"
          ]
        },
        {
          "output_type": "stream",
          "name": "stderr",
          "text": [
            "/usr/local/lib/python3.10/dist-packages/scikeras/wrappers.py:915: UserWarning: ``build_fn`` will be renamed to ``model`` in a future release, at which point use of ``build_fn`` will raise an Error instead.\n",
            "  X, y = self._initialize(X, y)\n"
          ]
        },
        {
          "output_type": "stream",
          "name": "stdout",
          "text": [
            "Epoch 1/10\n",
            "59/59 [==============================] - 2s 6ms/step - loss: 0.5096 - accuracy: 0.7346 - val_loss: 0.4661 - val_accuracy: 0.7599\n",
            "Epoch 2/10\n",
            "59/59 [==============================] - 0s 4ms/step - loss: 0.4536 - accuracy: 0.7713 - val_loss: 0.4458 - val_accuracy: 0.7812\n",
            "Epoch 3/10\n",
            "59/59 [==============================] - 0s 2ms/step - loss: 0.4368 - accuracy: 0.7881 - val_loss: 0.4414 - val_accuracy: 0.7884\n",
            "Epoch 4/10\n",
            "59/59 [==============================] - 0s 5ms/step - loss: 0.4270 - accuracy: 0.7910 - val_loss: 0.4368 - val_accuracy: 0.7926\n",
            "Epoch 5/10\n",
            "59/59 [==============================] - 0s 4ms/step - loss: 0.4200 - accuracy: 0.7966 - val_loss: 0.4350 - val_accuracy: 0.7884\n",
            "Epoch 6/10\n",
            "59/59 [==============================] - 0s 3ms/step - loss: 0.4140 - accuracy: 0.8003 - val_loss: 0.4325 - val_accuracy: 0.7969\n",
            "Epoch 7/10\n",
            "59/59 [==============================] - 0s 5ms/step - loss: 0.4089 - accuracy: 0.8059 - val_loss: 0.4338 - val_accuracy: 0.7955\n",
            "Epoch 8/10\n",
            "59/59 [==============================] - 0s 5ms/step - loss: 0.4075 - accuracy: 0.8083 - val_loss: 0.4310 - val_accuracy: 0.7983\n",
            "Epoch 9/10\n",
            "59/59 [==============================] - 0s 4ms/step - loss: 0.4027 - accuracy: 0.8139 - val_loss: 0.4312 - val_accuracy: 0.7955\n",
            "Epoch 10/10\n",
            "59/59 [==============================] - 0s 7ms/step - loss: 0.3996 - accuracy: 0.8128 - val_loss: 0.4321 - val_accuracy: 0.7969\n",
            "30/30 [==============================] - 0s 2ms/step\n"
          ]
        },
        {
          "output_type": "stream",
          "name": "stderr",
          "text": [
            "/usr/local/lib/python3.10/dist-packages/scikeras/wrappers.py:915: UserWarning: ``build_fn`` will be renamed to ``model`` in a future release, at which point use of ``build_fn`` will raise an Error instead.\n",
            "  X, y = self._initialize(X, y)\n"
          ]
        },
        {
          "output_type": "stream",
          "name": "stdout",
          "text": [
            "Epoch 1/10\n",
            "59/59 [==============================] - 3s 15ms/step - loss: 0.6282 - accuracy: 0.6337 - val_loss: 0.5299 - val_accuracy: 0.7514\n",
            "Epoch 2/10\n",
            "59/59 [==============================] - 0s 6ms/step - loss: 0.4769 - accuracy: 0.7740 - val_loss: 0.4784 - val_accuracy: 0.7685\n",
            "Epoch 3/10\n",
            "59/59 [==============================] - 0s 6ms/step - loss: 0.4494 - accuracy: 0.7819 - val_loss: 0.4633 - val_accuracy: 0.7798\n",
            "Epoch 4/10\n",
            "59/59 [==============================] - 0s 7ms/step - loss: 0.4360 - accuracy: 0.7929 - val_loss: 0.4552 - val_accuracy: 0.7869\n",
            "Epoch 5/10\n",
            "59/59 [==============================] - 0s 7ms/step - loss: 0.4282 - accuracy: 0.8003 - val_loss: 0.4499 - val_accuracy: 0.7884\n",
            "Epoch 6/10\n",
            "59/59 [==============================] - 0s 5ms/step - loss: 0.4219 - accuracy: 0.8027 - val_loss: 0.4486 - val_accuracy: 0.7869\n",
            "Epoch 7/10\n",
            "59/59 [==============================] - 0s 7ms/step - loss: 0.4181 - accuracy: 0.8032 - val_loss: 0.4447 - val_accuracy: 0.7884\n",
            "Epoch 8/10\n",
            "59/59 [==============================] - 0s 6ms/step - loss: 0.4142 - accuracy: 0.8064 - val_loss: 0.4436 - val_accuracy: 0.7884\n",
            "Epoch 9/10\n",
            "59/59 [==============================] - 0s 6ms/step - loss: 0.4115 - accuracy: 0.8083 - val_loss: 0.4432 - val_accuracy: 0.7855\n",
            "Epoch 10/10\n",
            "59/59 [==============================] - 0s 7ms/step - loss: 0.4082 - accuracy: 0.8078 - val_loss: 0.4400 - val_accuracy: 0.7983\n",
            "30/30 [==============================] - 0s 3ms/step\n",
            "Epoch 1/10\n"
          ]
        },
        {
          "output_type": "stream",
          "name": "stderr",
          "text": [
            "/usr/local/lib/python3.10/dist-packages/scikeras/wrappers.py:915: UserWarning: ``build_fn`` will be renamed to ``model`` in a future release, at which point use of ``build_fn`` will raise an Error instead.\n",
            "  X, y = self._initialize(X, y)\n"
          ]
        },
        {
          "output_type": "stream",
          "name": "stdout",
          "text": [
            "59/59 [==============================] - 3s 7ms/step - loss: 0.6948 - accuracy: 0.5431 - val_loss: 0.5374 - val_accuracy: 0.7230\n",
            "Epoch 2/10\n",
            "59/59 [==============================] - 0s 3ms/step - loss: 0.4940 - accuracy: 0.7455 - val_loss: 0.4638 - val_accuracy: 0.7401\n",
            "Epoch 3/10\n",
            "59/59 [==============================] - 0s 3ms/step - loss: 0.4553 - accuracy: 0.7721 - val_loss: 0.4449 - val_accuracy: 0.7926\n",
            "Epoch 4/10\n",
            "59/59 [==============================] - 0s 3ms/step - loss: 0.4388 - accuracy: 0.7867 - val_loss: 0.4356 - val_accuracy: 0.7940\n",
            "Epoch 5/10\n",
            "59/59 [==============================] - 0s 3ms/step - loss: 0.4307 - accuracy: 0.7873 - val_loss: 0.4316 - val_accuracy: 0.8011\n",
            "Epoch 6/10\n",
            "59/59 [==============================] - 0s 3ms/step - loss: 0.4249 - accuracy: 0.7918 - val_loss: 0.4287 - val_accuracy: 0.7983\n",
            "Epoch 7/10\n",
            "59/59 [==============================] - 0s 3ms/step - loss: 0.4220 - accuracy: 0.7937 - val_loss: 0.4298 - val_accuracy: 0.8068\n",
            "Epoch 8/10\n",
            "59/59 [==============================] - 0s 3ms/step - loss: 0.4178 - accuracy: 0.7918 - val_loss: 0.4276 - val_accuracy: 0.7997\n",
            "Epoch 9/10\n",
            "59/59 [==============================] - 0s 3ms/step - loss: 0.4156 - accuracy: 0.7955 - val_loss: 0.4274 - val_accuracy: 0.8011\n",
            "Epoch 10/10\n",
            "59/59 [==============================] - 0s 3ms/step - loss: 0.4121 - accuracy: 0.8001 - val_loss: 0.4263 - val_accuracy: 0.8011\n",
            "30/30 [==============================] - 0s 1ms/step\n",
            "Epoch 1/10\n"
          ]
        },
        {
          "output_type": "stream",
          "name": "stderr",
          "text": [
            "/usr/local/lib/python3.10/dist-packages/scikeras/wrappers.py:915: UserWarning: ``build_fn`` will be renamed to ``model`` in a future release, at which point use of ``build_fn`` will raise an Error instead.\n",
            "  X, y = self._initialize(X, y)\n"
          ]
        },
        {
          "output_type": "stream",
          "name": "stdout",
          "text": [
            "59/59 [==============================] - 1s 5ms/step - loss: 0.5610 - accuracy: 0.7053 - val_loss: 0.4780 - val_accuracy: 0.7642\n",
            "Epoch 2/10\n",
            "59/59 [==============================] - 0s 3ms/step - loss: 0.4566 - accuracy: 0.7796 - val_loss: 0.4455 - val_accuracy: 0.7884\n",
            "Epoch 3/10\n",
            "59/59 [==============================] - 0s 3ms/step - loss: 0.4386 - accuracy: 0.7870 - val_loss: 0.4395 - val_accuracy: 0.7926\n",
            "Epoch 4/10\n",
            "59/59 [==============================] - 0s 3ms/step - loss: 0.4298 - accuracy: 0.7923 - val_loss: 0.4335 - val_accuracy: 0.7969\n",
            "Epoch 5/10\n",
            "59/59 [==============================] - 0s 3ms/step - loss: 0.4218 - accuracy: 0.7974 - val_loss: 0.4330 - val_accuracy: 0.7955\n",
            "Epoch 6/10\n",
            "59/59 [==============================] - 0s 3ms/step - loss: 0.4166 - accuracy: 0.7993 - val_loss: 0.4300 - val_accuracy: 0.7983\n",
            "Epoch 7/10\n",
            "59/59 [==============================] - 0s 3ms/step - loss: 0.4124 - accuracy: 0.8032 - val_loss: 0.4269 - val_accuracy: 0.8054\n",
            "Epoch 8/10\n",
            "59/59 [==============================] - 0s 3ms/step - loss: 0.4085 - accuracy: 0.8051 - val_loss: 0.4267 - val_accuracy: 0.7983\n",
            "Epoch 9/10\n",
            "59/59 [==============================] - 0s 3ms/step - loss: 0.4047 - accuracy: 0.8072 - val_loss: 0.4267 - val_accuracy: 0.8011\n",
            "Epoch 10/10\n",
            "59/59 [==============================] - 0s 3ms/step - loss: 0.4017 - accuracy: 0.8088 - val_loss: 0.4303 - val_accuracy: 0.7955\n",
            "30/30 [==============================] - 0s 2ms/step\n",
            "Epoch 1/10\n"
          ]
        },
        {
          "output_type": "stream",
          "name": "stderr",
          "text": [
            "/usr/local/lib/python3.10/dist-packages/scikeras/wrappers.py:915: UserWarning: ``build_fn`` will be renamed to ``model`` in a future release, at which point use of ``build_fn`` will raise an Error instead.\n",
            "  X, y = self._initialize(X, y)\n"
          ]
        },
        {
          "output_type": "stream",
          "name": "stdout",
          "text": [
            "59/59 [==============================] - 1s 5ms/step - loss: 0.6196 - accuracy: 0.6579 - val_loss: 0.5145 - val_accuracy: 0.7457\n",
            "Epoch 2/10\n",
            "59/59 [==============================] - 0s 4ms/step - loss: 0.4675 - accuracy: 0.7753 - val_loss: 0.4472 - val_accuracy: 0.7940\n",
            "Epoch 3/10\n",
            "59/59 [==============================] - 0s 4ms/step - loss: 0.4359 - accuracy: 0.7926 - val_loss: 0.4326 - val_accuracy: 0.7969\n",
            "Epoch 4/10\n",
            "59/59 [==============================] - 0s 5ms/step - loss: 0.4265 - accuracy: 0.7993 - val_loss: 0.4282 - val_accuracy: 0.7997\n",
            "Epoch 5/10\n",
            "59/59 [==============================] - 0s 3ms/step - loss: 0.4214 - accuracy: 0.8046 - val_loss: 0.4251 - val_accuracy: 0.8082\n",
            "Epoch 6/10\n",
            "59/59 [==============================] - 0s 3ms/step - loss: 0.4175 - accuracy: 0.8059 - val_loss: 0.4234 - val_accuracy: 0.8068\n",
            "Epoch 7/10\n",
            "59/59 [==============================] - 0s 5ms/step - loss: 0.4133 - accuracy: 0.8107 - val_loss: 0.4211 - val_accuracy: 0.8111\n",
            "Epoch 8/10\n",
            "59/59 [==============================] - 0s 3ms/step - loss: 0.4107 - accuracy: 0.8096 - val_loss: 0.4209 - val_accuracy: 0.8082\n",
            "Epoch 9/10\n",
            "59/59 [==============================] - 0s 4ms/step - loss: 0.4081 - accuracy: 0.8118 - val_loss: 0.4206 - val_accuracy: 0.8040\n",
            "Epoch 10/10\n",
            "59/59 [==============================] - 0s 4ms/step - loss: 0.4058 - accuracy: 0.8126 - val_loss: 0.4187 - val_accuracy: 0.8125\n",
            "30/30 [==============================] - 0s 2ms/step\n",
            "Epoch 1/10\n"
          ]
        },
        {
          "output_type": "stream",
          "name": "stderr",
          "text": [
            "/usr/local/lib/python3.10/dist-packages/scikeras/wrappers.py:915: UserWarning: ``build_fn`` will be renamed to ``model`` in a future release, at which point use of ``build_fn`` will raise an Error instead.\n",
            "  X, y = self._initialize(X, y)\n"
          ]
        },
        {
          "output_type": "stream",
          "name": "stdout",
          "text": [
            "59/59 [==============================] - 2s 8ms/step - loss: 0.5198 - accuracy: 0.7354 - val_loss: 0.4852 - val_accuracy: 0.7344\n",
            "Epoch 2/10\n",
            "59/59 [==============================] - 0s 4ms/step - loss: 0.4681 - accuracy: 0.7399 - val_loss: 0.4621 - val_accuracy: 0.7500\n",
            "Epoch 3/10\n",
            "59/59 [==============================] - 0s 4ms/step - loss: 0.4516 - accuracy: 0.7614 - val_loss: 0.4529 - val_accuracy: 0.7741\n",
            "Epoch 4/10\n",
            "59/59 [==============================] - 0s 4ms/step - loss: 0.4435 - accuracy: 0.7788 - val_loss: 0.4489 - val_accuracy: 0.7855\n",
            "Epoch 5/10\n",
            "59/59 [==============================] - 0s 4ms/step - loss: 0.4372 - accuracy: 0.7915 - val_loss: 0.4450 - val_accuracy: 0.7912\n",
            "Epoch 6/10\n",
            "59/59 [==============================] - 0s 4ms/step - loss: 0.4325 - accuracy: 0.7974 - val_loss: 0.4427 - val_accuracy: 0.7926\n",
            "Epoch 7/10\n",
            "59/59 [==============================] - 0s 3ms/step - loss: 0.4287 - accuracy: 0.7985 - val_loss: 0.4389 - val_accuracy: 0.7940\n",
            "Epoch 8/10\n",
            "59/59 [==============================] - 0s 4ms/step - loss: 0.4246 - accuracy: 0.7987 - val_loss: 0.4365 - val_accuracy: 0.7983\n",
            "Epoch 9/10\n",
            "59/59 [==============================] - 0s 3ms/step - loss: 0.4220 - accuracy: 0.8019 - val_loss: 0.4343 - val_accuracy: 0.7912\n",
            "Epoch 10/10\n",
            "59/59 [==============================] - 0s 3ms/step - loss: 0.4196 - accuracy: 0.8006 - val_loss: 0.4324 - val_accuracy: 0.7940\n",
            "30/30 [==============================] - 0s 4ms/step\n"
          ]
        },
        {
          "output_type": "stream",
          "name": "stderr",
          "text": [
            "/usr/local/lib/python3.10/dist-packages/scikeras/wrappers.py:915: UserWarning: ``build_fn`` will be renamed to ``model`` in a future release, at which point use of ``build_fn`` will raise an Error instead.\n",
            "  X, y = self._initialize(X, y)\n"
          ]
        },
        {
          "output_type": "stream",
          "name": "stdout",
          "text": [
            "Epoch 1/10\n",
            "59/59 [==============================] - 2s 9ms/step - loss: 0.5051 - accuracy: 0.7383 - val_loss: 0.4653 - val_accuracy: 0.7457\n",
            "Epoch 2/10\n",
            "59/59 [==============================] - 0s 5ms/step - loss: 0.4633 - accuracy: 0.7537 - val_loss: 0.4490 - val_accuracy: 0.7869\n",
            "Epoch 3/10\n",
            "59/59 [==============================] - 1s 9ms/step - loss: 0.4500 - accuracy: 0.7790 - val_loss: 0.4432 - val_accuracy: 0.8011\n",
            "Epoch 4/10\n",
            "59/59 [==============================] - 0s 6ms/step - loss: 0.4412 - accuracy: 0.7881 - val_loss: 0.4398 - val_accuracy: 0.8068\n",
            "Epoch 5/10\n",
            "59/59 [==============================] - 0s 7ms/step - loss: 0.4344 - accuracy: 0.7939 - val_loss: 0.4328 - val_accuracy: 0.8082\n",
            "Epoch 6/10\n",
            "59/59 [==============================] - 0s 8ms/step - loss: 0.4268 - accuracy: 0.7987 - val_loss: 0.4275 - val_accuracy: 0.8097\n",
            "Epoch 7/10\n",
            "59/59 [==============================] - 0s 8ms/step - loss: 0.4199 - accuracy: 0.8027 - val_loss: 0.4244 - val_accuracy: 0.8111\n",
            "Epoch 8/10\n",
            "59/59 [==============================] - 0s 4ms/step - loss: 0.4144 - accuracy: 0.8027 - val_loss: 0.4233 - val_accuracy: 0.8111\n",
            "Epoch 9/10\n",
            "59/59 [==============================] - 0s 8ms/step - loss: 0.4104 - accuracy: 0.8072 - val_loss: 0.4228 - val_accuracy: 0.8182\n",
            "Epoch 10/10\n",
            "59/59 [==============================] - 0s 8ms/step - loss: 0.4070 - accuracy: 0.8080 - val_loss: 0.4233 - val_accuracy: 0.8068\n",
            "30/30 [==============================] - 0s 1ms/step\n",
            "Epoch 1/10\n"
          ]
        },
        {
          "output_type": "stream",
          "name": "stderr",
          "text": [
            "/usr/local/lib/python3.10/dist-packages/scikeras/wrappers.py:915: UserWarning: ``build_fn`` will be renamed to ``model`` in a future release, at which point use of ``build_fn`` will raise an Error instead.\n",
            "  X, y = self._initialize(X, y)\n"
          ]
        },
        {
          "output_type": "stream",
          "name": "stdout",
          "text": [
            "59/59 [==============================] - 1s 5ms/step - loss: 0.6732 - accuracy: 0.6030 - val_loss: 0.5316 - val_accuracy: 0.7685\n",
            "Epoch 2/10\n",
            "59/59 [==============================] - 0s 3ms/step - loss: 0.4868 - accuracy: 0.7766 - val_loss: 0.4557 - val_accuracy: 0.7926\n",
            "Epoch 3/10\n",
            "59/59 [==============================] - 0s 3ms/step - loss: 0.4484 - accuracy: 0.7913 - val_loss: 0.4394 - val_accuracy: 0.7969\n",
            "Epoch 4/10\n",
            "59/59 [==============================] - 0s 3ms/step - loss: 0.4359 - accuracy: 0.7974 - val_loss: 0.4320 - val_accuracy: 0.8054\n",
            "Epoch 5/10\n",
            "59/59 [==============================] - 0s 3ms/step - loss: 0.4285 - accuracy: 0.8017 - val_loss: 0.4274 - val_accuracy: 0.8026\n",
            "Epoch 6/10\n",
            "59/59 [==============================] - 0s 3ms/step - loss: 0.4225 - accuracy: 0.8048 - val_loss: 0.4254 - val_accuracy: 0.8040\n",
            "Epoch 7/10\n",
            "59/59 [==============================] - 0s 3ms/step - loss: 0.4186 - accuracy: 0.8051 - val_loss: 0.4236 - val_accuracy: 0.8011\n",
            "Epoch 8/10\n",
            "59/59 [==============================] - 0s 3ms/step - loss: 0.4146 - accuracy: 0.8088 - val_loss: 0.4228 - val_accuracy: 0.8026\n",
            "Epoch 9/10\n",
            "59/59 [==============================] - 0s 3ms/step - loss: 0.4116 - accuracy: 0.8070 - val_loss: 0.4225 - val_accuracy: 0.8026\n",
            "Epoch 10/10\n",
            "59/59 [==============================] - 0s 3ms/step - loss: 0.4086 - accuracy: 0.8091 - val_loss: 0.4253 - val_accuracy: 0.8097\n",
            "30/30 [==============================] - 0s 1ms/step\n",
            "Epoch 1/10\n"
          ]
        },
        {
          "output_type": "stream",
          "name": "stderr",
          "text": [
            "/usr/local/lib/python3.10/dist-packages/scikeras/wrappers.py:915: UserWarning: ``build_fn`` will be renamed to ``model`` in a future release, at which point use of ``build_fn`` will raise an Error instead.\n",
            "  X, y = self._initialize(X, y)\n"
          ]
        },
        {
          "output_type": "stream",
          "name": "stdout",
          "text": [
            "59/59 [==============================] - 2s 16ms/step - loss: 0.6764 - accuracy: 0.5722 - val_loss: 0.5777 - val_accuracy: 0.7273\n",
            "Epoch 2/10\n",
            "59/59 [==============================] - 1s 12ms/step - loss: 0.5062 - accuracy: 0.7340 - val_loss: 0.4663 - val_accuracy: 0.7372\n",
            "Epoch 3/10\n",
            "59/59 [==============================] - 1s 12ms/step - loss: 0.4613 - accuracy: 0.7468 - val_loss: 0.4501 - val_accuracy: 0.7571\n",
            "Epoch 4/10\n",
            "59/59 [==============================] - 1s 9ms/step - loss: 0.4480 - accuracy: 0.7652 - val_loss: 0.4407 - val_accuracy: 0.7926\n",
            "Epoch 5/10\n",
            "59/59 [==============================] - 1s 9ms/step - loss: 0.4384 - accuracy: 0.7846 - val_loss: 0.4342 - val_accuracy: 0.7926\n",
            "Epoch 6/10\n",
            "59/59 [==============================] - 1s 10ms/step - loss: 0.4325 - accuracy: 0.7905 - val_loss: 0.4310 - val_accuracy: 0.7898\n",
            "Epoch 7/10\n",
            "59/59 [==============================] - 1s 10ms/step - loss: 0.4268 - accuracy: 0.7974 - val_loss: 0.4287 - val_accuracy: 0.8026\n",
            "Epoch 8/10\n",
            "59/59 [==============================] - 1s 10ms/step - loss: 0.4222 - accuracy: 0.7993 - val_loss: 0.4258 - val_accuracy: 0.8011\n",
            "Epoch 9/10\n",
            "59/59 [==============================] - 0s 6ms/step - loss: 0.4185 - accuracy: 0.7982 - val_loss: 0.4261 - val_accuracy: 0.8011\n",
            "Epoch 10/10\n",
            "59/59 [==============================] - 1s 11ms/step - loss: 0.4148 - accuracy: 0.8014 - val_loss: 0.4258 - val_accuracy: 0.7997\n",
            "30/30 [==============================] - 0s 2ms/step\n"
          ]
        },
        {
          "output_type": "stream",
          "name": "stderr",
          "text": [
            "/usr/local/lib/python3.10/dist-packages/scikeras/wrappers.py:915: UserWarning: ``build_fn`` will be renamed to ``model`` in a future release, at which point use of ``build_fn`` will raise an Error instead.\n",
            "  X, y = self._initialize(X, y)\n"
          ]
        },
        {
          "output_type": "stream",
          "name": "stdout",
          "text": [
            "Epoch 1/10\n",
            "59/59 [==============================] - 2s 8ms/step - loss: 0.5431 - accuracy: 0.7386 - val_loss: 0.4554 - val_accuracy: 0.7713\n",
            "Epoch 2/10\n",
            "59/59 [==============================] - 0s 3ms/step - loss: 0.4466 - accuracy: 0.7830 - val_loss: 0.4303 - val_accuracy: 0.8026\n",
            "Epoch 3/10\n",
            "59/59 [==============================] - 0s 5ms/step - loss: 0.4276 - accuracy: 0.7942 - val_loss: 0.4225 - val_accuracy: 0.7983\n",
            "Epoch 4/10\n",
            "59/59 [==============================] - 0s 5ms/step - loss: 0.4177 - accuracy: 0.8017 - val_loss: 0.4194 - val_accuracy: 0.7969\n",
            "Epoch 5/10\n",
            "59/59 [==============================] - 0s 4ms/step - loss: 0.4106 - accuracy: 0.8059 - val_loss: 0.4213 - val_accuracy: 0.7926\n",
            "Epoch 6/10\n",
            "59/59 [==============================] - 0s 4ms/step - loss: 0.4057 - accuracy: 0.8080 - val_loss: 0.4173 - val_accuracy: 0.7912\n",
            "Epoch 7/10\n",
            "59/59 [==============================] - 0s 5ms/step - loss: 0.4017 - accuracy: 0.8118 - val_loss: 0.4183 - val_accuracy: 0.7983\n",
            "Epoch 8/10\n",
            "59/59 [==============================] - 0s 4ms/step - loss: 0.4002 - accuracy: 0.8102 - val_loss: 0.4230 - val_accuracy: 0.7969\n",
            "Epoch 9/10\n",
            "59/59 [==============================] - 0s 5ms/step - loss: 0.3952 - accuracy: 0.8174 - val_loss: 0.4217 - val_accuracy: 0.7912\n",
            "Epoch 10/10\n",
            "59/59 [==============================] - 0s 3ms/step - loss: 0.3917 - accuracy: 0.8155 - val_loss: 0.4207 - val_accuracy: 0.7855\n",
            "30/30 [==============================] - 0s 1ms/step\n",
            "Epoch 1/10\n"
          ]
        },
        {
          "output_type": "stream",
          "name": "stderr",
          "text": [
            "/usr/local/lib/python3.10/dist-packages/scikeras/wrappers.py:915: UserWarning: ``build_fn`` will be renamed to ``model`` in a future release, at which point use of ``build_fn`` will raise an Error instead.\n",
            "  X, y = self._initialize(X, y)\n"
          ]
        },
        {
          "output_type": "stream",
          "name": "stdout",
          "text": [
            "59/59 [==============================] - 1s 5ms/step - loss: 0.6376 - accuracy: 0.6454 - val_loss: 0.5186 - val_accuracy: 0.7557\n",
            "Epoch 2/10\n",
            "59/59 [==============================] - 0s 3ms/step - loss: 0.4638 - accuracy: 0.7841 - val_loss: 0.4350 - val_accuracy: 0.7912\n",
            "Epoch 3/10\n",
            "59/59 [==============================] - 0s 3ms/step - loss: 0.4322 - accuracy: 0.7971 - val_loss: 0.4293 - val_accuracy: 0.7969\n",
            "Epoch 4/10\n",
            "59/59 [==============================] - 0s 3ms/step - loss: 0.4237 - accuracy: 0.8054 - val_loss: 0.4264 - val_accuracy: 0.7912\n",
            "Epoch 5/10\n",
            "59/59 [==============================] - 0s 3ms/step - loss: 0.4189 - accuracy: 0.8048 - val_loss: 0.4252 - val_accuracy: 0.7955\n",
            "Epoch 6/10\n",
            "59/59 [==============================] - 0s 3ms/step - loss: 0.4133 - accuracy: 0.8099 - val_loss: 0.4263 - val_accuracy: 0.7827\n",
            "Epoch 7/10\n",
            "59/59 [==============================] - 0s 3ms/step - loss: 0.4089 - accuracy: 0.8083 - val_loss: 0.4257 - val_accuracy: 0.7855\n",
            "Epoch 8/10\n",
            "59/59 [==============================] - 0s 3ms/step - loss: 0.4061 - accuracy: 0.8096 - val_loss: 0.4251 - val_accuracy: 0.7869\n",
            "Epoch 9/10\n",
            "59/59 [==============================] - 0s 3ms/step - loss: 0.4038 - accuracy: 0.8096 - val_loss: 0.4231 - val_accuracy: 0.8011\n",
            "Epoch 10/10\n",
            "59/59 [==============================] - 0s 3ms/step - loss: 0.3999 - accuracy: 0.8150 - val_loss: 0.4236 - val_accuracy: 0.7969\n",
            "30/30 [==============================] - 0s 2ms/step\n",
            "Epoch 1/10\n"
          ]
        },
        {
          "output_type": "stream",
          "name": "stderr",
          "text": [
            "/usr/local/lib/python3.10/dist-packages/scikeras/wrappers.py:915: UserWarning: ``build_fn`` will be renamed to ``model`` in a future release, at which point use of ``build_fn`` will raise an Error instead.\n",
            "  X, y = self._initialize(X, y)\n"
          ]
        },
        {
          "output_type": "stream",
          "name": "stdout",
          "text": [
            "59/59 [==============================] - 2s 13ms/step - loss: 0.5414 - accuracy: 0.7228 - val_loss: 0.4586 - val_accuracy: 0.7855\n",
            "Epoch 2/10\n",
            "59/59 [==============================] - 0s 6ms/step - loss: 0.4500 - accuracy: 0.7881 - val_loss: 0.4345 - val_accuracy: 0.7969\n",
            "Epoch 3/10\n",
            "59/59 [==============================] - 0s 5ms/step - loss: 0.4337 - accuracy: 0.7982 - val_loss: 0.4278 - val_accuracy: 0.8011\n",
            "Epoch 4/10\n",
            "59/59 [==============================] - 0s 6ms/step - loss: 0.4242 - accuracy: 0.7995 - val_loss: 0.4251 - val_accuracy: 0.8097\n",
            "Epoch 5/10\n",
            "59/59 [==============================] - 0s 5ms/step - loss: 0.4178 - accuracy: 0.8051 - val_loss: 0.4235 - val_accuracy: 0.8026\n",
            "Epoch 6/10\n",
            "59/59 [==============================] - 0s 7ms/step - loss: 0.4147 - accuracy: 0.8059 - val_loss: 0.4243 - val_accuracy: 0.8026\n",
            "Epoch 7/10\n",
            "59/59 [==============================] - 0s 6ms/step - loss: 0.4108 - accuracy: 0.8072 - val_loss: 0.4232 - val_accuracy: 0.8082\n",
            "Epoch 8/10\n",
            "59/59 [==============================] - 0s 6ms/step - loss: 0.4067 - accuracy: 0.8094 - val_loss: 0.4248 - val_accuracy: 0.8040\n",
            "Epoch 9/10\n",
            "59/59 [==============================] - 0s 7ms/step - loss: 0.4048 - accuracy: 0.8107 - val_loss: 0.4246 - val_accuracy: 0.8026\n",
            "Epoch 10/10\n",
            "59/59 [==============================] - 0s 7ms/step - loss: 0.4026 - accuracy: 0.8096 - val_loss: 0.4258 - val_accuracy: 0.7955\n",
            "30/30 [==============================] - 0s 2ms/step\n"
          ]
        },
        {
          "output_type": "stream",
          "name": "stderr",
          "text": [
            "/usr/local/lib/python3.10/dist-packages/scikeras/wrappers.py:915: UserWarning: ``build_fn`` will be renamed to ``model`` in a future release, at which point use of ``build_fn`` will raise an Error instead.\n",
            "  X, y = self._initialize(X, y)\n"
          ]
        },
        {
          "output_type": "stream",
          "name": "stdout",
          "text": [
            "Epoch 1/10\n",
            "59/59 [==============================] - 2s 7ms/step - loss: 0.6287 - accuracy: 0.6363 - val_loss: 0.4919 - val_accuracy: 0.7727\n",
            "Epoch 2/10\n",
            "59/59 [==============================] - 0s 3ms/step - loss: 0.4643 - accuracy: 0.7788 - val_loss: 0.4328 - val_accuracy: 0.7912\n",
            "Epoch 3/10\n",
            "59/59 [==============================] - 0s 5ms/step - loss: 0.4318 - accuracy: 0.7963 - val_loss: 0.4233 - val_accuracy: 0.7884\n",
            "Epoch 4/10\n",
            "59/59 [==============================] - 0s 5ms/step - loss: 0.4212 - accuracy: 0.7985 - val_loss: 0.4191 - val_accuracy: 0.7955\n",
            "Epoch 5/10\n",
            "59/59 [==============================] - 0s 6ms/step - loss: 0.4142 - accuracy: 0.8038 - val_loss: 0.4195 - val_accuracy: 0.7940\n",
            "Epoch 6/10\n",
            "59/59 [==============================] - 0s 5ms/step - loss: 0.4098 - accuracy: 0.8110 - val_loss: 0.4175 - val_accuracy: 0.7969\n",
            "Epoch 7/10\n",
            "59/59 [==============================] - 0s 4ms/step - loss: 0.4065 - accuracy: 0.8102 - val_loss: 0.4176 - val_accuracy: 0.8026\n",
            "Epoch 8/10\n",
            "59/59 [==============================] - 0s 6ms/step - loss: 0.4036 - accuracy: 0.8099 - val_loss: 0.4179 - val_accuracy: 0.8040\n",
            "Epoch 9/10\n",
            "59/59 [==============================] - 0s 4ms/step - loss: 0.4001 - accuracy: 0.8144 - val_loss: 0.4161 - val_accuracy: 0.7969\n",
            "Epoch 10/10\n",
            "59/59 [==============================] - 0s 4ms/step - loss: 0.3971 - accuracy: 0.8176 - val_loss: 0.4192 - val_accuracy: 0.7997\n",
            "30/30 [==============================] - 0s 2ms/step\n",
            "Epoch 1/10\n"
          ]
        },
        {
          "output_type": "stream",
          "name": "stderr",
          "text": [
            "/usr/local/lib/python3.10/dist-packages/scikeras/wrappers.py:915: UserWarning: ``build_fn`` will be renamed to ``model`` in a future release, at which point use of ``build_fn`` will raise an Error instead.\n",
            "  X, y = self._initialize(X, y)\n"
          ]
        },
        {
          "output_type": "stream",
          "name": "stdout",
          "text": [
            "59/59 [==============================] - 7s 9ms/step - loss: 0.4930 - accuracy: 0.7370 - val_loss: 0.4503 - val_accuracy: 0.7344\n",
            "Epoch 2/10\n",
            "59/59 [==============================] - 0s 5ms/step - loss: 0.4492 - accuracy: 0.7561 - val_loss: 0.4393 - val_accuracy: 0.7741\n",
            "Epoch 3/10\n",
            "59/59 [==============================] - 0s 5ms/step - loss: 0.4384 - accuracy: 0.7819 - val_loss: 0.4368 - val_accuracy: 0.7869\n",
            "Epoch 4/10\n",
            "59/59 [==============================] - 0s 5ms/step - loss: 0.4309 - accuracy: 0.7950 - val_loss: 0.4378 - val_accuracy: 0.8054\n",
            "Epoch 5/10\n",
            "59/59 [==============================] - 0s 5ms/step - loss: 0.4259 - accuracy: 0.7979 - val_loss: 0.4365 - val_accuracy: 0.8026\n",
            "Epoch 6/10\n",
            "59/59 [==============================] - 0s 4ms/step - loss: 0.4215 - accuracy: 0.8022 - val_loss: 0.4383 - val_accuracy: 0.7940\n",
            "Epoch 7/10\n",
            "59/59 [==============================] - 0s 4ms/step - loss: 0.4180 - accuracy: 0.8040 - val_loss: 0.4354 - val_accuracy: 0.7912\n",
            "Epoch 8/10\n",
            "59/59 [==============================] - 0s 5ms/step - loss: 0.4134 - accuracy: 0.8075 - val_loss: 0.4375 - val_accuracy: 0.7912\n",
            "Epoch 9/10\n",
            "59/59 [==============================] - 0s 4ms/step - loss: 0.4093 - accuracy: 0.8088 - val_loss: 0.4385 - val_accuracy: 0.7798\n",
            "Epoch 10/10\n",
            "59/59 [==============================] - 0s 4ms/step - loss: 0.4069 - accuracy: 0.8107 - val_loss: 0.4398 - val_accuracy: 0.7869\n",
            "30/30 [==============================] - 0s 2ms/step\n",
            "Epoch 1/10\n"
          ]
        },
        {
          "output_type": "stream",
          "name": "stderr",
          "text": [
            "/usr/local/lib/python3.10/dist-packages/scikeras/wrappers.py:915: UserWarning: ``build_fn`` will be renamed to ``model`` in a future release, at which point use of ``build_fn`` will raise an Error instead.\n",
            "  X, y = self._initialize(X, y)\n"
          ]
        },
        {
          "output_type": "stream",
          "name": "stdout",
          "text": [
            "59/59 [==============================] - 1s 6ms/step - loss: 0.5150 - accuracy: 0.7428 - val_loss: 0.4524 - val_accuracy: 0.7486\n",
            "Epoch 2/10\n",
            "59/59 [==============================] - 0s 3ms/step - loss: 0.4535 - accuracy: 0.7670 - val_loss: 0.4396 - val_accuracy: 0.7912\n",
            "Epoch 3/10\n",
            "59/59 [==============================] - 0s 3ms/step - loss: 0.4370 - accuracy: 0.7942 - val_loss: 0.4307 - val_accuracy: 0.8054\n",
            "Epoch 4/10\n",
            "59/59 [==============================] - 0s 3ms/step - loss: 0.4278 - accuracy: 0.7966 - val_loss: 0.4286 - val_accuracy: 0.7983\n",
            "Epoch 5/10\n",
            "59/59 [==============================] - 0s 3ms/step - loss: 0.4202 - accuracy: 0.7995 - val_loss: 0.4238 - val_accuracy: 0.8068\n",
            "Epoch 6/10\n",
            "59/59 [==============================] - 0s 3ms/step - loss: 0.4160 - accuracy: 0.8014 - val_loss: 0.4239 - val_accuracy: 0.8040\n",
            "Epoch 7/10\n",
            "59/59 [==============================] - 0s 3ms/step - loss: 0.4112 - accuracy: 0.8046 - val_loss: 0.4241 - val_accuracy: 0.8011\n",
            "Epoch 8/10\n",
            "59/59 [==============================] - 0s 3ms/step - loss: 0.4076 - accuracy: 0.8059 - val_loss: 0.4255 - val_accuracy: 0.7969\n",
            "Epoch 9/10\n",
            "59/59 [==============================] - 0s 3ms/step - loss: 0.4047 - accuracy: 0.8062 - val_loss: 0.4240 - val_accuracy: 0.8011\n",
            "Epoch 10/10\n",
            "59/59 [==============================] - 0s 3ms/step - loss: 0.4013 - accuracy: 0.8126 - val_loss: 0.4262 - val_accuracy: 0.7926\n",
            "30/30 [==============================] - 0s 2ms/step\n",
            "Epoch 1/10\n"
          ]
        },
        {
          "output_type": "stream",
          "name": "stderr",
          "text": [
            "/usr/local/lib/python3.10/dist-packages/scikeras/wrappers.py:915: UserWarning: ``build_fn`` will be renamed to ``model`` in a future release, at which point use of ``build_fn`` will raise an Error instead.\n",
            "  X, y = self._initialize(X, y)\n"
          ]
        },
        {
          "output_type": "stream",
          "name": "stdout",
          "text": [
            "59/59 [==============================] - 1s 6ms/step - loss: 0.6024 - accuracy: 0.6651 - val_loss: 0.4906 - val_accuracy: 0.7358\n",
            "Epoch 2/10\n",
            "59/59 [==============================] - 0s 3ms/step - loss: 0.4646 - accuracy: 0.7577 - val_loss: 0.4413 - val_accuracy: 0.8054\n",
            "Epoch 3/10\n",
            "59/59 [==============================] - 0s 3ms/step - loss: 0.4372 - accuracy: 0.7915 - val_loss: 0.4337 - val_accuracy: 0.7898\n",
            "Epoch 4/10\n",
            "59/59 [==============================] - 0s 3ms/step - loss: 0.4261 - accuracy: 0.7987 - val_loss: 0.4259 - val_accuracy: 0.7940\n",
            "Epoch 5/10\n",
            "59/59 [==============================] - 0s 3ms/step - loss: 0.4157 - accuracy: 0.8054 - val_loss: 0.4288 - val_accuracy: 0.7912\n",
            "Epoch 6/10\n",
            "59/59 [==============================] - 0s 3ms/step - loss: 0.4112 - accuracy: 0.8072 - val_loss: 0.4233 - val_accuracy: 0.7997\n",
            "Epoch 7/10\n",
            "59/59 [==============================] - 0s 3ms/step - loss: 0.4065 - accuracy: 0.8080 - val_loss: 0.4254 - val_accuracy: 0.7855\n",
            "Epoch 8/10\n",
            "59/59 [==============================] - 0s 3ms/step - loss: 0.4022 - accuracy: 0.8107 - val_loss: 0.4235 - val_accuracy: 0.7955\n",
            "Epoch 9/10\n",
            "59/59 [==============================] - 0s 3ms/step - loss: 0.3991 - accuracy: 0.8128 - val_loss: 0.4223 - val_accuracy: 0.7983\n",
            "Epoch 10/10\n",
            "59/59 [==============================] - 0s 3ms/step - loss: 0.3973 - accuracy: 0.8136 - val_loss: 0.4287 - val_accuracy: 0.7997\n",
            "30/30 [==============================] - 0s 1ms/step\n",
            "Epoch 1/10\n"
          ]
        },
        {
          "output_type": "stream",
          "name": "stderr",
          "text": [
            "/usr/local/lib/python3.10/dist-packages/scikeras/wrappers.py:915: UserWarning: ``build_fn`` will be renamed to ``model`` in a future release, at which point use of ``build_fn`` will raise an Error instead.\n",
            "  X, y = self._initialize(X, y)\n"
          ]
        },
        {
          "output_type": "stream",
          "name": "stdout",
          "text": [
            "59/59 [==============================] - 1s 6ms/step - loss: 0.5821 - accuracy: 0.7287 - val_loss: 0.4777 - val_accuracy: 0.7585\n",
            "Epoch 2/10\n",
            "59/59 [==============================] - 0s 4ms/step - loss: 0.4550 - accuracy: 0.7819 - val_loss: 0.4379 - val_accuracy: 0.7969\n",
            "Epoch 3/10\n",
            "59/59 [==============================] - 0s 5ms/step - loss: 0.4328 - accuracy: 0.7950 - val_loss: 0.4291 - val_accuracy: 0.7969\n",
            "Epoch 4/10\n",
            "59/59 [==============================] - 0s 5ms/step - loss: 0.4236 - accuracy: 0.7985 - val_loss: 0.4232 - val_accuracy: 0.7997\n",
            "Epoch 5/10\n",
            "59/59 [==============================] - 0s 4ms/step - loss: 0.4174 - accuracy: 0.8006 - val_loss: 0.4221 - val_accuracy: 0.8011\n",
            "Epoch 6/10\n",
            "59/59 [==============================] - 0s 5ms/step - loss: 0.4144 - accuracy: 0.8062 - val_loss: 0.4205 - val_accuracy: 0.8054\n",
            "Epoch 7/10\n",
            "59/59 [==============================] - 0s 4ms/step - loss: 0.4097 - accuracy: 0.8046 - val_loss: 0.4204 - val_accuracy: 0.8026\n",
            "Epoch 8/10\n",
            "59/59 [==============================] - 0s 4ms/step - loss: 0.4075 - accuracy: 0.8059 - val_loss: 0.4215 - val_accuracy: 0.8040\n",
            "Epoch 9/10\n",
            "59/59 [==============================] - 0s 4ms/step - loss: 0.4051 - accuracy: 0.8062 - val_loss: 0.4192 - val_accuracy: 0.8040\n",
            "Epoch 10/10\n",
            "59/59 [==============================] - 0s 4ms/step - loss: 0.4030 - accuracy: 0.8118 - val_loss: 0.4199 - val_accuracy: 0.8026\n",
            "30/30 [==============================] - 0s 2ms/step\n",
            "Epoch 1/10\n"
          ]
        },
        {
          "output_type": "stream",
          "name": "stderr",
          "text": [
            "/usr/local/lib/python3.10/dist-packages/scikeras/wrappers.py:915: UserWarning: ``build_fn`` will be renamed to ``model`` in a future release, at which point use of ``build_fn`` will raise an Error instead.\n",
            "  X, y = self._initialize(X, y)\n"
          ]
        },
        {
          "output_type": "stream",
          "name": "stdout",
          "text": [
            "59/59 [==============================] - 1s 5ms/step - loss: 0.5439 - accuracy: 0.7220 - val_loss: 0.4670 - val_accuracy: 0.7557\n",
            "Epoch 2/10\n",
            "59/59 [==============================] - 0s 3ms/step - loss: 0.4596 - accuracy: 0.7734 - val_loss: 0.4371 - val_accuracy: 0.7827\n",
            "Epoch 3/10\n",
            "59/59 [==============================] - 0s 4ms/step - loss: 0.4384 - accuracy: 0.7921 - val_loss: 0.4261 - val_accuracy: 0.7997\n",
            "Epoch 4/10\n",
            "59/59 [==============================] - 0s 3ms/step - loss: 0.4274 - accuracy: 0.7977 - val_loss: 0.4244 - val_accuracy: 0.8011\n",
            "Epoch 5/10\n",
            "59/59 [==============================] - 0s 3ms/step - loss: 0.4222 - accuracy: 0.7990 - val_loss: 0.4212 - val_accuracy: 0.7955\n",
            "Epoch 6/10\n",
            "59/59 [==============================] - 0s 3ms/step - loss: 0.4171 - accuracy: 0.8035 - val_loss: 0.4207 - val_accuracy: 0.8054\n",
            "Epoch 7/10\n",
            "59/59 [==============================] - 0s 3ms/step - loss: 0.4131 - accuracy: 0.8046 - val_loss: 0.4208 - val_accuracy: 0.8054\n",
            "Epoch 8/10\n",
            "59/59 [==============================] - 0s 4ms/step - loss: 0.4096 - accuracy: 0.8048 - val_loss: 0.4223 - val_accuracy: 0.8040\n",
            "Epoch 9/10\n",
            "59/59 [==============================] - 0s 5ms/step - loss: 0.4064 - accuracy: 0.8104 - val_loss: 0.4243 - val_accuracy: 0.7955\n",
            "Epoch 10/10\n",
            "59/59 [==============================] - 0s 5ms/step - loss: 0.4053 - accuracy: 0.8126 - val_loss: 0.4249 - val_accuracy: 0.8040\n",
            "30/30 [==============================] - 0s 2ms/step\n",
            "Epoch 1/10\n"
          ]
        },
        {
          "output_type": "stream",
          "name": "stderr",
          "text": [
            "/usr/local/lib/python3.10/dist-packages/scikeras/wrappers.py:915: UserWarning: ``build_fn`` will be renamed to ``model`` in a future release, at which point use of ``build_fn`` will raise an Error instead.\n",
            "  X, y = self._initialize(X, y)\n"
          ]
        },
        {
          "output_type": "stream",
          "name": "stdout",
          "text": [
            "59/59 [==============================] - 2s 16ms/step - loss: 0.5221 - accuracy: 0.7407 - val_loss: 0.4480 - val_accuracy: 0.7798\n",
            "Epoch 2/10\n",
            "59/59 [==============================] - 0s 3ms/step - loss: 0.4410 - accuracy: 0.7905 - val_loss: 0.4292 - val_accuracy: 0.7983\n",
            "Epoch 3/10\n",
            "59/59 [==============================] - 0s 3ms/step - loss: 0.4231 - accuracy: 0.7998 - val_loss: 0.4270 - val_accuracy: 0.7926\n",
            "Epoch 4/10\n",
            "59/59 [==============================] - 0s 3ms/step - loss: 0.4134 - accuracy: 0.8048 - val_loss: 0.4250 - val_accuracy: 0.7969\n",
            "Epoch 5/10\n",
            "59/59 [==============================] - 0s 3ms/step - loss: 0.4080 - accuracy: 0.8072 - val_loss: 0.4248 - val_accuracy: 0.7912\n",
            "Epoch 6/10\n",
            "59/59 [==============================] - 0s 3ms/step - loss: 0.4025 - accuracy: 0.8104 - val_loss: 0.4266 - val_accuracy: 0.7926\n",
            "Epoch 7/10\n",
            "59/59 [==============================] - 0s 3ms/step - loss: 0.3995 - accuracy: 0.8160 - val_loss: 0.4281 - val_accuracy: 0.7869\n",
            "Epoch 8/10\n",
            "59/59 [==============================] - 0s 3ms/step - loss: 0.3953 - accuracy: 0.8134 - val_loss: 0.4296 - val_accuracy: 0.7841\n",
            "Epoch 9/10\n",
            "59/59 [==============================] - 0s 3ms/step - loss: 0.3927 - accuracy: 0.8208 - val_loss: 0.4267 - val_accuracy: 0.7926\n",
            "Epoch 10/10\n",
            "59/59 [==============================] - 0s 3ms/step - loss: 0.3891 - accuracy: 0.8224 - val_loss: 0.4353 - val_accuracy: 0.7869\n",
            "30/30 [==============================] - 0s 2ms/step\n",
            "Epoch 1/10\n"
          ]
        },
        {
          "output_type": "stream",
          "name": "stderr",
          "text": [
            "/usr/local/lib/python3.10/dist-packages/scikeras/wrappers.py:915: UserWarning: ``build_fn`` will be renamed to ``model`` in a future release, at which point use of ``build_fn`` will raise an Error instead.\n",
            "  X, y = self._initialize(X, y)\n"
          ]
        },
        {
          "output_type": "stream",
          "name": "stdout",
          "text": [
            "59/59 [==============================] - 1s 5ms/step - loss: 0.5432 - accuracy: 0.7343 - val_loss: 0.4449 - val_accuracy: 0.7926\n",
            "Epoch 2/10\n",
            "59/59 [==============================] - 0s 3ms/step - loss: 0.4368 - accuracy: 0.7937 - val_loss: 0.4273 - val_accuracy: 0.8026\n",
            "Epoch 3/10\n",
            "59/59 [==============================] - 0s 3ms/step - loss: 0.4235 - accuracy: 0.7966 - val_loss: 0.4224 - val_accuracy: 0.8011\n",
            "Epoch 4/10\n",
            "59/59 [==============================] - 0s 3ms/step - loss: 0.4158 - accuracy: 0.8078 - val_loss: 0.4195 - val_accuracy: 0.8026\n",
            "Epoch 5/10\n",
            "59/59 [==============================] - 0s 5ms/step - loss: 0.4102 - accuracy: 0.8080 - val_loss: 0.4194 - val_accuracy: 0.8097\n",
            "Epoch 6/10\n",
            "59/59 [==============================] - 0s 5ms/step - loss: 0.4063 - accuracy: 0.8134 - val_loss: 0.4210 - val_accuracy: 0.8040\n",
            "Epoch 7/10\n",
            "59/59 [==============================] - 0s 5ms/step - loss: 0.4013 - accuracy: 0.8136 - val_loss: 0.4191 - val_accuracy: 0.8054\n",
            "Epoch 8/10\n",
            "59/59 [==============================] - 0s 4ms/step - loss: 0.3971 - accuracy: 0.8179 - val_loss: 0.4193 - val_accuracy: 0.8068\n",
            "Epoch 9/10\n",
            "59/59 [==============================] - 0s 4ms/step - loss: 0.3973 - accuracy: 0.8192 - val_loss: 0.4208 - val_accuracy: 0.8111\n",
            "Epoch 10/10\n",
            "59/59 [==============================] - 0s 5ms/step - loss: 0.3916 - accuracy: 0.8187 - val_loss: 0.4225 - val_accuracy: 0.8040\n",
            "30/30 [==============================] - 0s 3ms/step\n",
            "Epoch 1/10\n"
          ]
        },
        {
          "output_type": "stream",
          "name": "stderr",
          "text": [
            "/usr/local/lib/python3.10/dist-packages/scikeras/wrappers.py:915: UserWarning: ``build_fn`` will be renamed to ``model`` in a future release, at which point use of ``build_fn`` will raise an Error instead.\n",
            "  X, y = self._initialize(X, y)\n"
          ]
        },
        {
          "output_type": "stream",
          "name": "stdout",
          "text": [
            "59/59 [==============================] - 2s 9ms/step - loss: 0.5007 - accuracy: 0.7614 - val_loss: 0.4281 - val_accuracy: 0.7940\n",
            "Epoch 2/10\n",
            "59/59 [==============================] - 0s 5ms/step - loss: 0.4327 - accuracy: 0.7915 - val_loss: 0.4201 - val_accuracy: 0.8011\n",
            "Epoch 3/10\n",
            "59/59 [==============================] - 0s 5ms/step - loss: 0.4212 - accuracy: 0.8019 - val_loss: 0.4245 - val_accuracy: 0.8054\n",
            "Epoch 4/10\n",
            "59/59 [==============================] - 0s 4ms/step - loss: 0.4166 - accuracy: 0.8048 - val_loss: 0.4194 - val_accuracy: 0.8026\n",
            "Epoch 5/10\n",
            "59/59 [==============================] - 0s 4ms/step - loss: 0.4098 - accuracy: 0.8070 - val_loss: 0.4205 - val_accuracy: 0.8097\n",
            "Epoch 6/10\n",
            "59/59 [==============================] - 0s 5ms/step - loss: 0.4055 - accuracy: 0.8096 - val_loss: 0.4201 - val_accuracy: 0.8026\n",
            "Epoch 7/10\n",
            "59/59 [==============================] - 0s 4ms/step - loss: 0.4018 - accuracy: 0.8107 - val_loss: 0.4227 - val_accuracy: 0.8011\n",
            "Epoch 8/10\n",
            "59/59 [==============================] - 0s 4ms/step - loss: 0.3985 - accuracy: 0.8144 - val_loss: 0.4299 - val_accuracy: 0.7969\n",
            "Epoch 9/10\n",
            "59/59 [==============================] - 0s 4ms/step - loss: 0.3981 - accuracy: 0.8195 - val_loss: 0.4221 - val_accuracy: 0.8054\n",
            "Epoch 10/10\n",
            "59/59 [==============================] - 0s 4ms/step - loss: 0.3936 - accuracy: 0.8163 - val_loss: 0.4247 - val_accuracy: 0.8026\n",
            "30/30 [==============================] - 0s 2ms/step\n",
            "Epoch 1/10\n"
          ]
        },
        {
          "output_type": "stream",
          "name": "stderr",
          "text": [
            "/usr/local/lib/python3.10/dist-packages/scikeras/wrappers.py:915: UserWarning: ``build_fn`` will be renamed to ``model`` in a future release, at which point use of ``build_fn`` will raise an Error instead.\n",
            "  X, y = self._initialize(X, y)\n"
          ]
        },
        {
          "output_type": "stream",
          "name": "stdout",
          "text": [
            "59/59 [==============================] - 1s 6ms/step - loss: 0.6063 - accuracy: 0.6802 - val_loss: 0.4738 - val_accuracy: 0.7457\n",
            "Epoch 2/10\n",
            "59/59 [==============================] - 0s 3ms/step - loss: 0.4511 - accuracy: 0.7769 - val_loss: 0.4262 - val_accuracy: 0.7841\n",
            "Epoch 3/10\n",
            "59/59 [==============================] - 0s 3ms/step - loss: 0.4246 - accuracy: 0.7963 - val_loss: 0.4214 - val_accuracy: 0.8011\n",
            "Epoch 4/10\n",
            "59/59 [==============================] - 0s 3ms/step - loss: 0.4145 - accuracy: 0.8064 - val_loss: 0.4184 - val_accuracy: 0.7983\n",
            "Epoch 5/10\n",
            "59/59 [==============================] - 0s 5ms/step - loss: 0.4077 - accuracy: 0.8088 - val_loss: 0.4185 - val_accuracy: 0.7955\n",
            "Epoch 6/10\n",
            "59/59 [==============================] - 0s 5ms/step - loss: 0.4014 - accuracy: 0.8150 - val_loss: 0.4159 - val_accuracy: 0.8011\n",
            "Epoch 7/10\n",
            "59/59 [==============================] - 0s 5ms/step - loss: 0.3976 - accuracy: 0.8160 - val_loss: 0.4169 - val_accuracy: 0.7983\n",
            "Epoch 8/10\n",
            "59/59 [==============================] - 0s 7ms/step - loss: 0.3923 - accuracy: 0.8171 - val_loss: 0.4174 - val_accuracy: 0.8026\n",
            "Epoch 9/10\n",
            "59/59 [==============================] - 0s 6ms/step - loss: 0.3902 - accuracy: 0.8235 - val_loss: 0.4178 - val_accuracy: 0.8026\n",
            "Epoch 10/10\n",
            "59/59 [==============================] - 1s 9ms/step - loss: 0.3857 - accuracy: 0.8222 - val_loss: 0.4218 - val_accuracy: 0.7983\n",
            "30/30 [==============================] - 0s 2ms/step\n"
          ]
        },
        {
          "output_type": "stream",
          "name": "stderr",
          "text": [
            "/usr/local/lib/python3.10/dist-packages/scikeras/wrappers.py:915: UserWarning: ``build_fn`` will be renamed to ``model`` in a future release, at which point use of ``build_fn`` will raise an Error instead.\n",
            "  X, y = self._initialize(X, y)\n"
          ]
        },
        {
          "output_type": "stream",
          "name": "stdout",
          "text": [
            "Epoch 1/10\n",
            "59/59 [==============================] - 2s 10ms/step - loss: 0.4947 - accuracy: 0.7561 - val_loss: 0.4364 - val_accuracy: 0.7983\n",
            "Epoch 2/10\n",
            "59/59 [==============================] - 0s 7ms/step - loss: 0.4342 - accuracy: 0.7865 - val_loss: 0.4252 - val_accuracy: 0.7983\n",
            "Epoch 3/10\n",
            "59/59 [==============================] - 1s 10ms/step - loss: 0.4198 - accuracy: 0.8032 - val_loss: 0.4198 - val_accuracy: 0.8026\n",
            "Epoch 4/10\n",
            "59/59 [==============================] - 1s 17ms/step - loss: 0.4111 - accuracy: 0.8088 - val_loss: 0.4198 - val_accuracy: 0.7997\n",
            "Epoch 5/10\n",
            "59/59 [==============================] - 0s 7ms/step - loss: 0.4051 - accuracy: 0.8123 - val_loss: 0.4199 - val_accuracy: 0.8040\n",
            "Epoch 6/10\n",
            "59/59 [==============================] - 0s 5ms/step - loss: 0.3995 - accuracy: 0.8144 - val_loss: 0.4225 - val_accuracy: 0.7997\n",
            "Epoch 7/10\n",
            "59/59 [==============================] - 0s 5ms/step - loss: 0.3963 - accuracy: 0.8126 - val_loss: 0.4226 - val_accuracy: 0.8026\n",
            "Epoch 8/10\n",
            "59/59 [==============================] - 0s 4ms/step - loss: 0.3914 - accuracy: 0.8206 - val_loss: 0.4234 - val_accuracy: 0.8011\n",
            "Epoch 9/10\n",
            "59/59 [==============================] - 0s 5ms/step - loss: 0.3874 - accuracy: 0.8203 - val_loss: 0.4259 - val_accuracy: 0.8026\n",
            "Epoch 10/10\n",
            "59/59 [==============================] - 0s 4ms/step - loss: 0.3862 - accuracy: 0.8208 - val_loss: 0.4414 - val_accuracy: 0.7940\n",
            "30/30 [==============================] - 0s 2ms/step\n",
            "Epoch 1/10\n"
          ]
        },
        {
          "output_type": "stream",
          "name": "stderr",
          "text": [
            "/usr/local/lib/python3.10/dist-packages/scikeras/wrappers.py:915: UserWarning: ``build_fn`` will be renamed to ``model`` in a future release, at which point use of ``build_fn`` will raise an Error instead.\n",
            "  X, y = self._initialize(X, y)\n"
          ]
        },
        {
          "output_type": "stream",
          "name": "stdout",
          "text": [
            "59/59 [==============================] - 2s 8ms/step - loss: 0.5243 - accuracy: 0.7343 - val_loss: 0.4517 - val_accuracy: 0.7358\n",
            "Epoch 2/10\n",
            "59/59 [==============================] - 0s 4ms/step - loss: 0.4488 - accuracy: 0.7638 - val_loss: 0.4380 - val_accuracy: 0.7812\n",
            "Epoch 3/10\n",
            "59/59 [==============================] - 0s 5ms/step - loss: 0.4352 - accuracy: 0.7921 - val_loss: 0.4313 - val_accuracy: 0.7955\n",
            "Epoch 4/10\n",
            "59/59 [==============================] - 0s 4ms/step - loss: 0.4238 - accuracy: 0.8011 - val_loss: 0.4277 - val_accuracy: 0.8111\n",
            "Epoch 5/10\n",
            "59/59 [==============================] - 0s 5ms/step - loss: 0.4169 - accuracy: 0.8024 - val_loss: 0.4255 - val_accuracy: 0.8040\n",
            "Epoch 6/10\n",
            "59/59 [==============================] - 0s 3ms/step - loss: 0.4097 - accuracy: 0.8019 - val_loss: 0.4230 - val_accuracy: 0.8054\n",
            "Epoch 7/10\n",
            "59/59 [==============================] - 0s 3ms/step - loss: 0.4052 - accuracy: 0.8072 - val_loss: 0.4235 - val_accuracy: 0.7969\n",
            "Epoch 8/10\n",
            "59/59 [==============================] - 0s 3ms/step - loss: 0.4012 - accuracy: 0.8088 - val_loss: 0.4256 - val_accuracy: 0.7940\n",
            "Epoch 9/10\n",
            "59/59 [==============================] - 0s 3ms/step - loss: 0.3967 - accuracy: 0.8096 - val_loss: 0.4282 - val_accuracy: 0.7997\n",
            "Epoch 10/10\n",
            "59/59 [==============================] - 0s 3ms/step - loss: 0.3921 - accuracy: 0.8126 - val_loss: 0.4284 - val_accuracy: 0.7940\n",
            "30/30 [==============================] - 0s 2ms/step\n",
            "Epoch 1/10\n"
          ]
        },
        {
          "output_type": "stream",
          "name": "stderr",
          "text": [
            "/usr/local/lib/python3.10/dist-packages/scikeras/wrappers.py:915: UserWarning: ``build_fn`` will be renamed to ``model`` in a future release, at which point use of ``build_fn`` will raise an Error instead.\n",
            "  X, y = self._initialize(X, y)\n"
          ]
        },
        {
          "output_type": "stream",
          "name": "stdout",
          "text": [
            "59/59 [==============================] - 1s 5ms/step - loss: 0.5265 - accuracy: 0.7287 - val_loss: 0.4575 - val_accuracy: 0.7642\n",
            "Epoch 2/10\n",
            "59/59 [==============================] - 0s 3ms/step - loss: 0.4433 - accuracy: 0.7819 - val_loss: 0.4366 - val_accuracy: 0.7969\n",
            "Epoch 3/10\n",
            "59/59 [==============================] - 0s 3ms/step - loss: 0.4264 - accuracy: 0.7969 - val_loss: 0.4270 - val_accuracy: 0.7940\n",
            "Epoch 4/10\n",
            "59/59 [==============================] - 0s 3ms/step - loss: 0.4154 - accuracy: 0.8062 - val_loss: 0.4233 - val_accuracy: 0.7997\n",
            "Epoch 5/10\n",
            "59/59 [==============================] - 0s 3ms/step - loss: 0.4089 - accuracy: 0.8112 - val_loss: 0.4231 - val_accuracy: 0.8040\n",
            "Epoch 6/10\n",
            "59/59 [==============================] - 0s 3ms/step - loss: 0.4047 - accuracy: 0.8120 - val_loss: 0.4233 - val_accuracy: 0.7969\n",
            "Epoch 7/10\n",
            "59/59 [==============================] - 0s 3ms/step - loss: 0.4001 - accuracy: 0.8126 - val_loss: 0.4256 - val_accuracy: 0.8040\n",
            "Epoch 8/10\n",
            "59/59 [==============================] - 0s 3ms/step - loss: 0.3958 - accuracy: 0.8163 - val_loss: 0.4239 - val_accuracy: 0.8097\n",
            "Epoch 9/10\n",
            "59/59 [==============================] - 0s 3ms/step - loss: 0.3925 - accuracy: 0.8187 - val_loss: 0.4243 - val_accuracy: 0.8040\n",
            "Epoch 10/10\n",
            "59/59 [==============================] - 0s 3ms/step - loss: 0.3898 - accuracy: 0.8182 - val_loss: 0.4243 - val_accuracy: 0.8026\n",
            "30/30 [==============================] - 0s 4ms/step\n",
            "Epoch 1/10\n"
          ]
        },
        {
          "output_type": "stream",
          "name": "stderr",
          "text": [
            "/usr/local/lib/python3.10/dist-packages/scikeras/wrappers.py:915: UserWarning: ``build_fn`` will be renamed to ``model`` in a future release, at which point use of ``build_fn`` will raise an Error instead.\n",
            "  X, y = self._initialize(X, y)\n"
          ]
        },
        {
          "output_type": "stream",
          "name": "stdout",
          "text": [
            "59/59 [==============================] - 3s 18ms/step - loss: 0.5537 - accuracy: 0.7138 - val_loss: 0.4604 - val_accuracy: 0.7344\n",
            "Epoch 2/10\n",
            "59/59 [==============================] - 1s 11ms/step - loss: 0.4485 - accuracy: 0.7367 - val_loss: 0.4426 - val_accuracy: 0.7344\n",
            "Epoch 3/10\n",
            "59/59 [==============================] - 1s 13ms/step - loss: 0.4356 - accuracy: 0.7806 - val_loss: 0.4383 - val_accuracy: 0.7955\n",
            "Epoch 4/10\n",
            "59/59 [==============================] - 1s 18ms/step - loss: 0.4268 - accuracy: 0.8043 - val_loss: 0.4298 - val_accuracy: 0.8026\n",
            "Epoch 5/10\n",
            "59/59 [==============================] - 1s 10ms/step - loss: 0.4180 - accuracy: 0.8072 - val_loss: 0.4232 - val_accuracy: 0.8040\n",
            "Epoch 6/10\n",
            "59/59 [==============================] - 1s 11ms/step - loss: 0.4107 - accuracy: 0.8128 - val_loss: 0.4191 - val_accuracy: 0.8082\n",
            "Epoch 7/10\n",
            "59/59 [==============================] - 1s 12ms/step - loss: 0.4040 - accuracy: 0.8176 - val_loss: 0.4195 - val_accuracy: 0.8068\n",
            "Epoch 8/10\n",
            "59/59 [==============================] - 1s 12ms/step - loss: 0.4005 - accuracy: 0.8166 - val_loss: 0.4200 - val_accuracy: 0.8111\n",
            "Epoch 9/10\n",
            "59/59 [==============================] - 1s 14ms/step - loss: 0.3949 - accuracy: 0.8179 - val_loss: 0.4236 - val_accuracy: 0.8082\n",
            "Epoch 10/10\n",
            "59/59 [==============================] - 1s 11ms/step - loss: 0.3944 - accuracy: 0.8163 - val_loss: 0.4191 - val_accuracy: 0.8125\n",
            "30/30 [==============================] - 0s 4ms/step\n"
          ]
        },
        {
          "output_type": "stream",
          "name": "stderr",
          "text": [
            "/usr/local/lib/python3.10/dist-packages/scikeras/wrappers.py:915: UserWarning: ``build_fn`` will be renamed to ``model`` in a future release, at which point use of ``build_fn`` will raise an Error instead.\n",
            "  X, y = self._initialize(X, y)\n"
          ]
        },
        {
          "output_type": "stream",
          "name": "stdout",
          "text": [
            "Epoch 1/10\n",
            "59/59 [==============================] - 4s 18ms/step - loss: 0.5478 - accuracy: 0.7188 - val_loss: 0.4414 - val_accuracy: 0.7869\n",
            "Epoch 2/10\n",
            "59/59 [==============================] - 0s 8ms/step - loss: 0.4410 - accuracy: 0.7867 - val_loss: 0.4263 - val_accuracy: 0.7969\n",
            "Epoch 3/10\n",
            "59/59 [==============================] - 1s 10ms/step - loss: 0.4251 - accuracy: 0.7955 - val_loss: 0.4229 - val_accuracy: 0.8011\n",
            "Epoch 4/10\n",
            "59/59 [==============================] - 1s 11ms/step - loss: 0.4170 - accuracy: 0.8009 - val_loss: 0.4182 - val_accuracy: 0.8082\n",
            "Epoch 5/10\n",
            "59/59 [==============================] - 0s 7ms/step - loss: 0.4126 - accuracy: 0.8048 - val_loss: 0.4187 - val_accuracy: 0.7997\n",
            "Epoch 6/10\n",
            "59/59 [==============================] - 0s 6ms/step - loss: 0.4060 - accuracy: 0.8078 - val_loss: 0.4204 - val_accuracy: 0.7997\n",
            "Epoch 7/10\n",
            "59/59 [==============================] - 0s 8ms/step - loss: 0.4016 - accuracy: 0.8110 - val_loss: 0.4201 - val_accuracy: 0.8011\n",
            "Epoch 8/10\n",
            "59/59 [==============================] - 0s 7ms/step - loss: 0.3985 - accuracy: 0.8104 - val_loss: 0.4184 - val_accuracy: 0.7997\n",
            "Epoch 9/10\n",
            "59/59 [==============================] - 0s 7ms/step - loss: 0.3953 - accuracy: 0.8123 - val_loss: 0.4184 - val_accuracy: 0.7983\n",
            "Epoch 10/10\n",
            "59/59 [==============================] - 1s 9ms/step - loss: 0.3907 - accuracy: 0.8155 - val_loss: 0.4253 - val_accuracy: 0.8011\n",
            "30/30 [==============================] - 0s 2ms/step\n",
            "Epoch 1/10\n"
          ]
        },
        {
          "output_type": "stream",
          "name": "stderr",
          "text": [
            "/usr/local/lib/python3.10/dist-packages/scikeras/wrappers.py:915: UserWarning: ``build_fn`` will be renamed to ``model`` in a future release, at which point use of ``build_fn`` will raise an Error instead.\n",
            "  X, y = self._initialize(X, y)\n"
          ]
        },
        {
          "output_type": "stream",
          "name": "stdout",
          "text": [
            "353/353 [==============================] - 3s 5ms/step - loss: 0.4564 - accuracy: 0.7813 - val_loss: 0.4205 - val_accuracy: 0.8026\n",
            "Epoch 2/10\n",
            "353/353 [==============================] - 2s 6ms/step - loss: 0.4214 - accuracy: 0.8007 - val_loss: 0.4217 - val_accuracy: 0.8026\n",
            "Epoch 3/10\n",
            "353/353 [==============================] - 2s 5ms/step - loss: 0.4150 - accuracy: 0.8048 - val_loss: 0.4233 - val_accuracy: 0.7997\n",
            "Epoch 4/10\n",
            "353/353 [==============================] - 1s 3ms/step - loss: 0.4104 - accuracy: 0.8062 - val_loss: 0.4282 - val_accuracy: 0.7969\n",
            "Epoch 5/10\n",
            "353/353 [==============================] - 2s 5ms/step - loss: 0.4065 - accuracy: 0.8065 - val_loss: 0.4276 - val_accuracy: 0.7940\n",
            "Epoch 6/10\n",
            "353/353 [==============================] - 2s 5ms/step - loss: 0.4036 - accuracy: 0.8131 - val_loss: 0.4239 - val_accuracy: 0.7983\n",
            "Epoch 7/10\n",
            "353/353 [==============================] - 2s 5ms/step - loss: 0.3978 - accuracy: 0.8140 - val_loss: 0.4282 - val_accuracy: 0.7997\n",
            "Epoch 8/10\n",
            "353/353 [==============================] - 1s 4ms/step - loss: 0.3946 - accuracy: 0.8174 - val_loss: 0.4302 - val_accuracy: 0.8097\n",
            "Epoch 9/10\n",
            "353/353 [==============================] - 2s 4ms/step - loss: 0.3915 - accuracy: 0.8172 - val_loss: 0.4318 - val_accuracy: 0.7926\n",
            "Epoch 10/10\n",
            "353/353 [==============================] - 1s 4ms/step - loss: 0.3875 - accuracy: 0.8186 - val_loss: 0.4348 - val_accuracy: 0.7997\n"
          ]
        }
      ]
    },
    {
      "cell_type": "code",
      "source": [
        "# Model Evaluation\n",
        "print(\"Best Parameters: \", grid_result.best_params_)\n",
        "print(\"Best Score: \", grid_result.best_score_)\n",
        "\n",
        "the_model=grid_result.best_estimator_\n",
        "\n",
        "#Predicting the performance\n",
        "y_pred = the_model.predict(X_test)\n",
        "\n",
        "#Accuracy Score\n",
        "Accuracy = accuracy_score(y_test, y_pred)\n",
        "AucScore = roc_auc_score(y_test, y_pred)\n",
        "\n",
        "print(f\"Accuracy: {Accuracy}\")\n",
        "print(f\"AUC Score: {AucScore}\")"
      ],
      "metadata": {
        "id": "oAVIcghMKhdW",
        "colab": {
          "base_uri": "https://localhost:8080/"
        },
        "outputId": "5799512b-c577-4bc9-d251-dbe9b4c4f6f3"
      },
      "execution_count": 283,
      "outputs": [
        {
          "output_type": "stream",
          "name": "stdout",
          "text": [
            "Best Parameters:  {'batch_size': 16, 'epochs': 20, 'hidden_units': 128, 'optimizer': 'sgd'}\n",
            "Best Score:  0.7935747248846291\n",
            "89/89 [==============================] - 0s 1ms/step\n",
            "Accuracy: 0.8062455642299503\n",
            "AUC Score: 0.7138289668450527\n"
          ]
        }
      ]
    },
    {
      "cell_type": "markdown",
      "source": [
        "Retraining using best Parameters"
      ],
      "metadata": {
        "id": "7O2O8V1HrNyr"
      }
    },
    {
      "cell_type": "code",
      "source": [
        "#the best hyperparameters found\n",
        "best_hyperparams=grid_result.best_params_\n",
        "#hiddenunits\n",
        "best_hidden_units = best_hyperparams['hidden_units']\n",
        "#optimizer\n",
        "best_optimizer = best_hyperparams['optimizer']\n",
        "\n",
        "#batchsize\n",
        "best_batch_size = best_hyperparams['batch_size']\n",
        "\n",
        "\n",
        "#We will redefine our functional API model with the best hyperparameters\n",
        "input_layer = Input(shape=(X_train.shape[1],))\n",
        "hidden_layer = Dense(best_hidden_units, activation='relu')(input_layer)\n",
        "output_layer = Dense(1, activation='sigmoid')(hidden_layer)\n",
        "\n",
        "best_model = Model(inputs=input_layer, outputs=output_layer)\n",
        "best_model.compile(optimizer=best_optimizer, loss='binary_crossentropy', metrics=['accuracy'])\n",
        "\n",
        "# Retrain the best model on the entire training dataset\n",
        "best_model.fit(X_train, y_train, epochs=10, batch_size=best_batch_size, verbose=True)"
      ],
      "metadata": {
        "id": "vuPBVGj-KhgP",
        "colab": {
          "base_uri": "https://localhost:8080/"
        },
        "outputId": "e8d46248-8260-454f-89ab-4d0795cea94e"
      },
      "execution_count": 284,
      "outputs": [
        {
          "output_type": "stream",
          "name": "stdout",
          "text": [
            "Epoch 1/10\n",
            "353/353 [==============================] - 1s 2ms/step - loss: 0.5049 - accuracy: 0.7476\n",
            "Epoch 2/10\n",
            "353/353 [==============================] - 1s 2ms/step - loss: 0.4454 - accuracy: 0.7835\n",
            "Epoch 3/10\n",
            "353/353 [==============================] - 1s 2ms/step - loss: 0.4353 - accuracy: 0.7897\n",
            "Epoch 4/10\n",
            "353/353 [==============================] - 1s 2ms/step - loss: 0.4300 - accuracy: 0.7913\n",
            "Epoch 5/10\n",
            "353/353 [==============================] - 1s 2ms/step - loss: 0.4267 - accuracy: 0.7950\n",
            "Epoch 6/10\n",
            "353/353 [==============================] - 1s 2ms/step - loss: 0.4242 - accuracy: 0.7982\n",
            "Epoch 7/10\n",
            "353/353 [==============================] - 1s 2ms/step - loss: 0.4225 - accuracy: 0.7984\n",
            "Epoch 8/10\n",
            "353/353 [==============================] - 1s 2ms/step - loss: 0.4207 - accuracy: 0.7987\n",
            "Epoch 9/10\n",
            "353/353 [==============================] - 1s 2ms/step - loss: 0.4194 - accuracy: 0.8001\n",
            "Epoch 10/10\n",
            "353/353 [==============================] - 1s 2ms/step - loss: 0.4182 - accuracy: 0.8007\n"
          ]
        },
        {
          "output_type": "execute_result",
          "data": {
            "text/plain": [
              "<keras.src.callbacks.History at 0x7f57fdebe470>"
            ]
          },
          "metadata": {},
          "execution_count": 284
        }
      ]
    },
    {
      "cell_type": "markdown",
      "source": [
        "Evaluation on Test Data"
      ],
      "metadata": {
        "id": "1ix_OIq3ufHP"
      }
    },
    {
      "cell_type": "code",
      "source": [
        "#test on best model\n",
        "y_pred_1=best_model.predict(X_test)\n",
        "\n",
        "y_pred_val_1=best_model.predict(val_x)\n",
        "\n",
        "#addressing issue of continous and binary values\n",
        "threshold = 0.5  #threshold\n",
        "y_pred_class = (y_pred_val_1 > threshold).astype(int)\n",
        "\n",
        "#AUC\n",
        "#AUC Score\n",
        "AucScore = roc_auc_score(y_test, y_pred_1)\n",
        "print(f\"Retested AUC Score: {AucScore}\")\n",
        "\n",
        "#Accuracy Score\n",
        "Accuracy = accuracy_score(y_test,(y_pred_1 > threshold).astype(int))\n",
        "print(f\"Retested Accuracy: {Accuracy}\")\n",
        "\n",
        "#Validation evaluation\n",
        "val_acc=accuracy_score(val_y,y_pred_class )\n",
        "print(f\"Retested Validation Accuracy: {val_acc}\")\n",
        "\n",
        "#Loss\n",
        "evaluation = best_model.evaluate(X_test, y_test)\n",
        "loss = evaluation[0]\n",
        "print(f\"Loss: {loss:.4f}\")\n",
        "\n",
        "\n",
        "\n"
      ],
      "metadata": {
        "colab": {
          "base_uri": "https://localhost:8080/"
        },
        "id": "77FWYXEHudeX",
        "outputId": "3ff5fbf8-1c7e-4901-9996-5655225b9dd5"
      },
      "execution_count": 300,
      "outputs": [
        {
          "output_type": "stream",
          "name": "stdout",
          "text": [
            "45/45 [==============================] - 0s 3ms/step\n",
            "22/22 [==============================] - 0s 3ms/step\n",
            "Retested AUC Score: 0.857330472947095\n",
            "Retested Accuracy: 0.8168914123491838\n",
            "Retested Validation Accuracy: 0.8068181818181818\n",
            "45/45 [==============================] - 0s 4ms/step - loss: 0.4021 - accuracy: 0.8169\n",
            "Loss: 0.4021\n"
          ]
        }
      ]
    },
    {
      "cell_type": "markdown",
      "source": [
        "# Save Model"
      ],
      "metadata": {
        "id": "i0zC9fI45RWv"
      }
    },
    {
      "cell_type": "code",
      "source": [
        "best_model.save('deployment.h5')"
      ],
      "metadata": {
        "id": "8wLmmJFuKhjL",
        "colab": {
          "base_uri": "https://localhost:8080/"
        },
        "outputId": "f974a133-2ecb-49f3-b750-f89a81bd07cc"
      },
      "execution_count": 306,
      "outputs": [
        {
          "output_type": "stream",
          "name": "stderr",
          "text": [
            "/usr/local/lib/python3.10/dist-packages/keras/src/engine/training.py:3079: UserWarning: You are saving your model as an HDF5 file via `model.save()`. This file format is considered legacy. We recommend using instead the native Keras format, e.g. `model.save('my_model.keras')`.\n",
            "  saving_api.save_model(\n"
          ]
        }
      ]
    }
  ]
}